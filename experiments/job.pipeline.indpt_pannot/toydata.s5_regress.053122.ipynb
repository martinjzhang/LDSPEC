{
 "cells": [
  {
   "cell_type": "code",
   "execution_count": 1,
   "metadata": {},
   "outputs": [],
   "source": [
    "import pandas as pd\n",
    "import numpy as np\n",
    "import scipy as sp\n",
    "import time\n",
    "import os\n",
    "import argparse\n",
    "import gdreg\n",
    "import matplotlib.pyplot as plt\n",
    "\n",
    "# autoreload\n",
    "%load_ext autoreload\n",
    "%autoreload 2\n",
    "%load_ext memory_profiler\n",
    "%load_ext line_profiler"
   ]
  },
  {
   "cell_type": "code",
   "execution_count": 2,
   "metadata": {},
   "outputs": [],
   "source": [
    "JOB = \"regress\"\n",
    "PGEN_FILE = \"/n/groups/price/martin/WES_analysis/toy_1K/chr@_v1.SPB.hg19.toy_1K\"\n",
    "LD_FILE = \"/n/groups/price/martin/WES_analysis/toy_1K/results/top_1K_chr@.ld.npy\"\n",
    "SUMSTATS_FILE = \"/n/groups/price/martin/WES_analysis/toy_1K/sanity_nd_rep0.sumstats.gz\"\n",
    "ANNOT_FILE = \"/n/groups/price/martin/WES_analysis/toy_1K/toy.annot.gz,\" + \\\n",
    "    \"/n/groups/price/martin/WES_analysis/toy_1K/toy.pannot.gz,\" + \\\n",
    "    \"/n/groups/price/martin/WES_analysis/toy_1K/toy.pannot_hr.gz\"\n",
    "PREFIX_OUT = \"/n/groups/price/martin/WES_analysis/toy_1K/results/toy_1K\"\n",
    "MEMORY = 64\n",
    "RANDOM_SEED = 0\n",
    "SNP_RANGE = None"
   ]
  },
  {
   "cell_type": "code",
   "execution_count": 3,
   "metadata": {},
   "outputs": [
    {
     "name": "stdout",
     "output_type": "stream",
     "text": [
      "******************************************************************************\n",
      "* Gene-level directional effect regression (GDReg)\n",
      "* Version 0.0.2\n",
      "* Martin Jinye Zhang\n",
      "* HSPH / Broad Institute\n",
      "* MIT License\n",
      "******************************************************************************\n",
      "Call: run_gdreg.py \\\n",
      "--job regress\\\n",
      "--pgen_file /n/groups/price/martin/WES_analysis/toy_1K/chr@_v1.SPB.hg19.toy_1K\\\n",
      "--ld_file /n/groups/price/martin/WES_analysis/toy_1K/results/top_1K_chr@.ld.npy\\\n",
      "--sumstats_file /n/groups/price/martin/WES_analysis/toy_1K/sanity_nd_rep0.sumstats.gz\\\n",
      "--annot_file /n/groups/price/martin/WES_analysis/toy_1K/toy.annot.gz,/n/groups/price/martin/WES_analysis/toy_1K/toy.pannot.gz,/n/groups/price/martin/WES_analysis/toy_1K/toy.pannot_hr.gz\\\n",
      "--prefix_out /n/groups/price/martin/WES_analysis/toy_1K/results/toy_1K\\\n",
      "--snp_range None\\\n",
      "--memory 64\\\n",
      "--random_seed 0\n",
      "\n"
     ]
    }
   ],
   "source": [
    "sys_start_time = time.time()\n",
    "\n",
    "###########################################################################################\n",
    "######                                    Parse Options                              ######\n",
    "###########################################################################################\n",
    "\n",
    "# JOB = args.job\n",
    "# PGEN_FILE = args.pgen_file\n",
    "# LD_FILE = args.ld_file\n",
    "# SUMSTATS_FILE = args.sumstats_file\n",
    "# ANNOT_FILE = args.annot_file\n",
    "# PREFIX_OUT = args.prefix_out\n",
    "# MEMORY = args.memory\n",
    "# RANDOM_SEED = args.random_seed\n",
    "# SNP_RANGE = args.snp_range\n",
    "\n",
    "# Parse and check arguments\n",
    "LEGAL_JOB_LIST = [\"compute_ld\", \"compute_score\", \"regress\"]\n",
    "err_msg = \"# run_gdreg: --job=%s not supported\" % JOB\n",
    "assert JOB in LEGAL_JOB_LIST, err_msg\n",
    "\n",
    "if JOB in [\"compute_score\", \"regress\"]:\n",
    "    assert LD_FILE is not None, \"--ld_file required for --job=%s\" % JOB\n",
    "if JOB in [\"regress\"]:\n",
    "    assert SUMSTATS_FILE is not None, \"--sumstats_file required for --job=%s\" % JOB\n",
    "if JOB in [\"compute_score\", \"regress\"]:\n",
    "    assert ANNOT_FILE is not None, \"--annot_file required for --job=%s\" % JOB\n",
    "if JOB in [\"compute_ld\"]:\n",
    "    assert SNP_RANGE is not None, \"--snp_range required for --job=%s\" % JOB\n",
    "    DIC_RANGE = gdreg.util.parse_snp_range(SNP_RANGE)\n",
    "\n",
    "# Print input options\n",
    "header = gdreg.util.get_cli_head()\n",
    "header += \"Call: run_gdreg.py \\\\\\n\"\n",
    "header += \"--job %s\\\\\\n\" % JOB\n",
    "header += \"--pgen_file %s\\\\\\n\" % PGEN_FILE\n",
    "header += \"--ld_file %s\\\\\\n\" % LD_FILE\n",
    "header += \"--sumstats_file %s\\\\\\n\" % SUMSTATS_FILE\n",
    "header += \"--annot_file %s\\\\\\n\" % ANNOT_FILE\n",
    "header += \"--prefix_out %s\\\\\\n\" % PREFIX_OUT\n",
    "header += \"--snp_range %s\\\\\\n\" % SNP_RANGE\n",
    "header += \"--memory %d\\\\\\n\" % MEMORY\n",
    "header += \"--random_seed %d\\n\" % RANDOM_SEED\n",
    "print(header)"
   ]
  },
  {
   "cell_type": "code",
   "execution_count": 4,
   "metadata": {},
   "outputs": [
    {
     "name": "stdout",
     "output_type": "stream",
     "text": [
      "# Loading --pgen_file\n",
      "    CHR 1: 10000 samples, 4232 SNPs, 26.7% non-zeros for first 50 SNPs\n",
      "    CHR 2: 10000 samples, 4056 SNPs, 43.5% non-zeros for first 50 SNPs\n",
      "    CHR 3: 10000 samples, 4067 SNPs, 33.9% non-zeros for first 50 SNPs\n",
      "    CHR 4: 10000 samples, 4027 SNPs, 24.2% non-zeros for first 50 SNPs\n",
      "    CHR 5: 10000 samples, 4106 SNPs, 36.7% non-zeros for first 50 SNPs\n",
      "    CHR 6: 10000 samples, 4154 SNPs, 39.6% non-zeros for first 50 SNPs\n",
      "    CHR 7: 10000 samples, 4071 SNPs, 41.8% non-zeros for first 50 SNPs\n",
      "    CHR 8: 10000 samples, 3891 SNPs, 33.3% non-zeros for first 50 SNPs\n",
      "    CHR 9: 10000 samples, 4149 SNPs, 40.1% non-zeros for first 50 SNPs\n",
      "    CHR10: 10000 samples, 4129 SNPs, 40.3% non-zeros for first 50 SNPs\n",
      "    sys_time=0.4s, sys_mem=0.11GB\n",
      "# Loading --ld_file\n",
      "    LD info loaded, matching --pgen_file\n",
      "    sys_time=0.9s, sys_mem=0.73GB\n",
      "# Loading --sumstats_file\n",
      "    .sumstats.gz loaded, 40882 SNPs\n",
      "    sys_time=1.1s, sys_mem=0.73GB\n",
      "# Loading --annot_file\n",
      "    .annot.gz (40882 SNPs and 3 annots): AN:ALL,AN:CHR1t5,AN:ODD\n",
      "    .pannot.gz (1 pannots): pAN:gene (40882 SNPs)\n",
      "    .pannot_hr.gz (1 pannots): pAN:proxy (121419 pairs)\n",
      "    sys_time=1.3s, sys_mem=0.76GB\n"
     ]
    }
   ],
   "source": [
    "###########################################################################################\n",
    "######                                   Data Loading                                ######\n",
    "###########################################################################################\n",
    "# Load --pgen_file\n",
    "if JOB in [\"compute_ld\", \"compute_score\", \"regress\"]:\n",
    "    print(\"# Loading --pgen_file\")\n",
    "    dic_data = {}\n",
    "    if \"@\" not in PGEN_FILE:\n",
    "        temp_dic = gdreg.util.read_pgen(PGEN_FILE)\n",
    "        dic_data[temp_dic[\"pvar\"][\"CHR\"][0]] = temp_dic.copy()\n",
    "    else:\n",
    "        for CHR in range(1, 23):\n",
    "            if os.path.exists(PGEN_FILE.replace(\"@\", \"%s\" % CHR) + \".pgen\"):\n",
    "                dic_data[CHR] = gdreg.util.read_pgen(\n",
    "                    PGEN_FILE.replace(\"@\", \"%s\" % CHR)\n",
    "                )\n",
    "\n",
    "    for CHR in dic_data:\n",
    "        n_sample = dic_data[CHR][\"psam\"].shape[0]\n",
    "        n_snp = dic_data[CHR][\"pvar\"].shape[0]\n",
    "        mat_X = gdreg.util.read_geno(\n",
    "            dic_data[CHR][\"pgen\"], 0, 50, n_sample=None, n_snp=None\n",
    "        )\n",
    "        sparsity = (mat_X != 0).mean()\n",
    "        print(\n",
    "            \"    CHR%2d: %d samples, %d SNPs, %0.1f%% non-zeros for first 50 SNPs\"\n",
    "            % (CHR, n_sample, n_snp, sparsity * 100)\n",
    "        )\n",
    "    print(\"    \" + gdreg.util.get_sys_info(sys_start_time))\n",
    "\n",
    "# Load --ld_file\n",
    "if JOB in [\"compute_score\", \"regress\"]:\n",
    "    print(\"# Loading --ld_file\")\n",
    "    dic_ld = {}\n",
    "    for CHR in dic_data:\n",
    "        err_msg = \"--ld_file missing for CHR%d\" % CHR\n",
    "        assert os.path.exists(LD_FILE.replace(\"@\", \"%s\" % CHR)), err_msg\n",
    "        dic_ld[CHR] = np.load(LD_FILE.replace(\"@\", \"%s\" % CHR))  # TODO : sp.sparse\n",
    "        err_msg = \"CHR%2d n_snp=%d, mismatch with --pgen_file\" % (\n",
    "            CHR,\n",
    "            dic_ld[CHR].shape[0],\n",
    "        )\n",
    "        assert dic_ld[CHR].shape[0] == dic_data[CHR][\"pvar\"].shape[0], err_msg\n",
    "    print(\"    LD info loaded, matching --pgen_file\")\n",
    "    print(\"    \" + gdreg.util.get_sys_info(sys_start_time))\n",
    "\n",
    "# Load --sumstats_file\n",
    "if JOB in [\"regress\"]:\n",
    "    print(\"# Loading --sumstats_file\")\n",
    "    df_sumstats = pd.read_csv(SUMSTATS_FILE, sep=\"\\t\", index_col=None)\n",
    "    print(\"    .sumstats.gz loaded, %d SNPs\" % df_sumstats.shape[0])\n",
    "    print(\"    \" + gdreg.util.get_sys_info(sys_start_time))\n",
    "\n",
    "# Load --annot_file\n",
    "if JOB in [\"compute_score\", \"regress\"]:\n",
    "    print(\"# Loading --annot_file\")\n",
    "    df_annot = None\n",
    "    pannot_list = []\n",
    "    pannot_hr_list = []\n",
    "    for annot_file in ANNOT_FILE.split(\",\"):\n",
    "        err_msg = \"--annot_file missing : '%s'\" % annot_file\n",
    "        assert os.path.exists(annot_file), err_msg\n",
    "        temp_df = gdreg.util.read_annot(annot_file)\n",
    "\n",
    "        if annot_file.endswith(\".annot.gz\"):\n",
    "            temp_df.index = temp_df[\"SNP\"]\n",
    "            if df_annot is None:\n",
    "                df_annot = temp_df.copy()\n",
    "            else:\n",
    "                col_list = [x for x in temp_df if x.startswith(\"AN:\")]\n",
    "                df_annot = df_annot.join(temp_df[col_list])\n",
    "        if annot_file.endswith(\".pannot.gz\"):\n",
    "            pannot_list.append(temp_df.copy())\n",
    "        if annot_file.endswith(\".pannot_hr.gz\"):\n",
    "            pannot_hr_list.append(temp_df.copy())\n",
    "    AN_list = [x for x in df_annot if x.startswith(\"AN:\")]\n",
    "    print(\n",
    "        \"    .annot.gz (%d SNPs and %d annots): %s\"\n",
    "        % (df_annot.shape[0], len(AN_list), \",\".join(AN_list))\n",
    "    )\n",
    "    temp_list = [\"%s (%d SNPs)\" % (x.columns[-1], x.shape[0]) for x in pannot_list]\n",
    "    print(\n",
    "        \"    .pannot.gz (%d pannots): %s\" % (len(pannot_list), \",\".join(temp_list)),\n",
    "    )\n",
    "    temp_list = [\n",
    "        \"%s (%d pairs)\" % (x.columns[-1], x.shape[0]) for x in pannot_hr_list\n",
    "    ]\n",
    "    print(\n",
    "        \"    .pannot_hr.gz (%d pannots): %s\"\n",
    "        % (len(pannot_hr_list), \",\".join(temp_list)),\n",
    "    )\n",
    "    print(\"    \" + gdreg.util.get_sys_info(sys_start_time))"
   ]
  },
  {
   "cell_type": "code",
   "execution_count": 5,
   "metadata": {
    "scrolled": true
   },
   "outputs": [
    {
     "name": "stdout",
     "output_type": "stream",
     "text": [
      "# Call: gdreg.score.compute_score\n",
      "    40882 SNPs from 10 CHRs: CHR1 (4232 SNPs), CHR2 (4056 SNPs), CHR3 (4067 SNPs), CHR4 (4027 SNPs), CHR5 (4106 SNPs), CHR6 (4154 SNPs), CHR7 (4071 SNPs), CHR8 (3891 SNPs), CHR9 (4149 SNPs), CHR10 (4129 SNPs)\n",
      "    Single-SNP annots : AN:ALL, AN:CHR1t5, AN:ODD\n",
      "    SNP-pair annots : \n",
      "    win_size=10.0MB, memory=512MB\n",
      "    Completed, time=41.9s\n"
     ]
    }
   ],
   "source": [
    "df_score = gdreg.score.compute_score(\n",
    "    dic_data, \n",
    "    dic_ld,\n",
    "    df_annot,\n",
    "    verbose = True,\n",
    "    win_size = 1e7,\n",
    "    memory=512\n",
    ")"
   ]
  },
  {
   "cell_type": "code",
   "execution_count": 18,
   "metadata": {},
   "outputs": [
    {
     "data": {
      "text/html": [
       "<div>\n",
       "<style scoped>\n",
       "    .dataframe tbody tr th:only-of-type {\n",
       "        vertical-align: middle;\n",
       "    }\n",
       "\n",
       "    .dataframe tbody tr th {\n",
       "        vertical-align: top;\n",
       "    }\n",
       "\n",
       "    .dataframe thead th {\n",
       "        text-align: right;\n",
       "    }\n",
       "</style>\n",
       "<table border=\"1\" class=\"dataframe\">\n",
       "  <thead>\n",
       "    <tr style=\"text-align: right;\">\n",
       "      <th></th>\n",
       "      <th>CHR</th>\n",
       "      <th>SNP</th>\n",
       "      <th>BP</th>\n",
       "      <th>E</th>\n",
       "      <th>LD:AN:ALL</th>\n",
       "      <th>LD:AN:CHR1t5</th>\n",
       "      <th>LD:AN:ODD</th>\n",
       "    </tr>\n",
       "    <tr>\n",
       "      <th>SNP</th>\n",
       "      <th></th>\n",
       "      <th></th>\n",
       "      <th></th>\n",
       "      <th></th>\n",
       "      <th></th>\n",
       "      <th></th>\n",
       "      <th></th>\n",
       "    </tr>\n",
       "  </thead>\n",
       "  <tbody>\n",
       "    <tr>\n",
       "      <th>1:931131:I:4.01</th>\n",
       "      <td>1</td>\n",
       "      <td>1:931131:I:4.01</td>\n",
       "      <td>866511</td>\n",
       "      <td>1.015046</td>\n",
       "      <td>8.074506</td>\n",
       "      <td>6.035106</td>\n",
       "      <td>6.048805</td>\n",
       "    </tr>\n",
       "    <tr>\n",
       "      <th>1:935954:G:T</th>\n",
       "      <td>1</td>\n",
       "      <td>1:935954:G:T</td>\n",
       "      <td>871334</td>\n",
       "      <td>0.982678</td>\n",
       "      <td>10.233726</td>\n",
       "      <td>8.194325</td>\n",
       "      <td>8.208026</td>\n",
       "    </tr>\n",
       "    <tr>\n",
       "      <th>1:939436:I:1</th>\n",
       "      <td>1</td>\n",
       "      <td>1:939436:I:1</td>\n",
       "      <td>874816</td>\n",
       "      <td>0.998575</td>\n",
       "      <td>6.890001</td>\n",
       "      <td>4.850601</td>\n",
       "      <td>4.864301</td>\n",
       "    </tr>\n",
       "    <tr>\n",
       "      <th>1:941119:A:G</th>\n",
       "      <td>1</td>\n",
       "      <td>1:941119:A:G</td>\n",
       "      <td>876499</td>\n",
       "      <td>0.981042</td>\n",
       "      <td>24.844427</td>\n",
       "      <td>22.805027</td>\n",
       "      <td>22.818727</td>\n",
       "    </tr>\n",
       "    <tr>\n",
       "      <th>1:942335:C:G</th>\n",
       "      <td>1</td>\n",
       "      <td>1:942335:C:G</td>\n",
       "      <td>877715</td>\n",
       "      <td>1.082196</td>\n",
       "      <td>22.350109</td>\n",
       "      <td>20.310709</td>\n",
       "      <td>20.324409</td>\n",
       "    </tr>\n",
       "    <tr>\n",
       "      <th>...</th>\n",
       "      <td>...</td>\n",
       "      <td>...</td>\n",
       "      <td>...</td>\n",
       "      <td>...</td>\n",
       "      <td>...</td>\n",
       "      <td>...</td>\n",
       "      <td>...</td>\n",
       "    </tr>\n",
       "    <tr>\n",
       "      <th>10:116645109:A:G</th>\n",
       "      <td>10</td>\n",
       "      <td>10:116645109:A:G</td>\n",
       "      <td>118404620</td>\n",
       "      <td>1.002784</td>\n",
       "      <td>8.906330</td>\n",
       "      <td>2.048800</td>\n",
       "      <td>2.062500</td>\n",
       "    </tr>\n",
       "    <tr>\n",
       "      <th>10:116664061:G:A</th>\n",
       "      <td>10</td>\n",
       "      <td>10:116664061:G:A</td>\n",
       "      <td>118423572</td>\n",
       "      <td>0.996768</td>\n",
       "      <td>5.341304</td>\n",
       "      <td>2.048800</td>\n",
       "      <td>2.062500</td>\n",
       "    </tr>\n",
       "    <tr>\n",
       "      <th>10:116676557:G:T</th>\n",
       "      <td>10</td>\n",
       "      <td>10:116676557:G:T</td>\n",
       "      <td>118436068</td>\n",
       "      <td>1.037009</td>\n",
       "      <td>5.487178</td>\n",
       "      <td>2.048800</td>\n",
       "      <td>2.062500</td>\n",
       "    </tr>\n",
       "    <tr>\n",
       "      <th>10:116692299:A:G</th>\n",
       "      <td>10</td>\n",
       "      <td>10:116692299:A:G</td>\n",
       "      <td>118451810</td>\n",
       "      <td>1.015843</td>\n",
       "      <td>6.279639</td>\n",
       "      <td>2.048800</td>\n",
       "      <td>2.062500</td>\n",
       "    </tr>\n",
       "    <tr>\n",
       "      <th>10:116692533:G:T</th>\n",
       "      <td>10</td>\n",
       "      <td>10:116692533:G:T</td>\n",
       "      <td>118452044</td>\n",
       "      <td>1.044501</td>\n",
       "      <td>6.331639</td>\n",
       "      <td>2.048800</td>\n",
       "      <td>2.062500</td>\n",
       "    </tr>\n",
       "  </tbody>\n",
       "</table>\n",
       "<p>40882 rows × 7 columns</p>\n",
       "</div>"
      ],
      "text/plain": [
       "                  CHR               SNP         BP         E  LD:AN:ALL  \\\n",
       "SNP                                                                       \n",
       "1:931131:I:4.01     1   1:931131:I:4.01     866511  1.015046   8.074506   \n",
       "1:935954:G:T        1      1:935954:G:T     871334  0.982678  10.233726   \n",
       "1:939436:I:1        1      1:939436:I:1     874816  0.998575   6.890001   \n",
       "1:941119:A:G        1      1:941119:A:G     876499  0.981042  24.844427   \n",
       "1:942335:C:G        1      1:942335:C:G     877715  1.082196  22.350109   \n",
       "...               ...               ...        ...       ...        ...   \n",
       "10:116645109:A:G   10  10:116645109:A:G  118404620  1.002784   8.906330   \n",
       "10:116664061:G:A   10  10:116664061:G:A  118423572  0.996768   5.341304   \n",
       "10:116676557:G:T   10  10:116676557:G:T  118436068  1.037009   5.487178   \n",
       "10:116692299:A:G   10  10:116692299:A:G  118451810  1.015843   6.279639   \n",
       "10:116692533:G:T   10  10:116692533:G:T  118452044  1.044501   6.331639   \n",
       "\n",
       "                  LD:AN:CHR1t5  LD:AN:ODD  \n",
       "SNP                                        \n",
       "1:931131:I:4.01       6.035106   6.048805  \n",
       "1:935954:G:T          8.194325   8.208026  \n",
       "1:939436:I:1          4.850601   4.864301  \n",
       "1:941119:A:G         22.805027  22.818727  \n",
       "1:942335:C:G         20.310709  20.324409  \n",
       "...                        ...        ...  \n",
       "10:116645109:A:G      2.048800   2.062500  \n",
       "10:116664061:G:A      2.048800   2.062500  \n",
       "10:116676557:G:T      2.048800   2.062500  \n",
       "10:116692299:A:G      2.048800   2.062500  \n",
       "10:116692533:G:T      2.048800   2.062500  \n",
       "\n",
       "[40882 rows x 7 columns]"
      ]
     },
     "execution_count": 18,
     "metadata": {},
     "output_type": "execute_result"
    }
   ],
   "source": [
    "df_score"
   ]
  },
  {
   "cell_type": "code",
   "execution_count": null,
   "metadata": {},
   "outputs": [],
   "source": []
  },
  {
   "cell_type": "code",
   "execution_count": 7,
   "metadata": {
    "scrolled": true
   },
   "outputs": [
    {
     "name": "stdout",
     "output_type": "stream",
     "text": [
      "# Call: gdreg.regress.estimate\n",
      "    dic_data : n_snp=40882, n_sample=40882\n",
      "    df_sumstats : n_snp=40882, n_sample_zsq=10000\n",
      "    Remove duplicates or ZSQ>80.0 SNPs, 40882 remaining, avg. zsq=1.91\n",
      "    Regression : n_snp=40882, n_block=103\n",
      "# Call: gdreg.regress.regress\n",
      "    n_snp=40882, n_block=103, n_sample_zsq=10000\n",
      "    4 regressors : LD:AN:ALL, LD:AN:CHR1t5, LD:AN:ODD, E\n",
      "    Completed, time=0.0s\n"
     ]
    }
   ],
   "source": [
    "dic_res = gdreg.regress.estimate(\n",
    "    dic_data,\n",
    "    df_sumstats,\n",
    "    dic_ld,\n",
    "    df_annot,\n",
    "    pannot_list=pannot_list,\n",
    "    pannot_hr_list=pannot_hr_list,\n",
    "    df_score=df_score,\n",
    "    n_jn_block=100,\n",
    "    sym_non_pAN=\"non-pAN\",\n",
    "    win_size=int(1e7),\n",
    "    memory=512,\n",
    "    verbose=True,\n",
    "    n_iter=0,\n",
    ")\n",
    "\n",
    "# print(dic_res['term'])\n",
    "# print(dic_res['coef'])\n",
    "# print(dic_res['coef_jn'])\n",
    "# print(np.sqrt(np.diag(dic_res['coef_jn_cov'])))"
   ]
  },
  {
   "cell_type": "code",
   "execution_count": 7,
   "metadata": {
    "scrolled": true
   },
   "outputs": [
    {
     "name": "stdout",
     "output_type": "stream",
     "text": [
      "0\n",
      "1\n",
      "2\n",
      "3\n",
      "4\n",
      "5\n"
     ]
    },
    {
     "ename": "FileNotFoundError",
     "evalue": "[Errno 2] No such file or directory: '/n/groups/price/martin/WES_analysis/toy_1K/sanity_rep5.sumstats.gz'",
     "output_type": "error",
     "traceback": [
      "\u001b[0;31m---------------------------------------------------------------------------\u001b[0m",
      "\u001b[0;31mFileNotFoundError\u001b[0m                         Traceback (most recent call last)",
      "\u001b[0;32m<ipython-input-7-e845e8028477>\u001b[0m in \u001b[0;36m<module>\u001b[0;34m\u001b[0m\n\u001b[1;32m      3\u001b[0m     \u001b[0mprint\u001b[0m\u001b[0;34m(\u001b[0m\u001b[0mrep\u001b[0m\u001b[0;34m)\u001b[0m\u001b[0;34m\u001b[0m\u001b[0;34m\u001b[0m\u001b[0m\n\u001b[1;32m      4\u001b[0m     df_sumstats = pd.read_csv('/n/groups/price/martin/WES_analysis/toy_1K/sanity_rep%d.sumstats.gz'%rep, \n\u001b[0;32m----> 5\u001b[0;31m                               sep=\"\\t\", index_col=None)\n\u001b[0m\u001b[1;32m      6\u001b[0m \u001b[0;34m\u001b[0m\u001b[0m\n\u001b[1;32m      7\u001b[0m     dic_res_all[rep] = gdreg.regress.estimate(\n",
      "\u001b[0;32m~/myenv/lib/python3.7/site-packages/pandas/io/parsers.py\u001b[0m in \u001b[0;36mread_csv\u001b[0;34m(filepath_or_buffer, sep, delimiter, header, names, index_col, usecols, squeeze, prefix, mangle_dupe_cols, dtype, engine, converters, true_values, false_values, skipinitialspace, skiprows, skipfooter, nrows, na_values, keep_default_na, na_filter, verbose, skip_blank_lines, parse_dates, infer_datetime_format, keep_date_col, date_parser, dayfirst, cache_dates, iterator, chunksize, compression, thousands, decimal, lineterminator, quotechar, quoting, doublequote, escapechar, comment, encoding, dialect, error_bad_lines, warn_bad_lines, delim_whitespace, low_memory, memory_map, float_precision)\u001b[0m\n\u001b[1;32m    686\u001b[0m     )\n\u001b[1;32m    687\u001b[0m \u001b[0;34m\u001b[0m\u001b[0m\n\u001b[0;32m--> 688\u001b[0;31m     \u001b[0;32mreturn\u001b[0m \u001b[0m_read\u001b[0m\u001b[0;34m(\u001b[0m\u001b[0mfilepath_or_buffer\u001b[0m\u001b[0;34m,\u001b[0m \u001b[0mkwds\u001b[0m\u001b[0;34m)\u001b[0m\u001b[0;34m\u001b[0m\u001b[0;34m\u001b[0m\u001b[0m\n\u001b[0m\u001b[1;32m    689\u001b[0m \u001b[0;34m\u001b[0m\u001b[0m\n\u001b[1;32m    690\u001b[0m \u001b[0;34m\u001b[0m\u001b[0m\n",
      "\u001b[0;32m~/myenv/lib/python3.7/site-packages/pandas/io/parsers.py\u001b[0m in \u001b[0;36m_read\u001b[0;34m(filepath_or_buffer, kwds)\u001b[0m\n\u001b[1;32m    452\u001b[0m \u001b[0;34m\u001b[0m\u001b[0m\n\u001b[1;32m    453\u001b[0m     \u001b[0;31m# Create the parser.\u001b[0m\u001b[0;34m\u001b[0m\u001b[0;34m\u001b[0m\u001b[0;34m\u001b[0m\u001b[0m\n\u001b[0;32m--> 454\u001b[0;31m     \u001b[0mparser\u001b[0m \u001b[0;34m=\u001b[0m \u001b[0mTextFileReader\u001b[0m\u001b[0;34m(\u001b[0m\u001b[0mfp_or_buf\u001b[0m\u001b[0;34m,\u001b[0m \u001b[0;34m**\u001b[0m\u001b[0mkwds\u001b[0m\u001b[0;34m)\u001b[0m\u001b[0;34m\u001b[0m\u001b[0;34m\u001b[0m\u001b[0m\n\u001b[0m\u001b[1;32m    455\u001b[0m \u001b[0;34m\u001b[0m\u001b[0m\n\u001b[1;32m    456\u001b[0m     \u001b[0;32mif\u001b[0m \u001b[0mchunksize\u001b[0m \u001b[0;32mor\u001b[0m \u001b[0miterator\u001b[0m\u001b[0;34m:\u001b[0m\u001b[0;34m\u001b[0m\u001b[0;34m\u001b[0m\u001b[0m\n",
      "\u001b[0;32m~/myenv/lib/python3.7/site-packages/pandas/io/parsers.py\u001b[0m in \u001b[0;36m__init__\u001b[0;34m(self, f, engine, **kwds)\u001b[0m\n\u001b[1;32m    946\u001b[0m             \u001b[0mself\u001b[0m\u001b[0;34m.\u001b[0m\u001b[0moptions\u001b[0m\u001b[0;34m[\u001b[0m\u001b[0;34m\"has_index_names\"\u001b[0m\u001b[0;34m]\u001b[0m \u001b[0;34m=\u001b[0m \u001b[0mkwds\u001b[0m\u001b[0;34m[\u001b[0m\u001b[0;34m\"has_index_names\"\u001b[0m\u001b[0;34m]\u001b[0m\u001b[0;34m\u001b[0m\u001b[0;34m\u001b[0m\u001b[0m\n\u001b[1;32m    947\u001b[0m \u001b[0;34m\u001b[0m\u001b[0m\n\u001b[0;32m--> 948\u001b[0;31m         \u001b[0mself\u001b[0m\u001b[0;34m.\u001b[0m\u001b[0m_make_engine\u001b[0m\u001b[0;34m(\u001b[0m\u001b[0mself\u001b[0m\u001b[0;34m.\u001b[0m\u001b[0mengine\u001b[0m\u001b[0;34m)\u001b[0m\u001b[0;34m\u001b[0m\u001b[0;34m\u001b[0m\u001b[0m\n\u001b[0m\u001b[1;32m    949\u001b[0m \u001b[0;34m\u001b[0m\u001b[0m\n\u001b[1;32m    950\u001b[0m     \u001b[0;32mdef\u001b[0m \u001b[0mclose\u001b[0m\u001b[0;34m(\u001b[0m\u001b[0mself\u001b[0m\u001b[0;34m)\u001b[0m\u001b[0;34m:\u001b[0m\u001b[0;34m\u001b[0m\u001b[0;34m\u001b[0m\u001b[0m\n",
      "\u001b[0;32m~/myenv/lib/python3.7/site-packages/pandas/io/parsers.py\u001b[0m in \u001b[0;36m_make_engine\u001b[0;34m(self, engine)\u001b[0m\n\u001b[1;32m   1178\u001b[0m     \u001b[0;32mdef\u001b[0m \u001b[0m_make_engine\u001b[0m\u001b[0;34m(\u001b[0m\u001b[0mself\u001b[0m\u001b[0;34m,\u001b[0m \u001b[0mengine\u001b[0m\u001b[0;34m=\u001b[0m\u001b[0;34m\"c\"\u001b[0m\u001b[0;34m)\u001b[0m\u001b[0;34m:\u001b[0m\u001b[0;34m\u001b[0m\u001b[0;34m\u001b[0m\u001b[0m\n\u001b[1;32m   1179\u001b[0m         \u001b[0;32mif\u001b[0m \u001b[0mengine\u001b[0m \u001b[0;34m==\u001b[0m \u001b[0;34m\"c\"\u001b[0m\u001b[0;34m:\u001b[0m\u001b[0;34m\u001b[0m\u001b[0;34m\u001b[0m\u001b[0m\n\u001b[0;32m-> 1180\u001b[0;31m             \u001b[0mself\u001b[0m\u001b[0;34m.\u001b[0m\u001b[0m_engine\u001b[0m \u001b[0;34m=\u001b[0m \u001b[0mCParserWrapper\u001b[0m\u001b[0;34m(\u001b[0m\u001b[0mself\u001b[0m\u001b[0;34m.\u001b[0m\u001b[0mf\u001b[0m\u001b[0;34m,\u001b[0m \u001b[0;34m**\u001b[0m\u001b[0mself\u001b[0m\u001b[0;34m.\u001b[0m\u001b[0moptions\u001b[0m\u001b[0;34m)\u001b[0m\u001b[0;34m\u001b[0m\u001b[0;34m\u001b[0m\u001b[0m\n\u001b[0m\u001b[1;32m   1181\u001b[0m         \u001b[0;32melse\u001b[0m\u001b[0;34m:\u001b[0m\u001b[0;34m\u001b[0m\u001b[0;34m\u001b[0m\u001b[0m\n\u001b[1;32m   1182\u001b[0m             \u001b[0;32mif\u001b[0m \u001b[0mengine\u001b[0m \u001b[0;34m==\u001b[0m \u001b[0;34m\"python\"\u001b[0m\u001b[0;34m:\u001b[0m\u001b[0;34m\u001b[0m\u001b[0;34m\u001b[0m\u001b[0m\n",
      "\u001b[0;32m~/myenv/lib/python3.7/site-packages/pandas/io/parsers.py\u001b[0m in \u001b[0;36m__init__\u001b[0;34m(self, src, **kwds)\u001b[0m\n\u001b[1;32m   2008\u001b[0m         \u001b[0mkwds\u001b[0m\u001b[0;34m[\u001b[0m\u001b[0;34m\"usecols\"\u001b[0m\u001b[0;34m]\u001b[0m \u001b[0;34m=\u001b[0m \u001b[0mself\u001b[0m\u001b[0;34m.\u001b[0m\u001b[0musecols\u001b[0m\u001b[0;34m\u001b[0m\u001b[0;34m\u001b[0m\u001b[0m\n\u001b[1;32m   2009\u001b[0m \u001b[0;34m\u001b[0m\u001b[0m\n\u001b[0;32m-> 2010\u001b[0;31m         \u001b[0mself\u001b[0m\u001b[0;34m.\u001b[0m\u001b[0m_reader\u001b[0m \u001b[0;34m=\u001b[0m \u001b[0mparsers\u001b[0m\u001b[0;34m.\u001b[0m\u001b[0mTextReader\u001b[0m\u001b[0;34m(\u001b[0m\u001b[0msrc\u001b[0m\u001b[0;34m,\u001b[0m \u001b[0;34m**\u001b[0m\u001b[0mkwds\u001b[0m\u001b[0;34m)\u001b[0m\u001b[0;34m\u001b[0m\u001b[0;34m\u001b[0m\u001b[0m\n\u001b[0m\u001b[1;32m   2011\u001b[0m         \u001b[0mself\u001b[0m\u001b[0;34m.\u001b[0m\u001b[0munnamed_cols\u001b[0m \u001b[0;34m=\u001b[0m \u001b[0mself\u001b[0m\u001b[0;34m.\u001b[0m\u001b[0m_reader\u001b[0m\u001b[0;34m.\u001b[0m\u001b[0munnamed_cols\u001b[0m\u001b[0;34m\u001b[0m\u001b[0;34m\u001b[0m\u001b[0m\n\u001b[1;32m   2012\u001b[0m \u001b[0;34m\u001b[0m\u001b[0m\n",
      "\u001b[0;32mpandas/_libs/parsers.pyx\u001b[0m in \u001b[0;36mpandas._libs.parsers.TextReader.__cinit__\u001b[0;34m()\u001b[0m\n",
      "\u001b[0;32mpandas/_libs/parsers.pyx\u001b[0m in \u001b[0;36mpandas._libs.parsers.TextReader._setup_parser_source\u001b[0;34m()\u001b[0m\n",
      "\u001b[0;32m/n/app/python/3.7.4/lib/python3.7/gzip.py\u001b[0m in \u001b[0;36m__init__\u001b[0;34m(self, filename, mode, compresslevel, fileobj, mtime)\u001b[0m\n\u001b[1;32m    161\u001b[0m             \u001b[0mmode\u001b[0m \u001b[0;34m+=\u001b[0m \u001b[0;34m'b'\u001b[0m\u001b[0;34m\u001b[0m\u001b[0;34m\u001b[0m\u001b[0m\n\u001b[1;32m    162\u001b[0m         \u001b[0;32mif\u001b[0m \u001b[0mfileobj\u001b[0m \u001b[0;32mis\u001b[0m \u001b[0;32mNone\u001b[0m\u001b[0;34m:\u001b[0m\u001b[0;34m\u001b[0m\u001b[0;34m\u001b[0m\u001b[0m\n\u001b[0;32m--> 163\u001b[0;31m             \u001b[0mfileobj\u001b[0m \u001b[0;34m=\u001b[0m \u001b[0mself\u001b[0m\u001b[0;34m.\u001b[0m\u001b[0mmyfileobj\u001b[0m \u001b[0;34m=\u001b[0m \u001b[0mbuiltins\u001b[0m\u001b[0;34m.\u001b[0m\u001b[0mopen\u001b[0m\u001b[0;34m(\u001b[0m\u001b[0mfilename\u001b[0m\u001b[0;34m,\u001b[0m \u001b[0mmode\u001b[0m \u001b[0;32mor\u001b[0m \u001b[0;34m'rb'\u001b[0m\u001b[0;34m)\u001b[0m\u001b[0;34m\u001b[0m\u001b[0;34m\u001b[0m\u001b[0m\n\u001b[0m\u001b[1;32m    164\u001b[0m         \u001b[0;32mif\u001b[0m \u001b[0mfilename\u001b[0m \u001b[0;32mis\u001b[0m \u001b[0;32mNone\u001b[0m\u001b[0;34m:\u001b[0m\u001b[0;34m\u001b[0m\u001b[0;34m\u001b[0m\u001b[0m\n\u001b[1;32m    165\u001b[0m             \u001b[0mfilename\u001b[0m \u001b[0;34m=\u001b[0m \u001b[0mgetattr\u001b[0m\u001b[0;34m(\u001b[0m\u001b[0mfileobj\u001b[0m\u001b[0;34m,\u001b[0m \u001b[0;34m'name'\u001b[0m\u001b[0;34m,\u001b[0m \u001b[0;34m''\u001b[0m\u001b[0;34m)\u001b[0m\u001b[0;34m\u001b[0m\u001b[0;34m\u001b[0m\u001b[0m\n",
      "\u001b[0;31mFileNotFoundError\u001b[0m: [Errno 2] No such file or directory: '/n/groups/price/martin/WES_analysis/toy_1K/sanity_rep5.sumstats.gz'"
     ]
    }
   ],
   "source": [
    "dic_res_all = {}\n",
    "for rep in range(10):\n",
    "    print(rep)    \n",
    "    df_sumstats = pd.read_csv('/n/groups/price/martin/WES_analysis/toy_1K/sanity_rep%d.sumstats.gz'%rep, \n",
    "                              sep=\"\\t\", index_col=None)\n",
    "    \n",
    "    dic_res_all[rep] = gdreg.regress.estimate(\n",
    "        dic_data,\n",
    "        df_sumstats,\n",
    "        dic_ld,\n",
    "        df_annot,\n",
    "        pannot_list=pannot_list,\n",
    "        pannot_hr_list=pannot_hr_list,\n",
    "        df_score=df_score,\n",
    "        n_jn_block=100,\n",
    "        sym_non_pAN=\"non-pAN\",\n",
    "        win_size=int(1e7),\n",
    "        memory=512,\n",
    "        verbose=False,\n",
    "        n_iter=3,\n",
    "    )"
   ]
  },
  {
   "cell_type": "code",
   "execution_count": 8,
   "metadata": {},
   "outputs": [],
   "source": [
    "dic_df_res = {}\n",
    "dic_df_res_se = {}\n",
    "for rep in dic_res_all:\n",
    "    dic_res = dic_res_all[rep]\n",
    "    df_res = pd.DataFrame(index=dic_res['rho_0']['term'], columns=dic_res.keys(), dtype=float)\n",
    "    df_res_se = pd.DataFrame(index=dic_res['rho_0']['term'], columns=dic_res.keys(), dtype=float)\n",
    "    for res in dic_res:\n",
    "        df_res.loc[dic_res[res]['term'], res] = dic_res[res]['coef_jn']\n",
    "        df_res_se.loc[dic_res[res]['term'], res] = np.diag(dic_res[res]['coef_jn_cov'])**0.5\n",
    "        \n",
    "    dic_df_res[rep] = df_res.copy()\n",
    "    dic_df_res_se[rep] = df_res_se.copy()"
   ]
  },
  {
   "cell_type": "code",
   "execution_count": 13,
   "metadata": {},
   "outputs": [
    {
     "data": {
      "image/png": "[encoded data removed]",
      "text/plain": [
       "<Figure size 864x288 with 4 Axes>"
      ]
     },
     "metadata": {
      "needs_background": "light"
     },
     "output_type": "display_data"
    }
   ],
   "source": [
    "# Check calibration\n",
    "plot_list = ['LD:AN:ALL', 'LD:AN:CHR1t5', 'LD:AN:ODD']\n",
    "v_jitter = np.random.randn(5)*0.1\n",
    "v_rep = np.arange(5)\n",
    "plt.figure(figsize=[12,4])\n",
    "for i_res,res in enumerate(['tau', 'rho_0', 'rho_1', 'rho_2']):\n",
    "    plt.subplot(1,4,i_res+1)\n",
    "    for i_term,term in enumerate(plot_list):\n",
    "        v_val = np.array([dic_df_res[x].loc[term, res] for x in v_rep])\n",
    "        mean_ = v_val.mean()\n",
    "        v_se = np.array([dic_df_res_se[x].loc[term, res] for x in v_rep])\n",
    "        plt.scatter(v_jitter+i_term, v_val, alpha=0.6)\n",
    "        plt.plot([i_term-0.2, i_term+0.2], [mean_, mean_], '--', color='k', zorder=10)\n",
    "        plt.plot([i_term, i_term], [mean_-v_se.mean(), mean_+v_se.mean()], color='k', zorder=10)\n",
    "        \n",
    "    \n",
    "    plt.title(res)\n",
    "    plt.ylim([-2e-5, 2e-5])\n",
    "    plt.xticks(np.arange(len(plot_list)), plot_list, rotation=45, ha='right')\n",
    "plt.tight_layout()\n",
    "plt.show()\n"
   ]
  },
  {
   "cell_type": "code",
   "execution_count": 12,
   "metadata": {},
   "outputs": [
    {
     "data": {
      "image/png": "[encoded data removed]",
      "text/plain": [
       "<Figure size 864x360 with 3 Axes>"
      ]
     },
     "metadata": {
      "needs_background": "light"
     },
     "output_type": "display_data"
    }
   ],
   "source": [
    "plot_list = ['DLD:pAN:gene|AN:ALL', 'DLD:pAN:gene|AN:CHR1t5', 'DLD:pAN:gene|AN:ODD', \n",
    "             'DLD:pAN:proxy|AN:ALL', 'DLD:pAN:proxy|AN:CHR1t5', 'DLD:pAN:proxy|AN:ODD']\n",
    "v_jitter = np.random.randn(5)*0.1\n",
    "v_rep = np.arange(5)\n",
    "plt.figure(figsize=[12,5])\n",
    "for i_res,res in enumerate(['rho_0', 'rho_1', 'rho_2']):\n",
    "    plt.subplot(1,3,i_res+1)\n",
    "    for i_term,term in enumerate(plot_list):\n",
    "        v_val = np.array([dic_df_res[x].loc[term, res] for x in v_rep])\n",
    "        mean_ = v_val.mean()\n",
    "        v_se = np.array([dic_df_res_se[x].loc[term, res] for x in v_rep])\n",
    "        plt.scatter(v_jitter+i_term, v_val, alpha=0.6)\n",
    "        plt.plot([i_term-0.2, i_term+0.2], [mean_, mean_], '--', color='k', zorder=10)\n",
    "        plt.plot([i_term, i_term], [mean_-v_se.mean(), mean_+v_se.mean()], color='k', zorder=10)\n",
    "        \n",
    "    \n",
    "    plt.title(res)\n",
    "#     plt.ylim([-1, 1])\n",
    "    plt.xticks(np.arange(len(plot_list)), plot_list, rotation=45, ha='right')\n",
    "plt.tight_layout()\n",
    "plt.show()"
   ]
  },
  {
   "cell_type": "markdown",
   "metadata": {},
   "source": [
    "### gdreg.regress.summarize"
   ]
  },
  {
   "cell_type": "code",
   "execution_count": 16,
   "metadata": {},
   "outputs": [
    {
     "data": {
      "text/html": [
       "<div>\n",
       "<style scoped>\n",
       "    .dataframe tbody tr th:only-of-type {\n",
       "        vertical-align: middle;\n",
       "    }\n",
       "\n",
       "    .dataframe tbody tr th {\n",
       "        vertical-align: top;\n",
       "    }\n",
       "\n",
       "    .dataframe thead th {\n",
       "        text-align: right;\n",
       "    }\n",
       "</style>\n",
       "<table border=\"1\" class=\"dataframe\">\n",
       "  <thead>\n",
       "    <tr style=\"text-align: right;\">\n",
       "      <th></th>\n",
       "      <th>annot</th>\n",
       "      <th>n_snp</th>\n",
       "      <th>tau</th>\n",
       "      <th>tau_se</th>\n",
       "      <th>h2</th>\n",
       "      <th>h2_se</th>\n",
       "      <th>enrich</th>\n",
       "      <th>enrich_se</th>\n",
       "    </tr>\n",
       "  </thead>\n",
       "  <tbody>\n",
       "    <tr>\n",
       "      <th>AN:ALL</th>\n",
       "      <td>AN:ALL</td>\n",
       "      <td>40882</td>\n",
       "      <td>0.000015</td>\n",
       "      <td>0.000004</td>\n",
       "      <td>0.517855</td>\n",
       "      <td>0.108028</td>\n",
       "      <td>NaN</td>\n",
       "      <td>NaN</td>\n",
       "    </tr>\n",
       "    <tr>\n",
       "      <th>AN:CHR1t5</th>\n",
       "      <td>AN:CHR1t5</td>\n",
       "      <td>20488</td>\n",
       "      <td>-0.000003</td>\n",
       "      <td>0.000003</td>\n",
       "      <td>0.22898</td>\n",
       "      <td>0.0590902</td>\n",
       "      <td>0.88231</td>\n",
       "      <td>0.124619</td>\n",
       "    </tr>\n",
       "    <tr>\n",
       "      <th>AN:ODD</th>\n",
       "      <td>AN:ODD</td>\n",
       "      <td>20625</td>\n",
       "      <td>-0.000001</td>\n",
       "      <td>0.000003</td>\n",
       "      <td>0.242463</td>\n",
       "      <td>0.05715</td>\n",
       "      <td>0.928057</td>\n",
       "      <td>0.123939</td>\n",
       "    </tr>\n",
       "  </tbody>\n",
       "</table>\n",
       "</div>"
      ],
      "text/plain": [
       "               annot  n_snp       tau    tau_se        h2      h2_se  \\\n",
       "AN:ALL        AN:ALL  40882  0.000015  0.000004  0.517855   0.108028   \n",
       "AN:CHR1t5  AN:CHR1t5  20488 -0.000003  0.000003   0.22898  0.0590902   \n",
       "AN:ODD        AN:ODD  20625 -0.000001  0.000003  0.242463    0.05715   \n",
       "\n",
       "             enrich enrich_se  \n",
       "AN:ALL          NaN       NaN  \n",
       "AN:CHR1t5   0.88231  0.124619  \n",
       "AN:ODD     0.928057  0.123939  "
      ]
     },
     "execution_count": 16,
     "metadata": {},
     "output_type": "execute_result"
    }
   ],
   "source": [
    "temp_df = gdreg.regress.summarize(dic_res['tau'], df_annot)\n",
    "temp_df"
   ]
  },
  {
   "cell_type": "code",
   "execution_count": 9,
   "metadata": {},
   "outputs": [
    {
     "data": {
      "text/plain": [
       "{'AN:ALL', 'AN:CHR1t5', 'AN:ODD', 'BP', 'CHR', 'CM', 'SNP'}"
      ]
     },
     "execution_count": 9,
     "metadata": {},
     "output_type": "execute_result"
    }
   ],
   "source": []
  },
  {
   "cell_type": "code",
   "execution_count": 17,
   "metadata": {},
   "outputs": [
    {
     "data": {
      "text/plain": [
       "{'term': ['LD:AN:ALL', 'LD:AN:CHR1t5', 'LD:AN:ODD', 'E'],\n",
       " 'coef': array([ 1.43873034e-05, -2.76591868e-06, -7.87376430e-07,  4.39226510e-01]),\n",
       " 'coef_jn': array([ 1.46834309e-05, -2.72794132e-06, -1.28694034e-06,  4.31308465e-01]),\n",
       " 'coef_jn_cov': array([[ 1.5210723e-11, -6.5462080e-12, -7.3638951e-12, -7.9286161e-07],\n",
       "        [-6.5462080e-12,  8.4946026e-12,  2.8893355e-12,  9.1471314e-08],\n",
       "        [-7.3638951e-12,  2.8893355e-12,  8.5209877e-12,  1.7462438e-07],\n",
       "        [-7.9286161e-07,  9.1471314e-08,  1.7462438e-07,  6.3990265e-02]],\n",
       "       dtype=float32)}"
      ]
     },
     "execution_count": 17,
     "metadata": {},
     "output_type": "execute_result"
    }
   ],
   "source": [
    "dic_res['tau']"
   ]
  },
  {
   "cell_type": "code",
   "execution_count": null,
   "metadata": {},
   "outputs": [],
   "source": []
  },
  {
   "cell_type": "markdown",
   "metadata": {},
   "source": [
    "### gdreg.regress.get_block"
   ]
  },
  {
   "cell_type": "code",
   "execution_count": 40,
   "metadata": {},
   "outputs": [
    {
     "data": {
      "text/plain": [
       "{0: (0, 6), 1: (6, 7), 2: (7, 12), 3: (12, 14)}"
      ]
     },
     "execution_count": 40,
     "metadata": {},
     "output_type": "execute_result"
    }
   ],
   "source": [
    "temp_df = pd.DataFrame(data={\n",
    "    'CHR' : [1,1,1,1,1,1,1,2,2,2,2,2,3,3],\n",
    "})\n",
    "temp_pannot_list = [\n",
    "    pd.DataFrame(data={\n",
    "    'pAN:gene' : [\n",
    "        'a','a','a','non-pAN','c', 'c', 'non-pAN',\n",
    "        'non-pAN', 'b','b','b','b',\n",
    "        'non-pAN','non-pAN'\n",
    "    ],\n",
    "})\n",
    "]\n",
    "gdreg.regress.get_block(temp_df, temp_pannot_list, n_block=3)"
   ]
  },
  {
   "cell_type": "markdown",
   "metadata": {},
   "source": [
    "### Does the data look OK???"
   ]
  },
  {
   "cell_type": "code",
   "execution_count": 9,
   "metadata": {},
   "outputs": [],
   "source": [
    "df_eff = pd.read_csv(\"/n/groups/price/martin/WES_analysis/toy_1K/sanity_nd_rep0.eff.gz\", sep='\\t')\n",
    "dic_eff = { x: y**2 for x, y in zip(df_eff[\"SNP\"], df_eff[\"EFF\"]) }\n",
    "dic_zsq = { x: y**2 for x, y in zip(df_sumstats[\"SNP\"], df_sumstats[\"Z\"])}\n",
    "\n",
    "temp_df = df_score.copy()\n",
    "temp_df['ZSQ'] = [dic_zsq[x] for x in temp_df['SNP']]\n",
    "temp_df['EFFSQ'] = [dic_eff[x] for x in temp_df['SNP']]"
   ]
  },
  {
   "cell_type": "code",
   "execution_count": 19,
   "metadata": {},
   "outputs": [
    {
     "data": {
      "text/plain": [
       "0.4894335692078715"
      ]
     },
     "execution_count": 19,
     "metadata": {},
     "output_type": "execute_result"
    }
   ],
   "source": [
    "(temp_df['EFFSQ']).sum()"
   ]
  },
  {
   "cell_type": "code",
   "execution_count": null,
   "metadata": {},
   "outputs": [],
   "source": []
  },
  {
   "cell_type": "code",
   "execution_count": 32,
   "metadata": {},
   "outputs": [
    {
     "ename": "KeyError",
     "evalue": "'ZSQ'",
     "output_type": "error",
     "traceback": [
      "\u001b[0;31m---------------------------------------------------------------------------\u001b[0m",
      "\u001b[0;31mKeyError\u001b[0m                                  Traceback (most recent call last)",
      "\u001b[0;32m~/myenv/lib/python3.7/site-packages/pandas/core/indexes/base.py\u001b[0m in \u001b[0;36mget_loc\u001b[0;34m(self, key, method, tolerance)\u001b[0m\n\u001b[1;32m   2894\u001b[0m             \u001b[0;32mtry\u001b[0m\u001b[0;34m:\u001b[0m\u001b[0;34m\u001b[0m\u001b[0;34m\u001b[0m\u001b[0m\n\u001b[0;32m-> 2895\u001b[0;31m                 \u001b[0;32mreturn\u001b[0m \u001b[0mself\u001b[0m\u001b[0;34m.\u001b[0m\u001b[0m_engine\u001b[0m\u001b[0;34m.\u001b[0m\u001b[0mget_loc\u001b[0m\u001b[0;34m(\u001b[0m\u001b[0mcasted_key\u001b[0m\u001b[0;34m)\u001b[0m\u001b[0;34m\u001b[0m\u001b[0;34m\u001b[0m\u001b[0m\n\u001b[0m\u001b[1;32m   2896\u001b[0m             \u001b[0;32mexcept\u001b[0m \u001b[0mKeyError\u001b[0m \u001b[0;32mas\u001b[0m \u001b[0merr\u001b[0m\u001b[0;34m:\u001b[0m\u001b[0;34m\u001b[0m\u001b[0;34m\u001b[0m\u001b[0m\n",
      "\u001b[0;32mpandas/_libs/index.pyx\u001b[0m in \u001b[0;36mpandas._libs.index.IndexEngine.get_loc\u001b[0;34m()\u001b[0m\n",
      "\u001b[0;32mpandas/_libs/index.pyx\u001b[0m in \u001b[0;36mpandas._libs.index.IndexEngine.get_loc\u001b[0;34m()\u001b[0m\n",
      "\u001b[0;32mpandas/_libs/hashtable_class_helper.pxi\u001b[0m in \u001b[0;36mpandas._libs.hashtable.PyObjectHashTable.get_item\u001b[0;34m()\u001b[0m\n",
      "\u001b[0;32mpandas/_libs/hashtable_class_helper.pxi\u001b[0m in \u001b[0;36mpandas._libs.hashtable.PyObjectHashTable.get_item\u001b[0;34m()\u001b[0m\n",
      "\u001b[0;31mKeyError\u001b[0m: 'ZSQ'",
      "\nThe above exception was the direct cause of the following exception:\n",
      "\u001b[0;31mKeyError\u001b[0m                                  Traceback (most recent call last)",
      "\u001b[0;32m<ipython-input-32-c85330f03574>\u001b[0m in \u001b[0;36m<module>\u001b[0;34m\u001b[0m\n\u001b[0;32m----> 1\u001b[0;31m \u001b[0mprint\u001b[0m\u001b[0;34m(\u001b[0m\u001b[0mtemp_df\u001b[0m\u001b[0;34m.\u001b[0m\u001b[0mloc\u001b[0m\u001b[0;34m[\u001b[0m\u001b[0mtemp_df\u001b[0m\u001b[0;34m[\u001b[0m\u001b[0;34m'CHR'\u001b[0m\u001b[0;34m]\u001b[0m\u001b[0;34m==\u001b[0m\u001b[0;36m1\u001b[0m\u001b[0;34m,\u001b[0m \u001b[0;34m'ZSQ'\u001b[0m\u001b[0;34m]\u001b[0m\u001b[0;34m.\u001b[0m\u001b[0mmean\u001b[0m\u001b[0;34m(\u001b[0m\u001b[0;34m)\u001b[0m\u001b[0;34m,\u001b[0m \u001b[0mtemp_df\u001b[0m\u001b[0;34m.\u001b[0m\u001b[0mloc\u001b[0m\u001b[0;34m[\u001b[0m\u001b[0mtemp_df\u001b[0m\u001b[0;34m[\u001b[0m\u001b[0;34m'CHR'\u001b[0m\u001b[0;34m]\u001b[0m\u001b[0;34m==\u001b[0m\u001b[0;36m1\u001b[0m\u001b[0;34m,\u001b[0m \u001b[0;34m'EFFSQ'\u001b[0m\u001b[0;34m]\u001b[0m\u001b[0;34m.\u001b[0m\u001b[0mmean\u001b[0m\u001b[0;34m(\u001b[0m\u001b[0;34m)\u001b[0m\u001b[0;34m)\u001b[0m\u001b[0;34m\u001b[0m\u001b[0;34m\u001b[0m\u001b[0m\n\u001b[0m",
      "\u001b[0;32m~/myenv/lib/python3.7/site-packages/pandas/core/indexing.py\u001b[0m in \u001b[0;36m__getitem__\u001b[0;34m(self, key)\u001b[0m\n\u001b[1;32m    871\u001b[0m                     \u001b[0;31m# AttributeError for IntervalTree get_value\u001b[0m\u001b[0;34m\u001b[0m\u001b[0;34m\u001b[0m\u001b[0;34m\u001b[0m\u001b[0m\n\u001b[1;32m    872\u001b[0m                     \u001b[0;32mpass\u001b[0m\u001b[0;34m\u001b[0m\u001b[0;34m\u001b[0m\u001b[0m\n\u001b[0;32m--> 873\u001b[0;31m             \u001b[0;32mreturn\u001b[0m \u001b[0mself\u001b[0m\u001b[0;34m.\u001b[0m\u001b[0m_getitem_tuple\u001b[0m\u001b[0;34m(\u001b[0m\u001b[0mkey\u001b[0m\u001b[0;34m)\u001b[0m\u001b[0;34m\u001b[0m\u001b[0;34m\u001b[0m\u001b[0m\n\u001b[0m\u001b[1;32m    874\u001b[0m         \u001b[0;32melse\u001b[0m\u001b[0;34m:\u001b[0m\u001b[0;34m\u001b[0m\u001b[0;34m\u001b[0m\u001b[0m\n\u001b[1;32m    875\u001b[0m             \u001b[0;31m# we by definition only have the 0th axis\u001b[0m\u001b[0;34m\u001b[0m\u001b[0;34m\u001b[0m\u001b[0;34m\u001b[0m\u001b[0m\n",
      "\u001b[0;32m~/myenv/lib/python3.7/site-packages/pandas/core/indexing.py\u001b[0m in \u001b[0;36m_getitem_tuple\u001b[0;34m(self, tup)\u001b[0m\n\u001b[1;32m   1042\u001b[0m     \u001b[0;32mdef\u001b[0m \u001b[0m_getitem_tuple\u001b[0m\u001b[0;34m(\u001b[0m\u001b[0mself\u001b[0m\u001b[0;34m,\u001b[0m \u001b[0mtup\u001b[0m\u001b[0;34m:\u001b[0m \u001b[0mTuple\u001b[0m\u001b[0;34m)\u001b[0m\u001b[0;34m:\u001b[0m\u001b[0;34m\u001b[0m\u001b[0;34m\u001b[0m\u001b[0m\n\u001b[1;32m   1043\u001b[0m         \u001b[0;32mtry\u001b[0m\u001b[0;34m:\u001b[0m\u001b[0;34m\u001b[0m\u001b[0;34m\u001b[0m\u001b[0m\n\u001b[0;32m-> 1044\u001b[0;31m             \u001b[0;32mreturn\u001b[0m \u001b[0mself\u001b[0m\u001b[0;34m.\u001b[0m\u001b[0m_getitem_lowerdim\u001b[0m\u001b[0;34m(\u001b[0m\u001b[0mtup\u001b[0m\u001b[0;34m)\u001b[0m\u001b[0;34m\u001b[0m\u001b[0;34m\u001b[0m\u001b[0m\n\u001b[0m\u001b[1;32m   1045\u001b[0m         \u001b[0;32mexcept\u001b[0m \u001b[0mIndexingError\u001b[0m\u001b[0;34m:\u001b[0m\u001b[0;34m\u001b[0m\u001b[0;34m\u001b[0m\u001b[0m\n\u001b[1;32m   1046\u001b[0m             \u001b[0;32mpass\u001b[0m\u001b[0;34m\u001b[0m\u001b[0;34m\u001b[0m\u001b[0m\n",
      "\u001b[0;32m~/myenv/lib/python3.7/site-packages/pandas/core/indexing.py\u001b[0m in \u001b[0;36m_getitem_lowerdim\u001b[0;34m(self, tup)\u001b[0m\n\u001b[1;32m    784\u001b[0m                 \u001b[0;31m# We don't need to check for tuples here because those are\u001b[0m\u001b[0;34m\u001b[0m\u001b[0;34m\u001b[0m\u001b[0;34m\u001b[0m\u001b[0m\n\u001b[1;32m    785\u001b[0m                 \u001b[0;31m#  caught by the _is_nested_tuple_indexer check above.\u001b[0m\u001b[0;34m\u001b[0m\u001b[0;34m\u001b[0m\u001b[0;34m\u001b[0m\u001b[0m\n\u001b[0;32m--> 786\u001b[0;31m                 \u001b[0msection\u001b[0m \u001b[0;34m=\u001b[0m \u001b[0mself\u001b[0m\u001b[0;34m.\u001b[0m\u001b[0m_getitem_axis\u001b[0m\u001b[0;34m(\u001b[0m\u001b[0mkey\u001b[0m\u001b[0;34m,\u001b[0m \u001b[0maxis\u001b[0m\u001b[0;34m=\u001b[0m\u001b[0mi\u001b[0m\u001b[0;34m)\u001b[0m\u001b[0;34m\u001b[0m\u001b[0;34m\u001b[0m\u001b[0m\n\u001b[0m\u001b[1;32m    787\u001b[0m \u001b[0;34m\u001b[0m\u001b[0m\n\u001b[1;32m    788\u001b[0m                 \u001b[0;31m# We should never have a scalar section here, because\u001b[0m\u001b[0;34m\u001b[0m\u001b[0;34m\u001b[0m\u001b[0;34m\u001b[0m\u001b[0m\n",
      "\u001b[0;32m~/myenv/lib/python3.7/site-packages/pandas/core/indexing.py\u001b[0m in \u001b[0;36m_getitem_axis\u001b[0;34m(self, key, axis)\u001b[0m\n\u001b[1;32m   1108\u001b[0m         \u001b[0;31m# fall thru to straight lookup\u001b[0m\u001b[0;34m\u001b[0m\u001b[0;34m\u001b[0m\u001b[0;34m\u001b[0m\u001b[0m\n\u001b[1;32m   1109\u001b[0m         \u001b[0mself\u001b[0m\u001b[0;34m.\u001b[0m\u001b[0m_validate_key\u001b[0m\u001b[0;34m(\u001b[0m\u001b[0mkey\u001b[0m\u001b[0;34m,\u001b[0m \u001b[0maxis\u001b[0m\u001b[0;34m)\u001b[0m\u001b[0;34m\u001b[0m\u001b[0;34m\u001b[0m\u001b[0m\n\u001b[0;32m-> 1110\u001b[0;31m         \u001b[0;32mreturn\u001b[0m \u001b[0mself\u001b[0m\u001b[0;34m.\u001b[0m\u001b[0m_get_label\u001b[0m\u001b[0;34m(\u001b[0m\u001b[0mkey\u001b[0m\u001b[0;34m,\u001b[0m \u001b[0maxis\u001b[0m\u001b[0;34m=\u001b[0m\u001b[0maxis\u001b[0m\u001b[0;34m)\u001b[0m\u001b[0;34m\u001b[0m\u001b[0;34m\u001b[0m\u001b[0m\n\u001b[0m\u001b[1;32m   1111\u001b[0m \u001b[0;34m\u001b[0m\u001b[0m\n\u001b[1;32m   1112\u001b[0m     \u001b[0;32mdef\u001b[0m \u001b[0m_get_slice_axis\u001b[0m\u001b[0;34m(\u001b[0m\u001b[0mself\u001b[0m\u001b[0;34m,\u001b[0m \u001b[0mslice_obj\u001b[0m\u001b[0;34m:\u001b[0m \u001b[0mslice\u001b[0m\u001b[0;34m,\u001b[0m \u001b[0maxis\u001b[0m\u001b[0;34m:\u001b[0m \u001b[0mint\u001b[0m\u001b[0;34m)\u001b[0m\u001b[0;34m:\u001b[0m\u001b[0;34m\u001b[0m\u001b[0;34m\u001b[0m\u001b[0m\n",
      "\u001b[0;32m~/myenv/lib/python3.7/site-packages/pandas/core/indexing.py\u001b[0m in \u001b[0;36m_get_label\u001b[0;34m(self, label, axis)\u001b[0m\n\u001b[1;32m   1057\u001b[0m     \u001b[0;32mdef\u001b[0m \u001b[0m_get_label\u001b[0m\u001b[0;34m(\u001b[0m\u001b[0mself\u001b[0m\u001b[0;34m,\u001b[0m \u001b[0mlabel\u001b[0m\u001b[0;34m,\u001b[0m \u001b[0maxis\u001b[0m\u001b[0;34m:\u001b[0m \u001b[0mint\u001b[0m\u001b[0;34m)\u001b[0m\u001b[0;34m:\u001b[0m\u001b[0;34m\u001b[0m\u001b[0;34m\u001b[0m\u001b[0m\n\u001b[1;32m   1058\u001b[0m         \u001b[0;31m# GH#5667 this will fail if the label is not present in the axis.\u001b[0m\u001b[0;34m\u001b[0m\u001b[0;34m\u001b[0m\u001b[0;34m\u001b[0m\u001b[0m\n\u001b[0;32m-> 1059\u001b[0;31m         \u001b[0;32mreturn\u001b[0m \u001b[0mself\u001b[0m\u001b[0;34m.\u001b[0m\u001b[0mobj\u001b[0m\u001b[0;34m.\u001b[0m\u001b[0mxs\u001b[0m\u001b[0;34m(\u001b[0m\u001b[0mlabel\u001b[0m\u001b[0;34m,\u001b[0m \u001b[0maxis\u001b[0m\u001b[0;34m=\u001b[0m\u001b[0maxis\u001b[0m\u001b[0;34m)\u001b[0m\u001b[0;34m\u001b[0m\u001b[0;34m\u001b[0m\u001b[0m\n\u001b[0m\u001b[1;32m   1060\u001b[0m \u001b[0;34m\u001b[0m\u001b[0m\n\u001b[1;32m   1061\u001b[0m     \u001b[0;32mdef\u001b[0m \u001b[0m_handle_lowerdim_multi_index_axis0\u001b[0m\u001b[0;34m(\u001b[0m\u001b[0mself\u001b[0m\u001b[0;34m,\u001b[0m \u001b[0mtup\u001b[0m\u001b[0;34m:\u001b[0m \u001b[0mTuple\u001b[0m\u001b[0;34m)\u001b[0m\u001b[0;34m:\u001b[0m\u001b[0;34m\u001b[0m\u001b[0;34m\u001b[0m\u001b[0m\n",
      "\u001b[0;32m~/myenv/lib/python3.7/site-packages/pandas/core/generic.py\u001b[0m in \u001b[0;36mxs\u001b[0;34m(self, key, axis, level, drop_level)\u001b[0m\n\u001b[1;32m   3483\u001b[0m \u001b[0;34m\u001b[0m\u001b[0m\n\u001b[1;32m   3484\u001b[0m         \u001b[0;32mif\u001b[0m \u001b[0maxis\u001b[0m \u001b[0;34m==\u001b[0m \u001b[0;36m1\u001b[0m\u001b[0;34m:\u001b[0m\u001b[0;34m\u001b[0m\u001b[0;34m\u001b[0m\u001b[0m\n\u001b[0;32m-> 3485\u001b[0;31m             \u001b[0;32mreturn\u001b[0m \u001b[0mself\u001b[0m\u001b[0;34m[\u001b[0m\u001b[0mkey\u001b[0m\u001b[0;34m]\u001b[0m\u001b[0;34m\u001b[0m\u001b[0;34m\u001b[0m\u001b[0m\n\u001b[0m\u001b[1;32m   3486\u001b[0m \u001b[0;34m\u001b[0m\u001b[0m\n\u001b[1;32m   3487\u001b[0m         \u001b[0mindex\u001b[0m \u001b[0;34m=\u001b[0m \u001b[0mself\u001b[0m\u001b[0;34m.\u001b[0m\u001b[0mindex\u001b[0m\u001b[0;34m\u001b[0m\u001b[0;34m\u001b[0m\u001b[0m\n",
      "\u001b[0;32m~/myenv/lib/python3.7/site-packages/pandas/core/frame.py\u001b[0m in \u001b[0;36m__getitem__\u001b[0;34m(self, key)\u001b[0m\n\u001b[1;32m   2904\u001b[0m             \u001b[0;32mif\u001b[0m \u001b[0mself\u001b[0m\u001b[0;34m.\u001b[0m\u001b[0mcolumns\u001b[0m\u001b[0;34m.\u001b[0m\u001b[0mnlevels\u001b[0m \u001b[0;34m>\u001b[0m \u001b[0;36m1\u001b[0m\u001b[0;34m:\u001b[0m\u001b[0;34m\u001b[0m\u001b[0;34m\u001b[0m\u001b[0m\n\u001b[1;32m   2905\u001b[0m                 \u001b[0;32mreturn\u001b[0m \u001b[0mself\u001b[0m\u001b[0;34m.\u001b[0m\u001b[0m_getitem_multilevel\u001b[0m\u001b[0;34m(\u001b[0m\u001b[0mkey\u001b[0m\u001b[0;34m)\u001b[0m\u001b[0;34m\u001b[0m\u001b[0;34m\u001b[0m\u001b[0m\n\u001b[0;32m-> 2906\u001b[0;31m             \u001b[0mindexer\u001b[0m \u001b[0;34m=\u001b[0m \u001b[0mself\u001b[0m\u001b[0;34m.\u001b[0m\u001b[0mcolumns\u001b[0m\u001b[0;34m.\u001b[0m\u001b[0mget_loc\u001b[0m\u001b[0;34m(\u001b[0m\u001b[0mkey\u001b[0m\u001b[0;34m)\u001b[0m\u001b[0;34m\u001b[0m\u001b[0;34m\u001b[0m\u001b[0m\n\u001b[0m\u001b[1;32m   2907\u001b[0m             \u001b[0;32mif\u001b[0m \u001b[0mis_integer\u001b[0m\u001b[0;34m(\u001b[0m\u001b[0mindexer\u001b[0m\u001b[0;34m)\u001b[0m\u001b[0;34m:\u001b[0m\u001b[0;34m\u001b[0m\u001b[0;34m\u001b[0m\u001b[0m\n\u001b[1;32m   2908\u001b[0m                 \u001b[0mindexer\u001b[0m \u001b[0;34m=\u001b[0m \u001b[0;34m[\u001b[0m\u001b[0mindexer\u001b[0m\u001b[0;34m]\u001b[0m\u001b[0;34m\u001b[0m\u001b[0;34m\u001b[0m\u001b[0m\n",
      "\u001b[0;32m~/myenv/lib/python3.7/site-packages/pandas/core/indexes/base.py\u001b[0m in \u001b[0;36mget_loc\u001b[0;34m(self, key, method, tolerance)\u001b[0m\n\u001b[1;32m   2895\u001b[0m                 \u001b[0;32mreturn\u001b[0m \u001b[0mself\u001b[0m\u001b[0;34m.\u001b[0m\u001b[0m_engine\u001b[0m\u001b[0;34m.\u001b[0m\u001b[0mget_loc\u001b[0m\u001b[0;34m(\u001b[0m\u001b[0mcasted_key\u001b[0m\u001b[0;34m)\u001b[0m\u001b[0;34m\u001b[0m\u001b[0;34m\u001b[0m\u001b[0m\n\u001b[1;32m   2896\u001b[0m             \u001b[0;32mexcept\u001b[0m \u001b[0mKeyError\u001b[0m \u001b[0;32mas\u001b[0m \u001b[0merr\u001b[0m\u001b[0;34m:\u001b[0m\u001b[0;34m\u001b[0m\u001b[0;34m\u001b[0m\u001b[0m\n\u001b[0;32m-> 2897\u001b[0;31m                 \u001b[0;32mraise\u001b[0m \u001b[0mKeyError\u001b[0m\u001b[0;34m(\u001b[0m\u001b[0mkey\u001b[0m\u001b[0;34m)\u001b[0m \u001b[0;32mfrom\u001b[0m \u001b[0merr\u001b[0m\u001b[0;34m\u001b[0m\u001b[0;34m\u001b[0m\u001b[0m\n\u001b[0m\u001b[1;32m   2898\u001b[0m \u001b[0;34m\u001b[0m\u001b[0m\n\u001b[1;32m   2899\u001b[0m         \u001b[0;32mif\u001b[0m \u001b[0mtolerance\u001b[0m \u001b[0;32mis\u001b[0m \u001b[0;32mnot\u001b[0m \u001b[0;32mNone\u001b[0m\u001b[0;34m:\u001b[0m\u001b[0;34m\u001b[0m\u001b[0;34m\u001b[0m\u001b[0m\n",
      "\u001b[0;31mKeyError\u001b[0m: 'ZSQ'"
     ]
    }
   ],
   "source": [
    "print(temp_df.loc[temp_df['CHR']==1, 'ZSQ'].mean(), temp_df.loc[temp_df['CHR']==1, 'EFFSQ'].mean())"
   ]
  },
  {
   "cell_type": "code",
   "execution_count": 15,
   "metadata": {},
   "outputs": [
    {
     "name": "stdout",
     "output_type": "stream",
     "text": [
      "1.039649622100858 6.992735878720677e-06\n"
     ]
    }
   ],
   "source": [
    "print(temp_df.loc[temp_df['CHR']%2==0, 'ZSQ'].mean(), temp_df.loc[temp_df['CHR']%2==0, 'EFFSQ'].mean())"
   ]
  },
  {
   "cell_type": "code",
   "execution_count": 16,
   "metadata": {},
   "outputs": [
    {
     "name": "stdout",
     "output_type": "stream",
     "text": [
      "1.103828699394063 1.5495125005248987e-05\n"
     ]
    }
   ],
   "source": [
    "print(temp_df.loc[temp_df['CHR']%2==1, 'ZSQ'].mean(), temp_df.loc[temp_df['CHR']%2==1, 'EFFSQ'].mean())"
   ]
  },
  {
   "cell_type": "markdown",
   "metadata": {},
   "source": [
    "### Global LD score : gives the same result"
   ]
  },
  {
   "cell_type": "code",
   "execution_count": null,
   "metadata": {},
   "outputs": [],
   "source": [
    "# Read in all LD matrices \n",
    "dic_ld_full = {}\n",
    "temp_path = \"/n/groups/price/martin/WES_analysis/toy_1K/results/full_ld\"\n",
    "for CHR in range(1,11):\n",
    "    for CHR_REF in range(1,11):\n",
    "        dic_ld_full[(CHR,CHR_REF)] = np.load(\n",
    "            temp_path + '/top_1K_chr%d_chr%d.ld.npy' % (CHR, CHR_REF)\n",
    "        )\n",
    "        \n",
    "# df_score_g\n",
    "df_score_g = df_score.copy()\n",
    "for CHR in range(1,11):\n",
    "    mat_ld_chr = np.concatenate([dic_ld_full[(CHR,x)] for x in range(1,11)], axis=0)\n",
    "    for AN in ['AN:ALL', 'AN:CHR1', 'AN:ODD']:\n",
    "        v_annot = df_annot[AN].values\n",
    "        v_ld_score = ((mat_ld_chr**2).T*v_annot).sum(axis=1)\n",
    "        df_score_g.loc[df_score_g['CHR']==CHR, 'LD:%s'%AN] = v_ld_score\n",
    "        "
   ]
  },
  {
   "cell_type": "code",
   "execution_count": null,
   "metadata": {},
   "outputs": [],
   "source": []
  }
 ],
 "metadata": {
  "kernelspec": {
   "display_name": "Python 3",
   "language": "python",
   "name": "python3"
  },
  "language_info": {
   "codemirror_mode": {
    "name": "ipython",
    "version": 3
   },
   "file_extension": ".py",
   "mimetype": "text/x-python",
   "name": "python",
   "nbconvert_exporter": "python",
   "pygments_lexer": "ipython3",
   "version": "3.7.4"
  }
 },
 "nbformat": 4,
 "nbformat_minor": 2
}
