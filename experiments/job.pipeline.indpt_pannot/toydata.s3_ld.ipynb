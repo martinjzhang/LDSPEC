{
 "cells": [
  {
   "cell_type": "code",
   "execution_count": 1,
   "metadata": {},
   "outputs": [],
   "source": [
    "import pandas as pd\n",
    "import numpy as np\n",
    "import scipy as sp\n",
    "import os\n",
    "from os.path import join\n",
    "import re\n",
    "import time\n",
    "import argparse\n",
    "import pickle\n",
    "\n",
    "# in-house tools\n",
    "import gdreg\n",
    "\n",
    "# autoreload\n",
    "%load_ext autoreload\n",
    "%autoreload 2"
   ]
  },
  {
   "cell_type": "code",
   "execution_count": 7,
   "metadata": {},
   "outputs": [],
   "source": [
    "# Required\n",
    "JOB = \"compute_ld\"\n",
    "PGEN_FILE = \"/n/groups/price/martin/data_GDREG/toy_10K/chr@_v1.SPB.hg19.toy_10K\"\n",
    "PREFIX_OUT = \"/n/groups/price/martin/data_GDREG/toy_10K/res_gdreg/test\"\n",
    "SNP_RANGE = 'c1_s20_e1701_rall'\n",
    "\n",
    "# Filler\n",
    "LD_FILE = None\n",
    "SCORE_FILE = None\n",
    "SUMSTATS_FILE = None\n",
    "ANNOT_FILE = None\n",
    "MEMORY = 1024\n",
    "RANDOM_SEED = 0\n",
    "FLAG_FULL_LD = False\n",
    "FLAG_CROSS_TERM = False"
   ]
  },
  {
   "cell_type": "code",
   "execution_count": 8,
   "metadata": {},
   "outputs": [
    {
     "name": "stdout",
     "output_type": "stream",
     "text": [
      "******************************************************************************\n",
      "* Gene-level directional effect regression (GDREG)\n",
      "* Version 0.0.2\n",
      "* Martin Jinye Zhang\n",
      "* HSPH / Broad Institute\n",
      "* MIT License\n",
      "******************************************************************************\n",
      "Call: run_gdreg.py \\\n",
      "--job compute_ld\\\n",
      "--pgen_file /n/groups/price/martin/data_GDREG/toy_10K/chr@_v1.SPB.hg19.toy_10K\\\n",
      "--ld_file None\\\n",
      "--score_file None\\\n",
      "--sumstats_file None\\\n",
      "--annot_file None\\\n",
      "--prefix_out /n/groups/price/martin/data_GDREG/toy_10K/res_gdreg/test\\\n",
      "--snp_range c1_s20_e1701_rall\\\n",
      "--memory 1024\\\n",
      "--random_seed 0\\\n",
      "--flag_full_ld False\\\n",
      "--flag_cross_term False\n",
      "\n"
     ]
    }
   ],
   "source": [
    "sys_start_time = time.time()\n",
    "\n",
    "###########################################################################################\n",
    "######                                    Parse Options                              ######\n",
    "###########################################################################################\n",
    "\n",
    "# JOB = args.job\n",
    "# PGEN_FILE = args.pgen_file\n",
    "# LD_FILE = args.ld_file\n",
    "# SCORE_FILE = args.score_file\n",
    "# SUMSTATS_FILE = args.sumstats_file\n",
    "# ANNOT_FILE = args.annot_file\n",
    "# PREFIX_OUT = args.prefix_out\n",
    "# SNP_RANGE = args.snp_range\n",
    "# MEMORY = args.memory\n",
    "# RANDOM_SEED = args.random_seed\n",
    "# FLAG_FULL_LD = args.flag_full_ld\n",
    "# FLAG_CROSS_TERM = args.flag_cross_term\n",
    "\n",
    "# Parse and check arguments\n",
    "LEGAL_JOB_LIST = [\"get_snp_block\", \"compute_ld\", \"compute_score\", \"regress\"]\n",
    "err_msg = \"# run_gdreg: --job=%s not supported\" % JOB\n",
    "assert JOB in LEGAL_JOB_LIST, err_msg\n",
    "\n",
    "if JOB in [\"compute_score\"]:\n",
    "    assert LD_FILE is not None, \"--ld_file required for --job=%s\" % JOB\n",
    "if JOB in [\"regress\"]:\n",
    "    assert SCORE_FILE is not None, \"--score_file required for --job=%s\" % JOB\n",
    "if JOB in [\"regress\"]:\n",
    "    assert SUMSTATS_FILE is not None, \"--sumstats_file required for --job=%s\" % JOB\n",
    "if JOB in [\"compute_score\", \"regress\"]:\n",
    "    assert ANNOT_FILE is not None, \"--annot_file required for --job=%s\" % JOB\n",
    "if JOB in [\"compute_ld\"]:\n",
    "    assert SNP_RANGE is not None, \"--snp_range required for --job=%s\" % JOB\n",
    "    DIC_RANGE = gdreg.util.parse_snp_range(SNP_RANGE)\n",
    "\n",
    "# Print input options\n",
    "header = gdreg.util.get_cli_head()\n",
    "header += \"Call: run_gdreg.py \\\\\\n\"\n",
    "header += \"--job %s\\\\\\n\" % JOB\n",
    "header += \"--pgen_file %s\\\\\\n\" % PGEN_FILE\n",
    "header += \"--ld_file %s\\\\\\n\" % LD_FILE\n",
    "header += \"--score_file %s\\\\\\n\" % SCORE_FILE\n",
    "header += \"--sumstats_file %s\\\\\\n\" % SUMSTATS_FILE\n",
    "header += \"--annot_file %s\\\\\\n\" % ANNOT_FILE\n",
    "header += \"--prefix_out %s\\\\\\n\" % PREFIX_OUT\n",
    "header += \"--snp_range %s\\\\\\n\" % SNP_RANGE\n",
    "header += \"--memory %d\\\\\\n\" % MEMORY\n",
    "header += \"--random_seed %d\\\\\\n\" % RANDOM_SEED\n",
    "header += \"--flag_full_ld %s\\\\\\n\" % FLAG_FULL_LD\n",
    "header += \"--flag_cross_term %s\\n\" % FLAG_CROSS_TERM\n",
    "print(header)"
   ]
  },
  {
   "cell_type": "code",
   "execution_count": 4,
   "metadata": {},
   "outputs": [
    {
     "name": "stdout",
     "output_type": "stream",
     "text": [
      "# Loading --pgen_file\n",
      "    CHR 1: 10000 samples, 4232 SNPs, 26.7% non-zeros for first 50 SNPs\n",
      "    CHR 2: 10000 samples, 4056 SNPs, 43.5% non-zeros for first 50 SNPs\n",
      "    CHR 3: 10000 samples, 4067 SNPs, 33.9% non-zeros for first 50 SNPs\n",
      "    CHR 4: 10000 samples, 4027 SNPs, 24.2% non-zeros for first 50 SNPs\n",
      "    CHR 5: 10000 samples, 4106 SNPs, 36.7% non-zeros for first 50 SNPs\n",
      "    CHR 6: 10000 samples, 4154 SNPs, 39.6% non-zeros for first 50 SNPs\n",
      "    CHR 7: 10000 samples, 4071 SNPs, 41.8% non-zeros for first 50 SNPs\n",
      "    CHR 8: 10000 samples, 3891 SNPs, 33.3% non-zeros for first 50 SNPs\n",
      "    CHR 9: 10000 samples, 4149 SNPs, 40.1% non-zeros for first 50 SNPs\n",
      "    CHR10: 10000 samples, 4129 SNPs, 40.3% non-zeros for first 50 SNPs\n",
      "    sys_time=16.0s, sys_mem=0.09GB\n"
     ]
    }
   ],
   "source": [
    "###########################################################################################\n",
    "######                                   Data Loading                                ######\n",
    "###########################################################################################\n",
    "# Load --pgen_file\n",
    "if JOB in [\"compute_ld\", \"compute_score\", \"regress\"]:\n",
    "    print(\"# Loading --pgen_file\")\n",
    "    dic_data = {}\n",
    "    if \"@\" not in PGEN_FILE:\n",
    "        temp_dic = gdreg.util.read_pgen(PGEN_FILE)\n",
    "        dic_data[temp_dic[\"pvar\"][\"CHR\"][0]] = temp_dic.copy()\n",
    "    else:\n",
    "        for CHR in range(1, 23):\n",
    "            if os.path.exists(PGEN_FILE.replace(\"@\", \"%s\" % CHR) + \".pgen\"):\n",
    "                dic_data[CHR] = gdreg.util.read_pgen(\n",
    "                    PGEN_FILE.replace(\"@\", \"%s\" % CHR)\n",
    "                )\n",
    "\n",
    "    for CHR in dic_data:\n",
    "        n_sample = dic_data[CHR][\"psam\"].shape[0]\n",
    "        n_snp = dic_data[CHR][\"pvar\"].shape[0]\n",
    "        mat_X = gdreg.util.read_geno(\n",
    "            dic_data[CHR][\"pgen\"], 0, 50, n_sample=None, n_snp=None\n",
    "        )\n",
    "        sparsity = (mat_X != 0).mean()\n",
    "        print(\n",
    "            \"    CHR%2d: %d samples, %d SNPs, %0.1f%% non-zeros for first 50 SNPs\"\n",
    "            % (CHR, n_sample, n_snp, sparsity * 100)\n",
    "        )\n",
    "    print(\"    \" + gdreg.util.get_sys_info(sys_start_time))\n",
    "\n",
    "# Load --ld_file\n",
    "if JOB in [\"compute_score\", \"regress\"]:\n",
    "    print(\"# Loading --ld_file\")\n",
    "    dic_ld = {}\n",
    "    for CHR in dic_data:\n",
    "        err_msg = \"--ld_file missing for CHR%d\" % CHR\n",
    "        assert os.path.exists(LD_FILE.replace(\"@\", \"%s\" % CHR)), err_msg\n",
    "        if LD_FILE.endswith(\".full_ld.npy\"):\n",
    "            dic_ld[CHR] = np.load(LD_FILE.replace(\"@\", \"%s\" % CHR))\n",
    "        elif LD_FILE.endswith(\".ld.npz\"):\n",
    "            dic_ld[CHR] = sp.sparse.load_npz(LD_FILE.replace(\"@\", \"%s\" % CHR))\n",
    "        err_msg = \"CHR%2d n_snp=%d, mismatch with --pgen_file\" % (\n",
    "            CHR,\n",
    "            dic_ld[CHR].shape[0],\n",
    "        )\n",
    "        assert dic_ld[CHR].shape[0] == dic_data[CHR][\"pvar\"].shape[0], err_msg\n",
    "    print(\"    LD info loaded, matching --pgen_file\")\n",
    "    print(\"    \" + gdreg.util.get_sys_info(sys_start_time))\n",
    "\n",
    "# Load --sumstats_file\n",
    "if JOB in [\"regress\"]:\n",
    "    print(\"# Loading --sumstats_file\")\n",
    "    df_sumstats = pd.read_csv(SUMSTATS_FILE, sep=\"\\t\", index_col=None)\n",
    "    print(\"    .sumstats.gz loaded, %d SNPs\" % df_sumstats.shape[0])\n",
    "    print(\"    \" + gdreg.util.get_sys_info(sys_start_time))\n",
    "\n",
    "# Load --annot_file\n",
    "if JOB in [\"compute_score\", \"regress\"]:\n",
    "    print(\"# Loading --annot_file\")\n",
    "    df_annot = None\n",
    "    pannot_list = []\n",
    "    pannot_hr_list = []\n",
    "    for annot_file in ANNOT_FILE.split(\",\"):\n",
    "        err_msg = \"--annot_file missing : '%s'\" % annot_file\n",
    "        assert os.path.exists(annot_file), err_msg\n",
    "        temp_df = gdreg.util.read_annot(annot_file)\n",
    "\n",
    "        if annot_file.endswith(\".annot.gz\"):\n",
    "            temp_df.index = temp_df[\"SNP\"]\n",
    "            if df_annot is None:\n",
    "                df_annot = temp_df.copy()\n",
    "            else:\n",
    "                col_list = [x for x in temp_df if x.startswith(\"AN:\")]\n",
    "                df_annot = df_annot.join(temp_df[col_list])\n",
    "        if annot_file.endswith(\".pannot.gz\"):\n",
    "            pannot_list.append(temp_df.copy())\n",
    "        if annot_file.endswith(\".pannot_hr.gz\"):\n",
    "            pannot_hr_list.append(temp_df.copy())\n",
    "    AN_list = [x for x in df_annot if x.startswith(\"AN:\")]\n",
    "    print(\n",
    "        \"    .annot.gz (%d SNPs and %d annots): %s\"\n",
    "        % (df_annot.shape[0], len(AN_list), \",\".join(AN_list))\n",
    "    )\n",
    "    temp_list = [\"%s (%d SNPs)\" % (x.columns[-1], x.shape[0]) for x in pannot_list]\n",
    "    print(\n",
    "        \"    .pannot.gz (%d pannots): %s\" % (len(pannot_list), \",\".join(temp_list)),\n",
    "    )\n",
    "    temp_list = [\n",
    "        \"%s (%d pairs)\" % (x.columns[-1], x.shape[0]) for x in pannot_hr_list\n",
    "    ]\n",
    "    print(\n",
    "        \"    .pannot_hr.gz (%d pannots): %s\"\n",
    "        % (len(pannot_hr_list), \",\".join(temp_list)),\n",
    "    )\n",
    "    print(\"    \" + gdreg.util.get_sys_info(sys_start_time))"
   ]
  },
  {
   "cell_type": "code",
   "execution_count": 13,
   "metadata": {},
   "outputs": [
    {
     "name": "stdout",
     "output_type": "stream",
     "text": [
      "# Running --job compute_ld\n",
      "block 0/2 sys_time=1669.6s, sys_mem=0.14GB\n",
      "# Call: gdreg.score.compute_ld\n",
      "    n_snp_tar=1000 (CHR1), n_snp_ref=1445 (CHR1), n_sample=10000\n",
      "    memory=1024MB\n",
      "    block_size_tar=1000, n_block_tar=1\n",
      "    block_size_ref=1445, n_block_ref=1\n",
      "    block_size_sample=16383, n_block_sample=1\n",
      "    Completed, time=4.0s\n",
      "block 1/2 sys_time=1673.7s, sys_mem=0.15GB\n",
      "# Call: gdreg.score.compute_ld\n",
      "    n_snp_tar=681 (CHR1), n_snp_ref=1595 (CHR1), n_sample=10000\n",
      "    memory=1024MB\n",
      "    block_size_tar=681, n_block_tar=1\n",
      "    block_size_ref=1595, n_block_ref=1\n",
      "    block_size_sample=16383, n_block_sample=1\n",
      "    Completed, time=3.0s\n",
      "    sys_time=1676.8s, sys_mem=0.14GB\n"
     ]
    }
   ],
   "source": [
    "if JOB == \"compute_ld\":\n",
    "    print(\"# Running --job compute_ld\")\n",
    "    if FLAG_FULL_LD:\n",
    "        CHR, CHR_REF = DIC_RANGE[\"chr\"], DIC_RANGE[\"chr_ref\"][0]\n",
    "        pos_tar = [CHR, 0, dic_data[CHR][\"pvar\"].shape[0]]\n",
    "        pos_ref = [CHR_REF, 0, dic_data[CHR_REF][\"pvar\"].shape[0]]\n",
    "        mat_ld = gdreg.score.compute_ld(\n",
    "            dic_data, pos_tar, pos_ref, verbose=True, memory=MEMORY\n",
    "        )\n",
    "#         np.save(PREFIX_OUT + \".c%s_r%s_fullld\" % (CHR, CHR_REF), mat_ld)\n",
    "    else:\n",
    "        CHR, START, END = DIC_RANGE[\"chr\"], DIC_RANGE[\"start\"], DIC_RANGE[\"end\"]\n",
    "        n_snp_tar, n_snp = (END - START), dic_data[CHR][\"pvar\"].shape[0]\n",
    "        v_bp = dic_data[CHR][\"pvar\"][\"BP\"].values\n",
    "\n",
    "        block_size = 1000\n",
    "        n_block = np.ceil(n_snp_tar / block_size).astype(int)\n",
    "        mat_ld_list = []\n",
    "        for i_block in range(n_block):\n",
    "            print(\n",
    "                \"block %d/%d %s\"\n",
    "                % (i_block, n_block, gdreg.util.get_sys_info(sys_start_time))\n",
    "            )\n",
    "            ind_s = START + i_block * block_size\n",
    "            ind_e = min(START + (i_block + 1) * block_size, END)\n",
    "            ind_s_ref = np.searchsorted(v_bp, v_bp[ind_s] - 5.01e6, side=\"left\")\n",
    "            ind_s_ref = max(0, ind_s_ref - 1)\n",
    "            ind_e_ref = np.searchsorted(\n",
    "                v_bp, v_bp[ind_e - 1] + 5.01e6, side=\"right\"\n",
    "            )\n",
    "            ind_e_ref = min(n_snp, ind_e_ref + 1)\n",
    "\n",
    "            pos_tar = [CHR, ind_s, ind_e]\n",
    "            pos_ref = [CHR, ind_s_ref, ind_e_ref]\n",
    "            mat_ld = gdreg.score.compute_ld(\n",
    "                dic_data,\n",
    "                pos_tar,\n",
    "                pos_ref,\n",
    "                verbose=True,\n",
    "                memory=MEMORY,\n",
    "            )\n",
    "            temp_mat = np.zeros([n_snp, ind_e - ind_s], dtype=np.float32)\n",
    "            temp_mat[ind_s_ref:ind_e_ref, :] = mat_ld\n",
    "            mat_ld_list.append(sp.sparse.csc_matrix(temp_mat))\n",
    "\n",
    "        mat_ld = sp.sparse.hstack(mat_ld_list, format=\"csc\")\n",
    "#         sp.sparse.save_npz(PREFIX_OUT + \".%s_ld\" % SNP_RANGE, mat_ld)\n",
    "    print(\"    \" + gdreg.util.get_sys_info(sys_start_time))"
   ]
  },
  {
   "cell_type": "code",
   "execution_count": 25,
   "metadata": {},
   "outputs": [
    {
     "name": "stdout",
     "output_type": "stream",
     "text": [
      "dif=0\n"
     ]
    }
   ],
   "source": [
    "mat_ld,dic_range = gdreg.util.read_ld(\n",
    "    \"/n/groups/price/martin/data_GDREG/toy_10K/gdreg_file_ld/toy_10K.c1_s0_e4232_ld.npz\"\n",
    ")\n",
    "mat_ld_ref,dic_range_ref = gdreg.util.read_ld(\n",
    "    \"/n/groups/price/martin/data_GDREG/toy_10K/gdreg_file_fullld/toy_10K.c1_r1_fullld.npy\"\n",
    ")\n",
    "print('dif=%0.4g' % np.absolute(mat_ld[mat_ld!=0] - mat_ld_ref[mat_ld.toarray()!=0]).sum())"
   ]
  },
  {
   "cell_type": "code",
   "execution_count": 24,
   "metadata": {},
   "outputs": [
    {
     "data": {
      "text/plain": [
       "0.0"
      ]
     },
     "execution_count": 24,
     "metadata": {},
     "output_type": "execute_result"
    }
   ],
   "source": []
  },
  {
   "cell_type": "code",
   "execution_count": 20,
   "metadata": {},
   "outputs": [
    {
     "data": {
      "text/plain": [
       "(4232, 4232)"
      ]
     },
     "execution_count": 20,
     "metadata": {},
     "output_type": "execute_result"
    }
   ],
   "source": [
    "mat_ld_ref.shape"
   ]
  },
  {
   "cell_type": "markdown",
   "metadata": {},
   "source": [
    "### Tests for gdreg.score.compute_ld"
   ]
  },
  {
   "cell_type": "code",
   "execution_count": 14,
   "metadata": {},
   "outputs": [
    {
     "name": "stdout",
     "output_type": "stream",
     "text": [
      "pos_tar=1,0,100, pos_ref=1,5,98\n",
      "    abs_dif=2.85e-07\n",
      "pos_tar=1,109,220, pos_ref=1,5,98\n",
      "    abs_dif=6.84e-08\n",
      "pos_tar=1,109,220, pos_ref=2,5,98\n",
      "    abs_dif=5.21e-08\n",
      "pos_tar=1,0,1400, pos_ref=10,5,98\n",
      "    abs_dif=5.21e-08\n",
      "pos_tar=2,0,1300, pos_ref=10,1279,1280\n",
      "    abs_dif=5.65e-08\n"
     ]
    }
   ],
   "source": [
    "# Correctness\n",
    "for pos_tar,pos_ref in [\n",
    "    [[1, 0, 100], [1, 5, 98]],\n",
    "    [[1, 109, 220], [1, 5, 98]],\n",
    "    [[1, 109, 220], [2, 5, 98]],\n",
    "    [[1, 0, 1400], [10, 5, 98]],\n",
    "    [[2, 0, 1300], [10, 1279, 1280]]\n",
    "]:\n",
    "    print('pos_tar=%s, pos_ref=%s' % (\n",
    "        ','.join(['%d'%x for x in pos_tar]), \n",
    "        ','.join(['%d'%x for x in pos_ref])\n",
    "    ))\n",
    "    mat_X = gdreg.util.read_geno(dic_data[pos_tar[0]][\"pgen\"], pos_tar[1], pos_tar[2])\n",
    "    mat_X = mat_X.T.astype(np.float32)\n",
    "    mat_X[mat_X == -9] = 0\n",
    "    v_maf = mat_X.mean(axis=0) * 0.5\n",
    "    mat_X = (mat_X - 2 * v_maf) / np.sqrt(2 * v_maf * (1 - v_maf))\n",
    "\n",
    "    mat_Y = gdreg.util.read_geno(dic_data[pos_ref[0]][\"pgen\"], pos_ref[1], pos_ref[2])\n",
    "    mat_Y = mat_Y.T.astype(np.float32)\n",
    "    mat_Y[mat_Y == -9] = 0\n",
    "    v_maf = mat_Y.mean(axis=0) * 0.5\n",
    "    mat_Y = (mat_Y - 2 * v_maf) / np.sqrt(2 * v_maf * (1 - v_maf))\n",
    "\n",
    "    mat_ld_gold = mat_Y.T.dot(mat_X) / 10000\n",
    "    \n",
    "    mat_ld = gdreg.score.compute_ld(dic_data, pos_tar, pos_ref, verbose=False, memory=128)\n",
    "\n",
    "    print('    abs_dif=%0.3g' % (\n",
    "        np.absolute(mat_ld_gold - mat_ld).mean()\n",
    "    ))"
   ]
  }
 ],
 "metadata": {
  "kernelspec": {
   "display_name": "Python 3",
   "language": "python",
   "name": "python3"
  },
  "language_info": {
   "codemirror_mode": {
    "name": "ipython",
    "version": 3
   },
   "file_extension": ".py",
   "mimetype": "text/x-python",
   "name": "python",
   "nbconvert_exporter": "python",
   "pygments_lexer": "ipython3",
   "version": "3.7.4"
  }
 },
 "nbformat": 4,
 "nbformat_minor": 2
}
