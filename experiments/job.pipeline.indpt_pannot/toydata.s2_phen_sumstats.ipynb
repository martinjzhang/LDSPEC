{
 "cells": [
  {
   "cell_type": "code",
   "execution_count": 1,
   "metadata": {},
   "outputs": [],
   "source": [
    "import numpy as np\n",
    "import pandas as pd\n",
    "import gdreg\n",
    "import time\n",
    "import os\n",
    "import matplotlib.pyplot as plt\n",
    "\n",
    "# autoreload\n",
    "%load_ext autoreload\n",
    "%autoreload 2"
   ]
  },
  {
   "cell_type": "code",
   "execution_count": 9,
   "metadata": {},
   "outputs": [],
   "source": [
    "# JOB = \"compute_phen\"\n",
    "# PGEN_FILE = \"/n/groups/price/martin/WES_analysis/toy_1K/chr@_v1.SPB.hg19.toy_1K\"\n",
    "# EFF_FILE = \"/n/groups/price/martin/WES_analysis/toy_1K/sanity_nd_rep0.eff.gz\"\n",
    "# PHEN_FILE = None\n",
    "# PREFIX_OUT = \"/n/groups/price/martin/WES_analysis/toy_1K/sanity_rep0\"\n",
    "# RANDOM_SEED = 0\n",
    "# MEMORY = 128"
   ]
  },
  {
   "cell_type": "code",
   "execution_count": 2,
   "metadata": {},
   "outputs": [],
   "source": [
    "JOB = \"compute_sumstats\"\n",
    "PGEN_FILE = \"/n/groups/price/martin/WES_analysis/toy_1K/chr@_v1.SPB.hg19.toy_1K\"\n",
    "EFF_FILE = None\n",
    "PHEN_FILE = \"/n/groups/price/martin/WES_analysis/toy_1K/sanity_nd_rep0.phen\"\n",
    "PREFIX_OUT = \"/n/groups/price/martin/WES_analysis/toy_1K/sanity_nd_rep0\"\n",
    "RANDOM_SEED = 0\n",
    "MEMORY = 128"
   ]
  },
  {
   "cell_type": "code",
   "execution_count": 3,
   "metadata": {},
   "outputs": [
    {
     "name": "stdout",
     "output_type": "stream",
     "text": [
      "******************************************************************************\n",
      "* Gene-level directional effect regression (GDReg)\n",
      "* Version 0.0.2\n",
      "* Martin Jinye Zhang\n",
      "* HSPH / Broad Institute\n",
      "* MIT License\n",
      "******************************************************************************\n",
      "Call: run_simulation.py \\\n",
      "--job compute_sumstats\\\n",
      "--pgen_file /n/groups/price/martin/WES_analysis/toy_1K/chr@_v1.SPB.hg19.toy_1K\\\n",
      "--eff_file None\\\n",
      "--phen_file /n/groups/price/martin/WES_analysis/toy_1K/sanity_nd_rep0.phen\\\n",
      "--prefix_out /n/groups/price/martin/WES_analysis/toy_1K/sanity_nd_rep0\\\n",
      "--memory 128\\\n",
      "--random_seed 0\n",
      "\n"
     ]
    }
   ],
   "source": [
    "sys_start_time = time.time()\n",
    "\n",
    "###########################################################################################\n",
    "######                                    Parse Options                              ######\n",
    "###########################################################################################\n",
    "\n",
    "# JOB = args.job\n",
    "# PGEN_FILE = args.pgen_file\n",
    "# EFF_FILE = args.eff_file\n",
    "# PHEN_FILE = args.phen_file\n",
    "# PREFIX_OUT = args.prefix_out\n",
    "# MEMORY = args.memory\n",
    "# RANDOM_SEED = args.random_seed\n",
    "\n",
    "# Parse and check arguments\n",
    "LEGAL_JOB_LIST = [\"compute_phen\", \"compute_sumstats\"]\n",
    "err_msg = \"# run_gdreg: --job=%s not supported\" % JOB\n",
    "assert JOB in LEGAL_JOB_LIST, err_msg\n",
    "\n",
    "if (EFF_FILE is None) & (JOB in [\"compute_phen\"]):\n",
    "    raise ValueError(\"# run_simulation.py: --eff_file required for --job=%s\" % JOB)\n",
    "if (PHEN_FILE is None) & (JOB in [\"compute_sumstats\"]):\n",
    "    raise ValueError(\"# run_simulation.py: --phen_file required for --job=%s\" % JOB)\n",
    "\n",
    "# Print input options\n",
    "header = gdreg.util.get_cli_head()\n",
    "header += \"Call: run_simulation.py \\\\\\n\"\n",
    "header += \"--job %s\\\\\\n\" % JOB\n",
    "header += \"--pgen_file %s\\\\\\n\" % PGEN_FILE\n",
    "header += \"--eff_file %s\\\\\\n\" % EFF_FILE\n",
    "header += \"--phen_file %s\\\\\\n\" % PHEN_FILE\n",
    "header += \"--prefix_out %s\\\\\\n\" % PREFIX_OUT\n",
    "header += \"--memory %d\\\\\\n\" % MEMORY\n",
    "header += \"--random_seed %d\\n\" % RANDOM_SEED\n",
    "print(header)"
   ]
  },
  {
   "cell_type": "code",
   "execution_count": 4,
   "metadata": {},
   "outputs": [
    {
     "name": "stdout",
     "output_type": "stream",
     "text": [
      "# Loading --pgen_file\n",
      "    Genotype data for 10 CHRs:\n",
      "        CHR 1 (1000 samples 1400 SNPs)\n",
      "        CHR 2 (1000 samples 1322 SNPs)\n",
      "        CHR 3 (1000 samples 1326 SNPs)\n",
      "        CHR 4 (1000 samples 1341 SNPs)\n",
      "        CHR 5 (1000 samples 1311 SNPs)\n",
      "        CHR 6 (1000 samples 1341 SNPs)\n",
      "        CHR 7 (1000 samples 1375 SNPs)\n",
      "        CHR 8 (1000 samples 1320 SNPs)\n",
      "        CHR 9 (1000 samples 1307 SNPs)\n",
      "        CHR10 (1000 samples 1280 SNPs)\n",
      "    sys_time=2.2s, sys_mem=0.097GB\n",
      "# Loading --phen_file\n",
      "    1000 samples, phen_name=TRAIT\n",
      "    sys_time=2.2s, sys_mem=0.097GB\n"
     ]
    }
   ],
   "source": [
    "###########################################################################################\n",
    "######                                   Data Loading                                ######\n",
    "###########################################################################################\n",
    "# Load genotype data\n",
    "if JOB in [\"compute_phen\", \"compute_sumstats\"]:\n",
    "    print(\"# Loading --pgen_file\")\n",
    "    dic_data = {}\n",
    "    for CHR in range(1, 23):\n",
    "        if os.path.exists(PGEN_FILE.replace(\"@\", \"%s\" % CHR) + \".pgen\"):\n",
    "            dic_data[CHR] = gdreg.util.read_pgen(PGEN_FILE.replace(\"@\", \"%s\" % CHR))\n",
    "\n",
    "    print(\"    Genotype data for %d CHRs:\" % len(dic_data))\n",
    "    for CHR in dic_data:\n",
    "        n_sample = dic_data[CHR][\"psam\"].shape[0]\n",
    "        n_snp = dic_data[CHR][\"pvar\"].shape[0]\n",
    "        print(\"        CHR%2d (%d samples %d SNPs)\" % (CHR, n_sample, n_snp))\n",
    "    print(\"    \" + gdreg.util.get_sys_info(sys_start_time))\n",
    "\n",
    "# Load EFF_FILE\n",
    "if JOB in [\"compute_phen\"]:\n",
    "    print(\"# Loading --eff_file\")\n",
    "    df_effect = pd.read_csv(EFF_FILE, sep=\"\\t\", index_col=None)\n",
    "\n",
    "    n_snp = df_effect.shape[0]\n",
    "    n_CHR = len(set(df_effect[\"CHR\"]))\n",
    "    h2g = (df_effect[\"EFF\"] ** 2).sum()\n",
    "    print(\"    %s SNPs from %d CHRs, h2g=%0.3f\" % (n_snp, n_CHR, h2g))\n",
    "    print(\"    \" + gdreg.util.get_sys_info(sys_start_time))\n",
    "\n",
    "if JOB in [\"compute_sumstats\"]:\n",
    "    print(\"# Loading --phen_file\")\n",
    "    df_phen = pd.read_csv(PHEN_FILE, sep=\"\\t\", index_col=None)\n",
    "    phen_name = df_phen.columns[2]\n",
    "\n",
    "    print(\"    %d samples, phen_name=%s\" % (df_phen.shape[0], phen_name))\n",
    "    print(\"    \" + gdreg.util.get_sys_info(sys_start_time))"
   ]
  },
  {
   "cell_type": "code",
   "execution_count": 90,
   "metadata": {},
   "outputs": [
    {
     "name": "stdout",
     "output_type": "stream",
     "text": [
      "# Running --job compute_phen\n",
      "# Call: gdreg.simulate.simulate_phen\n",
      "    SNPs: 13323 in df_effect, 13323 in dic_data, overlap=13323\n",
      "    1000/1000 samples present in all 10 CHRs\n",
      "    h2g=0.48, h2e=0.52\n",
      "    block_size=500, random_seed=0\n",
      "    Completed, time=0.2s\n",
      "    sys_time=3116.5s, sys_mem=0.17GB\n"
     ]
    }
   ],
   "source": [
    "if JOB == \"compute_phen\":\n",
    "    print(\"# Running --job compute_phen\")\n",
    "    df_phen = gdreg.simulate.simulate_phen(\n",
    "        df_effect, dic_data, block_size=500, random_seed=RANDOM_SEED, verbose=True\n",
    "    )\n",
    "#     df_phen.to_csv(PREFIX_OUT + \".phen\", sep=\"\\t\", index=False)\n",
    "    print(\"    \" + gdreg.util.get_sys_info(sys_start_time))"
   ]
  },
  {
   "cell_type": "code",
   "execution_count": 5,
   "metadata": {},
   "outputs": [
    {
     "name": "stdout",
     "output_type": "stream",
     "text": [
      "# Running --job compute_sumstats\n",
      "# Call: gdreg.simulate.compute_sumstats\n",
      "    13323 SNPs in dic_data\n",
      "    1000 samples in df_phen, 1000/1000 present in all 10 CHRs in dic_data\n",
      "    block_size=500\n",
      "    Completed, time=0.3s\n",
      "    sys_time=36.9s, sys_mem=0.099GB\n"
     ]
    }
   ],
   "source": [
    "if JOB == \"compute_sumstats\":\n",
    "    print(\"# Running --job compute_sumstats\")\n",
    "    df_sumstats = gdreg.simulate.compute_sumstats(\n",
    "        df_phen, dic_data, block_size=500, verbose=True\n",
    "    )\n",
    "#     df_sumstats.to_csv(PREFIX_OUT + \".sumstats.gz\", sep=\"\\t\", index=False)\n",
    "    print(\"    \" + gdreg.util.get_sys_info(sys_start_time))"
   ]
  },
  {
   "cell_type": "markdown",
   "metadata": {},
   "source": [
    "### Test correctness for simulate_phen"
   ]
  },
  {
   "cell_type": "code",
   "execution_count": 81,
   "metadata": {},
   "outputs": [],
   "source": [
    "dic_eff = {x:y for x,y in zip(df_effect['SNP'], df_effect['EFF'])}\n",
    "v_phen_g = np.zeros(1000)\n",
    "\n",
    "for CHR in range(1,11):\n",
    "    mat_X = gdreg.util.read_geno(dic_data[CHR][\"pgen\"], 0, dic_data[CHR][\"pvar\"].shape[0])\n",
    "    mat_X = mat_X.T.astype(np.float64)\n",
    "    mat_X[mat_X==-9] = 0\n",
    "    v_maf = mat_X.mean(axis=0) * 0.5\n",
    "    mat_X = mat_X - 2*v_maf\n",
    "    mat_X = mat_X / np.sqrt(2*v_maf*(1-v_maf))\n",
    "    v_beta = np.array([dic_eff[x] for x in dic_data[CHR][\"pvar\"]['SNP']], dtype=np.float32)\n",
    "    v_phen_g += mat_X.dot(v_beta)"
   ]
  },
  {
   "cell_type": "code",
   "execution_count": 92,
   "metadata": {},
   "outputs": [
    {
     "data": {
      "image/png": "[encoded data removed]",
      "text/plain": [
       "<Figure size 432x288 with 1 Axes>"
      ]
     },
     "metadata": {
      "needs_background": "light"
     },
     "output_type": "display_data"
    },
    {
     "data": {
      "text/plain": [
       "0.6971449928566809"
      ]
     },
     "execution_count": 92,
     "metadata": {},
     "output_type": "execute_result"
    }
   ],
   "source": [
    "plt.figure()\n",
    "plt.scatter(v_phen_g, df_phen.loc[['%s:%s'%(x,x) for x in dic_data[1]['psam']['FID']], 'TRAIT'], s=4)\n",
    "plt.show()\n",
    "np.corrcoef(v_phen_g, df_phen.loc[['%s:%s'%(x,x) for x in dic_data[1]['psam']['FID']], 'TRAIT'])[0,1]"
   ]
  },
  {
   "cell_type": "markdown",
   "metadata": {},
   "source": [
    "### Test correctness for simulate_phen\n"
   ]
  },
  {
   "cell_type": "code",
   "execution_count": 10,
   "metadata": {},
   "outputs": [],
   "source": [
    "temp_df = df_phen.copy()\n",
    "temp_df.index = temp_df['FID']\n",
    "temp_df = temp_df.loc[dic_data[1]['psam']['FID']]\n",
    "v_phen = temp_df['TRAIT'].values"
   ]
  },
  {
   "cell_type": "code",
   "execution_count": 16,
   "metadata": {},
   "outputs": [
    {
     "name": "stdout",
     "output_type": "stream",
     "text": [
      "1 1.624612961692607\n",
      "2 1.1840694698237746\n",
      "3 1.251596805076339\n",
      "4 1.2951413998015027\n",
      "5 1.508056978000138\n",
      "6 2.618206219580351\n",
      "7 1.3056692260059424\n",
      "8 1.2540686394703981\n",
      "9 1.2056809621183113\n",
      "10 1.071909862887717\n"
     ]
    }
   ],
   "source": [
    "for CHR in range(1,11):\n",
    "    mat_X = gdreg.util.read_geno(dic_data[CHR][\"pgen\"], 0, dic_data[CHR][\"pvar\"].shape[0])\n",
    "    mat_X = mat_X.T.astype(np.float64)\n",
    "    mat_X[mat_X==-9] = 0\n",
    "    v_maf = mat_X.mean(axis=0) * 0.5\n",
    "    mat_X = mat_X - 2*v_maf\n",
    "    mat_X = mat_X / np.sqrt(2*v_maf*(1-v_maf))\n",
    "    \n",
    "    v_sumstats = mat_X.T.dot(v_phen) / np.sqrt(1000)\n",
    "    print(CHR, (v_sumstats**2).mean())"
   ]
  },
  {
   "cell_type": "code",
   "execution_count": 17,
   "metadata": {},
   "outputs": [
    {
     "data": {
      "text/html": [
       "<div>\n",
       "<style scoped>\n",
       "    .dataframe tbody tr th:only-of-type {\n",
       "        vertical-align: middle;\n",
       "    }\n",
       "\n",
       "    .dataframe tbody tr th {\n",
       "        vertical-align: top;\n",
       "    }\n",
       "\n",
       "    .dataframe thead th {\n",
       "        text-align: right;\n",
       "    }\n",
       "</style>\n",
       "<table border=\"1\" class=\"dataframe\">\n",
       "  <thead>\n",
       "    <tr style=\"text-align: right;\">\n",
       "      <th></th>\n",
       "      <th>CHR</th>\n",
       "      <th>BP</th>\n",
       "      <th>SNP</th>\n",
       "      <th>REF</th>\n",
       "      <th>ALT</th>\n",
       "    </tr>\n",
       "  </thead>\n",
       "  <tbody>\n",
       "    <tr>\n",
       "      <th>0</th>\n",
       "      <td>6</td>\n",
       "      <td>292658</td>\n",
       "      <td>6:292658:T:C</td>\n",
       "      <td>T</td>\n",
       "      <td>C</td>\n",
       "    </tr>\n",
       "    <tr>\n",
       "      <th>1</th>\n",
       "      <td>6</td>\n",
       "      <td>311938</td>\n",
       "      <td>6:311938:C:T</td>\n",
       "      <td>C</td>\n",
       "      <td>T</td>\n",
       "    </tr>\n",
       "    <tr>\n",
       "      <th>2</th>\n",
       "      <td>6</td>\n",
       "      <td>312023</td>\n",
       "      <td>6:312023:C:T</td>\n",
       "      <td>C</td>\n",
       "      <td>T</td>\n",
       "    </tr>\n",
       "    <tr>\n",
       "      <th>3</th>\n",
       "      <td>6</td>\n",
       "      <td>397038</td>\n",
       "      <td>6:397038:D:17</td>\n",
       "      <td>TCTCCTGCACTCCTTTAC</td>\n",
       "      <td>T</td>\n",
       "    </tr>\n",
       "    <tr>\n",
       "      <th>4</th>\n",
       "      <td>6</td>\n",
       "      <td>397261</td>\n",
       "      <td>6:397261:G:A</td>\n",
       "      <td>G</td>\n",
       "      <td>A</td>\n",
       "    </tr>\n",
       "    <tr>\n",
       "      <th>...</th>\n",
       "      <td>...</td>\n",
       "      <td>...</td>\n",
       "      <td>...</td>\n",
       "      <td>...</td>\n",
       "      <td>...</td>\n",
       "    </tr>\n",
       "    <tr>\n",
       "      <th>1336</th>\n",
       "      <td>6</td>\n",
       "      <td>30030114</td>\n",
       "      <td>6:30062337:A:G</td>\n",
       "      <td>G</td>\n",
       "      <td>A</td>\n",
       "    </tr>\n",
       "    <tr>\n",
       "      <th>1337</th>\n",
       "      <td>6</td>\n",
       "      <td>30032495</td>\n",
       "      <td>6:30064718:A:G</td>\n",
       "      <td>A</td>\n",
       "      <td>G</td>\n",
       "    </tr>\n",
       "    <tr>\n",
       "      <th>1338</th>\n",
       "      <td>6</td>\n",
       "      <td>30032522</td>\n",
       "      <td>6:30064745:A:C</td>\n",
       "      <td>A</td>\n",
       "      <td>C</td>\n",
       "    </tr>\n",
       "    <tr>\n",
       "      <th>1339</th>\n",
       "      <td>6</td>\n",
       "      <td>30036333</td>\n",
       "      <td>6:30068556:G:C</td>\n",
       "      <td>G</td>\n",
       "      <td>C</td>\n",
       "    </tr>\n",
       "    <tr>\n",
       "      <th>1340</th>\n",
       "      <td>6</td>\n",
       "      <td>30036471</td>\n",
       "      <td>6:30068694:C:A</td>\n",
       "      <td>C</td>\n",
       "      <td>A</td>\n",
       "    </tr>\n",
       "  </tbody>\n",
       "</table>\n",
       "<p>1341 rows × 5 columns</p>\n",
       "</div>"
      ],
      "text/plain": [
       "      CHR        BP             SNP                 REF ALT\n",
       "0       6    292658    6:292658:T:C                   T   C\n",
       "1       6    311938    6:311938:C:T                   C   T\n",
       "2       6    312023    6:312023:C:T                   C   T\n",
       "3       6    397038   6:397038:D:17  TCTCCTGCACTCCTTTAC   T\n",
       "4       6    397261    6:397261:G:A                   G   A\n",
       "...   ...       ...             ...                 ...  ..\n",
       "1336    6  30030114  6:30062337:A:G                   G   A\n",
       "1337    6  30032495  6:30064718:A:G                   A   G\n",
       "1338    6  30032522  6:30064745:A:C                   A   C\n",
       "1339    6  30036333  6:30068556:G:C                   G   C\n",
       "1340    6  30036471  6:30068694:C:A                   C   A\n",
       "\n",
       "[1341 rows x 5 columns]"
      ]
     },
     "execution_count": 17,
     "metadata": {},
     "output_type": "execute_result"
    }
   ],
   "source": [
    "dic_data[6]['pvar']"
   ]
  },
  {
   "cell_type": "code",
   "execution_count": 14,
   "metadata": {},
   "outputs": [
    {
     "data": {
      "text/plain": [
       "(1400,)"
      ]
     },
     "execution_count": 14,
     "metadata": {},
     "output_type": "execute_result"
    }
   ],
   "source": [
    "v_sumstats.shape"
   ]
  },
  {
   "cell_type": "code",
   "execution_count": 15,
   "metadata": {},
   "outputs": [
    {
     "data": {
      "text/plain": [
       "Int64Index([   0,    1,    2,    3,    4,    5,    6,    7,    8,    9,\n",
       "            ...\n",
       "            1270, 1271, 1272, 1273, 1274, 1275, 1276, 1277, 1278, 1279],\n",
       "           dtype='int64', length=13323)"
      ]
     },
     "execution_count": 15,
     "metadata": {},
     "output_type": "execute_result"
    }
   ],
   "source": [
    "df_sumstats.index"
   ]
  },
  {
   "cell_type": "code",
   "execution_count": null,
   "metadata": {},
   "outputs": [],
   "source": []
  }
 ],
 "metadata": {
  "kernelspec": {
   "display_name": "Python 3",
   "language": "python",
   "name": "python3"
  },
  "language_info": {
   "codemirror_mode": {
    "name": "ipython",
    "version": 3
   },
   "file_extension": ".py",
   "mimetype": "text/x-python",
   "name": "python",
   "nbconvert_exporter": "python",
   "pygments_lexer": "ipython3",
   "version": "3.7.4"
  }
 },
 "nbformat": 4,
 "nbformat_minor": 2
}
