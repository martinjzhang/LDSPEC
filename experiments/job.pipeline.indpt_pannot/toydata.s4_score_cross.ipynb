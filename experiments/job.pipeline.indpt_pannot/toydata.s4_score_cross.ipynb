{
 "cells": [
  {
   "cell_type": "code",
   "execution_count": 1,
   "metadata": {},
   "outputs": [],
   "source": [
    "import pandas as pd\n",
    "import numpy as np\n",
    "import scipy as sp\n",
    "import time\n",
    "import os\n",
    "import argparse\n",
    "import gdreg\n",
    "import matplotlib.pyplot as plt\n",
    "\n",
    "# autoreload\n",
    "%load_ext autoreload\n",
    "%autoreload 2\n",
    "%load_ext memory_profiler\n",
    "%load_ext line_profiler"
   ]
  },
  {
   "cell_type": "code",
   "execution_count": 5,
   "metadata": {},
   "outputs": [],
   "source": [
    "JOB = \"compute_score\"\n",
    "PGEN_FILE = \"/n/groups/price/martin/WES_analysis/toy_10K/chr@_v1.SPB.hg19.toy_10K\"\n",
    "LD_FILE = \"/n/groups/price/martin/WES_analysis/toy_10K/gdreg_file_ld/toy_10K.c2_s0_e3000_ld.npz\"\n",
    "ANNOT_FILE = \"/n/groups/price/martin/WES_analysis/toy_10K/toy.annot.gz,\" + \\\n",
    "    \"/n/groups/price/martin/WES_analysis/toy_10K/toy.pannot.gz,\" + \\\n",
    "    \"/n/groups/price/martin/WES_analysis/toy_10K/toy.pannot_hr.gz\"\n",
    "PREFIX_OUT = \"/n/groups/price/martin/WES_analysis/toy_10K/res_gdreg/toy_10K\"\n",
    "\n",
    "SNP_RANGE = None\n",
    "SUMSTATS_FILE = None\n",
    "RANDOM_SEED = 0\n",
    "MEMORY = 256\n",
    "FLAG_FULL_LD = False"
   ]
  },
  {
   "cell_type": "code",
   "execution_count": 6,
   "metadata": {},
   "outputs": [
    {
     "name": "stdout",
     "output_type": "stream",
     "text": [
      "******************************************************************************\n",
      "* Gene-level directional effect regression (GDREG)\n",
      "* Version 0.0.2\n",
      "* Martin Jinye Zhang\n",
      "* HSPH / Broad Institute\n",
      "* MIT License\n",
      "******************************************************************************\n",
      "Call: run_gdreg.py \\\n",
      "--job compute_score\\\n",
      "--pgen_file /n/groups/price/martin/WES_analysis/toy_10K/chr@_v1.SPB.hg19.toy_10K\\\n",
      "--ld_file /n/groups/price/martin/WES_analysis/toy_10K/gdreg_file_ld/toy_10K.c2_s0_e3000_ld.npz\\\n",
      "--sumstats_file None\\\n",
      "--annot_file /n/groups/price/martin/WES_analysis/toy_10K/toy.annot.gz,/n/groups/price/martin/WES_analysis/toy_10K/toy.pannot.gz,/n/groups/price/martin/WES_analysis/toy_10K/toy.pannot_hr.gz\\\n",
      "--prefix_out /n/groups/price/martin/WES_analysis/toy_10K/res_gdreg/toy_10K\\\n",
      "--snp_range None\\\n",
      "--memory 256\\\n",
      "--random_seed 0\\\n",
      "--flag_full_ld False\n",
      "\n"
     ]
    }
   ],
   "source": [
    "sys_start_time = time.time()\n",
    "\n",
    "###########################################################################################\n",
    "######                                    Parse Options                              ######\n",
    "###########################################################################################\n",
    "\n",
    "# JOB = args.job\n",
    "# PGEN_FILE = args.pgen_file\n",
    "# LD_FILE = args.ld_file\n",
    "# SUMSTATS_FILE = args.sumstats_file\n",
    "# ANNOT_FILE = args.annot_file\n",
    "# PREFIX_OUT = args.prefix_out\n",
    "# MEMORY = args.memory\n",
    "# RANDOM_SEED = args.random_seed\n",
    "# SNP_RANGE = args.snp_range\n",
    "# FLAG_FULL_LD = args.flag_full_ld\n",
    "\n",
    "# Parse and check arguments\n",
    "LEGAL_JOB_LIST = [\"get_snp_block\", \"compute_ld\", \"compute_score\", \"regress\"]\n",
    "err_msg = \"# run_gdreg: --job=%s not supported\" % JOB\n",
    "assert JOB in LEGAL_JOB_LIST, err_msg\n",
    "\n",
    "if JOB in [\"compute_score\", \"regress\"]:\n",
    "    assert LD_FILE is not None, \"--ld_file required for --job=%s\" % JOB\n",
    "if JOB in [\"regress\"]:\n",
    "    assert SUMSTATS_FILE is not None, \"--sumstats_file required for --job=%s\" % JOB\n",
    "if JOB in [\"compute_score\", \"regress\"]:\n",
    "    assert ANNOT_FILE is not None, \"--annot_file required for --job=%s\" % JOB\n",
    "if JOB in [\"compute_ld\"]:\n",
    "    assert SNP_RANGE is not None, \"--snp_range required for --job=%s\" % JOB\n",
    "    DIC_RANGE = gdreg.util.parse_snp_range(SNP_RANGE)    \n",
    "\n",
    "# Print input options\n",
    "header = gdreg.util.get_cli_head()\n",
    "header += \"Call: run_gdreg.py \\\\\\n\"\n",
    "header += \"--job %s\\\\\\n\" % JOB\n",
    "header += \"--pgen_file %s\\\\\\n\" % PGEN_FILE\n",
    "header += \"--ld_file %s\\\\\\n\" % LD_FILE\n",
    "header += \"--sumstats_file %s\\\\\\n\" % SUMSTATS_FILE\n",
    "header += \"--annot_file %s\\\\\\n\" % ANNOT_FILE\n",
    "header += \"--prefix_out %s\\\\\\n\" % PREFIX_OUT\n",
    "header += \"--snp_range %s\\\\\\n\" % SNP_RANGE\n",
    "header += \"--memory %d\\\\\\n\" % MEMORY\n",
    "header += \"--random_seed %d\\\\\\n\" % RANDOM_SEED\n",
    "header += \"--flag_full_ld %s\\n\" % FLAG_FULL_LD\n",
    "print(header)"
   ]
  },
  {
   "cell_type": "code",
   "execution_count": 7,
   "metadata": {},
   "outputs": [
    {
     "name": "stdout",
     "output_type": "stream",
     "text": [
      "# Loading --pgen_file\n",
      "    CHR 1: 10000 samples, 4232 SNPs, 26.7% non-zeros for first 50 SNPs\n",
      "    CHR 2: 10000 samples, 4056 SNPs, 43.5% non-zeros for first 50 SNPs\n",
      "    CHR 3: 10000 samples, 4067 SNPs, 33.9% non-zeros for first 50 SNPs\n",
      "    CHR 4: 10000 samples, 4027 SNPs, 24.2% non-zeros for first 50 SNPs\n",
      "    CHR 5: 10000 samples, 4106 SNPs, 36.7% non-zeros for first 50 SNPs\n",
      "    CHR 6: 10000 samples, 4154 SNPs, 39.6% non-zeros for first 50 SNPs\n",
      "    CHR 7: 10000 samples, 4071 SNPs, 41.8% non-zeros for first 50 SNPs\n",
      "    CHR 8: 10000 samples, 3891 SNPs, 33.3% non-zeros for first 50 SNPs\n",
      "    CHR 9: 10000 samples, 4149 SNPs, 40.1% non-zeros for first 50 SNPs\n",
      "    CHR10: 10000 samples, 4129 SNPs, 40.3% non-zeros for first 50 SNPs\n",
      "    sys_time=3.3s, sys_mem=0.11GB\n",
      "# Loading --ld_file\n",
      "    chr=2, start=0, end=3000, chr_ref=2\n",
      "    n_snp=3000, n_snp_ref=4056\n",
      "    LD info loaded, matching --pgen_file\n",
      "    sys_time=3.7s, sys_mem=0.14GB\n",
      "# Loading --annot_file\n",
      "    .annot.gz (40882 SNPs and 4 annots): AN:CHR1t5_common,AN:CHR1t5_lf,AN:all_common,AN:all_lf\n",
      "    .pannot.gz (1 pannots): pAN:gene (40882 SNPs)\n",
      "    .pannot_hr.gz (1 pannots): pAN:proxy (121419 pairs)\n",
      "    sys_time=4.1s, sys_mem=0.16GB\n"
     ]
    }
   ],
   "source": [
    "###########################################################################################\n",
    "######                                   Data Loading                                ######\n",
    "###########################################################################################\n",
    "# Load --pgen_file\n",
    "if JOB in [\"get_snp_block\", \"compute_ld\", \"compute_score\", \"regress\"]:\n",
    "    print(\"# Loading --pgen_file\")\n",
    "    dic_data = {}\n",
    "    if \"@\" not in PGEN_FILE:\n",
    "        temp_dic = gdreg.util.read_pgen(PGEN_FILE)\n",
    "        dic_data[temp_dic[\"pvar\"][\"CHR\"][0]] = temp_dic.copy()\n",
    "    else:\n",
    "        for CHR in range(1, 23):\n",
    "            if os.path.exists(PGEN_FILE.replace(\"@\", \"%s\" % CHR) + \".pgen\"):\n",
    "                dic_data[CHR] = gdreg.util.read_pgen(\n",
    "                    PGEN_FILE.replace(\"@\", \"%s\" % CHR)\n",
    "                )\n",
    "\n",
    "    for CHR in dic_data:\n",
    "        n_sample = dic_data[CHR][\"psam\"].shape[0]\n",
    "        n_snp = dic_data[CHR][\"pvar\"].shape[0]\n",
    "        mat_X = gdreg.util.read_geno(\n",
    "            dic_data[CHR][\"pgen\"], 0, 50, n_sample=None, n_snp=None\n",
    "        )\n",
    "        sparsity = (mat_X != 0).mean()\n",
    "        print(\n",
    "            \"    CHR%2d: %d samples, %d SNPs, %0.1f%% non-zeros for first 50 SNPs\"\n",
    "            % (CHR, n_sample, n_snp, sparsity * 100)\n",
    "        )\n",
    "    print(\"    \" + gdreg.util.get_sys_info(sys_start_time))\n",
    "\n",
    "# Load --ld_file\n",
    "if JOB in [\"compute_score\", \"regress\"]:\n",
    "    print(\"# Loading --ld_file\")\n",
    "    assert os.path.exists(LD_FILE), \"--ld_file does not exist\"\n",
    "    mat_ld,dic_range = gdreg.util.read_ld(LD_FILE)\n",
    "    if dic_range['chr_ref'] is None:\n",
    "        dic_range['chr_ref'] = dic_range['chr']\n",
    "    err_msg = \"n_snp=%d, mismatch with --pgen_file\" % mat_ld.shape[0]\n",
    "    assert mat_ld.shape[0] == dic_data[dic_range['chr']][\"pvar\"].shape[0], err_msg\n",
    "    print(\"    chr=%d, start=%d, end=%d, chr_ref=%d\" % (\n",
    "        dic_range['chr'], dic_range['start'], dic_range['end'], dic_range['chr_ref']\n",
    "    ))\n",
    "    print(\"    n_snp=%d, n_snp_ref=%d\" % (mat_ld.shape[1], mat_ld.shape[0]))\n",
    "    print(\"    LD info loaded, matching --pgen_file\")\n",
    "    print(\"    \" + gdreg.util.get_sys_info(sys_start_time))\n",
    "\n",
    "# Load --sumstats_file\n",
    "if JOB in [\"regress\"]:\n",
    "    print(\"# Loading --sumstats_file\")\n",
    "    df_sumstats = pd.read_csv(SUMSTATS_FILE, sep=\"\\t\", index_col=None)\n",
    "    print(\"    .sumstats.gz loaded, %d SNPs\" % df_sumstats.shape[0])\n",
    "    print(\"    \" + gdreg.util.get_sys_info(sys_start_time))\n",
    "\n",
    "# Load --annot_file\n",
    "if JOB in [\"compute_score\", \"regress\"]:\n",
    "    print(\"# Loading --annot_file\")\n",
    "    df_annot = None\n",
    "    pannot_list = []\n",
    "    pannot_hr_list = []\n",
    "    for annot_file in ANNOT_FILE.split(\",\"):\n",
    "        err_msg = \"--annot_file missing : '%s'\" % annot_file\n",
    "        assert os.path.exists(annot_file), err_msg\n",
    "        temp_df = gdreg.util.read_annot(annot_file)\n",
    "\n",
    "        if annot_file.endswith(\".annot.gz\"):\n",
    "            temp_df.index = temp_df[\"SNP\"]\n",
    "            if df_annot is None:\n",
    "                df_annot = temp_df.copy()\n",
    "            else:\n",
    "                col_list = [x for x in temp_df if x.startswith(\"AN:\")]\n",
    "                df_annot = df_annot.join(temp_df[col_list])\n",
    "        if annot_file.endswith(\".pannot.gz\"):\n",
    "            pannot_list.append(temp_df.copy())\n",
    "        if annot_file.endswith(\".pannot_hr.gz\"):\n",
    "            pannot_hr_list.append(temp_df.copy())\n",
    "    AN_list = [x for x in df_annot if x.startswith(\"AN:\")]\n",
    "    print(\n",
    "        \"    .annot.gz (%d SNPs and %d annots): %s\"\n",
    "        % (df_annot.shape[0], len(AN_list), \",\".join(AN_list))\n",
    "    )\n",
    "    temp_list = [\"%s (%d SNPs)\" % (x.columns[-1], x.shape[0]) for x in pannot_list]\n",
    "    print(\n",
    "        \"    .pannot.gz (%d pannots): %s\" % (len(pannot_list), \",\".join(temp_list)),\n",
    "    )\n",
    "    temp_list = [\n",
    "        \"%s (%d pairs)\" % (x.columns[-1], x.shape[0]) for x in pannot_hr_list\n",
    "    ]\n",
    "    print(\n",
    "        \"    .pannot_hr.gz (%d pannots): %s\"\n",
    "        % (len(pannot_hr_list), \",\".join(temp_list)),\n",
    "    )\n",
    "    print(\"    \" + gdreg.util.get_sys_info(sys_start_time))"
   ]
  },
  {
   "cell_type": "code",
   "execution_count": 156,
   "metadata": {
    "scrolled": false
   },
   "outputs": [
    {
     "name": "stderr",
     "output_type": "stream",
     "text": [
      "/home/jz286/myenv/lib/python3.7/site-packages/scipy/sparse/_index.py:126: SparseEfficiencyWarning: Changing the sparsity structure of a csr_matrix is expensive. lil_matrix is more efficient.\n",
      "  self._set_arrayXarray(i, j, x)\n",
      "/home/jz286/myenv/lib/python3.7/site-packages/scipy/sparse/_index.py:126: SparseEfficiencyWarning: Changing the sparsity structure of a csr_matrix is expensive. lil_matrix is more efficient.\n",
      "  self._set_arrayXarray(i, j, x)\n",
      "/home/jz286/myenv/lib/python3.7/site-packages/scipy/sparse/_index.py:126: SparseEfficiencyWarning: Changing the sparsity structure of a csr_matrix is expensive. lil_matrix is more efficient.\n",
      "  self._set_arrayXarray(i, j, x)\n",
      "/home/jz286/myenv/lib/python3.7/site-packages/scipy/sparse/_index.py:126: SparseEfficiencyWarning: Changing the sparsity structure of a csr_matrix is expensive. lil_matrix is more efficient.\n",
      "  self._set_arrayXarray(i, j, x)\n",
      "/home/jz286/myenv/lib/python3.7/site-packages/scipy/sparse/_index.py:126: SparseEfficiencyWarning: Changing the sparsity structure of a csr_matrix is expensive. lil_matrix is more efficient.\n",
      "  self._set_arrayXarray(i, j, x)\n",
      "/home/jz286/myenv/lib/python3.7/site-packages/scipy/sparse/_index.py:126: SparseEfficiencyWarning: Changing the sparsity structure of a csr_matrix is expensive. lil_matrix is more efficient.\n",
      "  self._set_arrayXarray(i, j, x)\n",
      "/home/jz286/myenv/lib/python3.7/site-packages/scipy/sparse/_index.py:126: SparseEfficiencyWarning: Changing the sparsity structure of a csr_matrix is expensive. lil_matrix is more efficient.\n",
      "  self._set_arrayXarray(i, j, x)\n",
      "/home/jz286/myenv/lib/python3.7/site-packages/scipy/sparse/_index.py:126: SparseEfficiencyWarning: Changing the sparsity structure of a csr_matrix is expensive. lil_matrix is more efficient.\n",
      "  self._set_arrayXarray(i, j, x)\n",
      "/home/jz286/myenv/lib/python3.7/site-packages/scipy/sparse/_index.py:126: SparseEfficiencyWarning: Changing the sparsity structure of a csr_matrix is expensive. lil_matrix is more efficient.\n",
      "  self._set_arrayXarray(i, j, x)\n",
      "/home/jz286/myenv/lib/python3.7/site-packages/scipy/sparse/_index.py:126: SparseEfficiencyWarning: Changing the sparsity structure of a csr_matrix is expensive. lil_matrix is more efficient.\n",
      "  self._set_arrayXarray(i, j, x)\n"
     ]
    },
    {
     "name": "stdout",
     "output_type": "stream",
     "text": [
      "# Call: gdreg.score.compute_score\n",
      "    40882 SNPs from 10 CHRs: CHR1 (4232 SNPs), CHR2 (4056 SNPs), CHR3 (4067 SNPs), CHR4 (4027 SNPs), CHR5 (4106 SNPs), CHR6 (4154 SNPs), CHR7 (4071 SNPs), CHR8 (3891 SNPs), CHR9 (4149 SNPs), CHR10 (4129 SNPs)\n",
      "    Range: chr=2, start=0, end=3000 \n",
      "    Single-SNP annots : AN:CHR1t5_common, AN:CHR1t5_lf, AN:all_common, AN:all_lf\n",
      "    SNP-pair annots : pAN:gene (122500 pairs, avgr=0.056), pAN:proxy (hr; 242838 pairs, avgr=0.278)\n",
      "    win_size=10.0MB, memory=512MB\n",
      "    Completed, time=3.5s\n"
     ]
    }
   ],
   "source": [
    "if JOB == \"compute_score\":\n",
    "    CHR, START, END = dic_range[\"chr\"], dic_range[\"start\"], dic_range[\"end\"]\n",
    "    n_snp = dic_data[CHR][\"pvar\"].shape[0]\n",
    "\n",
    "    # Zero pad for mat_ld\n",
    "    mat_ld_list = []\n",
    "    if START > 0:\n",
    "        mat_ld_list.append(\n",
    "            sp.sparse.csc_matrix(\n",
    "                ([0], ([0], [0])), shape=[n_snp, START], dtype=np.float32\n",
    "            )\n",
    "        )\n",
    "    mat_ld_list.append(mat_ld)\n",
    "    if END < n_snp:\n",
    "        mat_ld_list.append(\n",
    "            sp.sparse.csc_matrix(\n",
    "                ([0], ([0], [0])), shape=[n_snp, n_snp - END], dtype=np.float32\n",
    "            )\n",
    "        )\n",
    "    dic_ld = {CHR: sp.sparse.hstack(mat_ld_list, format=\"csc\")}\n",
    "    snp_range = (dic_range[\"chr\"], dic_range[\"start\"], dic_range[\"end\"])\n",
    "    \n",
    "    df_score = gdreg.score.compute_score(\n",
    "        dic_data, \n",
    "        dic_ld,\n",
    "        df_annot,\n",
    "        pannot_list,\n",
    "        pannot_hr_list,\n",
    "        cross_term = True,\n",
    "        verbose = True,\n",
    "        win_size = 1e7,\n",
    "        snp_range = snp_range,\n",
    "    )\n",
    "    \n",
    "#     df_score.to_csv(\n",
    "#         PREFIX_OUT + \".c%d_s%d_e%d_score.tsv.gz\" % (CHR, START, END), sep='\\t', index=False, compression='gzip'\n",
    "#     )"
   ]
  },
  {
   "cell_type": "markdown",
   "metadata": {},
   "source": [
    "### Test cross term"
   ]
  },
  {
   "cell_type": "code",
   "execution_count": 157,
   "metadata": {},
   "outputs": [],
   "source": [
    "# Read in all LD matrices \n",
    "dic_ld_full = {}\n",
    "CHR,START,END = 2,0,3000\n",
    "temp_path = \"/n/groups/price/martin/WES_analysis/toy_10K/gdreg_file_fullld\"\n",
    "for CHR_REF in range(1,11):\n",
    "    dic_ld_full[(CHR,CHR_REF)] = np.load(\n",
    "        temp_path + '/toy_10K.c%d_r%d_fullld.npy' % (CHR, CHR_REF)\n",
    "    )\n",
    "\n",
    "df_score.index = df_score['SNP']\n",
    "pair_list = [x for x in df_score['SNP'] if \"|\" in x]\n",
    "dic_ind = {x:i for i,x in enumerate(dic_data[CHR]['pvar']['SNP'])}\n",
    "ind_pair = [(dic_ind[x.split(\"|\")[0]], dic_ind[x.split(\"|\")[1]]) for x in pair_list]"
   ]
  },
  {
   "cell_type": "code",
   "execution_count": 158,
   "metadata": {},
   "outputs": [
    {
     "name": "stdout",
     "output_type": "stream",
     "text": [
      "abs_dif=0\n"
     ]
    }
   ],
   "source": [
    "# E score for CHR\n",
    "row_list = [x[0] for x in ind_pair]\n",
    "col_list = [x[1] for x in ind_pair]\n",
    "v_score = dic_ld_full[(CHR,CHR)][(row_list, col_list)]\n",
    "print('abs_dif=%0.3g' % np.absolute(v_score - df_score.loc[pair_list, 'E'].values).sum())"
   ]
  },
  {
   "cell_type": "code",
   "execution_count": 159,
   "metadata": {
    "scrolled": true
   },
   "outputs": [
    {
     "data": {
      "image/png": "[encoded data removed]",
      "text/plain": [
       "<Figure size 360x360 with 1 Axes>"
      ]
     },
     "metadata": {
      "needs_background": "light"
     },
     "output_type": "display_data"
    },
    {
     "data": {
      "image/png": "[encoded data removed]",
      "text/plain": [
       "<Figure size 360x360 with 1 Axes>"
      ]
     },
     "metadata": {
      "needs_background": "light"
     },
     "output_type": "display_data"
    },
    {
     "data": {
      "image/png": "[encoded data removed]",
      "text/plain": [
       "<Figure size 360x360 with 1 Axes>"
      ]
     },
     "metadata": {
      "needs_background": "light"
     },
     "output_type": "display_data"
    },
    {
     "data": {
      "image/png": "[encoded data removed]",
      "text/plain": [
       "<Figure size 360x360 with 1 Axes>"
      ]
     },
     "metadata": {
      "needs_background": "light"
     },
     "output_type": "display_data"
    }
   ],
   "source": [
    "# LD score for CHR\n",
    "mat_ld_chr = np.concatenate([dic_ld_full[(CHR,x)] for x in range(1,11)], axis=0)\n",
    "for AN in ['AN:CHR1t5_common', 'AN:CHR1t5_lf', 'AN:all_common', 'AN:all_lf']:\n",
    "    v_annot = df_annot[AN].values\n",
    "    v_ld_score = []\n",
    "    for i,j in ind_pair:\n",
    "        v_ld_score.append((mat_ld_chr[:,i] * mat_ld_chr[:,j] * v_annot).sum())\n",
    "    v_ld_score = np.array(v_ld_score)\n",
    "    \n",
    "    plt.figure(figsize=[5,5])\n",
    "    plt.scatter(v_ld_score, df_score.loc[pair_list, 'LD:%s'%AN], s=4)\n",
    "    x_max = max(v_ld_score.max(), df_score.loc[pair_list, 'LD:%s'%AN].max())\n",
    "    plt.plot([0, x_max], [0, x_max], '--', color='k', linewidth=1)\n",
    "    plt.plot([0, x_max], [0, 0], '--', color='k', linewidth=1)\n",
    "    plt.plot([0, 0], [0, x_max], '--', color='k', linewidth=1)\n",
    "    plt.title(AN)\n",
    "    plt.xlabel('True')\n",
    "    plt.ylabel('Estimated')\n",
    "    plt.show()"
   ]
  },
  {
   "cell_type": "code",
   "execution_count": 160,
   "metadata": {},
   "outputs": [
    {
     "data": {
      "image/png": "[encoded data removed]",
      "text/plain": [
       "<Figure size 360x360 with 1 Axes>"
      ]
     },
     "metadata": {
      "needs_background": "light"
     },
     "output_type": "display_data"
    }
   ],
   "source": [
    "# DLD score using .pannot for CHR1\n",
    "pAN = 'pAN:gene'\n",
    "mat_ld_chr = np.concatenate([dic_ld_full[(CHR,x)] for x in range(1,11)], axis=0)\n",
    "mat_S = gdreg.util.pannot_to_csr(pannot_list[0][pAN])\n",
    "mat_G = mat_S.dot(mat_S.T).toarray()\n",
    "np.fill_diagonal(mat_G, 0)\n",
    "mat_G = sp.sparse.csr_matrix(mat_G, dtype=bool)\n",
    "\n",
    "v_dld_score = []\n",
    "for i,j in ind_pair:\n",
    "    v_dld_score.append((mat_G.dot(mat_ld_chr[:,i]) * mat_ld_chr[:,j]).sum())\n",
    "v_dld_score = np.array(v_dld_score)\n",
    "\n",
    "plt.figure(figsize=[5,5])\n",
    "plt.scatter(v_dld_score, df_score.loc[pair_list, 'DLD:%s' % pAN], s=4)\n",
    "x_max = max(v_dld_score.max(), df_score.loc[pair_list, 'DLD:%s' % pAN].max())\n",
    "plt.plot([0, x_max], [0, x_max], '--', color='k', linewidth=1)\n",
    "plt.plot([0, x_max], [0, 0], '--', color='k', linewidth=1)\n",
    "plt.plot([0, 0], [0, x_max], '--', color='k', linewidth=1)\n",
    "plt.xlabel('True')\n",
    "plt.ylabel('Estimated')\n",
    "plt.show()"
   ]
  },
  {
   "cell_type": "code",
   "execution_count": 161,
   "metadata": {},
   "outputs": [
    {
     "data": {
      "image/png": "[encoded data removed]",
      "text/plain": [
       "<Figure size 360x360 with 1 Axes>"
      ]
     },
     "metadata": {
      "needs_background": "light"
     },
     "output_type": "display_data"
    }
   ],
   "source": [
    "# DLD score using .pannot_hr for CHR1\n",
    "pAN = 'pAN:proxy'\n",
    "mat_ld_chr = np.concatenate([dic_ld_full[(CHR,x)] for x in range(1,11)], axis=0)\n",
    "snp_pair_list  = [(x, y) for x, y in zip(pannot_hr_list[0][\"SNP\"], pannot_hr_list[0][\"pSNP\"])]\n",
    "mat_G = gdreg.util.pannot_hr_to_csr(df_annot[\"SNP\"], snp_pair_list)\n",
    "\n",
    "v_dld_score = []\n",
    "for i,j in ind_pair:\n",
    "    v_dld_score.append((mat_G.dot(mat_ld_chr[:,i]) * mat_ld_chr[:,j]).sum())\n",
    "v_dld_score = np.array(v_dld_score)\n",
    "\n",
    "plt.figure(figsize=[5,5])\n",
    "plt.scatter(v_dld_score, df_score.loc[pair_list, 'DLD:%s' % pAN], s=4)\n",
    "x_max = max(v_dld_score.max(), df_score.loc[pair_list, 'DLD:%s' % pAN].max())\n",
    "plt.plot([0, x_max], [0, x_max], '--', color='k', linewidth=1)\n",
    "plt.plot([0, x_max], [0, 0], '--', color='k', linewidth=1)\n",
    "plt.plot([0, 0], [0, x_max], '--', color='k', linewidth=1)\n",
    "plt.xlabel('True')\n",
    "plt.ylabel('Estimated')\n",
    "plt.show()"
   ]
  },
  {
   "cell_type": "code",
   "execution_count": null,
   "metadata": {},
   "outputs": [],
   "source": []
  }
 ],
 "metadata": {
  "kernelspec": {
   "display_name": "Python 3",
   "language": "python",
   "name": "python3"
  },
  "language_info": {
   "codemirror_mode": {
    "name": "ipython",
    "version": 3
   },
   "file_extension": ".py",
   "mimetype": "text/x-python",
   "name": "python",
   "nbconvert_exporter": "python",
   "pygments_lexer": "ipython3",
   "version": "3.7.4"
  }
 },
 "nbformat": 4,
 "nbformat_minor": 2
}
