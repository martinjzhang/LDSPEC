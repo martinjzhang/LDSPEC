{
 "cells": [
  {
   "cell_type": "code",
   "execution_count": 1,
   "metadata": {},
   "outputs": [],
   "source": [
    "import numpy as np\n",
    "import pandas as pd\n",
    "from scipy.stats import chi2\n",
    "import os\n",
    "import matplotlib.pyplot as plt"
   ]
  },
  {
   "cell_type": "code",
   "execution_count": 7,
   "metadata": {},
   "outputs": [
    {
     "name": "stdout",
     "output_type": "stream",
     "text": [
      "n_trait=70\n",
      "n_trait_indpt=29\n"
     ]
    }
   ],
   "source": [
    "# DF_TRAIT, DF_ANNOT, DF_PANNOT\n",
    "DF_TRAIT = pd.read_csv('/n/groups/price/martin/LDSPEC_data/results/tables/trait_info.tsv', sep='\\t')\n",
    "DF_TRAIT.index = DF_TRAIT['Trait_Identifier']\n",
    "TRAIT_LIST = list(DF_TRAIT.index)\n",
    "TRAIT_LIST_INDPT = list(DF_TRAIT.index[DF_TRAIT['Indpt']])\n",
    "print(\"n_trait=%d\" % len(TRAIT_LIST))\n",
    "print(\"n_trait_indpt=%d\" % len(TRAIT_LIST_INDPT))\n",
    "\n",
    "SUMSTATS_FILE='/n/groups/price/martin/LDSPEC_data/UKBimp_337K_MAF001_chimp/sumstats/@.nomhc.sumstats.gz'\n",
    "\n",
    "# afreq file \n",
    "FREQ_FILE = '/n/groups/price/martin/LDSPEC_data/UKBimp_337K_MAF001_chimp/imp_geno_chimp/'\\\n",
    "    'ukb_imp_chr@_v3_chimp.afreq'\n",
    "dic_freq = {}\n",
    "for CHR in range(1,23):\n",
    "    temp_df = pd.read_csv(FREQ_FILE.replace('@', '%d'%CHR), sep='\\t')\n",
    "    temp_dic = {x:y for x,y in zip(temp_df['ID'], temp_df['ALT_FREQS'])}\n",
    "    dic_freq.update(temp_dic)\n",
    "    \n",
    "# df_snp : REF:REF_Chimp, ALT: derived\n",
    "PVAR_FILE = '/n/groups/price/martin/LDSPEC_data/UKBimp_337K_MAF001_chimp/imp_geno_chimp/'\\\n",
    "    'ukb_imp_chr@_v3_chimp.pvar'\n",
    "df_snp = []\n",
    "for CHR in range(1,23):\n",
    "    df_snp.append(pd.read_csv(PVAR_FILE.replace('@', '%d'%CHR), sep='\\t'))\n",
    "df_snp = pd.concat(df_snp, axis=0)"
   ]
  },
  {
   "cell_type": "markdown",
   "metadata": {},
   "source": [
    "### Update sumstats "
   ]
  },
  {
   "cell_type": "code",
   "execution_count": 27,
   "metadata": {},
   "outputs": [
    {
     "name": "stdout",
     "output_type": "stream",
     "text": [
      "biochemistry_AlkalinePhosphatase\n",
      "biochemistry_AspartateAminotransferase\n",
      "biochemistry_Cholesterol\n",
      "biochemistry_Creatinine\n",
      "biochemistry_IGF1\n",
      "biochemistry_Phosphate\n",
      "biochemistry_TotalBilirubin\n",
      "biochemistry_TotalProtein\n",
      "biochemistry_VitaminD\n",
      "blood_PLATELET_COUNT\n",
      "blood_RBC_DISTRIB_WIDTH\n",
      "blood_RED_COUNT\n",
      "blood_WHITE_COUNT\n",
      "bmd_HEEL_TSCOREz\n",
      "body_BALDING1\n",
      "body_BMIz\n",
      "body_HEIGHTz\n",
      "body_WHRadjBMIz\n",
      "bp_DIASTOLICadjMEDz\n",
      "cov_EDU_YEARS\n",
      "disease_ALLERGY_ECZEMA_DIAGNOSED\n",
      "disease_HYPOTHYROIDISM_SELF_REP\n",
      "lung_FEV1FVCzSMOKE\n",
      "lung_FVCzSMOKE\n",
      "mental_NEUROTICISM\n",
      "other_MORNINGPERSON\n",
      "repro_MENARCHE_AGE\n",
      "repro_MENOPAUSE_AGE\n",
      "repro_NumberChildrenEverBorn_Pooled\n"
     ]
    }
   ],
   "source": [
    "OUT_PATH='/n/groups/price/martin/LDSPEC_data/res_cojo_rv1/sumstats'\n",
    "for trait in TRAIT_LIST_INDPT:\n",
    "    print(trait)\n",
    "    df_sumstats = pd.read_csv(SUMSTATS_FILE.replace('@', trait), sep=\"\\t\", index_col=None)\n",
    "    df_sumstats['freq'] = [dic_freq[x] for x in df_sumstats['SNP']]\n",
    "    df_sumstats['se'] = 1 / np.sqrt(2 * df_sumstats['N'] * df_sumstats['freq'] * (1-df_sumstats['freq']))\n",
    "    df_sumstats['b'] = df_sumstats['Z'] * df_sumstats['se']\n",
    "    df_sumstats['p'] = chi2.sf(df_sumstats['Z']**2, df=1)  \n",
    "    df_sumstats = df_sumstats[['SNP', 'A1', 'A2', 'freq', 'b', 'se', 'p', 'N', 'Z']]\n",
    "    df_sumstats.to_csv('%s/%s.sumstats'%(OUT_PATH,trait), sep='\\t', index=False)"
   ]
  },
  {
   "cell_type": "code",
   "execution_count": 18,
   "metadata": {
    "scrolled": true
   },
   "outputs": [
    {
     "data": {
      "image/png": "[encoded data removed]",
      "text/plain": [
       "<Figure size 432x288 with 1 Axes>"
      ]
     },
     "metadata": {
      "needs_background": "light"
     },
     "output_type": "display_data"
    },
    {
     "data": {
      "image/png": "[encoded data removed]",
      "text/plain": [
       "<Figure size 432x288 with 1 Axes>"
      ]
     },
     "metadata": {
      "needs_background": "light"
     },
     "output_type": "display_data"
    },
    {
     "ename": "TypeError",
     "evalue": "loop of ufunc does not support argument 0 of type float which has no callable log10 method",
     "output_type": "error",
     "traceback": [
      "\u001b[0;31m---------------------------------------------------------------------------\u001b[0m",
      "\u001b[0;31mAttributeError\u001b[0m                            Traceback (most recent call last)",
      "\u001b[0;31mAttributeError\u001b[0m: 'float' object has no attribute 'log10'",
      "\nThe above exception was the direct cause of the following exception:\n",
      "\u001b[0;31mTypeError\u001b[0m                                 Traceback (most recent call last)",
      "\u001b[0;32m<ipython-input-18-ae06b674aec6>\u001b[0m in \u001b[0;36m<module>\u001b[0;34m\u001b[0m\n\u001b[1;32m     11\u001b[0m     \u001b[0;32mif\u001b[0m \u001b[0mterm1\u001b[0m \u001b[0;34m==\u001b[0m \u001b[0;34m'p'\u001b[0m\u001b[0;34m:\u001b[0m\u001b[0;34m\u001b[0m\u001b[0;34m\u001b[0m\u001b[0m\n\u001b[1;32m     12\u001b[0m         \u001b[0mdf_plot\u001b[0m\u001b[0;34m[\u001b[0m\u001b[0;34m'term1'\u001b[0m\u001b[0;34m]\u001b[0m \u001b[0;34m=\u001b[0m \u001b[0;34m-\u001b[0m\u001b[0mnp\u001b[0m\u001b[0;34m.\u001b[0m\u001b[0mlog10\u001b[0m\u001b[0;34m(\u001b[0m\u001b[0mdf_plot\u001b[0m\u001b[0;34m[\u001b[0m\u001b[0;34m'term1'\u001b[0m\u001b[0;34m]\u001b[0m\u001b[0;34m)\u001b[0m\u001b[0;34m\u001b[0m\u001b[0;34m\u001b[0m\u001b[0m\n\u001b[0;32m---> 13\u001b[0;31m         \u001b[0mdf_plot\u001b[0m\u001b[0;34m[\u001b[0m\u001b[0;34m'term2'\u001b[0m\u001b[0;34m]\u001b[0m \u001b[0;34m=\u001b[0m \u001b[0;34m-\u001b[0m\u001b[0mnp\u001b[0m\u001b[0;34m.\u001b[0m\u001b[0mlog10\u001b[0m\u001b[0;34m(\u001b[0m\u001b[0mdf_plot\u001b[0m\u001b[0;34m[\u001b[0m\u001b[0;34m'term2'\u001b[0m\u001b[0;34m]\u001b[0m\u001b[0;34m)\u001b[0m\u001b[0;34m\u001b[0m\u001b[0;34m\u001b[0m\u001b[0m\n\u001b[0m\u001b[1;32m     14\u001b[0m \u001b[0;34m\u001b[0m\u001b[0m\n\u001b[1;32m     15\u001b[0m     \u001b[0mplt\u001b[0m\u001b[0;34m.\u001b[0m\u001b[0mfigure\u001b[0m\u001b[0;34m(\u001b[0m\u001b[0;34m)\u001b[0m\u001b[0;34m\u001b[0m\u001b[0;34m\u001b[0m\u001b[0m\n",
      "\u001b[0;32m~/myenv/lib/python3.7/site-packages/pandas/core/series.py\u001b[0m in \u001b[0;36m__array_ufunc__\u001b[0;34m(self, ufunc, method, *inputs, **kwargs)\u001b[0m\n\u001b[1;32m    724\u001b[0m \u001b[0;34m\u001b[0m\u001b[0m\n\u001b[1;32m    725\u001b[0m         \u001b[0minputs\u001b[0m \u001b[0;34m=\u001b[0m \u001b[0mtuple\u001b[0m\u001b[0;34m(\u001b[0m\u001b[0mextract_array\u001b[0m\u001b[0;34m(\u001b[0m\u001b[0mx\u001b[0m\u001b[0;34m,\u001b[0m \u001b[0mextract_numpy\u001b[0m\u001b[0;34m=\u001b[0m\u001b[0;32mTrue\u001b[0m\u001b[0;34m)\u001b[0m \u001b[0;32mfor\u001b[0m \u001b[0mx\u001b[0m \u001b[0;32min\u001b[0m \u001b[0minputs\u001b[0m\u001b[0;34m)\u001b[0m\u001b[0;34m\u001b[0m\u001b[0;34m\u001b[0m\u001b[0m\n\u001b[0;32m--> 726\u001b[0;31m         \u001b[0mresult\u001b[0m \u001b[0;34m=\u001b[0m \u001b[0mgetattr\u001b[0m\u001b[0;34m(\u001b[0m\u001b[0mufunc\u001b[0m\u001b[0;34m,\u001b[0m \u001b[0mmethod\u001b[0m\u001b[0;34m)\u001b[0m\u001b[0;34m(\u001b[0m\u001b[0;34m*\u001b[0m\u001b[0minputs\u001b[0m\u001b[0;34m,\u001b[0m \u001b[0;34m**\u001b[0m\u001b[0mkwargs\u001b[0m\u001b[0;34m)\u001b[0m\u001b[0;34m\u001b[0m\u001b[0;34m\u001b[0m\u001b[0m\n\u001b[0m\u001b[1;32m    727\u001b[0m \u001b[0;34m\u001b[0m\u001b[0m\n\u001b[1;32m    728\u001b[0m         \u001b[0mname\u001b[0m \u001b[0;34m=\u001b[0m \u001b[0mnames\u001b[0m\u001b[0;34m[\u001b[0m\u001b[0;36m0\u001b[0m\u001b[0;34m]\u001b[0m \u001b[0;32mif\u001b[0m \u001b[0mlen\u001b[0m\u001b[0;34m(\u001b[0m\u001b[0mset\u001b[0m\u001b[0;34m(\u001b[0m\u001b[0mnames\u001b[0m\u001b[0;34m)\u001b[0m\u001b[0;34m)\u001b[0m \u001b[0;34m==\u001b[0m \u001b[0;36m1\u001b[0m \u001b[0;32melse\u001b[0m \u001b[0;32mNone\u001b[0m\u001b[0;34m\u001b[0m\u001b[0;34m\u001b[0m\u001b[0m\n",
      "\u001b[0;31mTypeError\u001b[0m: loop of ufunc does not support argument 0 of type float which has no callable log10 method"
     ]
    }
   ],
   "source": [
    "# # Compare with previous sumstats \n",
    "# df_sumstats_ref = pd.read_csv(\n",
    "#     '/n/groups/price/martin/gene_dir_effect/sumstats_lipids/'\n",
    "#     'bolt_460K_selfRepWhite.biochemistry_AlkalinePhosphatase.sumstats', sep='\\t',\n",
    "# )\n",
    "\n",
    "# snp_list = list(set(df_sumstats['SNP']) & set(df_sumstats_ref['SNP']))\n",
    "# snp_list = np.random.choice(snp_list, size=10000, replace=False)\n",
    "\n",
    "# for term1,term2 in [['b', 'BETA'], ['se', 'SE'], ['p', 'P_BOLT_LMM']]:\n",
    "#     df_plot = pd.DataFrame(index=snp_list, columns=['term1', 'term2'], dtype=float)\n",
    "#     temp_dic = {x:y for x,y in zip(df_sumstats['SNP'], df_sumstats[term1])}\n",
    "#     df_plot['term1'] = [temp_dic[x] for x in df_plot.index]\n",
    "#     temp_dic = {x:y for x,y in zip(df_sumstats_ref['SNP'], df_sumstats_ref[term2])}\n",
    "#     df_plot['term2'] = [temp_dic[x] for x in df_plot.index]\n",
    "#     df_plot['term2'] = df_plot['term2'].astype(float)\n",
    "    \n",
    "#     if term1 == 'p':\n",
    "#         df_plot['term1'] = -np.log10(df_plot['term1'])\n",
    "#         df_plot['term2'] = -np.log10(df_plot['term2'])\n",
    "        \n",
    "#     plt.figure()\n",
    "#     plt.scatter(df_plot['term1'], df_plot['term2'], s=4)\n",
    "#     plt.title(term1)\n",
    "#     plt.show()"
   ]
  }
 ],
 "metadata": {
  "kernelspec": {
   "display_name": "Python 3",
   "language": "python",
   "name": "python3"
  },
  "language_info": {
   "codemirror_mode": {
    "name": "ipython",
    "version": 3
   },
   "file_extension": ".py",
   "mimetype": "text/x-python",
   "name": "python",
   "nbconvert_exporter": "python",
   "pygments_lexer": "ipython3",
   "version": "3.7.4"
  }
 },
 "nbformat": 4,
 "nbformat_minor": 2
}
