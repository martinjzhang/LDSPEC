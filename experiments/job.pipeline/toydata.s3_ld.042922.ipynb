{
 "cells": [
  {
   "cell_type": "code",
   "execution_count": 1,
   "metadata": {},
   "outputs": [],
   "source": [
    "import pandas as pd\n",
    "import numpy as np\n",
    "import time\n",
    "import os\n",
    "import argparse\n",
    "import gdreg\n",
    "import matplotlib.pyplot as plt\n",
    "\n",
    "# autoreload\n",
    "%load_ext autoreload\n",
    "%autoreload 2\n",
    "%load_ext memory_profiler"
   ]
  },
  {
   "cell_type": "code",
   "execution_count": 2,
   "metadata": {},
   "outputs": [],
   "source": [
    "JOB = \"compute_ld\"\n",
    "PGEN_FILE = \"/n/groups/price/martin/WES_analysis/toy_1K/chr@_v1.SPB.hg19.toy_1K\"\n",
    "PREFIX_OUT = \"/n/groups/price/martin/WES_analysis/toy_1K/results/toy_1K\"\n",
    "RANDOM_SEED = 0\n",
    "MEMORY = 32\n",
    "SNP_RANGE = gdreg.util.parse_snp_range(\n",
    "        'chr_tar=1|start_ind=0|end_ind=500|chr_ref=20,21'\n",
    "    )"
   ]
  },
  {
   "cell_type": "code",
   "execution_count": 3,
   "metadata": {},
   "outputs": [
    {
     "name": "stdout",
     "output_type": "stream",
     "text": [
      "******************************************************************************\n",
      "* Gene-level directional effect regression (GDReg)\n",
      "* Version 0.0.2\n",
      "* Martin Jinye Zhang\n",
      "* HSPH / Broad Institute\n",
      "* MIT License\n",
      "******************************************************************************\n",
      "Call: run_simulation.py \\\n",
      "--job compute_ld\\\n",
      "--pgen_file /n/groups/price/martin/WES_analysis/toy_1K/chr@_v1.SPB.hg19.toy_1K\\\n",
      "--memory 32\\\n",
      "--random_seed 0\\\n",
      "--snp_range 1, 0, 500, [20, 21]\\\n",
      "--prefix_out /n/groups/price/martin/WES_analysis/toy_1K/results/toy_1K\n",
      "\n"
     ]
    }
   ],
   "source": [
    "sys_start_time = time.time()\n",
    "\n",
    "###########################################################################################\n",
    "######                                    Parse Options                              ######\n",
    "###########################################################################################\n",
    "\n",
    "# JOB = args.job\n",
    "# PGEN_FILE = args.pgen_file\n",
    "# PREFIX_OUT = args.prefix_out\n",
    "# MEMORY = args.memory\n",
    "# RANDOM_SEED = args.random_seed\n",
    "# SNP_RANGE = gdreg.util.parse_snp_range(args.snp_range)\n",
    "\n",
    "# Check if the options are legal\n",
    "LEGAL_JOB_LIST = [\n",
    "    \"compute_ld\",\n",
    "]\n",
    "err_msg = \"# run_gdreg: --job=%s not supported\" % JOB\n",
    "assert JOB in LEGAL_JOB_LIST, err_msg\n",
    "\n",
    "if (SNP_RANGE is None) & (JOB in [\"compute_ld\"]):\n",
    "    raise ValueError(\"# run_gdreg.py: --snp_range required for --job=%s\" % JOB)\n",
    "\n",
    "# Print input options\n",
    "header = gdreg.util.get_cli_head()\n",
    "header += \"Call: run_simulation.py \\\\\\n\"\n",
    "header += \"--job %s\\\\\\n\" % JOB\n",
    "header += \"--pgen_file %s\\\\\\n\" % PGEN_FILE\n",
    "header += \"--memory %d\\\\\\n\" % MEMORY\n",
    "header += \"--random_seed %d\\\\\\n\" % RANDOM_SEED\n",
    "header += \"--snp_range %s\\\\\\n\" % ', '.join(['%s'%x for x in SNP_RANGE])\n",
    "header += \"--prefix_out %s\\n\" % PREFIX_OUT\n",
    "print(header)"
   ]
  },
  {
   "cell_type": "code",
   "execution_count": 4,
   "metadata": {},
   "outputs": [
    {
     "name": "stdout",
     "output_type": "stream",
     "text": [
      "# Loading --pgen_file\n",
      "    Genotype data for 10 CHRs:\n",
      "        CHR 1 (1000 samples 1400 SNPs)\n",
      "        CHR 2 (1000 samples 1322 SNPs)\n",
      "        CHR 3 (1000 samples 1326 SNPs)\n",
      "        CHR 4 (1000 samples 1341 SNPs)\n",
      "        CHR 5 (1000 samples 1311 SNPs)\n",
      "        CHR 6 (1000 samples 1341 SNPs)\n",
      "        CHR 7 (1000 samples 1375 SNPs)\n",
      "        CHR 8 (1000 samples 1320 SNPs)\n",
      "        CHR 9 (1000 samples 1307 SNPs)\n",
      "        CHR10 (1000 samples 1280 SNPs)\n",
      "    sys_time=0.2s, sys_mem=0.097GB\n"
     ]
    }
   ],
   "source": [
    "###########################################################################################\n",
    "######                                   Data Loading                                ######\n",
    "###########################################################################################\n",
    "# Load genotype data\n",
    "if JOB in [\"compute_ld\"]:\n",
    "    print(\"# Loading --pgen_file\")\n",
    "    dic_data = {}\n",
    "    for CHR in range(1, 23):\n",
    "        if os.path.exists(PGEN_FILE.replace(\"@\", \"%s\" % CHR) + \".pgen\"):\n",
    "            dic_data[CHR] = gdreg.util.read_pgen(PGEN_FILE.replace(\"@\", \"%s\" % CHR))\n",
    "\n",
    "    print(\"    Genotype data for %d CHRs:\" % len(dic_data))\n",
    "    for CHR in dic_data:\n",
    "        n_sample = dic_data[CHR][\"psam\"].shape[0]\n",
    "        n_snp = dic_data[CHR][\"pvar\"].shape[0]\n",
    "        print(\"        CHR%2d (%d samples %d SNPs)\" % (CHR, n_sample, n_snp))\n",
    "    print(\"    \" + gdreg.util.get_sys_info(sys_start_time))"
   ]
  },
  {
   "cell_type": "code",
   "execution_count": 86,
   "metadata": {},
   "outputs": [
    {
     "name": "stdout",
     "output_type": "stream",
     "text": [
      "# Call: gdreg.score.compute_ld\n",
      "    1400 tar SNPs in CHR1, 1400 ref SNPs in CHR1, 1000 samples\n",
      "    memory=128MB, block_size=50, n_block_tar=28, n_block_ref=28\n",
      "    Completed, time=3.1s\n",
      "# Call: gdreg.score.compute_ld\n",
      "    1400 tar SNPs in CHR1, 1400 ref SNPs in CHR1, 1000 samples\n",
      "    memory=128MB, block_size=50, n_block_tar=28, n_block_ref=28\n",
      "    Completed, time=3.1s\n",
      "# Call: gdreg.score.compute_ld\n",
      "    1400 tar SNPs in CHR1, 1400 ref SNPs in CHR1, 1000 samples\n",
      "    memory=128MB, block_size=50, n_block_tar=28, n_block_ref=28\n",
      "    Completed, time=3.0s\n",
      "# Call: gdreg.score.compute_ld\n",
      "    1400 tar SNPs in CHR1, 1400 ref SNPs in CHR1, 1000 samples\n",
      "    memory=128MB, block_size=50, n_block_tar=28, n_block_ref=28\n",
      "    Completed, time=3.0s\n",
      "# Call: gdreg.score.compute_ld\n",
      "    1400 tar SNPs in CHR1, 1400 ref SNPs in CHR1, 1000 samples\n",
      "    memory=128MB, block_size=50, n_block_tar=28, n_block_ref=28\n",
      "    Completed, time=3.1s\n",
      "# Call: gdreg.score.compute_ld\n",
      "    1400 tar SNPs in CHR1, 1400 ref SNPs in CHR1, 1000 samples\n",
      "    memory=128MB, block_size=50, n_block_tar=28, n_block_ref=28\n",
      "    Completed, time=3.0s\n",
      "# Call: gdreg.score.compute_ld\n",
      "    1400 tar SNPs in CHR1, 1400 ref SNPs in CHR1, 1000 samples\n",
      "    memory=128MB, block_size=50, n_block_tar=28, n_block_ref=28\n",
      "    Completed, time=3.1s\n",
      "# Call: gdreg.score.compute_ld\n",
      "    1400 tar SNPs in CHR1, 1400 ref SNPs in CHR1, 1000 samples\n",
      "    memory=128MB, block_size=50, n_block_tar=28, n_block_ref=28\n",
      "    Completed, time=3.0s\n",
      "3.06 s ± 46.1 ms per loop (mean ± std. dev. of 7 runs, 1 loop each)\n"
     ]
    }
   ],
   "source": [
    "%%timeit\n",
    "mat_ld = gdreg.score.compute_ld(dic_data, [1, 0, 1400], [1, 0, 1400], verbose=True)"
   ]
  },
  {
   "cell_type": "code",
   "execution_count": 85,
   "metadata": {},
   "outputs": [
    {
     "name": "stdout",
     "output_type": "stream",
     "text": [
      "# Call: gdreg.score.compute_ld\n",
      "    1400 tar SNPs in CHR1, 1400 ref SNPs in CHR1, 1000 samples\n",
      "    memory=128MB, block_size=50, n_block_tar=28, n_block_ref=28\n",
      "    Completed, time=3.0s\n"
     ]
    },
    {
     "data": {
      "text/plain": [
       "array([[ 1.5760448 ,  0.04794139,  0.01932031,  0.04350839, -0.04544937],\n",
       "       [ 0.04794139,  1.0187789 ,  0.62208444,  0.29035023, -0.02933592],\n",
       "       [ 0.01932031,  0.62208444,  0.98683363,  0.25520307, -0.13819256],\n",
       "       [ 0.04350839,  0.29035023,  0.25520307,  0.9974274 , -0.03721449],\n",
       "       [-0.04544937, -0.02933592, -0.13819256, -0.03721449,  0.9722339 ]],\n",
       "      dtype=float32)"
      ]
     },
     "execution_count": 85,
     "metadata": {},
     "output_type": "execute_result"
    }
   ],
   "source": [
    "mat_ld = gdreg.score.compute_ld(dic_data, [1, 0, 1400], [1, 0, 1400], verbose=True)\n",
    "mat_ld[:5, :5]"
   ]
  },
  {
   "cell_type": "code",
   "execution_count": null,
   "metadata": {},
   "outputs": [],
   "source": [
    "%%timeit\n",
    "mat_ld = gdreg.score.compute_ld(dic_data, [1, 0, 1400], [1, 0, 1400], verbose=True)"
   ]
  },
  {
   "cell_type": "code",
   "execution_count": 57,
   "metadata": {},
   "outputs": [
    {
     "name": "stdout",
     "output_type": "stream",
     "text": [
      "# Call: gdreg.score.compute_ld\n",
      "    1400 tar SNPs in CHR1, 1400 ref SNPs in CHR1, 1000 samples\n",
      "    memory=128MB, block_size=50, n_block_tar=28, n_block_ref=28\n",
      "    Completed, time=3.1s\n"
     ]
    },
    {
     "data": {
      "text/plain": [
       "array([[ 1.5760448 ,  0.04794139,  0.01932031,  0.04350839, -0.04544937],\n",
       "       [ 0.04794139,  1.0187789 ,  0.62208444,  0.29035023, -0.02933592],\n",
       "       [ 0.01932031,  0.62208444,  0.98683363,  0.25520307, -0.13819256],\n",
       "       [ 0.04350839,  0.29035023,  0.25520307,  0.9974274 , -0.03721449],\n",
       "       [-0.04544937, -0.02933592, -0.13819256, -0.03721449,  0.9722339 ]],\n",
       "      dtype=float32)"
      ]
     },
     "execution_count": 57,
     "metadata": {},
     "output_type": "execute_result"
    }
   ],
   "source": [
    "mat_ld = gdreg.score.compute_ld(dic_data, [1, 0, 1400], [1, 0, 1400], verbose=True)\n",
    "mat_ld[:5, :5]"
   ]
  },
  {
   "cell_type": "code",
   "execution_count": 84,
   "metadata": {},
   "outputs": [
    {
     "data": {
      "text/plain": [
       "array([[ 1.5760485 ,  0.04794135,  0.01932021,  0.04350808, -0.04544919],\n",
       "       [ 0.04794135,  1.018779  ,  0.6220863 ,  0.29035053, -0.02933584],\n",
       "       [ 0.01932021,  0.6220863 ,  0.9868334 ,  0.25520343, -0.13819249],\n",
       "       [ 0.04350808,  0.29035053,  0.25520343,  0.99742657, -0.0372147 ],\n",
       "       [-0.04544919, -0.02933584, -0.13819249, -0.0372147 ,  0.9722307 ]],\n",
       "      dtype=float32)"
      ]
     },
     "execution_count": 84,
     "metadata": {},
     "output_type": "execute_result"
    }
   ],
   "source": [
    "mat_ld_gold[:5, :5]"
   ]
  },
  {
   "cell_type": "code",
   "execution_count": 27,
   "metadata": {},
   "outputs": [
    {
     "data": {
      "image/png": "[encoded data removed]",
      "text/plain": [
       "<Figure size 432x288 with 1 Axes>"
      ]
     },
     "metadata": {
      "needs_background": "light"
     },
     "output_type": "display_data"
    }
   ],
   "source": [
    "# Get gold standard\n",
    "mat_X = gdreg.util.read_geno(dic_data[1][\"pgen\"], 0, 100)\n",
    "mat_X = mat_X.T.astype(np.float32)\n",
    "mat_X[mat_X == -9] = 0\n",
    "v_maf = mat_X.mean(axis=0) * 0.5\n",
    "mat_X = (mat_X - 2 * v_maf) / np.sqrt(2 * v_maf * (1 - v_maf))\n",
    "\n",
    "mat_ld_gold = mat_X.T.dot(mat_X) / 1000\n",
    "mat_cor_gold = np.corrcoef(mat_X.T)\n",
    "\n",
    "plt.figure()\n",
    "plt.scatter(mat_ld_gold[np.triu_indices(100, k=0)], mat_cor_gold[np.triu_indices(100, k=0)])\n",
    "plt.plot([-1,1],[-1,1], color='k')\n",
    "plt.show()"
   ]
  },
  {
   "cell_type": "markdown",
   "metadata": {},
   "source": [
    "### Subroutine : dotprod_int8"
   ]
  },
  {
   "cell_type": "code",
   "execution_count": 36,
   "metadata": {},
   "outputs": [],
   "source": [
    "n_sample = int(1e6)\n",
    "mat_X = np.ones([n_sample, 10], dtype=np.int8)\n",
    "mat_Y = np.ones([n_sample, 20], dtype=np.int8)"
   ]
  },
  {
   "cell_type": "code",
   "execution_count": 52,
   "metadata": {},
   "outputs": [
    {
     "name": "stdout",
     "output_type": "stream",
     "text": [
      "288 ms ± 30.7 ms per loop (mean ± std. dev. of 7 runs, 1 loop each)\n"
     ]
    }
   ],
   "source": [
    "%%timeit\n",
    "mat_dot = mat_X.astype(int).T.dot(mat_Y.astype(int))"
   ]
  },
  {
   "cell_type": "code",
   "execution_count": 53,
   "metadata": {},
   "outputs": [
    {
     "name": "stdout",
     "output_type": "stream",
     "text": [
      "73.1 ms ± 764 µs per loop (mean ± std. dev. of 7 runs, 10 loops each)\n"
     ]
    }
   ],
   "source": [
    "%%timeit\n",
    "mat_prod = gdreg.score.dotprod_int8(mat_X.T, mat_Y)"
   ]
  },
  {
   "cell_type": "code",
   "execution_count": 49,
   "metadata": {},
   "outputs": [
    {
     "name": "stdout",
     "output_type": "stream",
     "text": [
      "\n"
     ]
    }
   ],
   "source": [
    "%mprun -f gdreg.score.dotprod_int8 gdreg.score.dotprod_int8(mat_X.T, mat_Y)"
   ]
  },
  {
   "cell_type": "code",
   "execution_count": 51,
   "metadata": {},
   "outputs": [
    {
     "name": "stdout",
     "output_type": "stream",
     "text": [
      "\n"
     ]
    }
   ],
   "source": [
    "%mprun -f gdreg.score.dotprod_int8_baseline gdreg.score.dotprod_int8_baseline(mat_X, mat_Y)"
   ]
  },
  {
   "cell_type": "code",
   "execution_count": 39,
   "metadata": {},
   "outputs": [],
   "source": [
    "mat_prod = gdreg.score.dotprod_int8(mat_X.T, mat_Y)"
   ]
  },
  {
   "cell_type": "code",
   "execution_count": null,
   "metadata": {},
   "outputs": [],
   "source": []
  },
  {
   "cell_type": "code",
   "execution_count": 27,
   "metadata": {},
   "outputs": [
    {
     "name": "stdout",
     "output_type": "stream",
     "text": [
      "peak memory: 127.15 MiB, increment: 0.05 MiB\n"
     ]
    }
   ],
   "source": [
    "%%memit\n",
    "mat_dot = mat_X.astype(int).T.dot(mat_Y.astype(int))"
   ]
  },
  {
   "cell_type": "code",
   "execution_count": 35,
   "metadata": {},
   "outputs": [
    {
     "name": "stdout",
     "output_type": "stream",
     "text": [
      "\n"
     ]
    }
   ],
   "source": [
    "%mprun -f gdreg.score.dotprod_int8_baseline gdreg.score.dotprod_int8_baseline(mat_X, mat_Y)"
   ]
  },
  {
   "cell_type": "code",
   "execution_count": null,
   "metadata": {},
   "outputs": [],
   "source": []
  },
  {
   "cell_type": "code",
   "execution_count": null,
   "metadata": {},
   "outputs": [],
   "source": []
  },
  {
   "cell_type": "code",
   "execution_count": null,
   "metadata": {},
   "outputs": [],
   "source": []
  },
  {
   "cell_type": "code",
   "execution_count": null,
   "metadata": {},
   "outputs": [],
   "source": []
  },
  {
   "cell_type": "code",
   "execution_count": 30,
   "metadata": {},
   "outputs": [
    {
     "name": "stdout",
     "output_type": "stream",
     "text": [
      "\n"
     ]
    }
   ],
   "source": [
    "%mprun -f gdreg.score.colsum_int8_baseline gdreg.score.colsum_int8_baseline(mat_X)"
   ]
  },
  {
   "cell_type": "code",
   "execution_count": null,
   "metadata": {},
   "outputs": [],
   "source": [
    "%%timeit\n",
    "\n",
    "\n",
    "# Baseline\n",
    "# v_mean = mat_int8.sum(axis=0)\n",
    "mat_dot = mat_X.astype(int).T.dot(mat_Y.astype(int))\n",
    "\n",
    "# print(v_mean)\n",
    "# print(mat_dot)"
   ]
  },
  {
   "cell_type": "code",
   "execution_count": null,
   "metadata": {},
   "outputs": [],
   "source": []
  },
  {
   "cell_type": "code",
   "execution_count": null,
   "metadata": {},
   "outputs": [],
   "source": []
  },
  {
   "cell_type": "code",
   "execution_count": 17,
   "metadata": {},
   "outputs": [
    {
     "data": {
      "text/plain": [
       "array([10000000, 10000000, 10000000, 10000000, 10000000, 10000000,\n",
       "       10000000, 10000000, 10000000, 10000000])"
      ]
     },
     "execution_count": 17,
     "metadata": {},
     "output_type": "execute_result"
    }
   ],
   "source": [
    "v_mean = gdreg.score.colsum_int8(mat_X)\n",
    "v_mean"
   ]
  },
  {
   "cell_type": "code",
   "execution_count": 21,
   "metadata": {},
   "outputs": [
    {
     "name": "stdout",
     "output_type": "stream",
     "text": [
      "\n"
     ]
    }
   ],
   "source": [
    "%mprun -f gdreg.score.colsum_int8 gdreg.score.colsum_int8(mat_X)"
   ]
  },
  {
   "cell_type": "code",
   "execution_count": 23,
   "metadata": {},
   "outputs": [
    {
     "name": "stdout",
     "output_type": "stream",
     "text": [
      "\n"
     ]
    }
   ],
   "source": [
    "%mprun -f gdreg.score.colsum_int8_baseline gdreg.score.colsum_int8_baseline(mat_X)"
   ]
  },
  {
   "cell_type": "code",
   "execution_count": null,
   "metadata": {},
   "outputs": [],
   "source": []
  },
  {
   "cell_type": "code",
   "execution_count": null,
   "metadata": {},
   "outputs": [],
   "source": []
  },
  {
   "cell_type": "code",
   "execution_count": 37,
   "metadata": {},
   "outputs": [
    {
     "name": "stdout",
     "output_type": "stream",
     "text": [
      "238 ms ± 29.2 ms per loop (mean ± std. dev. of 7 runs, 1 loop each)\n"
     ]
    }
   ],
   "source": [
    "%%timeit\n",
    "mat_dot = mat_X.astype(int).T.dot(mat_Y.astype(int))"
   ]
  },
  {
   "cell_type": "code",
   "execution_count": 23,
   "metadata": {},
   "outputs": [
    {
     "name": "stdout",
     "output_type": "stream",
     "text": [
      "24.3 ms ± 1.44 ms per loop (mean ± std. dev. of 7 runs, 10 loops each)\n"
     ]
    }
   ],
   "source": [
    "%%timeit\n",
    "\n",
    "\n",
    "# Baseline\n",
    "v_mean = mat_int8.sum(axis=0)\n",
    "mat_dot = mat_X.astype(int).T.dot(mat_Y.astype(int))\n",
    "\n",
    "# Exp\n",
    "v_mean = mat_int8.sum(axis=0)\n",
    "mat_dot = mat_X.astype(int).T.dot(mat_Y.astype(int))\n",
    "\n",
    "\n",
    "# print(v_mean)\n",
    "# print(mat_dot)"
   ]
  },
  {
   "cell_type": "code",
   "execution_count": 34,
   "metadata": {},
   "outputs": [
    {
     "data": {
      "text/plain": [
       "numpy.uint8"
      ]
     },
     "execution_count": 34,
     "metadata": {},
     "output_type": "execute_result"
    }
   ],
   "source": [
    "np.uint8"
   ]
  },
  {
   "cell_type": "code",
   "execution_count": 19,
   "metadata": {},
   "outputs": [
    {
     "data": {
      "text/plain": [
       "array([[-96, -96, -96, -96, -96, -96, -96, -96, -96, -96],\n",
       "       [-96, -96, -96, -96, -96, -96, -96, -96, -96, -96],\n",
       "       [-96, -96, -96, -96, -96, -96, -96, -96, -96, -96],\n",
       "       [-96, -96, -96, -96, -96, -96, -96, -96, -96, -96],\n",
       "       [-96, -96, -96, -96, -96, -96, -96, -96, -96, -96]], dtype=int8)"
      ]
     },
     "execution_count": 19,
     "metadata": {},
     "output_type": "execute_result"
    }
   ],
   "source": [
    "mat_dot"
   ]
  },
  {
   "cell_type": "code",
   "execution_count": null,
   "metadata": {},
   "outputs": [],
   "source": []
  }
 ],
 "metadata": {
  "kernelspec": {
   "display_name": "Python 3",
   "language": "python",
   "name": "python3"
  },
  "language_info": {
   "codemirror_mode": {
    "name": "ipython",
    "version": 3
   },
   "file_extension": ".py",
   "mimetype": "text/x-python",
   "name": "python",
   "nbconvert_exporter": "python",
   "pygments_lexer": "ipython3",
   "version": "3.7.4"
  }
 },
 "nbformat": 4,
 "nbformat_minor": 2
}
