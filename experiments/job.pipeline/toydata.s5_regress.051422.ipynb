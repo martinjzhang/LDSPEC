{
 "cells": [
  {
   "cell_type": "code",
   "execution_count": 1,
   "metadata": {},
   "outputs": [],
   "source": [
    "import pandas as pd\n",
    "import numpy as np\n",
    "import scipy as sp\n",
    "import time\n",
    "import os\n",
    "import argparse\n",
    "import gdreg\n",
    "import matplotlib.pyplot as plt\n",
    "\n",
    "# autoreload\n",
    "%load_ext autoreload\n",
    "%autoreload 2\n",
    "%load_ext memory_profiler\n",
    "%load_ext line_profiler"
   ]
  },
  {
   "cell_type": "code",
   "execution_count": 2,
   "metadata": {},
   "outputs": [],
   "source": [
    "JOB = \"regress\"\n",
    "PGEN_FILE = \"/n/groups/price/martin/WES_analysis/toy_1K/chr@_v1.SPB.hg19.toy_1K\"\n",
    "LD_FILE = \"/n/groups/price/martin/WES_analysis/toy_1K/results/top_1K_chr@.ld.npy\"\n",
    "SUMSTATS_FILE = \"/n/groups/price/martin/WES_analysis/toy_1K/sanity_nd_rep0.sumstats.gz\"\n",
    "ANNOT_FILE = \"/n/groups/price/martin/WES_analysis/toy_1K/toy.annot.gz,\" + \\\n",
    "    \"/n/groups/price/martin/WES_analysis/toy_1K/toy.pannot.gz,\" + \\\n",
    "    \"/n/groups/price/martin/WES_analysis/toy_1K/toy.pannot_hr.gz\"\n",
    "PREFIX_OUT = \"/n/groups/price/martin/WES_analysis/toy_1K/results/toy_1K\"\n",
    "MEMORY = 64\n",
    "RANDOM_SEED = 0\n",
    "SNP_RANGE = None"
   ]
  },
  {
   "cell_type": "code",
   "execution_count": 3,
   "metadata": {},
   "outputs": [
    {
     "name": "stdout",
     "output_type": "stream",
     "text": [
      "******************************************************************************\n",
      "* Gene-level directional effect regression (GDReg)\n",
      "* Version 0.0.2\n",
      "* Martin Jinye Zhang\n",
      "* HSPH / Broad Institute\n",
      "* MIT License\n",
      "******************************************************************************\n",
      "Call: run_gdreg.py \\\n",
      "--job regress\\\n",
      "--pgen_file /n/groups/price/martin/WES_analysis/toy_1K/chr@_v1.SPB.hg19.toy_1K\\\n",
      "--ld_file /n/groups/price/martin/WES_analysis/toy_1K/results/top_1K_chr@.ld.npy\\\n",
      "--sumstats_file /n/groups/price/martin/WES_analysis/toy_1K/sanity_nd_rep0.sumstats.gz\\\n",
      "--annot_file /n/groups/price/martin/WES_analysis/toy_1K/toy.annot.gz,/n/groups/price/martin/WES_analysis/toy_1K/toy.pannot.gz,/n/groups/price/martin/WES_analysis/toy_1K/toy.pannot_hr.gz\\\n",
      "--prefix_out /n/groups/price/martin/WES_analysis/toy_1K/results/toy_1K\\\n",
      "--snp_range None\\\n",
      "--memory 64\\\n",
      "--random_seed 0\n",
      "\n"
     ]
    }
   ],
   "source": [
    "sys_start_time = time.time()\n",
    "\n",
    "###########################################################################################\n",
    "######                                    Parse Options                              ######\n",
    "###########################################################################################\n",
    "\n",
    "# JOB = args.job\n",
    "# PGEN_FILE = args.pgen_file\n",
    "# LD_FILE = args.ld_file\n",
    "# SUMSTATS_FILE = args.sumstats_file\n",
    "# ANNOT_FILE = args.annot_file\n",
    "# PREFIX_OUT = args.prefix_out\n",
    "# MEMORY = args.memory\n",
    "# RANDOM_SEED = args.random_seed\n",
    "# SNP_RANGE = args.snp_range\n",
    "\n",
    "# Parse and check arguments\n",
    "LEGAL_JOB_LIST = [\"compute_ld\", \"compute_score\", \"regress\"]\n",
    "err_msg = \"# run_gdreg: --job=%s not supported\" % JOB\n",
    "assert JOB in LEGAL_JOB_LIST, err_msg\n",
    "\n",
    "if JOB in [\"compute_score\", \"regress\"]:\n",
    "    assert LD_FILE is not None, \"--ld_file required for --job=%s\" % JOB\n",
    "if JOB in [\"regress\"]:\n",
    "    assert SUMSTATS_FILE is not None, \"--sumstats_file required for --job=%s\" % JOB\n",
    "if JOB in [\"compute_score\", \"regress\"]:\n",
    "    assert ANNOT_FILE is not None, \"--annot_file required for --job=%s\" % JOB\n",
    "if JOB in [\"compute_ld\"]:\n",
    "    assert SNP_RANGE is not None, \"--snp_range required for --job=%s\" % JOB\n",
    "    DIC_RANGE = gdreg.util.parse_snp_range(SNP_RANGE)\n",
    "\n",
    "# Print input options\n",
    "header = gdreg.util.get_cli_head()\n",
    "header += \"Call: run_gdreg.py \\\\\\n\"\n",
    "header += \"--job %s\\\\\\n\" % JOB\n",
    "header += \"--pgen_file %s\\\\\\n\" % PGEN_FILE\n",
    "header += \"--ld_file %s\\\\\\n\" % LD_FILE\n",
    "header += \"--sumstats_file %s\\\\\\n\" % SUMSTATS_FILE\n",
    "header += \"--annot_file %s\\\\\\n\" % ANNOT_FILE\n",
    "header += \"--prefix_out %s\\\\\\n\" % PREFIX_OUT\n",
    "header += \"--snp_range %s\\\\\\n\" % SNP_RANGE\n",
    "header += \"--memory %d\\\\\\n\" % MEMORY\n",
    "header += \"--random_seed %d\\n\" % RANDOM_SEED\n",
    "print(header)"
   ]
  },
  {
   "cell_type": "code",
   "execution_count": 70,
   "metadata": {},
   "outputs": [
    {
     "name": "stdout",
     "output_type": "stream",
     "text": [
      "# Loading --pgen_file\n",
      "    CHR 1: 1000 samples, 1400 SNPs, 25.9% non-zeros for first 50 SNPs\n",
      "    CHR 2: 1000 samples, 1322 SNPs, 43.1% non-zeros for first 50 SNPs\n",
      "    CHR 3: 1000 samples, 1326 SNPs, 33.2% non-zeros for first 50 SNPs\n",
      "    CHR 4: 1000 samples, 1341 SNPs, 24.1% non-zeros for first 50 SNPs\n",
      "    CHR 5: 1000 samples, 1311 SNPs, 36.9% non-zeros for first 50 SNPs\n",
      "    CHR 6: 1000 samples, 1341 SNPs, 38.7% non-zeros for first 50 SNPs\n",
      "    CHR 7: 1000 samples, 1375 SNPs, 41.9% non-zeros for first 50 SNPs\n",
      "    CHR 8: 1000 samples, 1320 SNPs, 32.8% non-zeros for first 50 SNPs\n",
      "    CHR 9: 1000 samples, 1307 SNPs, 40.0% non-zeros for first 50 SNPs\n",
      "    CHR10: 1000 samples, 1280 SNPs, 44.0% non-zeros for first 50 SNPs\n",
      "    sys_time=0.9s, sys_mem=0.19GB\n",
      "# Loading --ld_file\n",
      "    LD info loaded, matching --pgen_file\n",
      "    sys_time=1.0s, sys_mem=0.19GB\n",
      "# Loading --sumstats_file\n",
      "    .sumstats.gz loaded, 13323 SNPs\n",
      "    sys_time=1.0s, sys_mem=0.19GB\n",
      "# Loading --annot_file\n",
      "    .annot.gz (13323 SNPs and 3 annots): AN:ALL,AN:CHR1,AN:ODD\n",
      "    .pannot.gz (1 pannots): pAN:gene (13323 SNPs)\n",
      "    .pannot_hr.gz (1 pannots): pAN:proxy (56982 pairs)\n",
      "    sys_time=1.2s, sys_mem=0.21GB\n"
     ]
    }
   ],
   "source": [
    "###########################################################################################\n",
    "######                                   Data Loading                                ######\n",
    "###########################################################################################\n",
    "# Load --pgen_file\n",
    "if JOB in [\"compute_ld\", \"compute_score\", \"regress\"]:\n",
    "    print(\"# Loading --pgen_file\")\n",
    "    dic_data = {}\n",
    "    if \"@\" not in PGEN_FILE:\n",
    "        temp_dic = gdreg.util.read_pgen(PGEN_FILE)\n",
    "        dic_data[temp_dic[\"pvar\"][\"CHR\"][0]] = temp_dic.copy()\n",
    "    else:\n",
    "        for CHR in range(1, 23):\n",
    "            if os.path.exists(PGEN_FILE.replace(\"@\", \"%s\" % CHR) + \".pgen\"):\n",
    "                dic_data[CHR] = gdreg.util.read_pgen(\n",
    "                    PGEN_FILE.replace(\"@\", \"%s\" % CHR)\n",
    "                )\n",
    "\n",
    "    for CHR in dic_data:\n",
    "        n_sample = dic_data[CHR][\"psam\"].shape[0]\n",
    "        n_snp = dic_data[CHR][\"pvar\"].shape[0]\n",
    "        mat_X = gdreg.util.read_geno(\n",
    "            dic_data[CHR][\"pgen\"], 0, 50, n_sample=None, n_snp=None\n",
    "        )\n",
    "        sparsity = (mat_X != 0).mean()\n",
    "        print(\n",
    "            \"    CHR%2d: %d samples, %d SNPs, %0.1f%% non-zeros for first 50 SNPs\"\n",
    "            % (CHR, n_sample, n_snp, sparsity * 100)\n",
    "        )\n",
    "    print(\"    \" + gdreg.util.get_sys_info(sys_start_time))\n",
    "\n",
    "# Load --ld_file\n",
    "if JOB in [\"compute_score\", \"regress\"]:\n",
    "    print(\"# Loading --ld_file\")\n",
    "    dic_ld = {}\n",
    "    for CHR in dic_data:\n",
    "        err_msg = \"--ld_file missing for CHR%d\" % CHR\n",
    "        assert os.path.exists(LD_FILE.replace(\"@\", \"%s\" % CHR)), err_msg\n",
    "        dic_ld[CHR] = np.load(LD_FILE.replace(\"@\", \"%s\" % CHR))  # TODO : sp.sparse\n",
    "        err_msg = \"CHR%2d n_snp=%d, mismatch with --pgen_file\" % (\n",
    "            CHR,\n",
    "            dic_ld[CHR].shape[0],\n",
    "        )\n",
    "        assert dic_ld[CHR].shape[0] == dic_data[CHR][\"pvar\"].shape[0], err_msg\n",
    "    print(\"    LD info loaded, matching --pgen_file\")\n",
    "    print(\"    \" + gdreg.util.get_sys_info(sys_start_time))\n",
    "\n",
    "# Load --sumstats_file\n",
    "if JOB in [\"regress\"]:\n",
    "    print(\"# Loading --sumstats_file\")\n",
    "    df_sumstats = pd.read_csv(SUMSTATS_FILE, sep=\"\\t\", index_col=None)\n",
    "    print(\"    .sumstats.gz loaded, %d SNPs\" % df_sumstats.shape[0])\n",
    "    print(\"    \" + gdreg.util.get_sys_info(sys_start_time))\n",
    "\n",
    "# Load --annot_file\n",
    "if JOB in [\"compute_score\", \"regress\"]:\n",
    "    print(\"# Loading --annot_file\")\n",
    "    df_annot = None\n",
    "    pannot_list = []\n",
    "    pannot_hr_list = []\n",
    "    for annot_file in ANNOT_FILE.split(\",\"):\n",
    "        err_msg = \"--annot_file missing : '%s'\" % annot_file\n",
    "        assert os.path.exists(annot_file), err_msg\n",
    "        temp_df = gdreg.util.read_annot(annot_file)\n",
    "\n",
    "        if annot_file.endswith(\".annot.gz\"):\n",
    "            temp_df.index = temp_df[\"SNP\"]\n",
    "            if df_annot is None:\n",
    "                df_annot = temp_df.copy()\n",
    "            else:\n",
    "                col_list = [x for x in temp_df if x.startswith(\"AN:\")]\n",
    "                df_annot = df_annot.join(temp_df[col_list])\n",
    "        if annot_file.endswith(\".pannot.gz\"):\n",
    "            pannot_list.append(temp_df.copy())\n",
    "        if annot_file.endswith(\".pannot_hr.gz\"):\n",
    "            pannot_hr_list.append(temp_df.copy())\n",
    "    AN_list = [x for x in df_annot if x.startswith(\"AN:\")]\n",
    "    print(\n",
    "        \"    .annot.gz (%d SNPs and %d annots): %s\"\n",
    "        % (df_annot.shape[0], len(AN_list), \",\".join(AN_list))\n",
    "    )\n",
    "    temp_list = [\"%s (%d SNPs)\" % (x.columns[-1], x.shape[0]) for x in pannot_list]\n",
    "    print(\n",
    "        \"    .pannot.gz (%d pannots): %s\" % (len(pannot_list), \",\".join(temp_list)),\n",
    "    )\n",
    "    temp_list = [\n",
    "        \"%s (%d pairs)\" % (x.columns[-1], x.shape[0]) for x in pannot_hr_list\n",
    "    ]\n",
    "    print(\n",
    "        \"    .pannot_hr.gz (%d pannots): %s\"\n",
    "        % (len(pannot_hr_list), \",\".join(temp_list)),\n",
    "    )\n",
    "    print(\"    \" + gdreg.util.get_sys_info(sys_start_time))"
   ]
  },
  {
   "cell_type": "code",
   "execution_count": 71,
   "metadata": {
    "scrolled": true
   },
   "outputs": [
    {
     "name": "stdout",
     "output_type": "stream",
     "text": [
      "# Call: gdreg.score.compute_score\n",
      "    13323 SNPs from 10 CHRs: CHR1 (1280 SNPs), CHR2 (1280 SNPs), CHR3 (1280 SNPs), CHR4 (1280 SNPs), CHR5 (1280 SNPs), CHR6 (1280 SNPs), CHR7 (1280 SNPs), CHR8 (1280 SNPs), CHR9 (1280 SNPs), CHR10 (1280 SNPs)\n",
      "    Single-SNP annots : AN:ALL, AN:CHR1, AN:ODD\n",
      "    SNP-pair annots : \n",
      "    win_size=1.0MB, memory=128MB\n",
      "    Completed, time=3.4s\n"
     ]
    }
   ],
   "source": [
    "df_score = gdreg.score.compute_score(\n",
    "    dic_data, \n",
    "    dic_ld,\n",
    "    df_annot,\n",
    "    verbose = True,\n",
    "    win_size = 1e6,\n",
    ")"
   ]
  },
  {
   "cell_type": "code",
   "execution_count": 72,
   "metadata": {},
   "outputs": [
    {
     "name": "stdout",
     "output_type": "stream",
     "text": [
      "# Call: gdreg.regress.estimate\n",
      "    df_sumstats : n_snp=13323, n_sample_zsq=1000\n",
      "        Remove duplicates or ZSQ>80.0 SNPs, 13323 remaining, avg. zsq=1.44\n",
      "    dic_data : n_snp=13323, n_sample=13323\n",
      "    Regression : n_snp=13323, n_block=100\n",
      "# Call: gdreg.regress.regress\n",
      "    n_snp=13323, n_block=100, n_sample_zsq=1000\n",
      "    4 regressors : LD:AN:ALL, LD:AN:CHR1, LD:AN:ODD, E\n",
      "    Completed, time=0.0s\n",
      "['LD:AN:ALL', 'LD:AN:CHR1', 'LD:AN:ODD', 'E']\n",
      "[ 7.29445273e-05 -9.96738047e-06 -1.81773528e-06 -7.70946702e-02]\n",
      "[ 7.43887043e-05 -1.29410174e-05 -2.64721405e-06 -8.93448563e-02]\n",
      "[1.7546739e-05 2.4852536e-05 1.8103095e-05 2.3912357e-01]\n"
     ]
    }
   ],
   "source": [
    "dic_res = gdreg.regress.estimate(\n",
    "    dic_data,\n",
    "    dic_ld,\n",
    "    df_sumstats,\n",
    "    df_annot,\n",
    "    pannot_list=pannot_list,\n",
    "    pannot_hr_list=pannot_hr_list,\n",
    "    df_score=df_score,\n",
    "    n_jn_block=100,\n",
    "    sym_non_pAN=\"non-pAN\",\n",
    "    win_size=int(1e6),\n",
    "    memory=128,\n",
    "    verbose=True,\n",
    ")\n",
    "\n",
    "print(dic_res['term'])\n",
    "print(dic_res['coef'])\n",
    "print(dic_res['coef_jn'])\n",
    "print(np.sqrt(np.diag(dic_res['coef_jn_cov'])))"
   ]
  },
  {
   "cell_type": "code",
   "execution_count": 75,
   "metadata": {},
   "outputs": [],
   "source": [
    "df_eff = pd.read_csv(\"/n/groups/price/martin/WES_analysis/toy_1K/sanity_nd_rep0.eff.gz\", sep='\\t')\n",
    "dic_eff = { x: y**2 for x, y in zip(df_eff[\"SNP\"], df_eff[\"EFF\"]) }"
   ]
  },
  {
   "cell_type": "code",
   "execution_count": 76,
   "metadata": {},
   "outputs": [],
   "source": [
    "dic_zsq = {\n",
    "        x: y**2\n",
    "        for x, y in zip(df_sumstats[\"SNP\"], df_sumstats[\"Z\"])\n",
    "    }"
   ]
  },
  {
   "cell_type": "code",
   "execution_count": 77,
   "metadata": {},
   "outputs": [],
   "source": [
    "temp_df = df_score.copy()\n",
    "temp_df['ZSQ'] = [dic_zsq[x] for x in temp_df['SNP']]\n",
    "temp_df['EFFSQ'] = [dic_eff[x] for x in temp_df['SNP']]"
   ]
  },
  {
   "cell_type": "code",
   "execution_count": 78,
   "metadata": {},
   "outputs": [
    {
     "name": "stdout",
     "output_type": "stream",
     "text": [
      "1.6246130128083283 6.593789775767758e-05\n"
     ]
    }
   ],
   "source": [
    "print(temp_df.loc[temp_df['CHR']==1, 'ZSQ'].mean(), temp_df.loc[temp_df['CHR']==1, 'EFFSQ'].mean())"
   ]
  },
  {
   "cell_type": "code",
   "execution_count": 79,
   "metadata": {},
   "outputs": [
    {
     "name": "stdout",
     "output_type": "stream",
     "text": [
      "1.3814940852157935 4.529622099183642e-05\n"
     ]
    }
   ],
   "source": [
    "print(temp_df.loc[temp_df['CHR']%2==1, 'ZSQ'].mean(), temp_df.loc[temp_df['CHR']%2==1, 'EFFSQ'].mean())"
   ]
  },
  {
   "cell_type": "code",
   "execution_count": 80,
   "metadata": {},
   "outputs": [
    {
     "name": "stdout",
     "output_type": "stream",
     "text": [
      "1.4900900441050557 2.6552901228308824e-05\n"
     ]
    }
   ],
   "source": [
    "print(temp_df.loc[temp_df['CHR']%2==0, 'ZSQ'].mean(), temp_df.loc[temp_df['CHR']%2==0, 'EFFSQ'].mean())"
   ]
  },
  {
   "cell_type": "code",
   "execution_count": 63,
   "metadata": {},
   "outputs": [
    {
     "data": {
      "text/plain": [
       "1.5692726874599383"
      ]
     },
     "execution_count": 63,
     "metadata": {},
     "output_type": "execute_result"
    }
   ],
   "source": [
    "temp_df.loc[temp_df['CHR']%2==0, 'ZSQ'].mean()"
   ]
  },
  {
   "cell_type": "code",
   "execution_count": 51,
   "metadata": {},
   "outputs": [
    {
     "data": {
      "text/html": [
       "<div>\n",
       "<style scoped>\n",
       "    .dataframe tbody tr th:only-of-type {\n",
       "        vertical-align: middle;\n",
       "    }\n",
       "\n",
       "    .dataframe tbody tr th {\n",
       "        vertical-align: top;\n",
       "    }\n",
       "\n",
       "    .dataframe thead th {\n",
       "        text-align: right;\n",
       "    }\n",
       "</style>\n",
       "<table border=\"1\" class=\"dataframe\">\n",
       "  <thead>\n",
       "    <tr style=\"text-align: right;\">\n",
       "      <th></th>\n",
       "      <th>CHR</th>\n",
       "      <th>SNP</th>\n",
       "      <th>BP</th>\n",
       "      <th>E</th>\n",
       "      <th>LD:AN:ALL</th>\n",
       "      <th>LD:AN:CHR1</th>\n",
       "      <th>LD:AN:ODD</th>\n",
       "      <th>ZSQ</th>\n",
       "    </tr>\n",
       "    <tr>\n",
       "      <th>SNP</th>\n",
       "      <th></th>\n",
       "      <th></th>\n",
       "      <th></th>\n",
       "      <th></th>\n",
       "      <th></th>\n",
       "      <th></th>\n",
       "      <th></th>\n",
       "      <th></th>\n",
       "    </tr>\n",
       "  </thead>\n",
       "  <tbody>\n",
       "    <tr>\n",
       "      <th>1:69761:A:T</th>\n",
       "      <td>1</td>\n",
       "      <td>1:69761:A:T</td>\n",
       "      <td>69761</td>\n",
       "      <td>1.576045</td>\n",
       "      <td>16.098497</td>\n",
       "      <td>4.175498</td>\n",
       "      <td>9.494497</td>\n",
       "      <td>7.971064e-01</td>\n",
       "    </tr>\n",
       "    <tr>\n",
       "      <th>1:931131:I:4.01</th>\n",
       "      <td>1</td>\n",
       "      <td>1:931131:I:4.01</td>\n",
       "      <td>866511</td>\n",
       "      <td>1.018779</td>\n",
       "      <td>17.292175</td>\n",
       "      <td>5.369176</td>\n",
       "      <td>10.688176</td>\n",
       "      <td>3.852517e+00</td>\n",
       "    </tr>\n",
       "    <tr>\n",
       "      <th>1:935954:G:T</th>\n",
       "      <td>1</td>\n",
       "      <td>1:935954:G:T</td>\n",
       "      <td>871334</td>\n",
       "      <td>0.986834</td>\n",
       "      <td>21.083496</td>\n",
       "      <td>9.160498</td>\n",
       "      <td>14.479498</td>\n",
       "      <td>5.033972e+00</td>\n",
       "    </tr>\n",
       "    <tr>\n",
       "      <th>1:939436:I:1</th>\n",
       "      <td>1</td>\n",
       "      <td>1:939436:I:1</td>\n",
       "      <td>874816</td>\n",
       "      <td>0.997427</td>\n",
       "      <td>16.382248</td>\n",
       "      <td>4.459248</td>\n",
       "      <td>9.778248</td>\n",
       "      <td>6.570135e+00</td>\n",
       "    </tr>\n",
       "    <tr>\n",
       "      <th>1:941119:A:G</th>\n",
       "      <td>1</td>\n",
       "      <td>1:941119:A:G</td>\n",
       "      <td>876499</td>\n",
       "      <td>0.972234</td>\n",
       "      <td>33.504211</td>\n",
       "      <td>21.581213</td>\n",
       "      <td>26.900213</td>\n",
       "      <td>1.325128e-01</td>\n",
       "    </tr>\n",
       "    <tr>\n",
       "      <th>...</th>\n",
       "      <td>...</td>\n",
       "      <td>...</td>\n",
       "      <td>...</td>\n",
       "      <td>...</td>\n",
       "      <td>...</td>\n",
       "      <td>...</td>\n",
       "      <td>...</td>\n",
       "      <td>...</td>\n",
       "    </tr>\n",
       "    <tr>\n",
       "      <th>10:32922299:T:G</th>\n",
       "      <td>10</td>\n",
       "      <td>10:32922299:T:G</td>\n",
       "      <td>33211227</td>\n",
       "      <td>1.052189</td>\n",
       "      <td>22.531540</td>\n",
       "      <td>1.400000</td>\n",
       "      <td>6.719000</td>\n",
       "      <td>1.001930e-01</td>\n",
       "    </tr>\n",
       "    <tr>\n",
       "      <th>10:32925874:A:G</th>\n",
       "      <td>10</td>\n",
       "      <td>10:32925874:A:G</td>\n",
       "      <td>33214802</td>\n",
       "      <td>0.992592</td>\n",
       "      <td>17.438335</td>\n",
       "      <td>1.400000</td>\n",
       "      <td>6.719000</td>\n",
       "      <td>9.999468e-07</td>\n",
       "    </tr>\n",
       "    <tr>\n",
       "      <th>10:32928182:G:A</th>\n",
       "      <td>10</td>\n",
       "      <td>10:32928182:G:A</td>\n",
       "      <td>33217110</td>\n",
       "      <td>1.050863</td>\n",
       "      <td>22.543594</td>\n",
       "      <td>1.400000</td>\n",
       "      <td>6.719000</td>\n",
       "      <td>1.087097e-01</td>\n",
       "    </tr>\n",
       "    <tr>\n",
       "      <th>10:32930080:T:G</th>\n",
       "      <td>10</td>\n",
       "      <td>10:32930080:T:G</td>\n",
       "      <td>33219008</td>\n",
       "      <td>1.064022</td>\n",
       "      <td>19.813097</td>\n",
       "      <td>1.400000</td>\n",
       "      <td>6.719000</td>\n",
       "      <td>2.373483e-01</td>\n",
       "    </tr>\n",
       "    <tr>\n",
       "      <th>10:33180253:A:G</th>\n",
       "      <td>10</td>\n",
       "      <td>10:33180253:A:G</td>\n",
       "      <td>33469181</td>\n",
       "      <td>1.047001</td>\n",
       "      <td>14.557590</td>\n",
       "      <td>1.400000</td>\n",
       "      <td>6.719000</td>\n",
       "      <td>3.063314e+00</td>\n",
       "    </tr>\n",
       "  </tbody>\n",
       "</table>\n",
       "<p>13323 rows × 8 columns</p>\n",
       "</div>"
      ],
      "text/plain": [
       "                 CHR              SNP        BP         E  LD:AN:ALL  \\\n",
       "SNP                                                                    \n",
       "1:69761:A:T        1      1:69761:A:T     69761  1.576045  16.098497   \n",
       "1:931131:I:4.01    1  1:931131:I:4.01    866511  1.018779  17.292175   \n",
       "1:935954:G:T       1     1:935954:G:T    871334  0.986834  21.083496   \n",
       "1:939436:I:1       1     1:939436:I:1    874816  0.997427  16.382248   \n",
       "1:941119:A:G       1     1:941119:A:G    876499  0.972234  33.504211   \n",
       "...              ...              ...       ...       ...        ...   \n",
       "10:32922299:T:G   10  10:32922299:T:G  33211227  1.052189  22.531540   \n",
       "10:32925874:A:G   10  10:32925874:A:G  33214802  0.992592  17.438335   \n",
       "10:32928182:G:A   10  10:32928182:G:A  33217110  1.050863  22.543594   \n",
       "10:32930080:T:G   10  10:32930080:T:G  33219008  1.064022  19.813097   \n",
       "10:33180253:A:G   10  10:33180253:A:G  33469181  1.047001  14.557590   \n",
       "\n",
       "                 LD:AN:CHR1  LD:AN:ODD           ZSQ  \n",
       "SNP                                                   \n",
       "1:69761:A:T        4.175498   9.494497  7.971064e-01  \n",
       "1:931131:I:4.01    5.369176  10.688176  3.852517e+00  \n",
       "1:935954:G:T       9.160498  14.479498  5.033972e+00  \n",
       "1:939436:I:1       4.459248   9.778248  6.570135e+00  \n",
       "1:941119:A:G      21.581213  26.900213  1.325128e-01  \n",
       "...                     ...        ...           ...  \n",
       "10:32922299:T:G    1.400000   6.719000  1.001930e-01  \n",
       "10:32925874:A:G    1.400000   6.719000  9.999468e-07  \n",
       "10:32928182:G:A    1.400000   6.719000  1.087097e-01  \n",
       "10:32930080:T:G    1.400000   6.719000  2.373483e-01  \n",
       "10:33180253:A:G    1.400000   6.719000  3.063314e+00  \n",
       "\n",
       "[13323 rows x 8 columns]"
      ]
     },
     "execution_count": 51,
     "metadata": {},
     "output_type": "execute_result"
    }
   ],
   "source": [
    "temp_df"
   ]
  },
  {
   "cell_type": "code",
   "execution_count": 35,
   "metadata": {},
   "outputs": [
    {
     "data": {
      "text/plain": [
       "array([[ 3.0477796e-09, -3.2312857e-09, -1.9074742e-09, -3.1509055e-05],\n",
       "       [-3.2312857e-09,  1.8975375e-07, -1.9631807e-10, -1.9752802e-04],\n",
       "       [-1.9074742e-09, -1.9631807e-10,  1.5272847e-09,  2.0051453e-05],\n",
       "       [-3.1509055e-05, -1.9752802e-04,  2.0051453e-05,  6.3156730e-01]],\n",
       "      dtype=float32)"
      ]
     },
     "execution_count": 35,
     "metadata": {},
     "output_type": "execute_result"
    }
   ],
   "source": [
    "(dic_res['coef_jn_cov'])"
   ]
  },
  {
   "cell_type": "code",
   "execution_count": 39,
   "metadata": {
    "scrolled": true
   },
   "outputs": [
    {
     "name": "stdout",
     "output_type": "stream",
     "text": [
      "0 0 1333\n",
      "1 1333 2666\n",
      "2 2666 3999\n",
      "3 3999 5332\n",
      "4 5332 6665\n",
      "5 6665 7998\n",
      "6 7998 9331\n",
      "7 9331 10664\n",
      "8 10664 11997\n",
      "9 11997 13330\n"
     ]
    },
    {
     "data": {
      "text/plain": [
       "array([0, 0, 0, ..., 9, 9, 9])"
      ]
     },
     "execution_count": 39,
     "metadata": {},
     "output_type": "execute_result"
    }
   ],
   "source": [
    "gdreg.regress.get_block(df_score, n_block=10)"
   ]
  },
  {
   "cell_type": "code",
   "execution_count": null,
   "metadata": {},
   "outputs": [],
   "source": []
  },
  {
   "cell_type": "markdown",
   "metadata": {},
   "source": [
    "### Test for correctness"
   ]
  },
  {
   "cell_type": "code",
   "execution_count": 39,
   "metadata": {},
   "outputs": [],
   "source": [
    "# Read in all LD matrices \n",
    "dic_ld_full = {}\n",
    "temp_path = \"/n/groups/price/martin/WES_analysis/toy_1K/results/full_ld\"\n",
    "for CHR in range(1,11):\n",
    "    for CHR_REF in range(1,11):\n",
    "        dic_ld_full[(CHR,CHR_REF)] = np.load(\n",
    "            temp_path + '/top_1K_chr%d_chr%d.ld.npy' % (CHR, CHR_REF)\n",
    "        )\n",
    "n_sample = 1000"
   ]
  },
  {
   "cell_type": "markdown",
   "metadata": {},
   "source": [
    "### Test for gdreg.score.compute_dld_score"
   ]
  },
  {
   "cell_type": "code",
   "execution_count": 184,
   "metadata": {},
   "outputs": [
    {
     "name": "stdout",
     "output_type": "stream",
     "text": [
      "abs_dif=1.22e-14\n",
      "abs_dif=1.22e-14\n"
     ]
    }
   ],
   "source": [
    "n_snp = 10\n",
    "n_snp_ref = 50\n",
    "np.random.seed(0)\n",
    "mat_ld = np.random.randn(n_snp_ref, n_snp)\n",
    "mat_G = np.random.choice([0,1], size=[n_snp_ref, n_snp_ref])\n",
    "mat_G = (mat_G + mat_G.T).astype(bool)\n",
    "# mat_G = sp.sparse.csr_matrix(mat_G)\n",
    "v_annot = np.random.randn(n_snp_ref)\n",
    "v_ps_sd = np.random.rand(n_snp_ref) \n",
    "\n",
    "v_score_gold = [\n",
    "    mat_ld[:,x].reshape([-1,1]).T.dot(\n",
    "        mat_G * 0.5 * (np.outer(v_annot, np.ones(n_snp_ref)) + np.outer(np.ones(n_snp_ref), v_annot))\n",
    "        * np.outer(v_ps_sd, v_ps_sd)).dot(\n",
    "        mat_ld[:,x].reshape([-1,1])\n",
    "    )[0][0] for x in range(n_snp)\n",
    "]\n",
    "v_score_gold = np.array(v_score_gold)\n",
    "\n",
    "v_score = gdreg.score.compute_dld_score(mat_ld, mat_G, v_annot, v_ps_sd)\n",
    "print('abs_dif=%0.3g'%np.absolute(v_score_gold - v_score).sum())\n",
    "\n",
    "v_score = gdreg.score.compute_dld_score(mat_ld, sp.sparse.csr_matrix(mat_G), v_annot, v_ps_sd)\n",
    "print('abs_dif=%0.3g'%np.absolute(v_score_gold - v_score).sum())"
   ]
  },
  {
   "cell_type": "code",
   "execution_count": null,
   "metadata": {},
   "outputs": [],
   "source": []
  }
 ],
 "metadata": {
  "kernelspec": {
   "display_name": "Python 3",
   "language": "python",
   "name": "python3"
  },
  "language_info": {
   "codemirror_mode": {
    "name": "ipython",
    "version": 3
   },
   "file_extension": ".py",
   "mimetype": "text/x-python",
   "name": "python",
   "nbconvert_exporter": "python",
   "pygments_lexer": "ipython3",
   "version": "3.7.4"
  }
 },
 "nbformat": 4,
 "nbformat_minor": 2
}
