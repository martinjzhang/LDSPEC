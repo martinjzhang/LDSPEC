{
 "cells": [
  {
   "cell_type": "code",
   "execution_count": 1,
   "metadata": {},
   "outputs": [],
   "source": [
    "import numpy as np\n",
    "import pandas as pd\n",
    "import gdreg\n",
    "import time\n",
    "import os\n",
    "import matplotlib.pyplot as plt\n",
    "\n",
    "# autoreload\n",
    "%load_ext autoreload\n",
    "%autoreload 2"
   ]
  },
  {
   "cell_type": "code",
   "execution_count": 19,
   "metadata": {},
   "outputs": [],
   "source": [
    "# JOB = \"compute_phen\"\n",
    "# PGEN_FILE = \"/n/groups/price/martin/WES_analysis/toy_1K/chr@_v1.SPB.hg19.toy_1K\"\n",
    "# EFF_FILE = \"/n/groups/price/martin/WES_analysis/toy_1K/sanity_rep0.eff.gz\"\n",
    "# PHEN_FILE = None\n",
    "# PREFIX_OUT = \"/n/groups/price/martin/WES_analysis/toy_1K/sanity_rep0\"\n",
    "# RANDOM_SEED = 0"
   ]
  },
  {
   "cell_type": "code",
   "execution_count": 5,
   "metadata": {},
   "outputs": [],
   "source": [
    "JOB = \"compute_sumstats\"\n",
    "PGEN_FILE = \"/n/groups/price/martin/WES_analysis/toy_1K/chr@_v1.SPB.hg19.toy_1K\"\n",
    "EFF_FILE = None\n",
    "PHEN_FILE = \"/n/groups/price/martin/WES_analysis/toy_1K/sanity_rep0.phen\"\n",
    "PREFIX_OUT = \"/n/groups/price/martin/WES_analysis/toy_1K/sanity_rep0\"\n",
    "RANDOM_SEED = 0"
   ]
  },
  {
   "cell_type": "code",
   "execution_count": 7,
   "metadata": {},
   "outputs": [
    {
     "name": "stdout",
     "output_type": "stream",
     "text": [
      "******************************************************************************\n",
      "* Gene-level directional effect regression (GDReg)\n",
      "* Version 0.0.2\n",
      "* Martin Jinye Zhang\n",
      "* HSPH / Broad Institute\n",
      "* MIT License\n",
      "******************************************************************************\n",
      "Call: run_simulation.py \\\n",
      "--job compute_sumstats\\\n",
      "--pgen_file /n/groups/price/martin/WES_analysis/toy_1K/chr@_v1.SPB.hg19.toy_1K\\\n",
      "--eff_file None\\\n",
      "--phen_file /n/groups/price/martin/WES_analysis/toy_1K/sanity_rep0.phen\\\n",
      "--random_seed 0\\\n",
      "--prefix_out /n/groups/price/martin/WES_analysis/toy_1K/sanity_rep0\n",
      "\n"
     ]
    }
   ],
   "source": [
    "sys_start_time = time.time()\n",
    "\n",
    "###########################################################################################\n",
    "######                                    Parse Options                              ######\n",
    "###########################################################################################\n",
    "\n",
    "# JOB = args.job\n",
    "# PGEN_FILE = args.pgen_file\n",
    "# EFF_FILE = args.eff_file\n",
    "# PHEN_FILE = args.phen_file\n",
    "# PREFIX_OUT = args.prefix_out\n",
    "# RANDOM_SEED = args.random_seed\n",
    "\n",
    "# Check if the options are legal\n",
    "LEGAL_JOB_LIST = [\n",
    "    \"compute_phen\",\n",
    "    \"compute_sumstats\",\n",
    "]\n",
    "err_msg = \"# run_simulation: --job=%s not supported\" % JOB\n",
    "assert JOB in LEGAL_JOB_LIST, err_msg\n",
    "\n",
    "if (EFF_FILE is None) & (JOB in [\"compute_phen\"]):\n",
    "    raise ValueError(\"# run_simulation.py: --eff_file required for --job=%s\" % JOB)\n",
    "if (PHEN_FILE is None) & (JOB in [\"compute_sumstats\"]):\n",
    "    raise ValueError(\"# run_simulation.py: --phen_file required for --job=%s\" % JOB)\n",
    "\n",
    "# Print input options\n",
    "header = gdreg.util.get_cli_head()\n",
    "header += \"Call: run_simulation.py \\\\\\n\"\n",
    "header += \"--job %s\\\\\\n\" % JOB\n",
    "header += \"--pgen_file %s\\\\\\n\" % PGEN_FILE\n",
    "header += \"--eff_file %s\\\\\\n\" % EFF_FILE\n",
    "header += \"--phen_file %s\\\\\\n\" % PHEN_FILE\n",
    "header += \"--random_seed %d\\\\\\n\" % RANDOM_SEED\n",
    "header += \"--prefix_out %s\\n\" % PREFIX_OUT\n",
    "print(header)"
   ]
  },
  {
   "cell_type": "code",
   "execution_count": 9,
   "metadata": {},
   "outputs": [
    {
     "name": "stdout",
     "output_type": "stream",
     "text": [
      "# Loading --pgen\n",
      "    Genotype data for 10 CHRs:\n",
      "        CHR 1 (1000 samples 1400 SNPs)\n",
      "        CHR 2 (1000 samples 1322 SNPs)\n",
      "        CHR 3 (1000 samples 1326 SNPs)\n",
      "        CHR 4 (1000 samples 1341 SNPs)\n",
      "        CHR 5 (1000 samples 1311 SNPs)\n",
      "        CHR 6 (1000 samples 1341 SNPs)\n",
      "        CHR 7 (1000 samples 1375 SNPs)\n",
      "        CHR 8 (1000 samples 1320 SNPs)\n",
      "        CHR 9 (1000 samples 1307 SNPs)\n",
      "        CHR10 (1000 samples 1280 SNPs)\n",
      "    sys_time=425.2s, sys_mem=0.098GB\n",
      "# Loading --phen_file\n",
      "    1000 samples, phen_name=TRAIT\n",
      "    sys_time=425.2s, sys_mem=0.098GB\n"
     ]
    }
   ],
   "source": [
    "###########################################################################################\n",
    "######                                   Data Loading                                ######\n",
    "###########################################################################################\n",
    "# Load genotype data\n",
    "if JOB in [\"compute_phen\", \"compute_sumstats\"]:\n",
    "    print(\"# Loading --pgen\")\n",
    "\n",
    "    dic_data = {}\n",
    "    for CHR in range(1, 23):\n",
    "        if os.path.exists(PGEN_FILE.replace(\"@\", \"%s\" % CHR) + \".pgen\"):\n",
    "            dic_data[CHR] = gdreg.util.read_pgen(PGEN_FILE.replace(\"@\", \"%s\" % CHR))\n",
    "    print(\"    Genotype data for %d CHRs:\" % len(dic_data))\n",
    "    for CHR in dic_data:\n",
    "        n_sample = dic_data[CHR][\"psam\"].shape[0]\n",
    "        n_snp = dic_data[CHR][\"pvar\"].shape[0]\n",
    "        print(\"        CHR%2d (%d samples %d SNPs)\" % (CHR, n_sample, n_snp))\n",
    "    print(\"    \" + gdreg.util.get_sys_info(sys_start_time))\n",
    "\n",
    "# Load EFF_FILE\n",
    "if JOB in [\"compute_phen\"]:\n",
    "    print(\"# Loading --eff_file\")\n",
    "\n",
    "    df_effect = pd.read_csv(EFF_FILE, sep=\"\\t\", index_col=None)\n",
    "    \n",
    "    n_snp = df_effect.shape[0]\n",
    "    n_CHR = len(set(df_effect[\"CHR\"]))\n",
    "    h2g = (df_effect['EFF']**2).sum()\n",
    "    print(\n",
    "        \"    %s SNPs from %d CHRs, h2g=%0.3f\" % (n_snp, n_CHR, h2g)\n",
    "    )\n",
    "    print(\"    \" + gdreg.util.get_sys_info(sys_start_time))\n",
    "    \n",
    "# Load PHEN_FILE\n",
    "if JOB in [\"compute_sumstats\"]:\n",
    "    print(\"# Loading --phen_file\")\n",
    "    df_phen = pd.read_csv(PHEN_FILE, sep=\"\\t\", index_col=None)\n",
    "    phen_name = df_phen.columns[2]\n",
    "\n",
    "    print(\"    %d samples, phen_name=%s\" % (df_phen.shape[0], phen_name))\n",
    "    print(\"    \" + gdreg.util.get_sys_info(sys_start_time))\n",
    "    "
   ]
  },
  {
   "cell_type": "code",
   "execution_count": null,
   "metadata": {},
   "outputs": [],
   "source": []
  }
 ],
 "metadata": {
  "kernelspec": {
   "display_name": "Python 3",
   "language": "python",
   "name": "python3"
  },
  "language_info": {
   "codemirror_mode": {
    "name": "ipython",
    "version": 3
   },
   "file_extension": ".py",
   "mimetype": "text/x-python",
   "name": "python",
   "nbconvert_exporter": "python",
   "pygments_lexer": "ipython3",
   "version": "3.7.4"
  }
 },
 "nbformat": 4,
 "nbformat_minor": 2
}
