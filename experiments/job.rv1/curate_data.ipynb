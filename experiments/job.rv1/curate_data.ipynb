{
 "cells": [
  {
   "cell_type": "code",
   "execution_count": 1,
   "metadata": {},
   "outputs": [],
   "source": [
    "import pandas as pd\n",
    "import numpy as np\n",
    "import matplotlib.pyplot as plt\n",
    "import os\n",
    "import ldspec\n",
    "import zipfile\n",
    "\n",
    "# autoreload\n",
    "%load_ext autoreload\n",
    "%autoreload 2"
   ]
  },
  {
   "cell_type": "markdown",
   "metadata": {},
   "source": [
    "### Get small 50K data"
   ]
  },
  {
   "cell_type": "code",
   "execution_count": 4,
   "metadata": {},
   "outputs": [],
   "source": [
    "temp_df = pd.read_csv(\n",
    "    \"/n/groups/price/martin/LDSPEC_data/UKBimp_337K_MAF001/unrelated_337K.txt\", sep=' ', header=None\n",
    ")\n",
    "np.random.seed(0)\n",
    "ind_select = np.random.choice([0, 1], size=temp_df.shape[0], p=[0.85, 0.15]).astype(bool)\n",
    "temp_df_small = temp_df.loc[ind_select]\n",
    "# temp_df_small.to_csv(\n",
    "#     \"/n/groups/price/martin/LDSPEC_data/UKBimp_337K_MAF001/unrelated_337K_ss50K.txt\",\n",
    "#     sep=' ', header=None, index=False,\n",
    "# )\n",
    "temp_df_rep = temp_df.loc[~ind_select]\n",
    "temp_df_rep.to_csv(\n",
    "    \"/n/groups/price/martin/LDSPEC_data/UKBimp_337K_MAF001/unrelated_337K_rep287K.txt\",\n",
    "    sep=' ', header=None, index=False,\n",
    ")"
   ]
  },
  {
   "cell_type": "markdown",
   "metadata": {},
   "source": [
    "### Get NB44K and EAS2K"
   ]
  },
  {
   "cell_type": "code",
   "execution_count": 2,
   "metadata": {},
   "outputs": [
    {
     "name": "stdout",
     "output_type": "stream",
     "text": [
      "df_sample 488374\n",
      "df_unrelated_337K 337426\n",
      "df_nonStringentBritish 78674\n",
      "df_White 459335\n",
      "df_related 81158\n"
     ]
    }
   ],
   "source": [
    "df_sample = pd.read_csv(\n",
    "    '/n/groups/price/UKBiobank/app10438assoc/ukb4777.processed_and_post.ukbPCs.tab.gz', sep='\\t',\n",
    ")\n",
    "print('df_sample', df_sample.shape[0])\n",
    "df_unrelated_337K = pd.read_csv(\n",
    "    \"/n/groups/price/martin/LDSPEC_data/UKBimp_337K_MAF001/unrelated_337K.txt\", sep=' ', header=None\n",
    ")\n",
    "print('df_unrelated_337K', df_unrelated_337K.shape[0])\n",
    "df_nonStringentBritish = pd.read_csv(\n",
    "    \"/n/groups/price/UKBiobank/sampleQC/remove.nonStringentBritish.FID_IID.txt\", sep=' ', header=None\n",
    ")\n",
    "print('df_nonStringentBritish', df_nonStringentBritish.shape[0])\n",
    "df_White = pd.read_csv(\n",
    "    \"/n/groups/price/UKBiobank/sampleQC/remove.White.FID_IID.txt\", sep=' ',\n",
    ")\n",
    "print('df_White', df_White.shape[0])\n",
    "df_related = pd.read_csv(\n",
    "    \"/n/groups/price/UKBiobank/sampleQC/remove.related.FID_IID.txt\", sep=' ', header=None,\n",
    ")\n",
    "print('df_related', df_related.shape[0])"
   ]
  },
  {
   "cell_type": "code",
   "execution_count": 11,
   "metadata": {},
   "outputs": [
    {
     "name": "stdout",
     "output_type": "stream",
     "text": [
      "temp_df 44012\n"
     ]
    },
    {
     "data": {
      "text/plain": [
       "cov_ETHNICITY\n",
       "1001.0    18189\n",
       "1003.0    14715\n",
       "1002.0    10650\n",
       "1.0         458\n",
       "dtype: int64"
      ]
     },
     "metadata": {},
     "output_type": "display_data"
    }
   ],
   "source": [
    "### 40K non-British Europeans (Weissbrod) (suffix: NB44K)\n",
    "### df_nonStringentBritish & df_White \\ df_unrelated_337K \\ df_related\n",
    "temp_set = set(df_nonStringentBritish[0]) & set(df_White['FID'])\n",
    "temp_set = temp_set - set(df_unrelated_337K[0]) - set(df_related[0])\n",
    "\n",
    "temp_df = df_sample.loc[df_sample['FID'].isin(temp_set), ['FID', 'IID']]\n",
    "print('temp_df', temp_df.shape[0])\n",
    "display(df_sample.loc[df_sample['IID'].isin(temp_df['FID'])].value_counts('cov_ETHNICITY'))\n",
    "temp_df.to_csv(\n",
    "    \"/n/groups/price/martin/LDSPEC_data/UKBimp_337K_MAF001/sample_nonBritish_White_unrelated_44K.txt\",\n",
    "    sep=' ', header=None, index=False,\n",
    ")"
   ]
  },
  {
   "cell_type": "code",
   "execution_count": 16,
   "metadata": {},
   "outputs": [
    {
     "name": "stdout",
     "output_type": "stream",
     "text": [
      "temp_df 1422\n"
     ]
    },
    {
     "data": {
      "text/plain": [
       "cov_ETHNICITY\n",
       "5.0    1422\n",
       "dtype: int64"
      ]
     },
     "metadata": {},
     "output_type": "display_data"
    }
   ],
   "source": [
    "### 1.5K EAS (suffix: EAS2K)\n",
    "### Chinese\n",
    "temp_set = set(df_sample.loc[df_sample['cov_ETHNICITY'].isin([5]), 'FID'])\n",
    "temp_set = temp_set - set(df_unrelated_337K[0]) - set(df_related[0])\n",
    "\n",
    "temp_df = df_sample.loc[df_sample['FID'].isin(temp_set), ['FID', 'IID']]\n",
    "print('temp_df', temp_df.shape[0])\n",
    "display(df_sample.loc[df_sample['IID'].isin(temp_df['FID'])].value_counts('cov_ETHNICITY'))\n",
    "temp_df.to_csv(\n",
    "    \"/n/groups/price/martin/LDSPEC_data/UKBimp_337K_MAF001/sample_unrelated_EAS2K.txt\",\n",
    "    sep=' ', header=None, index=False,\n",
    ")"
   ]
  },
  {
   "cell_type": "markdown",
   "metadata": {},
   "source": [
    "### Check sumstats "
   ]
  },
  {
   "cell_type": "code",
   "execution_count": 5,
   "metadata": {},
   "outputs": [
    {
     "data": {
      "text/plain": [
       "array([[1.        , 0.95796357],\n",
       "       [0.95796357, 1.        ]])"
      ]
     },
     "execution_count": 5,
     "metadata": {},
     "output_type": "execute_result"
    }
   ],
   "source": [
    "sumstats_file1 = '/n/groups/price/martin/LDSPEC_data/UKBimp_rep287K_MAF001_chimp/sumstats/@.nomhc.sumstats.gz'\n",
    "sumstats_file2 = '/n/groups/price/martin/LDSPEC_data/UKBimp_337K_MAF001_chimp/sumstats/@.nomhc.sumstats.gz'\n",
    "trait = 'blood_RED_COUNT'\n",
    "temp_df1 = pd.read_csv(sumstats_file1.replace('@', trait), sep=\"\\t\", index_col=None)\n",
    "temp_df2 = pd.read_csv(sumstats_file2.replace('@', trait), sep=\"\\t\", index_col=None)\n",
    "temp_df1.index = temp_df1['SNP']\n",
    "temp_df2.index = temp_df2['SNP']\n",
    "snp_list = list(set(temp_df1.index) & set(temp_df2.index))[:10000]\n",
    "np.corrcoef(temp_df1.loc[snp_list, 'Z'], temp_df2.loc[snp_list, 'Z'])"
   ]
  },
  {
   "cell_type": "markdown",
   "metadata": {},
   "source": [
    "### Check LD results"
   ]
  },
  {
   "cell_type": "code",
   "execution_count": 3,
   "metadata": {},
   "outputs": [
    {
     "name": "stdout",
     "output_type": "stream",
     "text": [
      "2/1490 unfinished\n"
     ]
    }
   ],
   "source": [
    "SNP_RANGE_FILE=\"/n/groups/price/martin/LDSPEC_data/UKBimp_ss50K_MAF001_chimp/ukb_imp_v3.snp_range.txt\"\n",
    "SNP_RANGE_FILE_UF=\"/n/groups/price/martin/LDSPEC_data/UKBimp_ss50K_MAF001_chimp/ukb_imp_v3.snp_range.uf.txt\"\n",
    "LD_FILE=\"/n/scratch/users/j/jz286/imp_geno_ss50K_chimp.ldspec_ld_1e6/ukb_imp_v3_chimp.@_ld.npz\"\n",
    "\n",
    "snp_range_list = []\n",
    "with open(SNP_RANGE_FILE, \"r\") as f:\n",
    "    for line in f:\n",
    "        snp_range_list.append(line.strip())\n",
    "\n",
    "snp_range_uf_list = []\n",
    "for snp_range in snp_range_list:\n",
    "    ld_file = LD_FILE.replace(\"@\", snp_range)\n",
    "    if os.path.exists(ld_file):\n",
    "        if zipfile.is_zipfile(ld_file):\n",
    "            continue            \n",
    "    snp_range_uf_list.append(snp_range)\n",
    "\n",
    "with open(SNP_RANGE_FILE_UF, \"w\") as f:\n",
    "    for snp_range in snp_range_uf_list:\n",
    "        f.write(\"%s\\n\" % snp_range)\n",
    "        \n",
    "print(\"%d/%d unfinished\" % (len(snp_range_uf_list), len(snp_range_list)))"
   ]
  },
  {
   "cell_type": "code",
   "execution_count": 6,
   "metadata": {},
   "outputs": [],
   "source": [
    "DATA_PATH = \"/n/groups/price/martin/LDSPEC_data/\""
   ]
  },
  {
   "cell_type": "code",
   "execution_count": 9,
   "metadata": {},
   "outputs": [],
   "source": [
    "temp_col = pd.read_csv(\n",
    "    \"/n/groups/price/martin/LDSPEC_data/finemapping/release1.1/UKBB_94traits_release1.cols\", \n",
    "    sep='\\t', header=None,\n",
    ")\n",
    "\n",
    "df_fm = pd.read_csv(\n",
    "    \"/n/groups/price/martin/LDSPEC_data/finemapping/release1.1/UKBB_94traits_release1.bed.gz\",\n",
    "    sep='\\t', header=None,\n",
    ")\n",
    "df_fm.columns = temp_col[0]"
   ]
  },
  {
   "cell_type": "code",
   "execution_count": 14,
   "metadata": {},
   "outputs": [
    {
     "data": {
      "text/plain": [
       "192668"
      ]
     },
     "execution_count": 14,
     "metadata": {},
     "output_type": "execute_result"
    }
   ],
   "source": [
    "(df_fm['trait']=='Height').sum()"
   ]
  },
  {
   "cell_type": "markdown",
   "metadata": {},
   "source": [
    "### Check assoc testing results "
   ]
  },
  {
   "cell_type": "code",
   "execution_count": 2,
   "metadata": {
    "scrolled": true
   },
   "outputs": [
    {
     "name": "stdout",
     "output_type": "stream",
     "text": [
      "blood_PLATELET_COUNT\n",
      "['     c22_s190000_e199305\\n', '    sys_time=29342.8s, sys_mem=8.1GB\\n']\n",
      "blood_RBC_DISTRIB_WIDTH\n",
      "['     c22_s190000_e199305\\n', '    sys_time=31800.9s, sys_mem=8GB\\n']\n",
      "blood_RED_COUNT\n",
      "['     c22_s190000_e199305\\n', '    sys_time=31252.9s, sys_mem=8GB\\n']\n",
      "blood_WHITE_COUNT\n",
      "['     c22_s190000_e199305\\n', '    sys_time=24523.5s, sys_mem=7.9GB\\n']\n",
      "bmd_HEEL_TSCOREz\n",
      "['     c22_s190000_e199305\\n', '    sys_time=36117.5s, sys_mem=8GB\\n']\n",
      "body_BALDING1\n",
      "['     c22_s190000_e199305\\n', '    sys_time=18212.4s, sys_mem=7.8GB\\n']\n",
      "body_BMIz\n",
      "['     c22_s190000_e199305\\n', '    sys_time=17792.1s, sys_mem=7.9GB\\n']\n",
      "body_HEIGHTz\n",
      "['     c22_s190000_e199305\\n', '    sys_time=60054.7s, sys_mem=8.5GB\\n']\n",
      "body_WHRadjBMIz\n",
      "['     c22_s190000_e199305\\n', '    sys_time=14211.3s, sys_mem=7.9GB\\n']\n",
      "bp_DIASTOLICadjMEDz\n",
      "['     c22_s190000_e199305\\n', '    sys_time=18209.9s, sys_mem=7.8GB\\n']\n",
      "cancer_BREAST\n",
      "['     c22_s190000_e199305\\n', '    sys_time=8968.3s, sys_mem=7.8GB\\n']\n",
      "cancer_PROSTATE\n",
      "['     c22_s190000_e199305\\n', '    sys_time=9070.0s, sys_mem=7.9GB\\n']\n",
      "cov_EDU_YEARS\n",
      "['     c22_s190000_e199305\\n', '    sys_time=11228.1s, sys_mem=7.8GB\\n']\n",
      "disease_ALLERGY_ECZEMA_DIAGNOSED\n",
      "['     c22_s190000_e199305\\n', '    sys_time=11140.5s, sys_mem=7.8GB\\n']\n",
      "disease_HYPOTHYROIDISM_SELF_REP\n",
      "['     c22_s190000_e199305\\n', '    sys_time=9844.9s, sys_mem=7.9GB\\n']\n",
      "lung_FEV1FVCzSMOKE\n",
      "['     c22_s190000_e199305\\n', '    sys_time=15527.6s, sys_mem=7.9GB\\n']\n",
      "lung_FVCzSMOKE\n",
      "['     c22_s190000_e199305\\n', '    sys_time=15898.3s, sys_mem=7.7GB\\n']\n",
      "mental_NEUROTICISM\n",
      "['     c22_s190000_e199305\\n', '    sys_time=11437.9s, sys_mem=7.7GB\\n']\n",
      "other_MORNINGPERSON\n",
      "['     c22_s190000_e199305\\n', '    sys_time=9412.8s, sys_mem=7.9GB\\n']\n",
      "pigment_SUNBURN\n",
      "['     c22_s190000_e199305\\n', '    sys_time=14772.6s, sys_mem=7.7GB\\n']\n",
      "repro_MENARCHE_AGE\n",
      "['     c22_s190000_e199305\\n', '    sys_time=12257.8s, sys_mem=7.7GB\\n']\n",
      "repro_MENOPAUSE_AGE\n",
      "['     c22_s190000_e199305\\n', '    sys_time=8738.0s, sys_mem=7.9GB\\n']\n",
      "repro_NumberChildrenEverBorn_Pooled\n",
      "['     c22_s190000_e199305\\n', '    sys_time=8262.5s, sys_mem=7.8GB\\n']\n",
      "biochemistry_AlkalinePhosphatase\n",
      "['     c22_s190000_e199305\\n', '    sys_time=31990.5s, sys_mem=8GB\\n']\n",
      "biochemistry_AspartateAminotransferase\n",
      "['     c22_s190000_e199305\\n', '    sys_time=16578.0s, sys_mem=7.9GB\\n']\n",
      "biochemistry_Cholesterol\n",
      "['     c22_s190000_e199305\\n', '    sys_time=20182.4s, sys_mem=7.8GB\\n']\n",
      "biochemistry_Creatinine\n",
      "['     c22_s190000_e199305\\n', '    sys_time=19203.8s, sys_mem=7.9GB\\n']\n",
      "biochemistry_IGF1\n",
      "['     c22_s190000_e199305\\n', '    sys_time=24871.0s, sys_mem=8GB\\n']\n",
      "biochemistry_Phosphate\n",
      "['     c22_s190000_e199305\\n', '    sys_time=15199.1s, sys_mem=7.9GB\\n']\n",
      "biochemistry_TotalBilirubin\n",
      "['     c22_s190000_e199305\\n', '    sys_time=16650.4s, sys_mem=7.9GB\\n']\n",
      "biochemistry_TotalProtein\n",
      "['     c22_s190000_e199305\\n', '    sys_time=18314.6s, sys_mem=7.8GB\\n']\n",
      "biochemistry_VitaminD\n",
      "['     c22_s190000_e199305\\n', '    sys_time=13644.5s, sys_mem=7.9GB\\n']\n"
     ]
    }
   ],
   "source": [
    "DATA_PATH = \"/n/groups/price/martin/LDSPEC_data/\"\n",
    "trait_list = pd.read_csv(\n",
    "    '/n/groups/price/martin/LDSPEC_data/UKBB_trait_ss50K/trait_list_all_indpt.txt', header=None,\n",
    ")[0].to_list()\n",
    "rho_r_ratio_list = [-1, -0.5, 0, 0.5, 1]\n",
    "pairwise_file = '/n/groups/price/martin/LDSPEC_data/rv1_assoc/jnt_test_120724/UKBimp_ss50K_MAF001_chimp.@t.@r.tsv'\n",
    "\n",
    "for trait in trait_list:\n",
    "    log_file = pairwise_file.replace('@t', trait).replace('.@r.tsv', '.log')\n",
    "    with open(log_file, 'r') as f:\n",
    "        line_list = []\n",
    "        for line in f:\n",
    "            line_list.append(line)\n",
    "    print(trait)\n",
    "    print(line_list[-2:])"
   ]
  },
  {
   "cell_type": "code",
   "execution_count": null,
   "metadata": {},
   "outputs": [],
   "source": []
  }
 ],
 "metadata": {
  "kernelspec": {
   "display_name": "Python 3 (ipykernel)",
   "language": "python",
   "name": "python3"
  },
  "language_info": {
   "codemirror_mode": {
    "name": "ipython",
    "version": 3
   },
   "file_extension": ".py",
   "mimetype": "text/x-python",
   "name": "python",
   "nbconvert_exporter": "python",
   "pygments_lexer": "ipython3",
   "version": "3.12.8"
  }
 },
 "nbformat": 4,
 "nbformat_minor": 4
}
