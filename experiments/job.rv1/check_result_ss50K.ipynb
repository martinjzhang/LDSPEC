{
 "cells": [
  {
   "cell_type": "code",
   "execution_count": 1,
   "metadata": {},
   "outputs": [],
   "source": [
    "import numpy as np\n",
    "import pandas as pd\n",
    "import matplotlib.pyplot as plt\n",
    "import os\n",
    "import ldspec\n",
    "import zipfile\n",
    "\n",
    "# autoreload\n",
    "%load_ext autoreload\n",
    "%autoreload 2"
   ]
  },
  {
   "cell_type": "markdown",
   "metadata": {},
   "source": [
    "### Unfinished .ld files"
   ]
  },
  {
   "cell_type": "code",
   "execution_count": 2,
   "metadata": {},
   "outputs": [
    {
     "name": "stdout",
     "output_type": "stream",
     "text": [
      "0/1490 unfinished\n"
     ]
    }
   ],
   "source": [
    "SNP_RANGE_FILE=\"/n/groups/price/martin/LDSPEC_data/UKBimp_ss50K_MAF001_chimp/ukb_imp_v3.snp_range.txt\"\n",
    "SNP_RANGE_FILE_UF=\"/n/groups/price/martin/LDSPEC_data/UKBimp_ss50K_MAF001_chimp/ukb_imp_v3.snp_range.uf.txt\"\n",
    "LD_FILE=\"/n/scratch/users/j/jz286/imp_geno_ss50K_chimp.ldspec_ld_1e7/ukb_imp_v3_chimp.@_ld.npz\"\n",
    "\n",
    "snp_range_list = []\n",
    "with open(SNP_RANGE_FILE, \"r\") as f:\n",
    "    for line in f:\n",
    "        snp_range_list.append(line.strip())\n",
    "\n",
    "snp_range_uf_list = []\n",
    "for snp_range in snp_range_list:\n",
    "    ld_file = LD_FILE.replace(\"@\", snp_range)\n",
    "    if os.path.exists(ld_file):\n",
    "        if zipfile.is_zipfile(ld_file):\n",
    "            continue            \n",
    "    snp_range_uf_list.append(snp_range)\n",
    "\n",
    "with open(SNP_RANGE_FILE_UF, \"w\") as f:\n",
    "    for snp_range in snp_range_uf_list:\n",
    "        f.write(\"%s\\n\" % snp_range)\n",
    "        \n",
    "print(\"%d/%d unfinished\" % (len(snp_range_uf_list), len(snp_range_list)))"
   ]
  },
  {
   "cell_type": "markdown",
   "metadata": {},
   "source": [
    "### Correctness of LD¶"
   ]
  },
  {
   "cell_type": "code",
   "execution_count": 24,
   "metadata": {},
   "outputs": [],
   "source": [
    "PGEN_FILE=\"/n/scratch/users/j/jz286/imp_geno_ss50K_chimp/ukb_imp_chr1_v3_chimp\"\n",
    "dic_data = ldspec.util.read_pgen(PGEN_FILE)\n",
    "LD_FILE=\"/n/scratch/users/j/jz286/imp_geno_ss50K_chimp.ldspec_ld_1e7/ukb_imp_v3_chimp.c1_s0_e10000_ld.npz\"\n",
    "mat_ld, dic_range = ldspec.util.read_ld(LD_FILE)"
   ]
  },
  {
   "cell_type": "code",
   "execution_count": 23,
   "metadata": {},
   "outputs": [],
   "source": [
    "df_pvar = pd.read_csv(\n",
    "    '/n/groups/price/UKBiobank/insample_ld/pvar_files/ukb_imp_chr1_v3_chimp', sep='\\t'.\n",
    ")\n",
    "LD_FILE_REF=\"/n/groups/price/UKBiobank/insample_ld/ld_files/ukb_imp_v3_chimp.c1_s0_e10000_ld.npz\"\n",
    "mat_ld_ref, dic_range_ref = ldspec.util.read_ld(LD_FILE_REF)"
   ]
  },
  {
   "cell_type": "code",
   "execution_count": 2,
   "metadata": {},
   "outputs": [],
   "source": [
    "df_pvar = pd.read_csv(\n",
    "    '/n/groups/price/UKBiobank/insample_ld/pvar_files/ukb_imp_chr1_v3_chimp.pvar', sep='\\t',\n",
    ")"
   ]
  },
  {
   "cell_type": "markdown",
   "metadata": {},
   "source": [
    "### Unfinished .score.gz files¶"
   ]
  },
  {
   "cell_type": "code",
   "execution_count": null,
   "metadata": {},
   "outputs": [],
   "source": [
    "# annot\n",
    "SNP_RANGE_FILE=\"/n/groups/price/martin/LDSPEC_data/UKBimp_ss50K_MAF001_chimp/ukb_imp_v3.snp_range.txt\"\n",
    "SNP_RANGE_FILE_UF=\"/n/groups/price/martin/LDSPEC_data/UKBimp_ss50K_MAF001_chimp/ukb_imp_v3.snp_range.uf.txt\"\n",
    "SCORE_FILE=\"/n/scratch/users/j/jz286/imp_geno_ss50K_chimp.score/ukb_imp_v3.@_score.tsv.gz\"\n",
    "\n",
    "snp_range_list = []\n",
    "with open(SNP_RANGE_FILE, \"r\") as f:\n",
    "    for line in f:\n",
    "        snp_range_list.append(line.strip())\n",
    "\n",
    "snp_range_uf_list = []\n",
    "for snp_range in snp_range_list:\n",
    "    score_file = SCORE_FILE.replace(\"@\", snp_range)\n",
    "    if os.path.exists(score_file):\n",
    "#         temp_df = pd.read_csv(score_file, sep=\"\\t\", index_col=None, nrows=5)\n",
    "        temp_df = pd.read_csv(score_file, sep=\"\\t\", index_col=None)\n",
    "        if temp_df.isna().sum().sum()==0:\n",
    "            continue            \n",
    "    snp_range_uf_list.append(snp_range)\n",
    "\n",
    "with open(SNP_RANGE_FILE_UF, \"w\") as f:\n",
    "    for snp_range in snp_range_uf_list:\n",
    "        f.write(\"%s\\n\" % snp_range)\n",
    "        \n",
    "print(\"%d/%d unfinished\" % (len(snp_range_uf_list), len(snp_range_list)))"
   ]
  },
  {
   "cell_type": "code",
   "execution_count": 5,
   "metadata": {},
   "outputs": [
    {
     "name": "stdout",
     "output_type": "stream",
     "text": [
      "df_score (1159645, 305) df_pvar (1159645, 5)\n"
     ]
    }
   ],
   "source": [
    "# If scores are complete \n",
    "score_file = '/n/groups/price/martin/LDSPEC_data/UKBimp_ss50K_MAF001_chimp/baseline_sp.c@_score.tsv.gz'\n",
    "pvar_file = '/n/scratch/users/j/jz286/imp_geno_ss50K_chimp/ukb_imp_chr@_v3_chimp.pvar'\n",
    "\n",
    "for CHR in range(1,23):\n",
    "    df_score = pd.read_csv(score_file.replace('@', '%d'%CHR), sep='\\t')\n",
    "    df_pvar = pd.read_csv(pvar_file.replace('@', '%d'%CHR), sep='\\t')\n",
    "    print('df_score', df_score.shape, 'df_pvar', df_pvar.shape)\n",
    "    break"
   ]
  },
  {
   "cell_type": "code",
   "execution_count": 3,
   "metadata": {},
   "outputs": [
    {
     "name": "stdout",
     "output_type": "stream",
     "text": [
      "a (11000) vs. b (11000); overlap=11000\n",
      "DLD:pAN:proxy_100_1000_ld_n100_p0_maf_common_block abs_dif=1.00329e+00 corr=0.47328\n",
      "DLD:pAN:proxy_1000_10000_ld_n100_p0_maf_common_block abs_dif=1.02997e+00 corr=0.44698\n",
      "DLD:pAN:proxy_0_100_ld_p0_p100_maf_common_block    abs_dif=9.92299e-01 corr=0.48710\n",
      "DLD:pAN:proxy_100_1000_ld_p0_p100_maf_lf_block     abs_dif=1.22157e+00 corr=0.30887\n",
      "DLD:pAN:proxy_100_1000_ld_p0_p100_maf_lf_block     abs_dif=1.22157e+00 corr=0.30887\n",
      "\n"
     ]
    }
   ],
   "source": [
    "# Compare score\n",
    "score_file = '/n/groups/price/martin/LDSPEC_data/UKBimp_ss50K_MAF001_chimp/baseline_sp.c10_score.tsv.gz'\n",
    "score_file_ref = '/n/groups/price/martin/LDSPEC_data/UKBimp_337K_MAF001_chimp/ldspec_score_file/'\\\n",
    "    'pannot_prox_ld.c10_score.tsv.gz'\n",
    "# score_file_ref = '/n/groups/price/martin/LDSPEC_data/UKBimp_337K_MAF001_chimp/ldspec_score_file/'\\\n",
    "#     'baseline.c1_score.tsv.gz'\n",
    "\n",
    "df_score = pd.read_csv(score_file, sep='\\t', nrows=11000)\n",
    "df_score_ref = pd.read_csv(score_file_ref, sep='\\t', nrows=11000)\n",
    "\n",
    "temp_set = set(df_score_ref.index)\n",
    "snp_list = [x for x in df_score.index if x in temp_set]\n",
    "df1 = df_score.loc[snp_list].copy()\n",
    "df2 = df_score_ref.loc[snp_list].copy()\n",
    "score_list = [x for x in set(df1)&set(df2) if 'LD:' in x]\n",
    "print('%s (%d) vs. %s (%d); overlap=%d' % (\n",
    "    'a', df_score.shape[0], 'b', df_score_ref.shape[0], len(snp_list)\n",
    "))\n",
    "for score in np.random.choice(score_list, size=5):\n",
    "    print('%-50s abs_dif=%0.5e corr=%0.5f' % (\n",
    "        score, \n",
    "        np.absolute(df1[score]-df2[score]).sum() / np.absolute(df1[score]).sum(), \n",
    "        np.corrcoef(df1[score], df2[score])[0,1]\n",
    "    ))\n",
    "\n",
    "print('')"
   ]
  },
  {
   "cell_type": "code",
   "execution_count": 4,
   "metadata": {},
   "outputs": [
    {
     "data": {
      "image/png": "[encoded data removed]",
      "text/plain": [
       "<Figure size 432x288 with 1 Axes>"
      ]
     },
     "metadata": {
      "needs_background": "light"
     },
     "output_type": "display_data"
    }
   ],
   "source": [
    "plt.figure()\n",
    "plt.scatter(\n",
    "    df1['DLD:pAN:proxy_0_100_ld_p0_p100_maf_common_block'], \n",
    "    df2['DLD:pAN:proxy_0_100_ld_p0_p100_maf_common_block'], alpha=0.2,\n",
    ")\n",
    "plt.show()\n",
    "\n",
    "# plt.figure()\n",
    "# plt.scatter(\n",
    "#     df1['LD:AN:all'], \n",
    "#     df2['LD:AN:all'], alpha=0.2,\n",
    "# )\n",
    "# plt.show()"
   ]
  },
  {
   "cell_type": "markdown",
   "metadata": {},
   "source": [
    "### AVGR"
   ]
  },
  {
   "cell_type": "code",
   "execution_count": 20,
   "metadata": {},
   "outputs": [
    {
     "name": "stdout",
     "output_type": "stream",
     "text": [
      "Missing: /n/groups/price/martin/LDSPEC_data/annot_ss50K/baseline_165annots_chr@.annot.gz\n",
      "dic_avgr 136\n"
     ]
    }
   ],
   "source": [
    "PANNOT_FILE_LIST = [\n",
    "    '/home/jz286/WES_analysis/LDSPEC/experiments/job.analysis_imp_geno_chimp/reg_annot_file/'\n",
    "    'reg_annot_file.ss50K.prox_gene_fct_all_ld.txt',\n",
    "]\n",
    "dic_avgr = {}\n",
    "missing_list = []\n",
    "\n",
    "for PANNOT_FILE in PANNOT_FILE_LIST:\n",
    "    for fpath in pd.read_csv(PANNOT_FILE, header=None)[0]:\n",
    "        if os.path.exists(fpath+'.avgr'):\n",
    "            temp_df = pd.read_csv(fpath+'.avgr', header=None, sep='\\t')\n",
    "            dic_avgr[temp_df[0][0]] = temp_df[1][0]\n",
    "        else:\n",
    "            missing_list.append(fpath)\n",
    "            print('Missing: %s' % fpath)\n",
    "print('dic_avgr', len(dic_avgr))\n",
    "\n",
    "with open(\"/n/groups/price/martin/LDSPEC_data/UKBimp_ss50K_MAF001_chimp/main.avgr\", \"w\") as f:\n",
    "    for pAN in dic_avgr:\n",
    "        f.write(\"%s\\t%0.6f\\n\" % (pAN, dic_avgr[pAN]))\n",
    "        \n",
    "with open('/n/groups/price/martin/LDSPEC_data/UKBimp_ss50K_MAF001_chimp/missing_avgr.txt', 'w') as f:\n",
    "    for fpath in missing_list:\n",
    "        f.write('%s\\n' % fpath)"
   ]
  },
  {
   "cell_type": "markdown",
   "metadata": {},
   "source": [
    "### Unfinished .score.gz files¶"
   ]
  },
  {
   "cell_type": "code",
   "execution_count": null,
   "metadata": {},
   "outputs": [],
   "source": []
  }
 ],
 "metadata": {
  "kernelspec": {
   "display_name": "Python 3",
   "language": "python",
   "name": "python3"
  },
  "language_info": {
   "codemirror_mode": {
    "name": "ipython",
    "version": 3
   },
   "file_extension": ".py",
   "mimetype": "text/x-python",
   "name": "python",
   "nbconvert_exporter": "python",
   "pygments_lexer": "ipython3",
   "version": "3.7.4"
  }
 },
 "nbformat": 4,
 "nbformat_minor": 2
}
