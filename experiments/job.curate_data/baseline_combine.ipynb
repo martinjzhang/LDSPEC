{
 "cells": [
  {
   "cell_type": "code",
   "execution_count": 1,
   "metadata": {},
   "outputs": [],
   "source": [
    "import pandas as pd\n",
    "import numpy as np\n",
    "import os\n",
    "import seaborn as sns\n",
    "import matplotlib.pyplot as plt\n",
    "import gdreg\n",
    "import time\n",
    "\n",
    "%load_ext autoreload\n",
    "%autoreload 2"
   ]
  },
  {
   "cell_type": "markdown",
   "metadata": {},
   "source": [
    "### Main annot"
   ]
  },
  {
   "cell_type": "code",
   "execution_count": 2,
   "metadata": {},
   "outputs": [],
   "source": [
    "DATA_PATH = \"/n/groups/price/martin/data_GDREG/UKBimp_337K_MAF001/baseline_annot\"\n",
    "PGEN_FILE = \"/n/scratch3/users/j/jz286/imp_geno/ukb_imp_chr@_v3\"\n",
    "DIC_ANNOT_FILE = {\n",
    "    \"bed\" : DATA_PATH + \"/bed/ukb_imp_chr@_v3.bed.annot.gz\",\n",
    "    \"diversity\" : DATA_PATH + \"/nucleotide_diversity/diversity.10kb.@.annot\",\n",
    "    \"recomb_rate\" : DATA_PATH + \"/recomb_rate/ukb_imp_chr@_v3.oxford.10kb.recrate.annot\",\n",
    "    'LLD_AFR' : DATA_PATH + \"/LLD_AFR/LLD_AFR.@.annot.gz\",\n",
    "    \"CADD\" : DATA_PATH + \"/CADD/ukb_imp_chr@_v3.CADD\",\n",
    "    \"snfeff\" : DATA_PATH + \"/snfeff/ukb_imp_chr@_v3.annot.gz\",\n",
    "}\n",
    "\n",
    "DIC_NAME_UPDATE = {\n",
    "    \"AN:Vahedi_Tcell_SE_500bp\" : \"AN:Vahedi_Tcell_SE.extend.500\",\n",
    "    \"AN:Vahedi_Tcell_TE_500bp\" : \"AN:Vahedi_Tcell_TE.extend.500\",\n",
    "}"
   ]
  },
  {
   "cell_type": "code",
   "execution_count": 3,
   "metadata": {
    "scrolled": true
   },
   "outputs": [
    {
     "name": "stdout",
     "output_type": "stream",
     "text": [
      "CHR1\n",
      "PGEN n_snp=1161341\n",
      "bed n_snp=1161341\n",
      "nucleotide_diversity n_snp=1161341\n",
      "recomb_rate n_snp=1161341\n",
      "LLD_AFR n_snp=1161341\n"
     ]
    },
    {
     "name": "stderr",
     "output_type": "stream",
     "text": [
      "/home/jz286/myenv/lib/python3.7/site-packages/IPython/core/interactiveshell.py:3058: DtypeWarning: Columns (22,23,27,36,38,41,43,119) have mixed types.Specify dtype option on import or set low_memory=False.\n",
      "  interactivity=interactivity, compiler=compiler, result=result)\n"
     ]
    },
    {
     "name": "stdout",
     "output_type": "stream",
     "text": [
      "CADD n_snp=1161341\n",
      "snpeff n_snp=1161341\n",
      "df_annot_chr (1161341, 83)\n",
      "n_AN = 79\n",
      "writing\n",
      "'CM' missing from df_annot.columns, add 'CM' column with 0\n",
      "CHR2\n",
      "PGEN n_snp=1259312\n",
      "bed n_snp=1259312\n",
      "nucleotide_diversity n_snp=1259312\n",
      "recomb_rate n_snp=1259312\n",
      "LLD_AFR n_snp=1259312\n"
     ]
    },
    {
     "name": "stderr",
     "output_type": "stream",
     "text": [
      "/home/jz286/myenv/lib/python3.7/site-packages/IPython/core/interactiveshell.py:3058: DtypeWarning: Columns (19,22,23,24,26,27,28,29,36,38,41,43,119) have mixed types.Specify dtype option on import or set low_memory=False.\n",
      "  interactivity=interactivity, compiler=compiler, result=result)\n"
     ]
    },
    {
     "name": "stdout",
     "output_type": "stream",
     "text": [
      "CADD n_snp=1259312\n",
      "snpeff n_snp=1259312\n",
      "df_annot_chr (1259312, 83)\n",
      "n_AN = 79\n",
      "writing\n",
      "'CM' missing from df_annot.columns, add 'CM' column with 0\n",
      "CHR3\n",
      "PGEN n_snp=1059605\n",
      "bed n_snp=1059605\n",
      "nucleotide_diversity n_snp=1059605\n",
      "recomb_rate n_snp=1059605\n",
      "LLD_AFR n_snp=1059605\n"
     ]
    },
    {
     "name": "stderr",
     "output_type": "stream",
     "text": [
      "/home/jz286/myenv/lib/python3.7/site-packages/IPython/core/interactiveshell.py:3058: DtypeWarning: Columns (19,22,23,24,26,27,28,29,36,38,41,43,119) have mixed types.Specify dtype option on import or set low_memory=False.\n",
      "  interactivity=interactivity, compiler=compiler, result=result)\n"
     ]
    },
    {
     "name": "stdout",
     "output_type": "stream",
     "text": [
      "CADD n_snp=1059605\n",
      "snpeff n_snp=1059605\n",
      "df_annot_chr (1059605, 83)\n",
      "n_AN = 79\n",
      "writing\n",
      "'CM' missing from df_annot.columns, add 'CM' column with 0\n",
      "CHR4\n",
      "PGEN n_snp=1074447\n",
      "bed n_snp=1074447\n",
      "nucleotide_diversity n_snp=1074447\n",
      "recomb_rate n_snp=1074447\n",
      "LLD_AFR n_snp=1074447\n"
     ]
    },
    {
     "name": "stderr",
     "output_type": "stream",
     "text": [
      "/home/jz286/myenv/lib/python3.7/site-packages/IPython/core/interactiveshell.py:3058: DtypeWarning: Columns (19,22,23,27,28,29,36,38,41,43,119) have mixed types.Specify dtype option on import or set low_memory=False.\n",
      "  interactivity=interactivity, compiler=compiler, result=result)\n"
     ]
    },
    {
     "name": "stdout",
     "output_type": "stream",
     "text": [
      "CADD n_snp=1074447\n",
      "snpeff n_snp=1074447\n",
      "df_annot_chr (1074447, 83)\n",
      "n_AN = 79\n",
      "writing\n",
      "'CM' missing from df_annot.columns, add 'CM' column with 0\n",
      "CHR5\n",
      "PGEN n_snp=964806\n",
      "bed n_snp=964806\n",
      "nucleotide_diversity n_snp=964806\n",
      "recomb_rate n_snp=964806\n",
      "LLD_AFR n_snp=964806\n"
     ]
    },
    {
     "name": "stderr",
     "output_type": "stream",
     "text": [
      "/home/jz286/myenv/lib/python3.7/site-packages/IPython/core/interactiveshell.py:3058: DtypeWarning: Columns (19,22,23,27,29,36,38,41,43,72,119) have mixed types.Specify dtype option on import or set low_memory=False.\n",
      "  interactivity=interactivity, compiler=compiler, result=result)\n"
     ]
    },
    {
     "name": "stdout",
     "output_type": "stream",
     "text": [
      "CADD n_snp=964806\n",
      "snpeff n_snp=964806\n",
      "df_annot_chr (964806, 83)\n",
      "n_AN = 79\n",
      "writing\n",
      "'CM' missing from df_annot.columns, add 'CM' column with 0\n",
      "CHR6\n",
      "PGEN n_snp=976090\n",
      "bed n_snp=976090\n",
      "nucleotide_diversity n_snp=976090\n",
      "recomb_rate n_snp=976090\n",
      "LLD_AFR n_snp=976090\n"
     ]
    },
    {
     "name": "stderr",
     "output_type": "stream",
     "text": [
      "/home/jz286/myenv/lib/python3.7/site-packages/IPython/core/interactiveshell.py:3058: DtypeWarning: Columns (19,22,23,24,26,27,28,29,36,38,41,43,119) have mixed types.Specify dtype option on import or set low_memory=False.\n",
      "  interactivity=interactivity, compiler=compiler, result=result)\n"
     ]
    },
    {
     "name": "stdout",
     "output_type": "stream",
     "text": [
      "CADD n_snp=976090\n",
      "snpeff n_snp=976090\n",
      "df_annot_chr (976090, 83)\n",
      "n_AN = 79\n",
      "writing\n",
      "'CM' missing from df_annot.columns, add 'CM' column with 0\n",
      "CHR7\n",
      "PGEN n_snp=868301\n",
      "bed n_snp=868301\n",
      "nucleotide_diversity n_snp=868301\n",
      "recomb_rate n_snp=868301\n",
      "LLD_AFR n_snp=868301\n"
     ]
    },
    {
     "name": "stderr",
     "output_type": "stream",
     "text": [
      "/home/jz286/myenv/lib/python3.7/site-packages/IPython/core/interactiveshell.py:3058: DtypeWarning: Columns (19,22,23,24,26,27,28,29,36,38,41,43,119) have mixed types.Specify dtype option on import or set low_memory=False.\n",
      "  interactivity=interactivity, compiler=compiler, result=result)\n"
     ]
    },
    {
     "name": "stdout",
     "output_type": "stream",
     "text": [
      "CADD n_snp=868301\n",
      "snpeff n_snp=868301\n",
      "df_annot_chr (868301, 83)\n",
      "n_AN = 79\n",
      "writing\n",
      "'CM' missing from df_annot.columns, add 'CM' column with 0\n",
      "CHR8\n",
      "PGEN n_snp=826076\n",
      "bed n_snp=826076\n",
      "nucleotide_diversity n_snp=826076\n",
      "recomb_rate n_snp=826076\n",
      "LLD_AFR n_snp=826076\n"
     ]
    },
    {
     "name": "stderr",
     "output_type": "stream",
     "text": [
      "/home/jz286/myenv/lib/python3.7/site-packages/IPython/core/interactiveshell.py:3058: DtypeWarning: Columns (19,22,23,27,28,29,36,38,41,43,118,119) have mixed types.Specify dtype option on import or set low_memory=False.\n",
      "  interactivity=interactivity, compiler=compiler, result=result)\n"
     ]
    },
    {
     "name": "stdout",
     "output_type": "stream",
     "text": [
      "CADD n_snp=826076\n",
      "snpeff n_snp=826076\n",
      "df_annot_chr (826076, 83)\n",
      "n_AN = 79\n",
      "writing\n",
      "'CM' missing from df_annot.columns, add 'CM' column with 0\n",
      "CHR9\n",
      "PGEN n_snp=641608\n",
      "bed n_snp=641608\n",
      "nucleotide_diversity n_snp=641608\n",
      "recomb_rate n_snp=641608\n",
      "LLD_AFR n_snp=641608\n"
     ]
    },
    {
     "name": "stderr",
     "output_type": "stream",
     "text": [
      "/home/jz286/myenv/lib/python3.7/site-packages/IPython/core/interactiveshell.py:3058: DtypeWarning: Columns (19,22,23,24,26,27,28,29,36,38,41,43) have mixed types.Specify dtype option on import or set low_memory=False.\n",
      "  interactivity=interactivity, compiler=compiler, result=result)\n"
     ]
    },
    {
     "name": "stdout",
     "output_type": "stream",
     "text": [
      "CADD n_snp=641608\n",
      "snpeff n_snp=641608\n",
      "df_annot_chr (641608, 83)\n",
      "n_AN = 79\n",
      "writing\n",
      "'CM' missing from df_annot.columns, add 'CM' column with 0\n",
      "CHR10\n",
      "PGEN n_snp=747773\n",
      "bed n_snp=747773\n",
      "nucleotide_diversity n_snp=747773\n",
      "recomb_rate n_snp=747773\n",
      "LLD_AFR n_snp=747773\n"
     ]
    },
    {
     "name": "stderr",
     "output_type": "stream",
     "text": [
      "/home/jz286/myenv/lib/python3.7/site-packages/IPython/core/interactiveshell.py:3058: DtypeWarning: Columns (19,22,23,27,28,29,36,38,41,43,119) have mixed types.Specify dtype option on import or set low_memory=False.\n",
      "  interactivity=interactivity, compiler=compiler, result=result)\n"
     ]
    },
    {
     "name": "stdout",
     "output_type": "stream",
     "text": [
      "CADD n_snp=747773\n",
      "snpeff n_snp=747773\n",
      "df_annot_chr (747773, 83)\n",
      "n_AN = 79\n",
      "writing\n",
      "'CM' missing from df_annot.columns, add 'CM' column with 0\n",
      "CHR11\n",
      "PGEN n_snp=730385\n",
      "bed n_snp=730385\n",
      "nucleotide_diversity n_snp=730385\n",
      "recomb_rate n_snp=730385\n",
      "LLD_AFR n_snp=730385\n"
     ]
    },
    {
     "name": "stderr",
     "output_type": "stream",
     "text": [
      "/home/jz286/myenv/lib/python3.7/site-packages/IPython/core/interactiveshell.py:3058: DtypeWarning: Columns (19,22,23,27,28,36,38,41,43,119) have mixed types.Specify dtype option on import or set low_memory=False.\n",
      "  interactivity=interactivity, compiler=compiler, result=result)\n"
     ]
    },
    {
     "name": "stdout",
     "output_type": "stream",
     "text": [
      "CADD n_snp=730385\n",
      "snpeff n_snp=730385\n",
      "df_annot_chr (730385, 83)\n",
      "n_AN = 79\n",
      "writing\n",
      "'CM' missing from df_annot.columns, add 'CM' column with 0\n",
      "CHR12\n",
      "PGEN n_snp=705493\n",
      "bed n_snp=705493\n",
      "nucleotide_diversity n_snp=705493\n",
      "recomb_rate n_snp=705493\n",
      "LLD_AFR n_snp=705493\n"
     ]
    },
    {
     "name": "stderr",
     "output_type": "stream",
     "text": [
      "/home/jz286/myenv/lib/python3.7/site-packages/IPython/core/interactiveshell.py:3058: DtypeWarning: Columns (19,22,23,27,36,38,41,43,119) have mixed types.Specify dtype option on import or set low_memory=False.\n",
      "  interactivity=interactivity, compiler=compiler, result=result)\n"
     ]
    },
    {
     "name": "stdout",
     "output_type": "stream",
     "text": [
      "CADD n_snp=705493\n",
      "snpeff n_snp=705493\n",
      "df_annot_chr (705493, 83)\n",
      "n_AN = 79\n",
      "writing\n",
      "'CM' missing from df_annot.columns, add 'CM' column with 0\n",
      "CHR13\n",
      "PGEN n_snp=537961\n",
      "bed n_snp=537961\n",
      "nucleotide_diversity n_snp=537961\n",
      "recomb_rate n_snp=537961\n",
      "LLD_AFR n_snp=537961\n"
     ]
    },
    {
     "name": "stderr",
     "output_type": "stream",
     "text": [
      "/home/jz286/myenv/lib/python3.7/site-packages/IPython/core/interactiveshell.py:3058: DtypeWarning: Columns (8,9,10,12,13,15,19,22,23,24,25,26,27,28,29,36,38,41,43,80,119) have mixed types.Specify dtype option on import or set low_memory=False.\n",
      "  interactivity=interactivity, compiler=compiler, result=result)\n"
     ]
    },
    {
     "name": "stdout",
     "output_type": "stream",
     "text": [
      "CADD n_snp=537961\n",
      "snpeff n_snp=537961\n",
      "df_annot_chr (537961, 83)\n",
      "n_AN = 79\n",
      "writing\n",
      "'CM' missing from df_annot.columns, add 'CM' column with 0\n",
      "CHR14\n",
      "PGEN n_snp=482519\n",
      "bed n_snp=482519\n",
      "nucleotide_diversity n_snp=482519\n",
      "recomb_rate n_snp=482519\n",
      "LLD_AFR n_snp=482519\n"
     ]
    },
    {
     "name": "stderr",
     "output_type": "stream",
     "text": [
      "/home/jz286/myenv/lib/python3.7/site-packages/IPython/core/interactiveshell.py:3058: DtypeWarning: Columns (8,9,10,12,13,15,19,22,23,24,25,26,27,28,29,36,38,41,43,80,119) have mixed types.Specify dtype option on import or set low_memory=False.\n",
      "  interactivity=interactivity, compiler=compiler, result=result)\n"
     ]
    },
    {
     "name": "stdout",
     "output_type": "stream",
     "text": [
      "CADD n_snp=482519\n",
      "snpeff n_snp=482519\n",
      "df_annot_chr (482519, 83)\n",
      "n_AN = 79\n",
      "writing\n",
      "'CM' missing from df_annot.columns, add 'CM' column with 0\n",
      "CHR15\n",
      "PGEN n_snp=423991\n",
      "bed n_snp=423991\n",
      "nucleotide_diversity n_snp=423991\n",
      "recomb_rate n_snp=423991\n",
      "LLD_AFR n_snp=423991\n"
     ]
    },
    {
     "name": "stderr",
     "output_type": "stream",
     "text": [
      "/home/jz286/myenv/lib/python3.7/site-packages/IPython/core/interactiveshell.py:3058: DtypeWarning: Columns (8,9,10,12,13,15,19,22,23,24,25,26,27,28,29,36,38,41,43,80,119) have mixed types.Specify dtype option on import or set low_memory=False.\n",
      "  interactivity=interactivity, compiler=compiler, result=result)\n"
     ]
    },
    {
     "name": "stdout",
     "output_type": "stream",
     "text": [
      "CADD n_snp=423991\n",
      "snpeff n_snp=423991\n",
      "df_annot_chr (423991, 83)\n",
      "n_AN = 79\n",
      "writing\n",
      "'CM' missing from df_annot.columns, add 'CM' column with 0\n",
      "CHR16\n",
      "PGEN n_snp=465661\n",
      "bed n_snp=465661\n",
      "nucleotide_diversity n_snp=465661\n",
      "recomb_rate n_snp=465661\n",
      "LLD_AFR n_snp=465661\n"
     ]
    },
    {
     "name": "stderr",
     "output_type": "stream",
     "text": [
      "/home/jz286/myenv/lib/python3.7/site-packages/IPython/core/interactiveshell.py:3058: DtypeWarning: Columns (19,22,23,29,36,38,41,43,119) have mixed types.Specify dtype option on import or set low_memory=False.\n",
      "  interactivity=interactivity, compiler=compiler, result=result)\n"
     ]
    },
    {
     "name": "stdout",
     "output_type": "stream",
     "text": [
      "CADD n_snp=465661\n",
      "snpeff n_snp=465661\n",
      "df_annot_chr (465661, 83)\n",
      "n_AN = 79\n",
      "writing\n",
      "'CM' missing from df_annot.columns, add 'CM' column with 0\n",
      "CHR17\n",
      "PGEN n_snp=406065\n",
      "bed n_snp=406065\n",
      "nucleotide_diversity n_snp=406065\n",
      "recomb_rate n_snp=406065\n",
      "LLD_AFR n_snp=406065\n"
     ]
    },
    {
     "name": "stderr",
     "output_type": "stream",
     "text": [
      "/home/jz286/myenv/lib/python3.7/site-packages/IPython/core/interactiveshell.py:3058: DtypeWarning: Columns (22,23,36,41,43,119) have mixed types.Specify dtype option on import or set low_memory=False.\n",
      "  interactivity=interactivity, compiler=compiler, result=result)\n"
     ]
    },
    {
     "name": "stdout",
     "output_type": "stream",
     "text": [
      "CADD n_snp=406065\n",
      "snpeff n_snp=406065\n",
      "df_annot_chr (406065, 83)\n",
      "n_AN = 79\n",
      "writing\n",
      "'CM' missing from df_annot.columns, add 'CM' column with 0\n",
      "CHR18\n",
      "PGEN n_snp=422346\n",
      "bed n_snp=422346\n",
      "nucleotide_diversity n_snp=422346\n",
      "recomb_rate n_snp=422346\n",
      "LLD_AFR n_snp=422346\n"
     ]
    },
    {
     "name": "stderr",
     "output_type": "stream",
     "text": [
      "/home/jz286/myenv/lib/python3.7/site-packages/IPython/core/interactiveshell.py:3058: DtypeWarning: Columns (19,22,23,27,29,36,38,41,43,119) have mixed types.Specify dtype option on import or set low_memory=False.\n",
      "  interactivity=interactivity, compiler=compiler, result=result)\n"
     ]
    },
    {
     "name": "stdout",
     "output_type": "stream",
     "text": [
      "CADD n_snp=422346\n",
      "snpeff n_snp=422346\n",
      "df_annot_chr (422346, 83)\n",
      "n_AN = 79\n",
      "writing\n",
      "'CM' missing from df_annot.columns, add 'CM' column with 0\n",
      "CHR19\n",
      "PGEN n_snp=336680\n",
      "bed n_snp=336680\n",
      "nucleotide_diversity n_snp=336680\n",
      "recomb_rate n_snp=336680\n",
      "LLD_AFR n_snp=336680\n"
     ]
    },
    {
     "name": "stderr",
     "output_type": "stream",
     "text": [
      "/home/jz286/myenv/lib/python3.7/site-packages/IPython/core/interactiveshell.py:3058: DtypeWarning: Columns (22,23,36,41,43,119) have mixed types.Specify dtype option on import or set low_memory=False.\n",
      "  interactivity=interactivity, compiler=compiler, result=result)\n"
     ]
    },
    {
     "name": "stdout",
     "output_type": "stream",
     "text": [
      "CADD n_snp=336680\n",
      "snpeff n_snp=336680\n",
      "df_annot_chr (336680, 83)\n",
      "n_AN = 79\n",
      "writing\n",
      "'CM' missing from df_annot.columns, add 'CM' column with 0\n",
      "CHR20\n",
      "PGEN n_snp=329864\n",
      "bed n_snp=329864\n",
      "nucleotide_diversity n_snp=329864\n",
      "recomb_rate n_snp=329864\n",
      "LLD_AFR n_snp=329864\n"
     ]
    },
    {
     "name": "stderr",
     "output_type": "stream",
     "text": [
      "/home/jz286/myenv/lib/python3.7/site-packages/IPython/core/interactiveshell.py:3058: DtypeWarning: Columns (19,22,23,28,36,41,43,119) have mixed types.Specify dtype option on import or set low_memory=False.\n",
      "  interactivity=interactivity, compiler=compiler, result=result)\n"
     ]
    },
    {
     "name": "stdout",
     "output_type": "stream",
     "text": [
      "CADD n_snp=329864\n",
      "snpeff n_snp=329864\n",
      "df_annot_chr (329864, 83)\n",
      "n_AN = 79\n",
      "writing\n",
      "'CM' missing from df_annot.columns, add 'CM' column with 0\n",
      "CHR21\n",
      "PGEN n_snp=200644\n",
      "bed n_snp=200644\n",
      "nucleotide_diversity n_snp=200644\n",
      "recomb_rate n_snp=200644\n",
      "LLD_AFR n_snp=200644\n"
     ]
    },
    {
     "name": "stderr",
     "output_type": "stream",
     "text": [
      "/home/jz286/myenv/lib/python3.7/site-packages/IPython/core/interactiveshell.py:3058: DtypeWarning: Columns (22,23,27,36,41,43,119) have mixed types.Specify dtype option on import or set low_memory=False.\n",
      "  interactivity=interactivity, compiler=compiler, result=result)\n"
     ]
    },
    {
     "name": "stdout",
     "output_type": "stream",
     "text": [
      "CADD n_snp=200644\n",
      "snpeff n_snp=200644\n",
      "df_annot_chr (200644, 83)\n",
      "n_AN = 79\n",
      "writing\n",
      "'CM' missing from df_annot.columns, add 'CM' column with 0\n",
      "CHR22\n",
      "PGEN n_snp=199680\n",
      "bed n_snp=199680\n",
      "nucleotide_diversity n_snp=199680\n",
      "recomb_rate n_snp=199680\n",
      "LLD_AFR n_snp=199680\n"
     ]
    },
    {
     "name": "stderr",
     "output_type": "stream",
     "text": [
      "/home/jz286/myenv/lib/python3.7/site-packages/IPython/core/interactiveshell.py:3058: DtypeWarning: Columns (22,23,36,41,43,119) have mixed types.Specify dtype option on import or set low_memory=False.\n",
      "  interactivity=interactivity, compiler=compiler, result=result)\n"
     ]
    },
    {
     "name": "stdout",
     "output_type": "stream",
     "text": [
      "CADD n_snp=199680\n",
      "snpeff n_snp=199680\n",
      "df_annot_chr (199680, 83)\n",
      "n_AN = 79\n",
      "writing\n",
      "'CM' missing from df_annot.columns, add 'CM' column with 0\n"
     ]
    }
   ],
   "source": [
    "# Write main annot\n",
    "for CHR in range(1,23):\n",
    "# for CHR in [22]:\n",
    "    print('CHR%d' % CHR)\n",
    "    df_annot_chr = gdreg.util.read_pgen(PGEN_FILE.replace(\"@\", \"%d\" % CHR))[\"pvar\"]\n",
    "    df_annot_chr = df_annot_chr[[\"CHR\", \"SNP\", \"BP\"]].copy()\n",
    "    df_annot_chr['MAF'] = gdreg.util.read_pgen(\n",
    "        PGEN_FILE.replace(\"@\", \"%d\" % CHR))[\"afreq\"][\"MAF\"].astype(np.float32)\n",
    "    df_annot_chr.index = df_annot_chr[\"SNP\"]   \n",
    "    print(\"PGEN n_snp=%d\" % df_annot_chr.shape[0])\n",
    "    \n",
    "    # .bed \n",
    "    temp_df = gdreg.util.read_annot(DIC_ANNOT_FILE[\"bed\"].replace(\"@\", \"%d\" % CHR))\n",
    "    temp_df.columns = [DIC_NAME_UPDATE[x] if x in DIC_NAME_UPDATE else x for x in temp_df]\n",
    "    temp_df.index = temp_df[\"SNP\"]\n",
    "    # AN.flanking.500 = AN.extend.500 - AN\n",
    "    for AN in temp_df:\n",
    "        if \"%s.extend.500\" % AN in temp_df:\n",
    "            temp_df[\"%s.flanking.500\" % AN] = temp_df[\"%s.extend.500\" % AN].values & (~temp_df[AN].values) \n",
    "            temp_df.drop(\"%s.extend.500\" % AN, axis=1, inplace=True)\n",
    "    AN_list = [x for x in temp_df if x.startswith(\"AN:\")]\n",
    "    df_annot_chr = df_annot_chr.join(temp_df[AN_list])\n",
    "    print(\"bed n_snp=%d\" % df_annot_chr.shape[0])\n",
    "    \n",
    "    # nucleotide_diversity\n",
    "    temp_df = pd.read_csv(\n",
    "        DIC_ANNOT_FILE[\"diversity\"].replace(\"@\", \"%d\" % CHR), header=None\n",
    "    )\n",
    "    df_annot_chr[\"AN:nucleotide_div\"] = temp_df[0].values\n",
    "    print(\"nucleotide_diversity n_snp=%d\" % df_annot_chr.shape[0])\n",
    "    \n",
    "    # recomb_rate\n",
    "    temp_df =  pd.read_csv(\n",
    "        DIC_ANNOT_FILE[\"recomb_rate\"].replace(\"@\", \"%d\" % CHR), header=None\n",
    "    )\n",
    "    df_annot_chr[\"AN:recomb_rate\"] = temp_df[0].values\n",
    "    print(\"recomb_rate n_snp=%d\" % df_annot_chr.shape[0])    \n",
    "    \n",
    "    # LLD_AFR\n",
    "    temp_df =  pd.read_csv(\n",
    "        DIC_ANNOT_FILE[\"LLD_AFR\"].replace(\"@\", \"%d\" % CHR), sep='\\t',\n",
    "    )\n",
    "    temp_dic = {x:y for x,y in zip(temp_df['SNP'], temp_df['AN:MAF_Adj_LLD_AFR'])}\n",
    "    df_annot_chr[\"AN:LLD_AFR\"] = [temp_dic[x] if x in temp_dic else 1 for x in df_annot_chr['SNP']]\n",
    "    print(\"LLD_AFR n_snp=%d\" % df_annot_chr.shape[0])   \n",
    "    \n",
    "    # CADD  \n",
    "    temp_df = pd.read_csv(\n",
    "        DIC_ANNOT_FILE[\"CADD\"].replace(\"@\", \"%d\" % CHR), sep='\\t',\n",
    "    )\n",
    "    temp_df.drop_duplicates(subset=\"SNP\", inplace=True)\n",
    "    temp_df.index = temp_df[\"SNP\"]\n",
    "    temp_df = temp_df[[\"CADD:CpG\", \"CADD:GerpRS\", \"CADD:GerpN\", \"CADD:PHRED\"]]\n",
    "    temp_df[\"CADD:GerpRS\"] = temp_df[\"CADD:GerpRS\"]>=4\n",
    "    temp_df[\"CADD:PHRED\"] = temp_df[\"CADD:PHRED\"]>=20\n",
    "    temp_df.columns = [\"AN:CpG\", \"AN:GerpRS_g4\", \"AN:GerpN\", \"AN:CADD_g20\"]\n",
    "    df_annot_chr = df_annot_chr.join(temp_df)\n",
    "    print(\"CADD n_snp=%d\" % df_annot_chr.shape[0])    \n",
    "    \n",
    "    # snpeff\n",
    "    temp_df = gdreg.util.read_annot(DIC_ANNOT_FILE[\"snfeff\"].replace(\"@\", \"%d\" % CHR))\n",
    "    temp_df.index = temp_df[\"SNP\"]\n",
    "    drop_list = [\"AN:snpeff_3_prime_UTR_variant\", \"AN:snpeff_5_prime_UTR_variant\", \n",
    "                 \"AN:snpeff_intergenic_region\", \"AN:snpeff_intron_variant\"]\n",
    "    temp_df.drop(drop_list, axis=1, inplace=True)\n",
    "    AN_list = [x for x in temp_df if x.startswith(\"AN:\")]\n",
    "    df_annot_chr = df_annot_chr.join(temp_df[AN_list])\n",
    "    print(\"snpeff n_snp=%d\" % df_annot_chr.shape[0])    \n",
    "    \n",
    "    # Summary \n",
    "    print('df_annot_chr', df_annot_chr.shape)\n",
    "    print('n_AN = %d' % len([x for x in df_annot_chr if x.startswith('AN:')]))\n",
    "    \n",
    "    print('writing')\n",
    "    df_annot_chr.fillna(0, inplace=True)\n",
    "    AN_list = [x for x in df_annot_chr if x.startswith(\"AN:\")]\n",
    "    for AN in AN_list:\n",
    "        if len(set(df_annot_chr[AN].values[:10000])) <= 2:\n",
    "            df_annot_chr[AN] = df_annot_chr[AN].astype(bool)\n",
    "        else:\n",
    "            df_annot_chr[AN] = df_annot_chr[AN].astype(np.float32)\n",
    "    gdreg.util.write_annot(df_annot_chr, DATA_PATH+\"/main_annot/ukb_imp_chr%d_v3.annot.gz\" % CHR)"
   ]
  },
  {
   "cell_type": "code",
   "execution_count": 4,
   "metadata": {
    "scrolled": true
   },
   "outputs": [
    {
     "name": "stdout",
     "output_type": "stream",
     "text": [
      "Coding_UCSC ()                                               Corr=1, AN1_only=0, AN2_only=0, overlap=3922\n",
      "Coding_UCSC.flanking.500 ()                                  Corr=1, AN1_only=0, AN2_only=0, overlap=11731\n",
      "Conserved_LindbladToh ()                                     Corr=1, AN1_only=0, AN2_only=0, overlap=3422\n",
      "Conserved_LindbladToh.flanking.500 ()                        Corr=1, AN1_only=0, AN2_only=0, overlap=42839\n",
      "CTCF_Hoffman ()                                              Corr=1, AN1_only=0, AN2_only=0, overlap=4891\n",
      "CTCF_Hoffman.flanking.500 ()                                 Corr=1, AN1_only=0, AN2_only=0, overlap=9950\n",
      "DGF_ENCODE ()                                                Corr=1, AN1_only=0, AN2_only=0, overlap=24734\n",
      "DGF_ENCODE.flanking.500 ()                                   Corr=1, AN1_only=0, AN2_only=0, overlap=62600\n",
      "DHS_peaks_Trynka ()                                          Corr=1, AN1_only=0, AN2_only=0, overlap=18061\n",
      "DHS_Trynka ()                                                Corr=1, AN1_only=0, AN2_only=0, overlap=26354\n",
      "DHS_Trynka.flanking.500 ()                                   Corr=1, AN1_only=0, AN2_only=0, overlap=49261\n",
      "Enhancer_Andersson ()                                        Corr=1, AN1_only=0, AN2_only=0, overlap=880\n",
      "Enhancer_Andersson.flanking.500 ()                           Corr=1, AN1_only=0, AN2_only=0, overlap=2838\n",
      "Enhancer_Hoffman ()                                          Corr=1, AN1_only=0, AN2_only=0, overlap=8002\n",
      "Enhancer_Hoffman.flanking.500 ()                             Corr=1, AN1_only=0, AN2_only=0, overlap=9789\n",
      "FetalDHS_Trynka ()                                           Corr=1, AN1_only=0, AN2_only=0, overlap=14881\n",
      "FetalDHS_Trynka.flanking.500 ()                              Corr=1, AN1_only=0, AN2_only=0, overlap=33557\n",
      "H3K27ac_Hnisz ()                                             Corr=1, AN1_only=0, AN2_only=0, overlap=78194\n",
      "H3K27ac_Hnisz.flanking.500 ()                                Corr=1, AN1_only=0, AN2_only=0, overlap=4273\n",
      "H3K27ac_PGC2 ()                                              Corr=1, AN1_only=0, AN2_only=0, overlap=52715\n",
      "H3K27ac_PGC2.flanking.500 ()                                 Corr=1, AN1_only=0, AN2_only=0, overlap=12089\n",
      "H3K4me1_peaks_Trynka ()                                      Corr=1, AN1_only=0, AN2_only=0, overlap=33829\n",
      "H3K4me1_Trynka ()                                            Corr=1, AN1_only=0, AN2_only=0, overlap=78255\n",
      "H3K4me1_Trynka.flanking.500 ()                               Corr=1, AN1_only=0, AN2_only=0, overlap=23274\n",
      "H3K4me3_peaks_Trynka ()                                      Corr=1, AN1_only=0, AN2_only=0, overlap=8234\n",
      "H3K4me3_Trynka ()                                            Corr=1, AN1_only=0, AN2_only=0, overlap=26453\n",
      "H3K4me3_Trynka.flanking.500 ()                               Corr=1, AN1_only=0, AN2_only=0, overlap=21907\n",
      "H3K9ac_peaks_Trynka ()                                       Corr=1, AN1_only=0, AN2_only=0, overlap=11041\n",
      "H3K9ac_Trynka ()                                             Corr=1, AN1_only=0, AN2_only=0, overlap=33824\n",
      "H3K9ac_Trynka.flanking.500 ()                                Corr=1, AN1_only=0, AN2_only=0, overlap=25009\n",
      "Intron_UCSC ()                                               Corr=1, AN1_only=0, AN2_only=0, overlap=61689\n",
      "Intron_UCSC.flanking.500 ()                                  Corr=1, AN1_only=0, AN2_only=0, overlap=2808\n",
      "PromoterFlanking_Hoffman ()                                  Corr=1, AN1_only=0, AN2_only=0, overlap=1568\n",
      "PromoterFlanking_Hoffman.flanking.500 ()                     Corr=1, AN1_only=0, AN2_only=0, overlap=5076\n",
      "Promoter_UCSC ()                                             Corr=1, AN1_only=0, AN2_only=0, overlap=12057\n",
      "Promoter_UCSC.flanking.500 ()                                Corr=1, AN1_only=0, AN2_only=0, overlap=2678\n",
      "Repressed_Hoffman ()                                         Corr=1, AN1_only=0, AN2_only=0, overlap=36872\n",
      "Repressed_Hoffman.flanking.500 ()                            Corr=1, AN1_only=0, AN2_only=0, overlap=27685\n",
      "SuperEnhancer_Hnisz ()                                       Corr=1, AN1_only=0, AN2_only=0, overlap=40615\n",
      "SuperEnhancer_Hnisz.flanking.500 ()                          Corr=1, AN1_only=0, AN2_only=0, overlap=782\n",
      "TFBS_ENCODE ()                                               Corr=1, AN1_only=0, AN2_only=0, overlap=27666\n",
      "TFBS_ENCODE.flanking.500 ()                                  Corr=1, AN1_only=0, AN2_only=0, overlap=34475\n",
      "Transcr_Hoffman (Transcribed_Hoffman)                        Corr=1, AN1_only=0, AN2_only=0, overlap=57835\n",
      "Transcr_Hoffman.flanking.500 (Transcribed_Hoffman.flanking.500)  Corr=1, AN1_only=0, AN2_only=0, overlap=36001\n",
      "TSS_Hoffman ()                                               Corr=1, AN1_only=0, AN2_only=0, overlap=4790\n",
      "TSS_Hoffman.flanking.500 ()                                  Corr=1, AN1_only=0, AN2_only=0, overlap=4549\n",
      "UTR_3_UCSC ()                                                Corr=1, AN1_only=0, AN2_only=0, overlap=3254\n",
      "UTR_3_UCSC.flanking.500 ()                                   Corr=1, AN1_only=0, AN2_only=0, overlap=4997\n",
      "UTR_5_UCSC ()                                                Corr=1, AN1_only=0, AN2_only=0, overlap=1501\n",
      "UTR_5_UCSC.flanking.500 ()                                   Corr=1, AN1_only=0, AN2_only=0, overlap=5506\n",
      "WeakEnhancer_Hoffman ()                                      Corr=1, AN1_only=0, AN2_only=0, overlap=5022\n",
      "WeakEnhancer_Hoffman.flanking.500 ()                         Corr=1, AN1_only=0, AN2_only=0, overlap=14861\n",
      "GERP.NS (GerpN)                                              Corr=0.857, AN1_only=18, AN2_only=0, overlap=118\n",
      "GERP.RSsup4 (GerpRS_g4)                                      Corr=0.27, AN1_only=154, AN2_only=4238, overlap=480\n",
      "MAF_Adj_Predicted_Allele_Age (alleleage)                     Corr=0.681, AN1_only=0, AN2_only=0, overlap=0\n",
      "MAF_Adj_LLD_AFR (LLD_AFR)                                    Corr=0.585, AN1_only=0, AN2_only=28246, overlap=0\n",
      "Recomb_Rate_10kb (recomb_rate)                               Corr=1, AN1_only=0, AN2_only=0, overlap=1\n",
      "Nucleotide_Diversity_10kb (nucleotide_div)                   Corr=0.866, AN1_only=0, AN2_only=0, overlap=0\n",
      "Backgrd_Selection_Stat ()                                    Corr=1, AN1_only=0, AN2_only=0, overlap=0\n",
      "CpG_Content_50kb (CpG)                                       Corr=0.267, AN1_only=0, AN2_only=0, overlap=0\n",
      "MAF_Adj_ASMC\n",
      "GTEx_eQTL_MaxCPP\n",
      "BLUEPRINT_H3K27acQTL_MaxCPP\n",
      "BLUEPRINT_H3K4me1QTL_MaxCPP\n",
      "BLUEPRINT_DNA_methylation_MaxCPP\n",
      "synonymous (snpeff_synonymous_variant)                       Corr=0.892, AN1_only=110, AN2_only=64, overlap=718\n",
      "non_synonymous (snpeff_nonsynonymous_variant)                Corr=0.792, AN1_only=94, AN2_only=276, overlap=692\n",
      "Conserved_Vertebrate_phastCons46way ()                       Corr=1, AN1_only=0, AN2_only=0, overlap=4271\n",
      "Conserved_Vertebrate_phastCons46way.flanking.500 ()          Corr=1, AN1_only=0, AN2_only=0, overlap=49258\n",
      "Conserved_Mammal_phastCons46way ()                           Corr=1, AN1_only=0, AN2_only=0, overlap=2598\n",
      "Conserved_Mammal_phastCons46way.flanking.500 ()              Corr=1, AN1_only=0, AN2_only=0, overlap=41278\n",
      "Conserved_Primate_phastCons46way ()                          Corr=1, AN1_only=0, AN2_only=0, overlap=2233\n",
      "Conserved_Primate_phastCons46way.flanking.500 ()             Corr=1, AN1_only=0, AN2_only=0, overlap=20725\n",
      "BivFlnk ()                                                   Corr=1, AN1_only=0, AN2_only=0, overlap=3563\n",
      "BivFlnk.flanking.500 ()                                      Corr=1, AN1_only=0, AN2_only=0, overlap=5580\n",
      "Human_Promoter_Villar\n",
      "Human_Promoter_Villar.flanking.500\n",
      "Human_Enhancer_Villar\n",
      "Human_Enhancer_Villar.flanking.500\n",
      "Ancient_Sequence_Age_Human_Promoter\n",
      "Ancient_Sequence_Age_Human_Promoter.flanking.500\n",
      "Ancient_Sequence_Age_Human_Enhancer\n",
      "Ancient_Sequence_Age_Human_Enhancer.flanking.500\n",
      "Human_Enhancer_Villar_Species_Enhancer_Count\n",
      "Human_Promoter_Villar_ExAC\n",
      "Human_Promoter_Villar_ExAC.flanking.500\n",
      "(CADD_g20)\n",
      "(Vahedi_Tcell_SE)\n",
      "(Vahedi_Tcell_SE.flanking.500)\n",
      "(Vahedi_Tcell_TE)\n",
      "(Vahedi_Tcell_TE.flanking.500)\n",
      "(snpeff_downstream_gene_variant)\n",
      "(snpeff_non_coding_transcript_exon_variant)\n",
      "(snpeff_splice_region_variant)\n",
      "(snpeff_upstream_gene_variant)\n"
     ]
    }
   ],
   "source": [
    "# Comparison to baselinev2.2\n",
    "CHR = 22\n",
    "ANNOT_FILE = \"/n/groups/price/martin/data_GDREG/UKBimp_337K_MAF001/baseline_annot/main_annot/ukb_imp_chr@_v3.annot.gz\"\n",
    "df_annot_chr = gdreg.util.read_annot(ANNOT_FILE.replace(\"@\", \"%d\" % CHR))\n",
    "df_annot_chr.index = df_annot_chr[\"SNP\"]\n",
    "\n",
    "ANNOT_FILE_REF = \"/n/groups/price/ldsc/reference_files/1000G_EUR_Phase3/baselineLD_v2.2/baselineLD.@.annot.gz\"\n",
    "df_annot_chr_ref = pd.read_csv(ANNOT_FILE_REF.replace(\"@\", \"%d\" % CHR), sep='\\t')\n",
    "df_annot_chr_ref.index = df_annot_chr_ref[\"SNP\"]\n",
    "\n",
    "dic_map = {\n",
    "    \"Transcr_Hoffman\" : \"AN:Transcribed_Hoffman\",\n",
    "    \"Transcr_Hoffman.flanking.500\" : \"AN:Transcribed_Hoffman.flanking.500\",\n",
    "    \"GERP.NS\" : \"AN:GerpN\",\n",
    "    \"GERP.RSsup4\" : \"AN:GerpRS_g4\",\n",
    "    \"MAF_Adj_Predicted_Allele_Age\" : \"AN:alleleage\",\n",
    "    \"Nucleotide_Diversity_10kb\" : \"AN:nucleotide_div\",\n",
    "    \"Recomb_Rate_10kb\" : \"AN:recomb_rate\",\n",
    "    \"CpG_Content_50kb\" : \"AN:CpG\",\n",
    "    \"synonymous\" : \"AN:snpeff_synonymous_variant\",\n",
    "    \"non_synonymous\" : \"AN:snpeff_nonsynonymous_variant\",\n",
    "    \"MAF_Adj_LLD_AFR\" : \"AN:LLD_AFR\"\n",
    "}\n",
    "\n",
    "snp_list = list(set(df_annot_chr[\"SNP\"]) & set(df_annot_chr_ref[\"SNP\"]))\n",
    "AN2_list = []\n",
    "\n",
    "for AN in df_annot_chr_ref:\n",
    "    if AN in [\"CHR\", \"BP\", \"SNP\", \"CM\", \"base\"]:\n",
    "        continue\n",
    "    if AN.startswith(\"MAFb\"):\n",
    "        continue\n",
    "    if \"AN:%s\" % AN in df_annot_chr:\n",
    "        AN1,AN2 = AN,\"AN:%s\" % AN\n",
    "    elif AN in dic_map:\n",
    "        AN1,AN2 = AN,dic_map[AN]\n",
    "    else:\n",
    "        print(AN)\n",
    "        continue\n",
    "    \n",
    "    AN2_list.append(AN2)\n",
    "    v1 = df_annot_chr_ref.loc[snp_list, AN1].values\n",
    "    v2 = df_annot_chr.loc[snp_list, AN2].values\n",
    "    print(\"%-60s Corr=%0.3g, AN1_only=%d, AN2_only=%d, overlap=%d\" % (\n",
    "        \"%s (%s) \" % (AN, AN2.replace(\"AN:\", \"\") if AN!=AN2.replace(\"AN:\", \"\") else \"\"), \n",
    "        np.corrcoef(v1, v2)[0,1], \n",
    "        ((v1==1) & (v2==0)).sum(), \n",
    "        ((v1==0) & (v2==1)).sum(), \n",
    "        ((v1==1) & (v2==1)).sum(), \n",
    "    ))\n",
    "    \n",
    "for col in df_annot_chr:\n",
    "    if col.startswith(\"AN:\") and (col not in AN2_list):\n",
    "        print(\"(%s)\" % col.replace(\"AN:\", \"\"))"
   ]
  },
  {
   "cell_type": "markdown",
   "metadata": {},
   "source": [
    "### MAF-Stratified annots"
   ]
  },
  {
   "cell_type": "code",
   "execution_count": 2,
   "metadata": {
    "scrolled": false
   },
   "outputs": [
    {
     "name": "stdout",
     "output_type": "stream",
     "text": [
      "AN:Conserved_LindbladToh                           AN:Conserved_Mammal_phastCons46way                 r=0.7849\n",
      "AN:Conserved_LindbladToh                           AN:Conserved_Vertebrate_phastCons46way             r=0.6782\n",
      "AN:Conserved_LindbladToh.flanking.500              AN:Conserved_Mammal_phastCons46way.flanking.500    r=0.7599\n",
      "AN:Conserved_LindbladToh.flanking.500              AN:Conserved_Vertebrate_phastCons46way.flanking.500 r=0.7067\n",
      "AN:Conserved_Mammal_phastCons46way                 AN:Conserved_Vertebrate_phastCons46way             r=0.7996\n",
      "AN:Conserved_Mammal_phastCons46way.flanking.500    AN:Conserved_Vertebrate_phastCons46way.flanking.500 r=0.8485\n",
      "AN:DHS_Trynka                                      AN:DHS_peaks_Trynka                                r=0.7724\n",
      "AN:DHS_Trynka                                      AN:FetalDHS_Trynka                                 r=0.6833\n",
      "AN:DHS_peaks_Trynka                                AN:FetalDHS_Trynka                                 r=0.6519\n",
      "AN:Repressed_Hoffman                               AN:Transcribed_Hoffman                             r=-0.6745\n",
      "AN:Transcribed_Hoffman                             AN:Transcribed_Hoffman.flanking.500                r=-0.6239\n"
     ]
    }
   ],
   "source": [
    "# Load main_annot \n",
    "df_annot = None\n",
    "PGEN_FILE = \"/n/scratch3/users/j/jz286/imp_geno/ukb_imp_chr@_v3\"\n",
    "ANNOT_FILE = \\\n",
    "    \"/n/groups/price/martin/data_GDREG/UKBimp_337K_MAF001/baseline_annot/main_annot/ukb_imp_chr@_v3.annot.gz\"\n",
    "OUT_PATH = \"/n/groups/price/martin/data_GDREG/UKBimp_337K_MAF001/baseline_annot\"\n",
    "\n",
    "temp_list = []\n",
    "for CHR in range(1,23):\n",
    "# for CHR in [22]:\n",
    "    temp_df = gdreg.util.read_annot(ANNOT_FILE.replace(\"@\", \"%d\" % CHR))\n",
    "    temp_df.index = temp_df[\"SNP\"]\n",
    "    temp_df_maf = gdreg.util.read_pgen(PGEN_FILE.replace(\"@\", \"%d\" % CHR))[\"afreq\"]\n",
    "    temp_df_maf.index = temp_df_maf[\"SNP\"]\n",
    "    temp_df = temp_df.join(temp_df_maf[[\"MAF\"]])\n",
    "    temp_list.append(temp_df)\n",
    "\n",
    "df_annot = pd.concat(temp_list, axis=0)\n",
    "AN_list = [x for x in df_annot if x.startswith(\"AN:\")]\n",
    "\n",
    "# Remove highly-correlated annotations\n",
    "df_corr = df_annot[AN_list].corr()\n",
    "for i in range(len(AN_list)):\n",
    "    for j in range(i+1, len(AN_list)):\n",
    "        AN1,AN2 = AN_list[i],AN_list[j]\n",
    "        if np.absolute(df_corr.loc[AN1, AN2]) > 0.6:\n",
    "            print('%-50s %-50s r=%0.4f' % (AN1, AN2, df_corr.loc[AN1, AN2]))"
   ]
  },
  {
   "cell_type": "code",
   "execution_count": 3,
   "metadata": {
    "scrolled": true
   },
   "outputs": [
    {
     "name": "stdout",
     "output_type": "stream",
     "text": [
      "df_annot_norm (14820648, 177)\n",
      "n_AN = 173\n",
      "'CM' missing from df_annot.columns, add 'CM' column with 0\n"
     ]
    },
    {
     "name": "stderr",
     "output_type": "stream",
     "text": [
      "/home/jz286/WES_analysis/GDReg/gdreg/util.py:559: SettingWithCopyWarning: \n",
      "A value is trying to be set on a copy of a slice from a DataFrame.\n",
      "Try using .loc[row_indexer,col_indexer] = value instead\n",
      "\n",
      "See the caveats in the documentation: https://pandas.pydata.org/pandas-docs/stable/user_guide/indexing.html#returning-a-view-versus-a-copy\n",
      "  df_annot[\"CM\"] = 0\n"
     ]
    },
    {
     "name": "stdout",
     "output_type": "stream",
     "text": [
      "'CM' missing from df_annot.columns, add 'CM' column with 0\n"
     ]
    },
    {
     "name": "stderr",
     "output_type": "stream",
     "text": [
      "/home/jz286/WES_analysis/GDReg/gdreg/util.py:559: SettingWithCopyWarning: \n",
      "A value is trying to be set on a copy of a slice from a DataFrame.\n",
      "Try using .loc[row_indexer,col_indexer] = value instead\n",
      "\n",
      "See the caveats in the documentation: https://pandas.pydata.org/pandas-docs/stable/user_guide/indexing.html#returning-a-view-versus-a-copy\n",
      "  df_annot[\"CM\"] = 0\n"
     ]
    },
    {
     "name": "stdout",
     "output_type": "stream",
     "text": [
      "'CM' missing from df_annot.columns, add 'CM' column with 0\n"
     ]
    },
    {
     "name": "stderr",
     "output_type": "stream",
     "text": [
      "/home/jz286/WES_analysis/GDReg/gdreg/util.py:559: SettingWithCopyWarning: \n",
      "A value is trying to be set on a copy of a slice from a DataFrame.\n",
      "Try using .loc[row_indexer,col_indexer] = value instead\n",
      "\n",
      "See the caveats in the documentation: https://pandas.pydata.org/pandas-docs/stable/user_guide/indexing.html#returning-a-view-versus-a-copy\n",
      "  df_annot[\"CM\"] = 0\n"
     ]
    },
    {
     "name": "stdout",
     "output_type": "stream",
     "text": [
      "'CM' missing from df_annot.columns, add 'CM' column with 0\n"
     ]
    },
    {
     "name": "stderr",
     "output_type": "stream",
     "text": [
      "/home/jz286/WES_analysis/GDReg/gdreg/util.py:559: SettingWithCopyWarning: \n",
      "A value is trying to be set on a copy of a slice from a DataFrame.\n",
      "Try using .loc[row_indexer,col_indexer] = value instead\n",
      "\n",
      "See the caveats in the documentation: https://pandas.pydata.org/pandas-docs/stable/user_guide/indexing.html#returning-a-view-versus-a-copy\n",
      "  df_annot[\"CM\"] = 0\n"
     ]
    },
    {
     "name": "stdout",
     "output_type": "stream",
     "text": [
      "'CM' missing from df_annot.columns, add 'CM' column with 0\n"
     ]
    },
    {
     "name": "stderr",
     "output_type": "stream",
     "text": [
      "/home/jz286/WES_analysis/GDReg/gdreg/util.py:559: SettingWithCopyWarning: \n",
      "A value is trying to be set on a copy of a slice from a DataFrame.\n",
      "Try using .loc[row_indexer,col_indexer] = value instead\n",
      "\n",
      "See the caveats in the documentation: https://pandas.pydata.org/pandas-docs/stable/user_guide/indexing.html#returning-a-view-versus-a-copy\n",
      "  df_annot[\"CM\"] = 0\n"
     ]
    },
    {
     "name": "stdout",
     "output_type": "stream",
     "text": [
      "'CM' missing from df_annot.columns, add 'CM' column with 0\n"
     ]
    },
    {
     "name": "stderr",
     "output_type": "stream",
     "text": [
      "/home/jz286/WES_analysis/GDReg/gdreg/util.py:559: SettingWithCopyWarning: \n",
      "A value is trying to be set on a copy of a slice from a DataFrame.\n",
      "Try using .loc[row_indexer,col_indexer] = value instead\n",
      "\n",
      "See the caveats in the documentation: https://pandas.pydata.org/pandas-docs/stable/user_guide/indexing.html#returning-a-view-versus-a-copy\n",
      "  df_annot[\"CM\"] = 0\n"
     ]
    },
    {
     "name": "stdout",
     "output_type": "stream",
     "text": [
      "'CM' missing from df_annot.columns, add 'CM' column with 0\n"
     ]
    },
    {
     "name": "stderr",
     "output_type": "stream",
     "text": [
      "/home/jz286/WES_analysis/GDReg/gdreg/util.py:559: SettingWithCopyWarning: \n",
      "A value is trying to be set on a copy of a slice from a DataFrame.\n",
      "Try using .loc[row_indexer,col_indexer] = value instead\n",
      "\n",
      "See the caveats in the documentation: https://pandas.pydata.org/pandas-docs/stable/user_guide/indexing.html#returning-a-view-versus-a-copy\n",
      "  df_annot[\"CM\"] = 0\n"
     ]
    },
    {
     "name": "stdout",
     "output_type": "stream",
     "text": [
      "'CM' missing from df_annot.columns, add 'CM' column with 0\n"
     ]
    },
    {
     "name": "stderr",
     "output_type": "stream",
     "text": [
      "/home/jz286/WES_analysis/GDReg/gdreg/util.py:559: SettingWithCopyWarning: \n",
      "A value is trying to be set on a copy of a slice from a DataFrame.\n",
      "Try using .loc[row_indexer,col_indexer] = value instead\n",
      "\n",
      "See the caveats in the documentation: https://pandas.pydata.org/pandas-docs/stable/user_guide/indexing.html#returning-a-view-versus-a-copy\n",
      "  df_annot[\"CM\"] = 0\n"
     ]
    },
    {
     "name": "stdout",
     "output_type": "stream",
     "text": [
      "'CM' missing from df_annot.columns, add 'CM' column with 0\n"
     ]
    },
    {
     "name": "stderr",
     "output_type": "stream",
     "text": [
      "/home/jz286/WES_analysis/GDReg/gdreg/util.py:559: SettingWithCopyWarning: \n",
      "A value is trying to be set on a copy of a slice from a DataFrame.\n",
      "Try using .loc[row_indexer,col_indexer] = value instead\n",
      "\n",
      "See the caveats in the documentation: https://pandas.pydata.org/pandas-docs/stable/user_guide/indexing.html#returning-a-view-versus-a-copy\n",
      "  df_annot[\"CM\"] = 0\n"
     ]
    },
    {
     "name": "stdout",
     "output_type": "stream",
     "text": [
      "'CM' missing from df_annot.columns, add 'CM' column with 0\n"
     ]
    },
    {
     "name": "stderr",
     "output_type": "stream",
     "text": [
      "/home/jz286/WES_analysis/GDReg/gdreg/util.py:559: SettingWithCopyWarning: \n",
      "A value is trying to be set on a copy of a slice from a DataFrame.\n",
      "Try using .loc[row_indexer,col_indexer] = value instead\n",
      "\n",
      "See the caveats in the documentation: https://pandas.pydata.org/pandas-docs/stable/user_guide/indexing.html#returning-a-view-versus-a-copy\n",
      "  df_annot[\"CM\"] = 0\n"
     ]
    },
    {
     "name": "stdout",
     "output_type": "stream",
     "text": [
      "'CM' missing from df_annot.columns, add 'CM' column with 0\n"
     ]
    },
    {
     "name": "stderr",
     "output_type": "stream",
     "text": [
      "/home/jz286/WES_analysis/GDReg/gdreg/util.py:559: SettingWithCopyWarning: \n",
      "A value is trying to be set on a copy of a slice from a DataFrame.\n",
      "Try using .loc[row_indexer,col_indexer] = value instead\n",
      "\n",
      "See the caveats in the documentation: https://pandas.pydata.org/pandas-docs/stable/user_guide/indexing.html#returning-a-view-versus-a-copy\n",
      "  df_annot[\"CM\"] = 0\n"
     ]
    },
    {
     "name": "stdout",
     "output_type": "stream",
     "text": [
      "'CM' missing from df_annot.columns, add 'CM' column with 0\n"
     ]
    },
    {
     "name": "stderr",
     "output_type": "stream",
     "text": [
      "/home/jz286/WES_analysis/GDReg/gdreg/util.py:559: SettingWithCopyWarning: \n",
      "A value is trying to be set on a copy of a slice from a DataFrame.\n",
      "Try using .loc[row_indexer,col_indexer] = value instead\n",
      "\n",
      "See the caveats in the documentation: https://pandas.pydata.org/pandas-docs/stable/user_guide/indexing.html#returning-a-view-versus-a-copy\n",
      "  df_annot[\"CM\"] = 0\n"
     ]
    },
    {
     "name": "stdout",
     "output_type": "stream",
     "text": [
      "'CM' missing from df_annot.columns, add 'CM' column with 0\n"
     ]
    },
    {
     "name": "stderr",
     "output_type": "stream",
     "text": [
      "/home/jz286/WES_analysis/GDReg/gdreg/util.py:559: SettingWithCopyWarning: \n",
      "A value is trying to be set on a copy of a slice from a DataFrame.\n",
      "Try using .loc[row_indexer,col_indexer] = value instead\n",
      "\n",
      "See the caveats in the documentation: https://pandas.pydata.org/pandas-docs/stable/user_guide/indexing.html#returning-a-view-versus-a-copy\n",
      "  df_annot[\"CM\"] = 0\n"
     ]
    },
    {
     "name": "stdout",
     "output_type": "stream",
     "text": [
      "'CM' missing from df_annot.columns, add 'CM' column with 0\n"
     ]
    },
    {
     "name": "stderr",
     "output_type": "stream",
     "text": [
      "/home/jz286/WES_analysis/GDReg/gdreg/util.py:559: SettingWithCopyWarning: \n",
      "A value is trying to be set on a copy of a slice from a DataFrame.\n",
      "Try using .loc[row_indexer,col_indexer] = value instead\n",
      "\n",
      "See the caveats in the documentation: https://pandas.pydata.org/pandas-docs/stable/user_guide/indexing.html#returning-a-view-versus-a-copy\n",
      "  df_annot[\"CM\"] = 0\n"
     ]
    },
    {
     "name": "stdout",
     "output_type": "stream",
     "text": [
      "'CM' missing from df_annot.columns, add 'CM' column with 0\n"
     ]
    },
    {
     "name": "stderr",
     "output_type": "stream",
     "text": [
      "/home/jz286/WES_analysis/GDReg/gdreg/util.py:559: SettingWithCopyWarning: \n",
      "A value is trying to be set on a copy of a slice from a DataFrame.\n",
      "Try using .loc[row_indexer,col_indexer] = value instead\n",
      "\n",
      "See the caveats in the documentation: https://pandas.pydata.org/pandas-docs/stable/user_guide/indexing.html#returning-a-view-versus-a-copy\n",
      "  df_annot[\"CM\"] = 0\n"
     ]
    },
    {
     "name": "stdout",
     "output_type": "stream",
     "text": [
      "'CM' missing from df_annot.columns, add 'CM' column with 0\n"
     ]
    },
    {
     "name": "stderr",
     "output_type": "stream",
     "text": [
      "/home/jz286/WES_analysis/GDReg/gdreg/util.py:559: SettingWithCopyWarning: \n",
      "A value is trying to be set on a copy of a slice from a DataFrame.\n",
      "Try using .loc[row_indexer,col_indexer] = value instead\n",
      "\n",
      "See the caveats in the documentation: https://pandas.pydata.org/pandas-docs/stable/user_guide/indexing.html#returning-a-view-versus-a-copy\n",
      "  df_annot[\"CM\"] = 0\n"
     ]
    },
    {
     "name": "stdout",
     "output_type": "stream",
     "text": [
      "'CM' missing from df_annot.columns, add 'CM' column with 0\n"
     ]
    },
    {
     "name": "stderr",
     "output_type": "stream",
     "text": [
      "/home/jz286/WES_analysis/GDReg/gdreg/util.py:559: SettingWithCopyWarning: \n",
      "A value is trying to be set on a copy of a slice from a DataFrame.\n",
      "Try using .loc[row_indexer,col_indexer] = value instead\n",
      "\n",
      "See the caveats in the documentation: https://pandas.pydata.org/pandas-docs/stable/user_guide/indexing.html#returning-a-view-versus-a-copy\n",
      "  df_annot[\"CM\"] = 0\n"
     ]
    },
    {
     "name": "stdout",
     "output_type": "stream",
     "text": [
      "'CM' missing from df_annot.columns, add 'CM' column with 0\n"
     ]
    },
    {
     "name": "stderr",
     "output_type": "stream",
     "text": [
      "/home/jz286/WES_analysis/GDReg/gdreg/util.py:559: SettingWithCopyWarning: \n",
      "A value is trying to be set on a copy of a slice from a DataFrame.\n",
      "Try using .loc[row_indexer,col_indexer] = value instead\n",
      "\n",
      "See the caveats in the documentation: https://pandas.pydata.org/pandas-docs/stable/user_guide/indexing.html#returning-a-view-versus-a-copy\n",
      "  df_annot[\"CM\"] = 0\n"
     ]
    },
    {
     "name": "stdout",
     "output_type": "stream",
     "text": [
      "'CM' missing from df_annot.columns, add 'CM' column with 0\n"
     ]
    },
    {
     "name": "stderr",
     "output_type": "stream",
     "text": [
      "/home/jz286/WES_analysis/GDReg/gdreg/util.py:559: SettingWithCopyWarning: \n",
      "A value is trying to be set on a copy of a slice from a DataFrame.\n",
      "Try using .loc[row_indexer,col_indexer] = value instead\n",
      "\n",
      "See the caveats in the documentation: https://pandas.pydata.org/pandas-docs/stable/user_guide/indexing.html#returning-a-view-versus-a-copy\n",
      "  df_annot[\"CM\"] = 0\n"
     ]
    },
    {
     "name": "stdout",
     "output_type": "stream",
     "text": [
      "'CM' missing from df_annot.columns, add 'CM' column with 0\n"
     ]
    },
    {
     "name": "stderr",
     "output_type": "stream",
     "text": [
      "/home/jz286/WES_analysis/GDReg/gdreg/util.py:559: SettingWithCopyWarning: \n",
      "A value is trying to be set on a copy of a slice from a DataFrame.\n",
      "Try using .loc[row_indexer,col_indexer] = value instead\n",
      "\n",
      "See the caveats in the documentation: https://pandas.pydata.org/pandas-docs/stable/user_guide/indexing.html#returning-a-view-versus-a-copy\n",
      "  df_annot[\"CM\"] = 0\n"
     ]
    },
    {
     "name": "stdout",
     "output_type": "stream",
     "text": [
      "'CM' missing from df_annot.columns, add 'CM' column with 0\n"
     ]
    },
    {
     "name": "stderr",
     "output_type": "stream",
     "text": [
      "/home/jz286/WES_analysis/GDReg/gdreg/util.py:559: SettingWithCopyWarning: \n",
      "A value is trying to be set on a copy of a slice from a DataFrame.\n",
      "Try using .loc[row_indexer,col_indexer] = value instead\n",
      "\n",
      "See the caveats in the documentation: https://pandas.pydata.org/pandas-docs/stable/user_guide/indexing.html#returning-a-view-versus-a-copy\n",
      "  df_annot[\"CM\"] = 0\n"
     ]
    },
    {
     "name": "stdout",
     "output_type": "stream",
     "text": [
      "'CM' missing from df_annot.columns, add 'CM' column with 0\n"
     ]
    },
    {
     "name": "stderr",
     "output_type": "stream",
     "text": [
      "/home/jz286/WES_analysis/GDReg/gdreg/util.py:559: SettingWithCopyWarning: \n",
      "A value is trying to be set on a copy of a slice from a DataFrame.\n",
      "Try using .loc[row_indexer,col_indexer] = value instead\n",
      "\n",
      "See the caveats in the documentation: https://pandas.pydata.org/pandas-docs/stable/user_guide/indexing.html#returning-a-view-versus-a-copy\n",
      "  df_annot[\"CM\"] = 0\n"
     ]
    },
    {
     "name": "stdout",
     "output_type": "stream",
     "text": [
      "                        AN:all                              size=1      MAF: 0.001-0.5 \n",
      "           AN:Backgrd_Selection_Stat_common                size=0.44     MAF: 0.05-0.5 \n",
      "             AN:Backgrd_Selection_Stat_lf                  size=0.27    MAF: 0.005-0.05\n",
      "                   AN:BivFlnk_common                      size=0.0058    MAF: 0.05-0.5 \n",
      "                     AN:BivFlnk_lf                        size=0.0041   MAF: 0.005-0.05\n",
      "            AN:BivFlnk.flanking.500_common                size=0.0076    MAF: 0.05-0.5 \n",
      "              AN:BivFlnk.flanking.500_lf                  size=0.005    MAF: 0.005-0.05\n",
      "                  AN:CADD_g20_common                     size=0.00031    MAF: 0.05-0.5 \n",
      "                    AN:CADD_g20_lf                       size=0.00045   MAF: 0.005-0.05\n",
      "                AN:CTCF_Hoffman_common                     size=0.01     MAF: 0.05-0.5 \n",
      "                  AN:CTCF_Hoffman_lf                      size=0.0064   MAF: 0.005-0.05\n",
      "          AN:CTCF_Hoffman.flanking.500_common              size=0.02     MAF: 0.05-0.5 \n",
      "            AN:CTCF_Hoffman.flanking.500_lf               size=0.013    MAF: 0.005-0.05\n",
      "                 AN:Coding_UCSC_common                    size=0.0061    MAF: 0.05-0.5 \n",
      "                   AN:Coding_UCSC_lf                      size=0.005    MAF: 0.005-0.05\n",
      "          AN:Coding_UCSC.flanking.500_common              size=0.022     MAF: 0.05-0.5 \n",
      "            AN:Coding_UCSC.flanking.500_lf                size=0.015    MAF: 0.005-0.05\n",
      "            AN:Conserved_LindbladToh_common               size=0.011     MAF: 0.05-0.5 \n",
      "              AN:Conserved_LindbladToh_lf                 size=0.0085   MAF: 0.005-0.05\n",
      "     AN:Conserved_LindbladToh.flanking.500_common          size=0.14     MAF: 0.05-0.5 \n",
      "       AN:Conserved_LindbladToh.flanking.500_lf           size=0.086    MAF: 0.005-0.05\n",
      "       AN:Conserved_Mammal_phastCons46way_common          size=0.0092    MAF: 0.05-0.5 \n",
      "         AN:Conserved_Mammal_phastCons46way_lf            size=0.0076   MAF: 0.005-0.05\n",
      "AN:Conserved_Mammal_phastCons46way.flanking.500_common     size=0.14     MAF: 0.05-0.5 \n",
      "  AN:Conserved_Mammal_phastCons46way.flanking.500_lf       size=0.09    MAF: 0.005-0.05\n",
      "      AN:Conserved_Primate_phastCons46way_common          size=0.0084    MAF: 0.05-0.5 \n",
      "        AN:Conserved_Primate_phastCons46way_lf            size=0.0072   MAF: 0.005-0.05\n",
      "AN:Conserved_Primate_phastCons46way.flanking.500_common   size=0.069     MAF: 0.05-0.5 \n",
      "  AN:Conserved_Primate_phastCons46way.flanking.500_lf     size=0.045    MAF: 0.005-0.05\n",
      "     AN:Conserved_Vertebrate_phastCons46way_common        size=0.013     MAF: 0.05-0.5 \n",
      "       AN:Conserved_Vertebrate_phastCons46way_lf           size=0.01    MAF: 0.005-0.05\n",
      "AN:Conserved_Vertebrate_phastCons46way.flanking.500_common    size=0.17     MAF: 0.05-0.5 \n",
      "AN:Conserved_Vertebrate_phastCons46way.flanking.500_lf     size=0.11    MAF: 0.005-0.05\n",
      "                     AN:CpG_common                        size=0.095     MAF: 0.05-0.5 \n",
      "                       AN:CpG_lf                          size=0.078    MAF: 0.005-0.05\n",
      "                 AN:DGF_ENCODE_common                     size=0.058     MAF: 0.05-0.5 \n",
      "                   AN:DGF_ENCODE_lf                       size=0.038    MAF: 0.005-0.05\n",
      "           AN:DGF_ENCODE.flanking.500_common               size=0.18     MAF: 0.05-0.5 \n",
      "             AN:DGF_ENCODE.flanking.500_lf                 size=0.11    MAF: 0.005-0.05\n",
      "                 AN:DHS_Trynka_common                     size=0.071     MAF: 0.05-0.5 \n",
      "                   AN:DHS_Trynka_lf                       size=0.046    MAF: 0.005-0.05\n",
      "           AN:DHS_Trynka.flanking.500_common               size=0.15     MAF: 0.05-0.5 \n",
      "             AN:DHS_Trynka.flanking.500_lf                size=0.091    MAF: 0.005-0.05\n",
      "              AN:DHS_peaks_Trynka_common                  size=0.047     MAF: 0.05-0.5 \n",
      "                AN:DHS_peaks_Trynka_lf                    size=0.031    MAF: 0.005-0.05\n",
      "             AN:Enhancer_Andersson_common                 size=0.0019    MAF: 0.05-0.5 \n",
      "               AN:Enhancer_Andersson_lf                   size=0.0012   MAF: 0.005-0.05\n",
      "       AN:Enhancer_Andersson.flanking.500_common          size=0.0064    MAF: 0.05-0.5 \n",
      "         AN:Enhancer_Andersson.flanking.500_lf            size=0.004    MAF: 0.005-0.05\n",
      "              AN:Enhancer_Hoffman_common                  size=0.018     MAF: 0.05-0.5 \n",
      "                AN:Enhancer_Hoffman_lf                    size=0.012    MAF: 0.005-0.05\n",
      "        AN:Enhancer_Hoffman.flanking.500_common           size=0.021     MAF: 0.05-0.5 \n",
      "          AN:Enhancer_Hoffman.flanking.500_lf             size=0.014    MAF: 0.005-0.05\n",
      "               AN:FetalDHS_Trynka_common                  size=0.036     MAF: 0.05-0.5 \n",
      "                 AN:FetalDHS_Trynka_lf                    size=0.024    MAF: 0.005-0.05\n",
      "        AN:FetalDHS_Trynka.flanking.500_common            size=0.088     MAF: 0.05-0.5 \n",
      "          AN:FetalDHS_Trynka.flanking.500_lf              size=0.055    MAF: 0.005-0.05\n",
      "                    AN:GerpN_common                        size=0.12     MAF: 0.05-0.5 \n",
      "                      AN:GerpN_lf                         size=0.098    MAF: 0.005-0.05\n",
      "                  AN:GerpRS_g4_common                     size=0.0066    MAF: 0.05-0.5 \n",
      "                    AN:GerpRS_g4_lf                       size=0.0063   MAF: 0.005-0.05\n",
      "                AN:H3K27ac_Hnisz_common                    size=0.17     MAF: 0.05-0.5 \n",
      "                  AN:H3K27ac_Hnisz_lf                      size=0.11    MAF: 0.005-0.05\n",
      "         AN:H3K27ac_Hnisz.flanking.500_common             size=0.014     MAF: 0.05-0.5 \n",
      "           AN:H3K27ac_Hnisz.flanking.500_lf               size=0.0086   MAF: 0.005-0.05\n",
      "                AN:H3K27ac_PGC2_common                     size=0.12     MAF: 0.05-0.5 \n",
      "                  AN:H3K27ac_PGC2_lf                      size=0.076    MAF: 0.005-0.05\n",
      "          AN:H3K27ac_PGC2.flanking.500_common             size=0.029     MAF: 0.05-0.5 \n",
      "            AN:H3K27ac_PGC2.flanking.500_lf               size=0.018    MAF: 0.005-0.05\n",
      "               AN:H3K4me1_Trynka_common                    size=0.19     MAF: 0.05-0.5 \n",
      "                 AN:H3K4me1_Trynka_lf                      size=0.12    MAF: 0.005-0.05\n",
      "         AN:H3K4me1_Trynka.flanking.500_common            size=0.081     MAF: 0.05-0.5 \n",
      "           AN:H3K4me1_Trynka.flanking.500_lf               size=0.05    MAF: 0.005-0.05\n",
      "            AN:H3K4me1_peaks_Trynka_common                size=0.072     MAF: 0.05-0.5 \n",
      "              AN:H3K4me1_peaks_Trynka_lf                  size=0.048    MAF: 0.005-0.05\n",
      "               AN:H3K4me3_Trynka_common                   size=0.058     MAF: 0.05-0.5 \n",
      "                 AN:H3K4me3_Trynka_lf                     size=0.039    MAF: 0.005-0.05\n",
      "         AN:H3K4me3_Trynka.flanking.500_common            size=0.054     MAF: 0.05-0.5 \n",
      "           AN:H3K4me3_Trynka.flanking.500_lf              size=0.034    MAF: 0.005-0.05\n",
      "            AN:H3K4me3_peaks_Trynka_common                size=0.018     MAF: 0.05-0.5 \n",
      "              AN:H3K4me3_peaks_Trynka_lf                  size=0.012    MAF: 0.005-0.05\n",
      "                AN:H3K9ac_Trynka_common                   size=0.054     MAF: 0.05-0.5 \n",
      "                  AN:H3K9ac_Trynka_lf                     size=0.037    MAF: 0.005-0.05\n",
      "         AN:H3K9ac_Trynka.flanking.500_common             size=0.046     MAF: 0.05-0.5 \n",
      "           AN:H3K9ac_Trynka.flanking.500_lf               size=0.029    MAF: 0.005-0.05\n",
      "             AN:H3K9ac_peaks_Trynka_common                size=0.016     MAF: 0.05-0.5 \n",
      "               AN:H3K9ac_peaks_Trynka_lf                  size=0.011    MAF: 0.005-0.05\n",
      "                 AN:Intron_UCSC_common                     size=0.17     MAF: 0.05-0.5 \n",
      "                   AN:Intron_UCSC_lf                       size=0.11    MAF: 0.005-0.05\n",
      "          AN:Intron_UCSC.flanking.500_common              size=0.0039    MAF: 0.05-0.5 \n",
      "            AN:Intron_UCSC.flanking.500_lf                size=0.0032   MAF: 0.005-0.05\n",
      "                   AN:LLD_AFR_common                       size=0.44     MAF: 0.05-0.5 \n",
      "                     AN:LLD_AFR_lf                         size=0.27    MAF: 0.005-0.05\n",
      "          AN:PromoterFlanking_Hoffman_common              size=0.0037    MAF: 0.05-0.5 \n",
      "            AN:PromoterFlanking_Hoffman_lf                size=0.0025   MAF: 0.005-0.05\n"
     ]
    },
    {
     "name": "stdout",
     "output_type": "stream",
     "text": [
      "    AN:PromoterFlanking_Hoffman.flanking.500_common       size=0.011     MAF: 0.05-0.5 \n",
      "      AN:PromoterFlanking_Hoffman.flanking.500_lf         size=0.0072   MAF: 0.005-0.05\n",
      "                AN:Promoter_UCSC_common                    size=0.02     MAF: 0.05-0.5 \n",
      "                  AN:Promoter_UCSC_lf                     size=0.014    MAF: 0.005-0.05\n",
      "         AN:Promoter_UCSC.flanking.500_common             size=0.0047    MAF: 0.05-0.5 \n",
      "           AN:Promoter_UCSC.flanking.500_lf               size=0.0031   MAF: 0.005-0.05\n",
      "              AN:Repressed_Hoffman_common                  size=0.2      MAF: 0.05-0.5 \n",
      "                AN:Repressed_Hoffman_lf                    size=0.12    MAF: 0.005-0.05\n",
      "       AN:Repressed_Hoffman.flanking.500_common            size=0.11     MAF: 0.05-0.5 \n",
      "         AN:Repressed_Hoffman.flanking.500_lf             size=0.069    MAF: 0.005-0.05\n",
      "             AN:SuperEnhancer_Hnisz_common                size=0.073     MAF: 0.05-0.5 \n",
      "               AN:SuperEnhancer_Hnisz_lf                  size=0.047    MAF: 0.005-0.05\n",
      "      AN:SuperEnhancer_Hnisz.flanking.500_common          size=0.0014    MAF: 0.05-0.5 \n",
      "        AN:SuperEnhancer_Hnisz.flanking.500_lf           size=0.00089   MAF: 0.005-0.05\n",
      "                 AN:TFBS_ENCODE_common                    size=0.057     MAF: 0.05-0.5 \n",
      "                   AN:TFBS_ENCODE_lf                      size=0.037    MAF: 0.005-0.05\n",
      "          AN:TFBS_ENCODE.flanking.500_common              size=0.093     MAF: 0.05-0.5 \n",
      "            AN:TFBS_ENCODE.flanking.500_lf                size=0.058    MAF: 0.005-0.05\n",
      "                 AN:TSS_Hoffman_common                    size=0.0077    MAF: 0.05-0.5 \n",
      "                   AN:TSS_Hoffman_lf                      size=0.0055   MAF: 0.005-0.05\n",
      "          AN:TSS_Hoffman.flanking.500_common              size=0.0073    MAF: 0.05-0.5 \n",
      "            AN:TSS_Hoffman.flanking.500_lf                size=0.0048   MAF: 0.005-0.05\n",
      "             AN:Transcribed_Hoffman_common                 size=0.15     MAF: 0.05-0.5 \n",
      "               AN:Transcribed_Hoffman_lf                   size=0.1     MAF: 0.005-0.05\n",
      "      AN:Transcribed_Hoffman.flanking.500_common           size=0.18     MAF: 0.05-0.5 \n",
      "        AN:Transcribed_Hoffman.flanking.500_lf             size=0.11    MAF: 0.005-0.05\n",
      "                 AN:UTR_3_UCSC_common                     size=0.005     MAF: 0.05-0.5 \n",
      "                   AN:UTR_3_UCSC_lf                       size=0.0036   MAF: 0.005-0.05\n",
      "           AN:UTR_3_UCSC.flanking.500_common              size=0.0067    MAF: 0.05-0.5 \n",
      "             AN:UTR_3_UCSC.flanking.500_lf                size=0.0046   MAF: 0.005-0.05\n",
      "                 AN:UTR_5_UCSC_common                     size=0.0023    MAF: 0.05-0.5 \n",
      "                   AN:UTR_5_UCSC_lf                       size=0.0017   MAF: 0.005-0.05\n",
      "           AN:UTR_5_UCSC.flanking.500_common              size=0.0094    MAF: 0.05-0.5 \n",
      "             AN:UTR_5_UCSC.flanking.500_lf                size=0.0063   MAF: 0.005-0.05\n",
      "               AN:Vahedi_Tcell_SE_common                  size=0.0092    MAF: 0.05-0.5 \n",
      "                 AN:Vahedi_Tcell_SE_lf                    size=0.0063   MAF: 0.005-0.05\n",
      "        AN:Vahedi_Tcell_SE.flanking.500_common           size=0.00021    MAF: 0.05-0.5 \n",
      "          AN:Vahedi_Tcell_SE.flanking.500_lf             size=0.00014   MAF: 0.005-0.05\n",
      "               AN:Vahedi_Tcell_TE_common                  size=0.0094    MAF: 0.05-0.5 \n",
      "                 AN:Vahedi_Tcell_TE_lf                    size=0.006    MAF: 0.005-0.05\n",
      "        AN:Vahedi_Tcell_TE.flanking.500_common            size=0.0019    MAF: 0.05-0.5 \n",
      "          AN:Vahedi_Tcell_TE.flanking.500_lf              size=0.0012   MAF: 0.005-0.05\n",
      "            AN:WeakEnhancer_Hoffman_common                size=0.0089    MAF: 0.05-0.5 \n",
      "              AN:WeakEnhancer_Hoffman_lf                  size=0.0059   MAF: 0.005-0.05\n",
      "      AN:WeakEnhancer_Hoffman.flanking.500_common          size=0.03     MAF: 0.05-0.5 \n",
      "        AN:WeakEnhancer_Hoffman.flanking.500_lf           size=0.019    MAF: 0.005-0.05\n",
      "                  AN:alleleage_common                      size=0.35     MAF: 0.05-0.5 \n",
      "               AN:nucleotide_div_common                    size=0.44     MAF: 0.05-0.5 \n",
      "                 AN:nucleotide_div_lf                      size=0.27    MAF: 0.005-0.05\n",
      "                 AN:recomb_rate_common                     size=0.44     MAF: 0.05-0.5 \n",
      "                   AN:recomb_rate_lf                       size=0.27    MAF: 0.005-0.05\n",
      "       AN:snpeff_downstream_gene_variant_common           size=0.058     MAF: 0.05-0.5 \n",
      "         AN:snpeff_downstream_gene_variant_lf             size=0.038    MAF: 0.005-0.05\n",
      "  AN:snpeff_non_coding_transcript_exon_variant_common     size=0.0064    MAF: 0.05-0.5 \n",
      "    AN:snpeff_non_coding_transcript_exon_variant_lf       size=0.0056   MAF: 0.005-0.05\n",
      "        AN:snpeff_nonsynonymous_variant_common            size=0.0011    MAF: 0.05-0.5 \n",
      "          AN:snpeff_nonsynonymous_variant_lf              size=0.0015   MAF: 0.005-0.05\n",
      "        AN:snpeff_splice_region_variant_common           size=0.00051    MAF: 0.05-0.5 \n",
      "          AN:snpeff_splice_region_variant_lf             size=0.00037   MAF: 0.005-0.05\n",
      "          AN:snpeff_synonymous_variant_common            size=0.00098    MAF: 0.05-0.5 \n",
      "            AN:snpeff_synonymous_variant_lf              size=0.00095   MAF: 0.005-0.05\n",
      "        AN:snpeff_upstream_gene_variant_common            size=0.056     MAF: 0.05-0.5 \n",
      "          AN:snpeff_upstream_gene_variant_lf              size=0.037    MAF: 0.005-0.05\n",
      "                    AN:mbin0_common                       size=0.044    MAF: 0.05-0.071\n",
      "                    AN:mbin1_common                       size=0.044    MAF: 0.071-0.098\n",
      "                    AN:mbin2_common                       size=0.044    MAF: 0.098-0.13\n",
      "                    AN:mbin3_common                       size=0.044    MAF: 0.13-0.17 \n",
      "                    AN:mbin4_common                       size=0.044    MAF: 0.17-0.21 \n",
      "                    AN:mbin5_common                       size=0.044    MAF: 0.21-0.26 \n",
      "                    AN:mbin6_common                       size=0.044    MAF: 0.26-0.32 \n",
      "                    AN:mbin7_common                       size=0.044    MAF: 0.32-0.38 \n",
      "                    AN:mbin8_common                       size=0.044    MAF: 0.38-0.44 \n",
      "                    AN:mbin9_common                       size=0.044     MAF: 0.44-0.5 \n",
      "                      AN:mbin0_lf                         size=0.055    MAF: 0.005-0.0076\n",
      "                      AN:mbin1_lf                         size=0.055    MAF: 0.0076-0.012\n",
      "                      AN:mbin2_lf                         size=0.055    MAF: 0.012-0.019\n",
      "                      AN:mbin3_lf                         size=0.055    MAF: 0.019-0.031\n",
      "                      AN:mbin4_lf                         size=0.055    MAF: 0.031-0.05\n"
     ]
    }
   ],
   "source": [
    "from sklearn.preprocessing import quantile_transform\n",
    "\n",
    "# MAF bins\n",
    "df_annot_norm = df_annot[[\"CHR\", \"SNP\", \"BP\", \"MAF\"]].copy()\n",
    "dic_maf_ind = {\n",
    "    \"common\" : df_annot[\"MAF\"].values >= 0.05,\n",
    "    \"lf\" : (df_annot[\"MAF\"].values >= 0.005) & (df_annot[\"MAF\"].values < 0.05),\n",
    "}\n",
    "\n",
    "# base\n",
    "df_annot_norm['AN:all'] = True\n",
    "\n",
    "# MAF_splits\n",
    "for AN in AN_list:\n",
    "    for mbin in dic_maf_ind:\n",
    "        df_annot_norm['%s_%s' % (AN, mbin)] = df_annot[AN].values * dic_maf_ind[mbin]\n",
    "        \n",
    "# MAF bins : 10 common bins & 5 lf bins\n",
    "temp_v = pd.qcut(df_annot['MAF'].values[dic_maf_ind['common']], q=10, labels=False) \n",
    "for i in np.arange(10):\n",
    "    df_annot_norm['AN:mbin%d_common' % i] = False\n",
    "    df_annot_norm.loc[dic_maf_ind['common'], 'AN:mbin%d_common' % i] = temp_v==i\n",
    "    \n",
    "temp_v = pd.qcut(df_annot['MAF'].values[dic_maf_ind['lf']], q=5, labels=False) \n",
    "for i in np.arange(5):\n",
    "    df_annot_norm['AN:mbin%d_lf' % i] = False\n",
    "    df_annot_norm.loc[dic_maf_ind['lf'], 'AN:mbin%d_lf' % i] = temp_v==i\n",
    "\n",
    "# MAF adjustment : AN:LLD_AFR_common\n",
    "for i in np.arange(10):\n",
    "    ind_select = df_annot_norm['AN:mbin%d_common' % i].values\n",
    "    temp_v = df_annot_norm.loc[ind_select, 'AN:LLD_AFR_common'].values.copy()\n",
    "    df_annot_norm.loc[ind_select, 'AN:LLD_AFR_common'] = quantile_transform(\n",
    "        temp_v.reshape([-1,1]), n_quantiles=min(10000, temp_v.shape[0]), \n",
    "        output_distribution='normal', subsample=temp_v.shape[0],\n",
    "    ).flatten()\n",
    "        \n",
    "for i in np.arange(5):\n",
    "    ind_select = df_annot_norm['AN:mbin%d_lf' % i].values\n",
    "    temp_v = df_annot_norm.loc[ind_select, 'AN:LLD_AFR_lf'].values.copy()\n",
    "    df_annot_norm.loc[ind_select, 'AN:LLD_AFR_lf'] = quantile_transform(\n",
    "        temp_v.reshape([-1,1]), n_quantiles=min(10000, temp_v.shape[0]), \n",
    "        output_distribution='normal', subsample=temp_v.shape[0],\n",
    "    ).flatten()\n",
    "    \n",
    "# MAF-adjusted : alleleage_common\n",
    "ind_nonmissing = (df_annot['AN:alleleage'] != 0).values\n",
    "for i in np.arange(10):\n",
    "    ind_select = df_annot_norm['AN:mbin%d_common' % i].values & ind_nonmissing\n",
    "    temp_v = df_annot_norm.loc[ind_select, 'AN:alleleage_common'].values.copy()\n",
    "    df_annot_norm.loc[ind_select, 'AN:alleleage_common'] = quantile_transform(\n",
    "        temp_v.reshape([-1,1]), n_quantiles=min(10000, temp_v.shape[0]), \n",
    "        output_distribution='normal', subsample=temp_v.shape[0],\n",
    "    ).flatten()\n",
    "    \n",
    "# drop\n",
    "df_annot_norm.drop([\"AN:alleleage_lf\"], axis=1, inplace=True)\n",
    "\n",
    "# dtype\n",
    "AN_list_norm = [x for x in df_annot_norm if x.startswith(\"AN:\")]\n",
    "for AN in AN_list_norm:\n",
    "    if len(set(df_annot_norm[AN].values[:10000])) <= 2:\n",
    "        df_annot_norm[AN] = df_annot_norm[AN].astype(bool)\n",
    "    else:\n",
    "        df_annot_norm[AN] = df_annot_norm[AN].astype(np.float32)\n",
    "        \n",
    "        \n",
    "# Summary\n",
    "print('df_annot_norm', df_annot_norm.shape)\n",
    "print('n_AN = %d' % len([x for x in df_annot_norm if x.startswith('AN:')]))\n",
    "\n",
    "for CHR in range(1,23):\n",
    "# for CHR in [22]:\n",
    "    gdreg.util.write_annot(\n",
    "        df_annot_norm.loc[df_annot_norm[\"CHR\"]==CHR], OUT_PATH+\"/baseline_chr%d.annot.gz\" % CHR\n",
    "    )\n",
    "\n",
    "# Print information\n",
    "for AN in AN_list_norm:\n",
    "    ind_select = df_annot_norm[AN]!=0\n",
    "    an_size = ind_select.mean()\n",
    "    maf_min = df_annot_norm.loc[ind_select, \"MAF\"].min()\n",
    "    maf_max = df_annot_norm.loc[ind_select, \"MAF\"].max()\n",
    "    \n",
    "    print(\"{:^55s} {:^15s} {:^15s}\".format(\n",
    "        AN, \"size=%0.2g\" % an_size, \"MAF: %0.2g-%0.2g\" % (maf_min, maf_max)\n",
    "    ))"
   ]
  },
  {
   "cell_type": "markdown",
   "metadata": {},
   "source": [
    "### Correctness"
   ]
  },
  {
   "cell_type": "code",
   "execution_count": 4,
   "metadata": {
    "scrolled": false
   },
   "outputs": [
    {
     "name": "stdout",
     "output_type": "stream",
     "text": [
      "Coding_UCSC                              Corr=0.96, AN1_only=296, AN2_only=0, overlap=3626\n",
      "['AN:Coding_UCSC_common', 'AN:Coding_UCSC_lf'] \n",
      "\n",
      "Coding_UCSC.flanking.500                 Corr=0.966, AN1_only=723, AN2_only=0, overlap=11008\n",
      "['AN:Coding_UCSC.flanking.500_common', 'AN:Coding_UCSC.flanking.500_lf'] \n",
      "\n",
      "Conserved_LindbladToh                    Corr=0.956, AN1_only=288, AN2_only=0, overlap=3134\n",
      "['AN:Conserved_LindbladToh_common', 'AN:Conserved_LindbladToh_lf'] \n",
      "\n",
      "Conserved_LindbladToh.flanking.500       Corr=0.952, AN1_only=2768, AN2_only=0, overlap=40071\n",
      "['AN:Conserved_LindbladToh.flanking.500_common', 'AN:Conserved_LindbladToh.flanking.500_lf'] \n",
      "\n",
      "CTCF_Hoffman                             Corr=0.969, AN1_only=290, AN2_only=0, overlap=4601\n",
      "['AN:CTCF_Hoffman_common', 'AN:CTCF_Hoffman_lf'] \n",
      "\n",
      "CTCF_Hoffman.flanking.500                Corr=0.968, AN1_only=584, AN2_only=0, overlap=9366\n",
      "['AN:CTCF_Hoffman.flanking.500_common', 'AN:CTCF_Hoffman.flanking.500_lf'] \n",
      "\n",
      "DGF_ENCODE                               Corr=0.96, AN1_only=1590, AN2_only=0, overlap=23144\n",
      "['AN:DGF_ENCODE_common', 'AN:DGF_ENCODE_lf'] \n",
      "\n",
      "DGF_ENCODE.flanking.500                  Corr=0.942, AN1_only=3858, AN2_only=0, overlap=58742\n",
      "['AN:DGF_ENCODE.flanking.500_common', 'AN:DGF_ENCODE.flanking.500_lf'] \n",
      "\n",
      "DHS_peaks_Trynka                         Corr=0.964, AN1_only=1112, AN2_only=0, overlap=16949\n",
      "['AN:DHS_peaks_Trynka_common', 'AN:DHS_peaks_Trynka_lf'] \n",
      "\n",
      "DHS_Trynka                               Corr=0.961, AN1_only=1619, AN2_only=0, overlap=24735\n",
      "['AN:DHS_Trynka_common', 'AN:DHS_Trynka_lf'] \n",
      "\n",
      "DHS_Trynka.flanking.500                  Corr=0.951, AN1_only=3076, AN2_only=0, overlap=46185\n",
      "['AN:DHS_Trynka.flanking.500_common', 'AN:DHS_Trynka.flanking.500_lf'] \n",
      "\n",
      "Enhancer_Andersson                       Corr=0.968, AN1_only=55, AN2_only=0, overlap=825\n",
      "['AN:Enhancer_Andersson_common', 'AN:Enhancer_Andersson_lf'] \n",
      "\n",
      "Enhancer_Andersson.flanking.500          Corr=0.969, AN1_only=167, AN2_only=0, overlap=2671\n",
      "['AN:Enhancer_Andersson.flanking.500_common', 'AN:Enhancer_Andersson.flanking.500_lf'] \n",
      "\n",
      "Enhancer_Hoffman                         Corr=0.964, AN1_only=531, AN2_only=0, overlap=7471\n",
      "['AN:Enhancer_Hoffman_common', 'AN:Enhancer_Hoffman_lf'] \n",
      "\n",
      "Enhancer_Hoffman.flanking.500            Corr=0.962, AN1_only=678, AN2_only=0, overlap=9111\n",
      "['AN:Enhancer_Hoffman.flanking.500_common', 'AN:Enhancer_Hoffman.flanking.500_lf'] \n",
      "\n",
      "FetalDHS_Trynka                          Corr=0.965, AN1_only=927, AN2_only=0, overlap=13954\n",
      "['AN:FetalDHS_Trynka_common', 'AN:FetalDHS_Trynka_lf'] \n",
      "\n",
      "FetalDHS_Trynka.flanking.500             Corr=0.958, AN1_only=2111, AN2_only=0, overlap=31446\n",
      "['AN:FetalDHS_Trynka.flanking.500_common', 'AN:FetalDHS_Trynka.flanking.500_lf'] \n",
      "\n",
      "H3K27ac_Hnisz                            Corr=0.926, AN1_only=4886, AN2_only=0, overlap=73308\n",
      "['AN:H3K27ac_Hnisz_common', 'AN:H3K27ac_Hnisz_lf'] \n",
      "\n",
      "H3K27ac_Hnisz.flanking.500               Corr=0.967, AN1_only=269, AN2_only=0, overlap=4004\n",
      "['AN:H3K27ac_Hnisz.flanking.500_common', 'AN:H3K27ac_Hnisz.flanking.500_lf'] \n",
      "\n",
      "H3K27ac_PGC2                             Corr=0.946, AN1_only=3460, AN2_only=0, overlap=49255\n",
      "['AN:H3K27ac_PGC2_common', 'AN:H3K27ac_PGC2_lf'] \n",
      "\n",
      "H3K27ac_PGC2.flanking.500                Corr=0.966, AN1_only=744, AN2_only=0, overlap=11345\n",
      "['AN:H3K27ac_PGC2.flanking.500_common', 'AN:H3K27ac_PGC2.flanking.500_lf'] \n",
      "\n",
      "H3K4me1_peaks_Trynka                     Corr=0.955, AN1_only=2264, AN2_only=0, overlap=31565\n",
      "['AN:H3K4me1_peaks_Trynka_common', 'AN:H3K4me1_peaks_Trynka_lf'] \n",
      "\n",
      "H3K4me1_Trynka                           Corr=0.923, AN1_only=5086, AN2_only=0, overlap=73169\n",
      "['AN:H3K4me1_Trynka_common', 'AN:H3K4me1_Trynka_lf'] \n",
      "\n",
      "H3K4me1_Trynka.flanking.500              Corr=0.964, AN1_only=1367, AN2_only=0, overlap=21907\n",
      "['AN:H3K4me1_Trynka.flanking.500_common', 'AN:H3K4me1_Trynka.flanking.500_lf'] \n",
      "\n",
      "H3K4me3_peaks_Trynka                     Corr=0.968, AN1_only=493, AN2_only=0, overlap=7741\n",
      "['AN:H3K4me3_peaks_Trynka_common', 'AN:H3K4me3_peaks_Trynka_lf'] \n",
      "\n",
      "H3K4me3_Trynka                           Corr=0.96, AN1_only=1691, AN2_only=0, overlap=24762\n",
      "['AN:H3K4me3_Trynka_common', 'AN:H3K4me3_Trynka_lf'] \n",
      "\n",
      "H3K4me3_Trynka.flanking.500              Corr=0.961, AN1_only=1406, AN2_only=0, overlap=20501\n",
      "['AN:H3K4me3_Trynka.flanking.500_common', 'AN:H3K4me3_Trynka.flanking.500_lf'] \n",
      "\n",
      "H3K9ac_peaks_Trynka                      Corr=0.964, AN1_only=727, AN2_only=0, overlap=10314\n",
      "['AN:H3K9ac_peaks_Trynka_common', 'AN:H3K9ac_peaks_Trynka_lf'] \n",
      "\n",
      "H3K9ac_Trynka                            Corr=0.957, AN1_only=2157, AN2_only=0, overlap=31667\n",
      "['AN:H3K9ac_Trynka_common', 'AN:H3K9ac_Trynka_lf'] \n",
      "\n",
      "H3K9ac_Trynka.flanking.500               Corr=0.962, AN1_only=1513, AN2_only=0, overlap=23496\n",
      "['AN:H3K9ac_Trynka.flanking.500_common', 'AN:H3K9ac_Trynka.flanking.500_lf'] \n",
      "\n",
      "Intron_UCSC                              Corr=0.942, AN1_only=3845, AN2_only=0, overlap=57844\n",
      "['AN:Intron_UCSC_common', 'AN:Intron_UCSC_lf'] \n",
      "\n",
      "Intron_UCSC.flanking.500                 Corr=0.962, AN1_only=204, AN2_only=0, overlap=2604\n",
      "['AN:Intron_UCSC.flanking.500_common', 'AN:Intron_UCSC.flanking.500_lf'] \n",
      "\n",
      "PromoterFlanking_Hoffman                 Corr=0.961, AN1_only=120, AN2_only=0, overlap=1448\n",
      "['AN:PromoterFlanking_Hoffman_common', 'AN:PromoterFlanking_Hoffman_lf'] \n",
      "\n",
      "PromoterFlanking_Hoffman.flanking.500    Corr=0.967, AN1_only=321, AN2_only=0, overlap=4755\n",
      "['AN:PromoterFlanking_Hoffman.flanking.500_common', 'AN:PromoterFlanking_Hoffman.flanking.500_lf'] \n",
      "\n",
      "Promoter_UCSC                            Corr=0.968, AN1_only=704, AN2_only=0, overlap=11353\n",
      "['AN:Promoter_UCSC_common', 'AN:Promoter_UCSC_lf'] \n",
      "\n",
      "Promoter_UCSC.flanking.500               Corr=0.97, AN1_only=155, AN2_only=0, overlap=2523\n",
      "['AN:Promoter_UCSC.flanking.500_common', 'AN:Promoter_UCSC.flanking.500_lf'] \n",
      "\n",
      "Repressed_Hoffman                        Corr=0.962, AN1_only=2010, AN2_only=0, overlap=34862\n",
      "['AN:Repressed_Hoffman_common', 'AN:Repressed_Hoffman_lf'] \n",
      "\n",
      "Repressed_Hoffman.flanking.500           Corr=0.958, AN1_only=1839, AN2_only=0, overlap=25846\n",
      "['AN:Repressed_Hoffman.flanking.500_common', 'AN:Repressed_Hoffman.flanking.500_lf'] \n",
      "\n",
      "SuperEnhancer_Hnisz                      Corr=0.954, AN1_only=2584, AN2_only=0, overlap=38031\n",
      "['AN:SuperEnhancer_Hnisz_common', 'AN:SuperEnhancer_Hnisz_lf'] \n",
      "\n",
      "SuperEnhancer_Hnisz.flanking.500         Corr=0.973, AN1_only=41, AN2_only=0, overlap=741\n",
      "['AN:SuperEnhancer_Hnisz.flanking.500_common', 'AN:SuperEnhancer_Hnisz.flanking.500_lf'] \n",
      "\n",
      "TFBS_ENCODE                              Corr=0.96, AN1_only=1751, AN2_only=0, overlap=25915\n",
      "['AN:TFBS_ENCODE_common', 'AN:TFBS_ENCODE_lf'] \n",
      "\n",
      "TFBS_ENCODE.flanking.500                 Corr=0.957, AN1_only=2176, AN2_only=0, overlap=32299\n",
      "['AN:TFBS_ENCODE.flanking.500_common', 'AN:TFBS_ENCODE.flanking.500_lf'] \n",
      "\n",
      "Transcr_Hoffman                          Corr=0.944, AN1_only=3700, AN2_only=0, overlap=54135\n",
      "['AN:Transcribed_Hoffman_common', 'AN:Transcribed_Hoffman_lf'] \n",
      "\n",
      "Transcr_Hoffman.flanking.500             Corr=0.959, AN1_only=2155, AN2_only=0, overlap=33846\n",
      "['AN:Transcribed_Hoffman.flanking.500_common', 'AN:Transcribed_Hoffman.flanking.500_lf'] \n",
      "\n",
      "TSS_Hoffman                              Corr=0.969, AN1_only=286, AN2_only=0, overlap=4504\n",
      "['AN:TSS_Hoffman_common', 'AN:TSS_Hoffman_lf'] \n",
      "\n",
      "TSS_Hoffman.flanking.500                 Corr=0.967, AN1_only=284, AN2_only=0, overlap=4265\n",
      "['AN:TSS_Hoffman.flanking.500_common', 'AN:TSS_Hoffman.flanking.500_lf'] \n",
      "\n",
      "UTR_3_UCSC                               Corr=0.965, AN1_only=217, AN2_only=0, overlap=3037\n",
      "['AN:UTR_3_UCSC_common', 'AN:UTR_3_UCSC_lf'] \n",
      "\n",
      "UTR_3_UCSC.flanking.500                  Corr=0.967, AN1_only=314, AN2_only=0, overlap=4683\n",
      "['AN:UTR_3_UCSC.flanking.500_common', 'AN:UTR_3_UCSC.flanking.500_lf'] \n",
      "\n",
      "UTR_5_UCSC                               Corr=0.964, AN1_only=106, AN2_only=0, overlap=1395\n",
      "['AN:UTR_5_UCSC_common', 'AN:UTR_5_UCSC_lf'] \n",
      "\n",
      "UTR_5_UCSC.flanking.500                  Corr=0.966, AN1_only=351, AN2_only=0, overlap=5155\n",
      "['AN:UTR_5_UCSC.flanking.500_common', 'AN:UTR_5_UCSC.flanking.500_lf'] \n",
      "\n",
      "WeakEnhancer_Hoffman                     Corr=0.966, AN1_only=320, AN2_only=0, overlap=4702\n",
      "['AN:WeakEnhancer_Hoffman_common', 'AN:WeakEnhancer_Hoffman_lf'] \n",
      "\n"
     ]
    },
    {
     "name": "stdout",
     "output_type": "stream",
     "text": [
      "WeakEnhancer_Hoffman.flanking.500        Corr=0.963, AN1_only=959, AN2_only=0, overlap=13902\n",
      "['AN:WeakEnhancer_Hoffman.flanking.500_common', 'AN:WeakEnhancer_Hoffman.flanking.500_lf'] \n",
      "\n",
      "GERP.NS                                  Corr=0.796, AN1_only=20, AN2_only=0, overlap=116\n",
      "['AN:GerpN_common', 'AN:GerpN_lf'] \n",
      "\n",
      "GERP.RSsup4                              Corr=0.248, AN1_only=211, AN2_only=3880, overlap=423\n",
      "['AN:GerpRS_g4_common', 'AN:GerpRS_g4_lf'] \n",
      "\n",
      "MAF_Adj_Predicted_Allele_Age             Corr=0.975, AN1_only=0, AN2_only=0, overlap=0\n",
      "['AN:alleleage_common'] \n",
      "\n",
      "MAF_Adj_LLD_AFR                          Corr=0.754, AN1_only=0, AN2_only=0, overlap=0\n",
      "['AN:LLD_AFR_common', 'AN:LLD_AFR_lf'] \n",
      "\n",
      "Recomb_Rate_10kb                         Corr=0.953, AN1_only=0, AN2_only=0, overlap=1\n",
      "['AN:recomb_rate_common', 'AN:recomb_rate_lf'] \n",
      "\n",
      "Nucleotide_Diversity_10kb                Corr=0.676, AN1_only=3, AN2_only=0, overlap=0\n",
      "['AN:nucleotide_div_common', 'AN:nucleotide_div_lf'] \n",
      "\n",
      "Backgrd_Selection_Stat                   Corr=0.943, AN1_only=0, AN2_only=0, overlap=0\n",
      "['AN:Backgrd_Selection_Stat_common', 'AN:Backgrd_Selection_Stat_lf'] \n",
      "\n",
      "CpG_Content_50kb                         Corr=0.253, AN1_only=0, AN2_only=0, overlap=0\n",
      "['AN:CpG_common', 'AN:CpG_lf'] \n",
      "\n",
      "synonymous                               Corr=0.843, AN1_only=183, AN2_only=60, overlap=645\n",
      "['AN:snpeff_synonymous_variant_common', 'AN:snpeff_synonymous_variant_lf'] \n",
      "\n",
      "non_synonymous                           Corr=0.757, AN1_only=159, AN2_only=242, overlap=627\n",
      "['AN:snpeff_nonsynonymous_variant_common', 'AN:snpeff_nonsynonymous_variant_lf'] \n",
      "\n",
      "Conserved_Vertebrate_phastCons46way      Corr=0.961, AN1_only=316, AN2_only=0, overlap=3955\n",
      "['AN:Conserved_Vertebrate_phastCons46way_common', 'AN:Conserved_Vertebrate_phastCons46way_lf'] \n",
      "\n",
      "Conserved_Vertebrate_phastCons46way.flanking.500 Corr=0.949, AN1_only=3161, AN2_only=0, overlap=46097\n",
      "['AN:Conserved_Vertebrate_phastCons46way.flanking.500_common', 'AN:Conserved_Vertebrate_phastCons46way.flanking.500_lf'] \n",
      "\n",
      "Conserved_Mammal_phastCons46way          Corr=0.958, AN1_only=210, AN2_only=0, overlap=2388\n",
      "['AN:Conserved_Mammal_phastCons46way_common', 'AN:Conserved_Mammal_phastCons46way_lf'] \n",
      "\n",
      "Conserved_Mammal_phastCons46way.flanking.500 Corr=0.952, AN1_only=2725, AN2_only=0, overlap=38553\n",
      "['AN:Conserved_Mammal_phastCons46way.flanking.500_common', 'AN:Conserved_Mammal_phastCons46way.flanking.500_lf'] \n",
      "\n",
      "Conserved_Primate_phastCons46way         Corr=0.956, AN1_only=189, AN2_only=0, overlap=2044\n",
      "['AN:Conserved_Primate_phastCons46way_common', 'AN:Conserved_Primate_phastCons46way_lf'] \n",
      "\n",
      "Conserved_Primate_phastCons46way.flanking.500 Corr=0.959, AN1_only=1403, AN2_only=0, overlap=19322\n",
      "['AN:Conserved_Primate_phastCons46way.flanking.500_common', 'AN:Conserved_Primate_phastCons46way.flanking.500_lf'] \n",
      "\n",
      "BivFlnk                                  Corr=0.968, AN1_only=219, AN2_only=0, overlap=3344\n",
      "['AN:BivFlnk_common', 'AN:BivFlnk_lf'] \n",
      "\n",
      "BivFlnk.flanking.500                     Corr=0.966, AN1_only=363, AN2_only=0, overlap=5217\n",
      "['AN:BivFlnk.flanking.500_common', 'AN:BivFlnk.flanking.500_lf'] \n",
      "\n"
     ]
    }
   ],
   "source": [
    "# Comparison the MAF-stratified version to baselinev2.2\n",
    "CHR = 22\n",
    "ANNOT_FILE = \"/n/groups/price/martin/data_GDREG/UKBimp_337K_MAF001/baseline_annot/baseline_chr@.annot.gz\"\n",
    "df_annot_chr = gdreg.util.read_annot(ANNOT_FILE.replace(\"@\", \"%d\" % CHR))\n",
    "df_annot_chr.index = df_annot_chr[\"SNP\"]\n",
    "\n",
    "ANNOT_FILE_REF = \"/n/groups/price/ldsc/reference_files/1000G_EUR_Phase3/baselineLD_v2.2/baselineLD.@.annot.gz\"\n",
    "df_annot_chr_ref = pd.read_csv(ANNOT_FILE_REF.replace(\"@\", \"%d\" % CHR), sep='\\t')\n",
    "df_annot_chr_ref.index = df_annot_chr_ref[\"SNP\"]\n",
    "\n",
    "dic_map = {\n",
    "    \"Transcr_Hoffman\" : \"AN:Transcribed_Hoffman\",\n",
    "    \"Transcr_Hoffman.flanking.500\" : \"AN:Transcribed_Hoffman.flanking.500\",\n",
    "    \"GERP.NS\" : \"AN:GerpN\",\n",
    "    \"GERP.RSsup4\" : \"AN:GerpRS_g4\",\n",
    "    \"MAF_Adj_Predicted_Allele_Age\" : \"AN:alleleage\",\n",
    "    \"Nucleotide_Diversity_10kb\" : \"AN:nucleotide_div\",\n",
    "    \"Recomb_Rate_10kb\" : \"AN:recomb_rate\",\n",
    "    \"CpG_Content_50kb\" : \"AN:CpG\",\n",
    "    \"synonymous\" : \"AN:snpeff_synonymous_variant\",\n",
    "    \"non_synonymous\" : \"AN:snpeff_nonsynonymous_variant\",\n",
    "    \"MAF_Adj_LLD_AFR\" : \"AN:LLD_AFR\"\n",
    "}\n",
    "\n",
    "snp_list = list(set(df_annot_chr[\"SNP\"]) & set(df_annot_chr_ref[\"SNP\"]))\n",
    "\n",
    "for AN in df_annot_chr_ref:\n",
    "    if AN in [\"CHR\", \"BP\", \"SNP\", \"CM\", \"base\"]:\n",
    "        continue\n",
    "    if AN.startswith(\"MAFb\"):\n",
    "        continue\n",
    "    if \"AN:%s_common\" % AN in df_annot_chr:\n",
    "        AN1 = AN\n",
    "        AN2_list = [\"AN:%s_%s\" % (AN, x) for x in [\"common\", \"lf\"]]\n",
    "    elif AN in dic_map:\n",
    "        AN1 = AN\n",
    "        AN2_list = [\"%s_%s\" % (dic_map[AN], x) for x in [\"common\", \"lf\"]]\n",
    "    else:\n",
    "        continue\n",
    "        \n",
    "    AN2_list = [x for x in AN2_list if x in df_annot_chr]\n",
    "    \n",
    "    v1 = df_annot_chr_ref.loc[snp_list, AN1].values\n",
    "    v2 = df_annot_chr.loc[snp_list, AN2_list].sum(axis=1).values\n",
    "    print(\"%-40s Corr=%0.3g, AN1_only=%d, AN2_only=%d, overlap=%d\" % (\n",
    "        AN, \n",
    "        np.corrcoef(v1, v2)[0,1], \n",
    "        ((v1==1) & (v2==0)).sum(), \n",
    "        ((v1==0) & (v2==1)).sum(), \n",
    "        ((v1==1) & (v2==1)).sum(), \n",
    "    ))\n",
    "    print(AN2_list, \"\\n\")    "
   ]
  },
  {
   "cell_type": "code",
   "execution_count": null,
   "metadata": {},
   "outputs": [],
   "source": []
  },
  {
   "cell_type": "code",
   "execution_count": null,
   "metadata": {},
   "outputs": [],
   "source": []
  },
  {
   "cell_type": "code",
   "execution_count": null,
   "metadata": {},
   "outputs": [],
   "source": []
  }
 ],
 "metadata": {
  "kernelspec": {
   "display_name": "Python 3",
   "language": "python",
   "name": "python3"
  },
  "language_info": {
   "codemirror_mode": {
    "name": "ipython",
    "version": 3
   },
   "file_extension": ".py",
   "mimetype": "text/x-python",
   "name": "python",
   "nbconvert_exporter": "python",
   "pygments_lexer": "ipython3",
   "version": "3.7.4"
  }
 },
 "nbformat": 4,
 "nbformat_minor": 2
}
