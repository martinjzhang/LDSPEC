{
 "cells": [
  {
   "cell_type": "code",
   "execution_count": 1,
   "metadata": {},
   "outputs": [],
   "source": [
    "import pandas as pd\n",
    "import numpy as np\n",
    "import scipy as sp\n",
    "import matplotlib.pyplot as plt\n",
    "import seaborn as sns\n",
    "import os\n",
    "from os.path import join\n",
    "import time\n",
    "\n",
    "%load_ext autoreload\n",
    "%autoreload 2"
   ]
  },
  {
   "cell_type": "code",
   "execution_count": 2,
   "metadata": {},
   "outputs": [],
   "source": [
    "OUT_PATH='/n/groups/price/martin/data_GDREG/UKBimp_337K_MAF001/UKBB_trait'\n",
    "DATA_PATH='/n/groups/price/martin/data_GDREG/UKBB_trait_from_Steven'"
   ]
  },
  {
   "cell_type": "markdown",
   "metadata": {},
   "source": [
    "### Load data"
   ]
  },
  {
   "cell_type": "code",
   "execution_count": 3,
   "metadata": {},
   "outputs": [
    {
     "name": "stdout",
     "output_type": "stream",
     "text": [
      "n_sample=337425\n"
     ]
    }
   ],
   "source": [
    "# Get the ID list\n",
    "df_fam = pd.read_csv('/n/groups/price/martin/data_GDREG/UKBimp_337K_MAF001/unrelated_337K.txt',\n",
    "                     sep=' ', index_col=False)\n",
    "df_fam.columns = ['FID', 'IID']\n",
    "id_list = list(df_fam['IID'])\n",
    "print('n_sample=%d' % len(id_list))"
   ]
  },
  {
   "cell_type": "code",
   "execution_count": 4,
   "metadata": {},
   "outputs": [],
   "source": [
    "# 64 independent traits\n",
    "xl = pd.ExcelFile(DATA_PATH+'/Description_080419.xlsx')\n",
    "df_64_inde_trait = xl.parse('64 Recommended indepent traits', )\n",
    "inde_trait_list = list(df_64_inde_trait['Trait_Identifier'])"
   ]
  },
  {
   "cell_type": "code",
   "execution_count": 5,
   "metadata": {},
   "outputs": [],
   "source": [
    "# UKBB phen file\n",
    "df_phen=pd.read_csv(DATA_PATH+'/UKB_v3.061518.tab', sep='\\t', index_col=False)\n",
    "df_cov=pd.read_csv(DATA_PATH+'/ukb4777.processed_and_post.plinkPCs.tab.gz', \n",
    "                   sep='\\t', index_col=False, compression='gzip')\n",
    "df_phen_bc=pd.read_csv(DATA_PATH+'/UKB_biochemistry.051619.tab',\n",
    "                       sep='\\t', index_col=False)\n",
    "df_cov_bc=pd.read_csv(DATA_PATH+'/UKB_biochemistry.051619.cov',\n",
    "                       sep='\\t', index_col=False)"
   ]
  },
  {
   "cell_type": "markdown",
   "metadata": {},
   "source": [
    "### trait_list, .phen, and .cov files"
   ]
  },
  {
   "cell_type": "code",
   "execution_count": 6,
   "metadata": {},
   "outputs": [
    {
     "name": "stdout",
     "output_type": "stream",
     "text": [
      "# trait_list=23\n",
      "# trait_list_bc=9\n"
     ]
    }
   ],
   "source": [
    "# trait_list\n",
    "trait_list = sorted([x for x in df_phen.columns if 'UKB_460K.%s'%x in inde_trait_list])\n",
    "trait_list_bc = sorted([x for x in df_phen_bc.columns if 'UKB_460K.%s'%x in inde_trait_list])\n",
    "print('# trait_list=%d'%len(trait_list))\n",
    "print('# trait_list_bc=%d'%len(trait_list_bc))\n",
    "\n",
    "with open(OUT_PATH+'/trait_list.txt', 'w') as f:\n",
    "    for x in trait_list:\n",
    "        f.write('%s\\n'%x)\n",
    "with open(OUT_PATH+'/trait_list_bc.txt', 'w') as f:\n",
    "    for x in trait_list_bc:\n",
    "        f.write('%s\\n'%x)\n",
    "with open(OUT_PATH+'/trait_list_all.txt', 'w') as f:\n",
    "    for x in trait_list+trait_list_bc:\n",
    "        f.write('%s\\n'%x)"
   ]
  },
  {
   "cell_type": "code",
   "execution_count": 7,
   "metadata": {
    "scrolled": true
   },
   "outputs": [
    {
     "name": "stdout",
     "output_type": "stream",
     "text": [
      "blood_PLATELET_COUNT, n_sample=326556\n",
      "blood_RBC_DISTRIB_WIDTH, n_sample=325330\n",
      "blood_RED_COUNT, n_sample=327144\n",
      "blood_WHITE_COUNT, n_sample=326659\n",
      "bmd_HEEL_TSCOREz, n_sample=327675\n",
      "body_BALDING1, n_sample=155070\n",
      "body_BMIz, n_sample=336329\n",
      "body_HEIGHTz, n_sample=336694\n",
      "body_WHRadjBMIz, n_sample=336781\n",
      "bp_DIASTOLICadjMEDz, n_sample=310771\n",
      "cancer_BREAST, n_sample=337422\n",
      "cancer_PROSTATE, n_sample=337422\n",
      "cov_EDU_YEARS, n_sample=334288\n",
      "disease_ALLERGY_ECZEMA_DIAGNOSED, n_sample=337006\n",
      "disease_HYPOTHYROIDISM_SELF_REP, n_sample=337422\n",
      "lung_FEV1FVCzSMOKE, n_sample=274120\n",
      "lung_FVCzSMOKE, n_sample=274120\n",
      "mental_NEUROTICISM, n_sample=274265\n",
      "other_MORNINGPERSON, n_sample=301336\n",
      "pigment_SUNBURN, n_sample=251786\n",
      "repro_MENARCHE_AGE, n_sample=176122\n",
      "repro_MENOPAUSE_AGE, n_sample=104413\n",
      "repro_NumberChildrenEverBorn_Pooled, n_sample=335534\n",
      "biochemistry_AlkalinePhosphatase, n_sample=320600\n",
      "biochemistry_AspartateAminotransferase, n_sample=318500\n",
      "biochemistry_Cholesterol, n_sample=321534\n",
      "biochemistry_Creatinine, n_sample=320794\n",
      "biochemistry_IGF1, n_sample=319545\n",
      "biochemistry_Phosphate, n_sample=293982\n",
      "biochemistry_TotalBilirubin, n_sample=317254\n",
      "biochemistry_TotalProtein, n_sample=294055\n",
      "biochemistry_VitaminD, n_sample=307227\n"
     ]
    }
   ],
   "source": [
    "# Write phen file\n",
    "for trait in trait_list:\n",
    "    temp_df = df_phen.loc[df_phen['FID'].isin(id_list), ['FID', 'IID', trait]].copy()\n",
    "    temp_df.dropna(inplace=True)\n",
    "    temp_df.to_csv(OUT_PATH + '/%s.phen'%trait, sep='\\t', header=True, index=False)\n",
    "    print('%s, n_sample=%d' % (trait, temp_df.shape[0]))\n",
    "    \n",
    "for trait in trait_list_bc:\n",
    "    temp_df = df_phen_bc.loc[df_phen_bc['FID'].isin(id_list), ['FID', 'IID', trait]].copy()\n",
    "    temp_df.dropna(inplace=True)\n",
    "    temp_df.to_csv(OUT_PATH + '/%s.phen'%trait, sep='\\t', header=True, index=False)\n",
    "    print('%s, n_sample=%d' % (trait, temp_df.shape[0]))"
   ]
  },
  {
   "cell_type": "markdown",
   "metadata": {},
   "source": [
    "### .resid.phen file"
   ]
  },
  {
   "cell_type": "code",
   "execution_count": 8,
   "metadata": {
    "scrolled": true
   },
   "outputs": [
    {
     "name": "stdout",
     "output_type": "stream",
     "text": [
      "blood_PLATELET_COUNT, n_sample=326556, n_sample_retain=326556\n",
      "    var(v_y)=0.9906, var(v_y_res)=0.9883, R_square=0.002315\n",
      "\n",
      "blood_RBC_DISTRIB_WIDTH, n_sample=325330, n_sample_retain=325330\n",
      "    var(v_y)=0.9712, var(v_y_res)=0.9659, R_square=0.005489\n",
      "\n",
      "blood_RED_COUNT, n_sample=327144, n_sample_retain=327144\n",
      "    var(v_y)=0.97, var(v_y_res)=0.9665, R_square=0.003551\n",
      "\n",
      "blood_WHITE_COUNT, n_sample=326659, n_sample_retain=326659\n",
      "    var(v_y)=0.9827, var(v_y_res)=0.9732, R_square=0.009671\n",
      "\n",
      "bmd_HEEL_TSCOREz, n_sample=327675, n_sample_retain=327675\n",
      "    var(v_y)=0.9775, var(v_y_res)=0.9716, R_square=0.00599\n",
      "\n",
      "body_BALDING1, n_sample=155070, n_sample_retain=155070\n",
      "    col dropped: cov_SEX_1\n",
      "    var(v_y)=0.2172, var(v_y_res)=0.2151, R_square=0.01009\n",
      "\n",
      "body_BMIz, n_sample=336329, n_sample_retain=336329\n",
      "    var(v_y)=0.9885, var(v_y_res)=0.9774, R_square=0.01119\n",
      "\n",
      "body_HEIGHTz, n_sample=336694, n_sample_retain=336694\n",
      "    var(v_y)=0.9658, var(v_y_res)=0.9407, R_square=0.02594\n",
      "\n",
      "body_WHRadjBMIz, n_sample=336781, n_sample_retain=336781\n",
      "    var(v_y)=0.9847, var(v_y_res)=0.9749, R_square=0.009935\n",
      "\n",
      "bp_DIASTOLICadjMEDz, n_sample=310771, n_sample_retain=310771\n",
      "    var(v_y)=0.9893, var(v_y_res)=0.9807, R_square=0.008744\n",
      "\n",
      "cancer_BREAST, n_sample=337422, n_sample_retain=337422\n",
      "    var(v_y)=0.0275, var(v_y_res)=0.02671, R_square=0.02899\n",
      "\n",
      "cancer_PROSTATE, n_sample=337422, n_sample_retain=337422\n",
      "    var(v_y)=0.01327, var(v_y_res)=0.01292, R_square=0.02619\n",
      "\n",
      "cov_EDU_YEARS, n_sample=334288, n_sample_retain=334288\n",
      "    var(v_y)=26.05, var(v_y_res)=24.23, R_square=0.06983\n",
      "\n",
      "disease_ALLERGY_ECZEMA_DIAGNOSED, n_sample=337006, n_sample_retain=337006\n",
      "    var(v_y)=0.1778, var(v_y_res)=0.1749, R_square=0.01646\n",
      "\n",
      "disease_HYPOTHYROIDISM_SELF_REP, n_sample=337422, n_sample_retain=337422\n",
      "    var(v_y)=0.04619, var(v_y_res)=0.04496, R_square=0.02657\n",
      "\n",
      "lung_FEV1FVCzSMOKE, n_sample=274120, n_sample_retain=274120\n",
      "    var(v_y)=0.9874, var(v_y_res)=0.9547, R_square=0.03317\n",
      "\n",
      "lung_FVCzSMOKE, n_sample=274120, n_sample_retain=274120\n",
      "    var(v_y)=0.9575, var(v_y_res)=0.9247, R_square=0.03429\n",
      "\n",
      "mental_NEUROTICISM, n_sample=274265, n_sample_retain=274265\n",
      "    var(v_y)=10.59, var(v_y_res)=10.21, R_square=0.03549\n",
      "\n",
      "other_MORNINGPERSON, n_sample=301336, n_sample_retain=301336\n",
      "    var(v_y)=0.2333, var(v_y_res)=0.2311, R_square=0.009574\n",
      "\n",
      "pigment_SUNBURN, n_sample=251786, n_sample_retain=251786\n",
      "    var(v_y)=0.2495, var(v_y_res)=0.2389, R_square=0.04241\n",
      "\n",
      "repro_MENARCHE_AGE, n_sample=176122, n_sample_retain=176122\n",
      "    col dropped: cov_SEX_1\n",
      "    var(v_y)=2.565, var(v_y_res)=2.558, R_square=0.002547\n",
      "\n",
      "repro_MENOPAUSE_AGE, n_sample=104413, n_sample_retain=104413\n",
      "    col dropped: cov_SEX_1\n",
      "    var(v_y)=26.14, var(v_y_res)=24.25, R_square=0.07219\n",
      "\n",
      "repro_NumberChildrenEverBorn_Pooled, n_sample=335534, n_sample_retain=335534\n",
      "    var(v_y)=1.352, var(v_y_res)=1.301, R_square=0.03768\n",
      "\n"
     ]
    }
   ],
   "source": [
    "cov_list = ['cov_ASSESS_CENTER', 'cov_GENO_ARRAY', 'cov_SEX']\n",
    "qcov_list = ['cov_AGE', 'cov_AGE_SQ'] + ['PC%d'%x for x in np.arange(1,21)] \n",
    "\n",
    "# Categorical covaraites \n",
    "temp_df_cov = df_cov[['FID', 'IID'] + cov_list]\n",
    "temp_df_cov.index = temp_df_cov['IID']\n",
    "temp_df_cov = pd.get_dummies(temp_df_cov[cov_list], columns=cov_list, drop_first=True)\n",
    "\n",
    "# df_reg\n",
    "df_reg = df_cov[['FID', 'IID'] + qcov_list]\n",
    "df_reg.index = df_reg['IID']\n",
    "df_reg = df_reg.join(temp_df_cov)\n",
    "PC_list = [x for x in df_reg.columns if 'PC' in x]\n",
    "df_reg[PC_list] *= np.sqrt(df_reg.shape[0])\n",
    "df_reg['const'] = 1\n",
    "df_reg.drop(['FID', 'IID'], axis=1, inplace=True)\n",
    "df_reg = df_reg.astype(dtype=np.float32)\n",
    "\n",
    "# Compute residual\n",
    "for trait in trait_list:\n",
    "    df_phen = pd.read_csv(OUT_PATH+'/%s.phen'%trait, sep='\\t', header=0, index_col=False)\n",
    "    df_phen.index = df_phen['IID']    \n",
    "    sample_list = sorted(set(df_phen.index) & set(df_reg.index))\n",
    "    print('%s, n_sample=%d, n_sample_retain=%d' % (trait, df_phen.shape[0], len(sample_list)))\n",
    "\n",
    "    temp_df_reg = df_reg.loc[sample_list].copy()\n",
    "    drop_list = [x for x in temp_df_reg if (temp_df_reg[x].std()<1e-2) & (x!='const')]\n",
    "    if len(drop_list)>0:\n",
    "        temp_df_reg = temp_df_reg.drop(columns=drop_list)\n",
    "        print('    col dropped: %s'%', '.join(drop_list))\n",
    "        \n",
    "    v_y = df_phen.loc[sample_list][trait].values.astype(np.float32)\n",
    "    mat_X = temp_df_reg.values.astype(np.float32)\n",
    "    n_sample = v_y.shape[0]\n",
    "    mat_xtx = np.dot(mat_X.T, mat_X)/n_sample\n",
    "    mat_xty = np.dot(mat_X.T, v_y)/n_sample\n",
    "    coef_ = np.linalg.solve(mat_xtx, mat_xty).reshape([-1])\n",
    "    v_y_res = v_y - mat_X.dot(coef_)\n",
    "    print('    var(v_y)=%0.4g, var(v_y_res)=%0.4g, R_square=%0.4g\\n'\n",
    "          %(v_y.var(), v_y_res.var(), 1- v_y_res.var()/v_y.var()))\n",
    "    \n",
    "    temp_df = pd.DataFrame( data = {\n",
    "        \"FID\" : sample_list,\n",
    "        \"IID\" : sample_list,\n",
    "        trait : v_y_res / v_y_res.std()\n",
    "    }\n",
    "    )\n",
    "    temp_df.to_csv(OUT_PATH + '/%s.resid.phen'%trait, sep='\\t', header=True, index=False)"
   ]
  },
  {
   "cell_type": "code",
   "execution_count": 9,
   "metadata": {
    "scrolled": true
   },
   "outputs": [
    {
     "name": "stdout",
     "output_type": "stream",
     "text": [
      "biochemistry_AlkalinePhosphatase, n_sample=320600, n_sample_retain=318768\n",
      "    var(v_y)=509.7, var(v_y_res)=487, R_square=0.04454\n",
      "\n",
      "biochemistry_AspartateAminotransferase, n_sample=318500, n_sample_retain=316688\n",
      "    var(v_y)=52.04, var(v_y_res)=48.68, R_square=0.06466\n",
      "\n",
      "biochemistry_Cholesterol, n_sample=321534, n_sample_retain=319694\n",
      "    var(v_y)=1.294, var(v_y_res)=1.234, R_square=0.04643\n",
      "\n",
      "biochemistry_Creatinine, n_sample=320794, n_sample_retain=318959\n",
      "    var(v_y)=207, var(v_y_res)=134.8, R_square=0.3491\n",
      "\n",
      "biochemistry_IGF1, n_sample=319545, n_sample_retain=317604\n",
      "    var(v_y)=30.36, var(v_y_res)=28.11, R_square=0.07407\n",
      "\n",
      "biochemistry_Phosphate, n_sample=293982, n_sample_retain=292141\n",
      "    col dropped: biochemistry_dilutionfactor\n",
      "    var(v_y)=0.02553, var(v_y_res)=0.02598, R_square=-0.01771\n",
      "\n",
      "biochemistry_TotalBilirubin, n_sample=317254, n_sample_retain=315431\n",
      "    var(v_y)=13.66, var(v_y_res)=12.71, R_square=0.06922\n",
      "\n",
      "biochemistry_TotalProtein, n_sample=294055, n_sample_retain=292217\n",
      "    col dropped: biochemistry_dilutionfactor\n",
      "    var(v_y)=15.94, var(v_y_res)=16.58, R_square=-0.03983\n",
      "\n",
      "biochemistry_VitaminD, n_sample=307227, n_sample_retain=305360\n",
      "    var(v_y)=427.3, var(v_y_res)=411.9, R_square=0.03597\n",
      "\n"
     ]
    }
   ],
   "source": [
    "# trait_bc\n",
    "cov_list = ['cov_ASSESS_CENTER', 'cov_GENO_ARRAY', 'cov_SEX']\n",
    "qcov_list = ['cov_AGE', 'cov_AGE_SQ', 'biochemistry_dilutionfactor'] + ['PC%d'%x for x in np.arange(1,21)] \n",
    "\n",
    "# Categorical covaraites \n",
    "temp_df_cov = df_cov_bc[['FID', 'IID'] + cov_list]\n",
    "temp_df_cov.index = temp_df_cov['IID']\n",
    "temp_df_cov = pd.get_dummies(temp_df_cov[cov_list], columns=cov_list, drop_first=True)\n",
    "\n",
    "# df_reg\n",
    "df_reg = df_cov_bc[['FID', 'IID'] + qcov_list].copy()\n",
    "df_reg.dropna(inplace=True)\n",
    "df_reg.index = df_reg['IID']\n",
    "df_reg = df_reg.join(temp_df_cov)\n",
    "PC_list = [x for x in df_reg.columns if 'PC' in x]\n",
    "df_reg[PC_list] *= np.sqrt(df_reg.shape[0])\n",
    "df_reg['const'] = 1\n",
    "df_reg.drop(['FID', 'IID'], axis=1, inplace=True)\n",
    "df_reg = df_reg.astype(dtype=np.float32)\n",
    "\n",
    "# Compute residual\n",
    "for trait in trait_list_bc:\n",
    "    df_phen = pd.read_csv(OUT_PATH+'/%s.phen'%trait, sep='\\t', header=0, index_col=False)\n",
    "    df_phen.index = df_phen['IID']    \n",
    "    sample_list = sorted(set(df_phen.index) & set(df_reg.index))\n",
    "    print('%s, n_sample=%d, n_sample_retain=%d' % (trait, df_phen.shape[0], len(sample_list)))\n",
    "\n",
    "    temp_df_reg = df_reg.loc[sample_list].copy()\n",
    "    drop_list = [x for x in temp_df_reg if (temp_df_reg[x].std()<1e-2) & (x!='const')]\n",
    "    if len(drop_list)>0:\n",
    "        temp_df_reg = temp_df_reg.drop(columns=drop_list)\n",
    "        print('    col dropped: %s'%', '.join(drop_list))\n",
    "        \n",
    "    v_y = df_phen.loc[sample_list][trait].values.astype(np.float32)\n",
    "    mat_X = temp_df_reg.values.astype(np.float32)\n",
    "    n_sample = v_y.shape[0]\n",
    "    mat_xtx = np.dot(mat_X.T, mat_X)/n_sample\n",
    "    mat_xty = np.dot(mat_X.T, v_y)/n_sample\n",
    "    coef_ = np.linalg.solve(mat_xtx, mat_xty).reshape([-1])\n",
    "    v_y_res = v_y - mat_X.dot(coef_)\n",
    "    print('    var(v_y)=%0.4g, var(v_y_res)=%0.4g, R_square=%0.4g\\n'\n",
    "          %(v_y.var(), v_y_res.var(), 1- v_y_res.var()/v_y.var()))\n",
    "    \n",
    "    temp_df = pd.DataFrame( data = {\n",
    "        \"FID\" : sample_list,\n",
    "        \"IID\" : sample_list,\n",
    "        trait : v_y_res / v_y_res.std()\n",
    "    }\n",
    "    )\n",
    "    temp_df.to_csv(OUT_PATH + '/%s.resid.phen'%trait, sep='\\t', header=True, index=False)"
   ]
  },
  {
   "cell_type": "markdown",
   "metadata": {},
   "source": [
    "### Sanity check "
   ]
  },
  {
   "cell_type": "code",
   "execution_count": 26,
   "metadata": {},
   "outputs": [
    {
     "name": "stdout",
     "output_type": "stream",
     "text": [
      "blood_PLATELET_COUNT n_sample1=326556, n_sample2=326666, n_overlap=326555\n",
      "    cor=1.000, mean_abs_err=0.004696\n",
      "blood_RBC_DISTRIB_WIDTH n_sample1=325330, n_sample2=325440, n_overlap=325329\n",
      "    cor=1.000, mean_abs_err=0.0138\n",
      "blood_RED_COUNT n_sample1=327144, n_sample2=327254, n_overlap=327143\n",
      "    cor=1.000, mean_abs_err=0.01353\n",
      "blood_WHITE_COUNT n_sample1=326659, n_sample2=326768, n_overlap=326658\n",
      "    cor=1.000, mean_abs_err=0.01075\n",
      "bmd_HEEL_TSCOREz n_sample1=327675, n_sample2=327783, n_overlap=327674\n",
      "    cor=1.000, mean_abs_err=0.01143\n",
      "body_BALDING1 n_sample1=155070, n_sample2=155117, n_overlap=155069\n",
      "    cor=1.000, mean_abs_err=0.4974\n",
      "body_BMIz n_sample1=336329, n_sample2=336441, n_overlap=336328\n",
      "    cor=1.000, mean_abs_err=0.009044\n",
      "body_HEIGHTz n_sample1=336694, n_sample2=336806, n_overlap=336693\n",
      "    cor=1.000, mean_abs_err=0.024\n",
      "body_WHRadjBMIz n_sample1=336781, n_sample2=336894, n_overlap=336780\n",
      "    cor=1.000, mean_abs_err=0.01007\n",
      "bp_DIASTOLICadjMEDz n_sample1=310771, n_sample2=310871, n_overlap=310770\n",
      "    cor=1.000, mean_abs_err=0.007757\n",
      "cancer_BREAST n_sample1=337422, n_sample2=337535, n_overlap=337421\n",
      "    cor=1.000, mean_abs_err=0.2952\n",
      "cancer_PROSTATE n_sample1=337422, n_sample2=337535, n_overlap=337421\n",
      "    cor=1.000, mean_abs_err=0.2426\n",
      "cov_EDU_YEARS n_sample1=334288, n_sample2=334399, n_overlap=334287\n",
      "    cor=1.000, mean_abs_err=3.541\n",
      "disease_ALLERGY_ECZEMA_DIAGNOSED n_sample1=337006, n_sample2=337118, n_overlap=337005\n",
      "    cor=1.000, mean_abs_err=0.4866\n",
      "disease_HYPOTHYROIDISM_SELF_REP n_sample1=337422, n_sample2=337535, n_overlap=337421\n",
      "    cor=1.000, mean_abs_err=0.3407\n",
      "lung_FEV1FVCzSMOKE n_sample1=274120, n_sample2=274209, n_overlap=274119\n",
      "    cor=1.000, mean_abs_err=0.01836\n",
      "lung_FVCzSMOKE n_sample1=274120, n_sample2=274209, n_overlap=274119\n",
      "    cor=1.000, mean_abs_err=0.03053\n",
      "mental_NEUROTICISM n_sample1=274265, n_sample2=274349, n_overlap=274264\n",
      "    cor=1.000, mean_abs_err=1.826\n",
      "other_MORNINGPERSON n_sample1=301336, n_sample2=301439, n_overlap=301335\n",
      "    cor=1.000, mean_abs_err=0.4993\n",
      "pigment_SUNBURN n_sample1=251786, n_sample2=251864, n_overlap=251785\n",
      "    cor=1.000, mean_abs_err=0.4997\n",
      "repro_MENARCHE_AGE n_sample1=176122, n_sample2=176183, n_overlap=176122\n",
      "    cor=1.000, mean_abs_err=0.4734\n",
      "repro_MENOPAUSE_AGE n_sample1=104413, n_sample2=104444, n_overlap=104413\n",
      "    cor=1.000, mean_abs_err=2.892\n",
      "repro_NumberChildrenEverBorn_Pooled n_sample1=335534, n_sample2=335647, n_overlap=335533\n",
      "    cor=1.000, mean_abs_err=0.1073\n",
      "biochemistry_AlkalinePhosphatase n_sample1=318768, n_sample2=318828, n_overlap=318767\n",
      "    cor=1.000, mean_abs_err=16.29\n",
      "biochemistry_AspartateAminotransferase n_sample1=316688, n_sample2=316748, n_overlap=316687\n",
      "    cor=1.000, mean_abs_err=4.28\n",
      "biochemistry_Cholesterol n_sample1=319694, n_sample2=319754, n_overlap=319693\n",
      "    cor=0.994, mean_abs_err=0.1179\n",
      "biochemistry_Creatinine n_sample1=318959, n_sample2=319019, n_overlap=318958\n",
      "    cor=1.000, mean_abs_err=8.049\n",
      "biochemistry_IGF1 n_sample1=317604, n_sample2=317664, n_overlap=317603\n",
      "    cor=1.000, mean_abs_err=3.387\n",
      "biochemistry_Phosphate n_sample1=292141, n_sample2=292197, n_overlap=292140\n",
      "    cor=0.934, mean_abs_err=0.6797\n",
      "biochemistry_TotalBilirubin n_sample1=315431, n_sample2=315491, n_overlap=315430\n",
      "    cor=1.000, mean_abs_err=1.847\n",
      "biochemistry_TotalProtein n_sample1=292217, n_sample2=292273, n_overlap=292216\n",
      "    cor=0.973, mean_abs_err=2.358\n",
      "biochemistry_VitaminD n_sample1=305360, n_sample2=305419, n_overlap=305359\n",
      "    cor=1.000, mean_abs_err=15.6\n"
     ]
    }
   ],
   "source": [
    "PHEN_FILE = \"/n/groups/price/martin/data_GDREG/UKBimp_337K_MAF001/UKBB_trait/@.resid.phen\"\n",
    "PHEN_FILE_OLD = \"/n/groups/price/martin/data_GDREG/WES_50K_imp/UKBB_trait/@.resid.phen\"\n",
    "for trait in trait_list + trait_list_bc : \n",
    "    temp_df1 = pd.read_csv(PHEN_FILE.replace('@', trait), sep='\\t', header=0, index_col=False)\n",
    "    temp_df1.index = temp_df1['IID']\n",
    "    temp_df2 = pd.read_csv(PHEN_FILE_OLD.replace('@', trait), sep='\\t', header=0, index_col=False)\n",
    "    temp_df2.index = [int(x.split('_')[1]) for x in temp_df2['IID']]\n",
    "    sample_list = sorted(set(temp_df1.index) & set(temp_df2.index))\n",
    "    print('%s n_sample1=%d, n_sample2=%d, n_overlap=%d'\n",
    "          % (trait, temp_df1.shape[0], temp_df2.shape[0], len(sample_list)))\n",
    "    \n",
    "    temp_df1 = temp_df1.loc[sample_list]\n",
    "    temp_df2 = temp_df2.loc[sample_list]\n",
    "    \n",
    "    print('    cor=%0.3f, mean_abs_err=%0.4g' % (\n",
    "        np.corrcoef(temp_df1[trait], temp_df2[trait])[0,1], \n",
    "        np.absolute(temp_df1[trait]-temp_df2[trait]).mean()\n",
    "    ))"
   ]
  },
  {
   "cell_type": "code",
   "execution_count": 22,
   "metadata": {},
   "outputs": [
    {
     "data": {
      "text/plain": [
       "Int64Index([1000019, 1000022, 1000035, 1000046, 1000063, 1000081, 1000105,\n",
       "            1000112, 1000137, 1000153,\n",
       "            ...\n",
       "            6026444, 6026475, 6026489, 6026493, 6026509, 6026511, 6026525,\n",
       "            6026538, 6026542, 6026556],\n",
       "           dtype='int64', name='IID', length=326556)"
      ]
     },
     "execution_count": 22,
     "metadata": {},
     "output_type": "execute_result"
    }
   ],
   "source": [
    "temp_df1.index"
   ]
  },
  {
   "cell_type": "code",
   "execution_count": 23,
   "metadata": {},
   "outputs": [
    {
     "data": {
      "text/plain": [
       "Index(['3540154', '3885612', '4366506', '4593906', '3290211', '3063674',\n",
       "       '4433313', '4236030', '2044367', '1523594',\n",
       "       ...\n",
       "       '5428227', '4135122', '1667087', '2301154', '4033247', '4122500',\n",
       "       '3078725', '3999932', '3454751', '3876480'],\n",
       "      dtype='object', length=326666)"
      ]
     },
     "execution_count": 23,
     "metadata": {},
     "output_type": "execute_result"
    }
   ],
   "source": [
    "temp_df2.index"
   ]
  },
  {
   "cell_type": "code",
   "execution_count": null,
   "metadata": {},
   "outputs": [],
   "source": []
  }
 ],
 "metadata": {
  "kernelspec": {
   "display_name": "Python 3",
   "language": "python",
   "name": "python3"
  },
  "language_info": {
   "codemirror_mode": {
    "name": "ipython",
    "version": 3
   },
   "file_extension": ".py",
   "mimetype": "text/x-python",
   "name": "python",
   "nbconvert_exporter": "python",
   "pygments_lexer": "ipython3",
   "version": "3.7.4"
  }
 },
 "nbformat": 4,
 "nbformat_minor": 2
}
