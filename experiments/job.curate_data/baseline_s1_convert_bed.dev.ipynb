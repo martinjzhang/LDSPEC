{
 "cells": [
  {
   "cell_type": "code",
   "execution_count": 4,
   "metadata": {},
   "outputs": [],
   "source": [
    "import pandas as pd\n",
    "import numpy as np\n",
    "import os\n",
    "import time\n",
    "import gdreg"
   ]
  },
  {
   "cell_type": "code",
   "execution_count": 5,
   "metadata": {},
   "outputs": [
    {
     "name": "stdout",
     "output_type": "stream",
     "text": [
      "BED_FILE_PATH=/n/groups/price/ldsc/reference_files/bed\n",
      "OUT_PREFIX=/n/groups/price/martin/data_GDREG/UKBimp_337K_MAF001/baseline_annot/ukb_imp_chr21_v3\n",
      "Detected 62 .bed files \n"
     ]
    }
   ],
   "source": [
    "PGEN_FILE=\"/n/scratch3/users/j/jz286/imp_geno/ukb_imp_chr21_v3\"\n",
    "BED_FILE_PATH=\"/n/groups/price/ldsc/reference_files/bed\"\n",
    "OUT_PREFIX=\"/n/groups/price/martin/data_GDREG/UKBimp_337K_MAF001/baseline_annot/ukb_imp_chr21_v3\"\n",
    "\n",
    "print(\"BED_FILE_PATH=%s\" % BED_FILE_PATH)\n",
    "print(\"OUT_PREFIX=%s\" % OUT_PREFIX)\n",
    "\n",
    "BED_FILE_LIST = []\n",
    "temp_list = os.listdir(BED_FILE_PATH)\n",
    "with open(\"bed_list.txt\", \"r\") as f:\n",
    "    for line in f:\n",
    "        line = line.strip()\n",
    "        if \"%s.bed\" % line in temp_list:\n",
    "            BED_FILE_LIST.append(\"%s.bed\" % line)\n",
    "        if \"%s.extend.500.bed\" % line in temp_list:\n",
    "            BED_FILE_LIST.append(\"%s.extend.500.bed\" % line)\n",
    "BED_FILE_LIST = sorted(BED_FILE_LIST)\n",
    "print(\"Detected %d .bed files \" % len(BED_FILE_LIST))"
   ]
  },
  {
   "cell_type": "code",
   "execution_count": 11,
   "metadata": {},
   "outputs": [],
   "source": [
    "# Read PGEN\n",
    "dic_data = gdreg.util.read_pgen(PGEN_FILE)\n",
    "CHR = dic_data[\"pvar\"]['CHR'][0]"
   ]
  },
  {
   "cell_type": "code",
   "execution_count": 47,
   "metadata": {
    "scrolled": false
   },
   "outputs": [
    {
     "name": "stdout",
     "output_type": "stream",
     "text": [
      "AN:Backgrd_Selection_Stat : 857 unique values, 198894 non-zeros\n"
     ]
    }
   ],
   "source": [
    "df_annot = dic_data[\"pvar\"][[\"CHR\", \"SNP\", \"BP\"]].copy()\n",
    "\n",
    "for bed_file in BED_FILE_LIST:\n",
    "    \n",
    "    \n",
    "    fpath = BED_FILE_PATH + \"/\" + bed_file\n",
    "    df_bed = pd.read_csv(fpath, sep='\\t', header=None)\n",
    "    df_bed = df_bed.loc[df_bed[0]=='chr%d'%CHR]\n",
    "    if df_bed.shape[1] == 3:\n",
    "        df_bed[3] = 1\n",
    "    df_bed.columns = ['CHR', \"START\", \"END\", \"VAL\"]\n",
    "    df_bed[\"VAL\"] = df_bed[\"VAL\"].astype(np.float32)\n",
    "    \n",
    "    dic_bed = {}\n",
    "    for START,END,VAL in zip(df_bed[\"START\"], df_bed[\"END\"], df_bed[\"VAL\"]):\n",
    "        temp_dic = {x:VAL for x in range(START, END)}\n",
    "        dic_bed.update(temp_dic)\n",
    "    \n",
    "    bed_name = \"AN:\" + bed_file.replace('.bed', '')\n",
    "    df_annot[bed_name] = [dic_bed[x] if x in dic_bed else 0 for x in df_annot['BP']]\n",
    "    \n",
    "    if len(df_annot[bed_name].unique())==2:\n",
    "        df_annot[bed_name] = df_annot[bed_name].astype(bool)\n",
    "    else:\n",
    "        df_annot[bed_name] = df_annot[bed_name].astype(np.float32)\n",
    "        \n",
    "    print(\"%s : %d unique values, %s non-zeros\" % (\n",
    "        bed_name, len(df_annot[bed_name].unique()), (df_annot[bed_name]!=0).sum()\n",
    "    ))\n",
    "        \n",
    "    break\n",
    "\n",
    "# dic_data[\"pvar\"]"
   ]
  },
  {
   "cell_type": "code",
   "execution_count": 48,
   "metadata": {},
   "outputs": [
    {
     "name": "stdout",
     "output_type": "stream",
     "text": [
      "'CM' missing from df_annot.columns, add 'CM' column with 0\n"
     ]
    }
   ],
   "source": [
    "gdreg.util.write_annot(df_annot, OUT_PREFIX+'.bed.annot.gz')"
   ]
  },
  {
   "cell_type": "code",
   "execution_count": 46,
   "metadata": {},
   "outputs": [
    {
     "data": {
      "text/html": [
       "<div>\n",
       "<style scoped>\n",
       "    .dataframe tbody tr th:only-of-type {\n",
       "        vertical-align: middle;\n",
       "    }\n",
       "\n",
       "    .dataframe tbody tr th {\n",
       "        vertical-align: top;\n",
       "    }\n",
       "\n",
       "    .dataframe thead th {\n",
       "        text-align: right;\n",
       "    }\n",
       "</style>\n",
       "<table border=\"1\" class=\"dataframe\">\n",
       "  <thead>\n",
       "    <tr style=\"text-align: right;\">\n",
       "      <th></th>\n",
       "      <th>CHR</th>\n",
       "      <th>SNP</th>\n",
       "      <th>BP</th>\n",
       "      <th>Backgrd_Selection_Stat</th>\n",
       "      <th>CM</th>\n",
       "    </tr>\n",
       "  </thead>\n",
       "  <tbody>\n",
       "    <tr>\n",
       "      <th>0</th>\n",
       "      <td>21</td>\n",
       "      <td>rs558824633</td>\n",
       "      <td>9413985</td>\n",
       "      <td>0.000</td>\n",
       "      <td>0</td>\n",
       "    </tr>\n",
       "    <tr>\n",
       "      <th>1</th>\n",
       "      <td>21</td>\n",
       "      <td>rs575710892</td>\n",
       "      <td>9418492</td>\n",
       "      <td>0.000</td>\n",
       "      <td>0</td>\n",
       "    </tr>\n",
       "    <tr>\n",
       "      <th>2</th>\n",
       "      <td>21</td>\n",
       "      <td>rs574994120</td>\n",
       "      <td>9419845</td>\n",
       "      <td>0.000</td>\n",
       "      <td>0</td>\n",
       "    </tr>\n",
       "    <tr>\n",
       "      <th>3</th>\n",
       "      <td>21</td>\n",
       "      <td>rs537592226</td>\n",
       "      <td>9419872</td>\n",
       "      <td>0.000</td>\n",
       "      <td>0</td>\n",
       "    </tr>\n",
       "    <tr>\n",
       "      <th>4</th>\n",
       "      <td>21</td>\n",
       "      <td>rs527627191</td>\n",
       "      <td>9491495</td>\n",
       "      <td>0.000</td>\n",
       "      <td>0</td>\n",
       "    </tr>\n",
       "    <tr>\n",
       "      <th>...</th>\n",
       "      <td>...</td>\n",
       "      <td>...</td>\n",
       "      <td>...</td>\n",
       "      <td>...</td>\n",
       "      <td>...</td>\n",
       "    </tr>\n",
       "    <tr>\n",
       "      <th>200639</th>\n",
       "      <td>21</td>\n",
       "      <td>rs546224335</td>\n",
       "      <td>48109531</td>\n",
       "      <td>0.170</td>\n",
       "      <td>0</td>\n",
       "    </tr>\n",
       "    <tr>\n",
       "      <th>200640</th>\n",
       "      <td>21</td>\n",
       "      <td>rs199628654</td>\n",
       "      <td>48109630</td>\n",
       "      <td>0.170</td>\n",
       "      <td>0</td>\n",
       "    </tr>\n",
       "    <tr>\n",
       "      <th>200641</th>\n",
       "      <td>21</td>\n",
       "      <td>rs558149838</td>\n",
       "      <td>48115770</td>\n",
       "      <td>0.149</td>\n",
       "      <td>0</td>\n",
       "    </tr>\n",
       "    <tr>\n",
       "      <th>200642</th>\n",
       "      <td>21</td>\n",
       "      <td>rs141010241</td>\n",
       "      <td>48116032</td>\n",
       "      <td>0.149</td>\n",
       "      <td>0</td>\n",
       "    </tr>\n",
       "    <tr>\n",
       "      <th>200643</th>\n",
       "      <td>21</td>\n",
       "      <td>rs574377187</td>\n",
       "      <td>48119259</td>\n",
       "      <td>0.144</td>\n",
       "      <td>0</td>\n",
       "    </tr>\n",
       "  </tbody>\n",
       "</table>\n",
       "<p>200644 rows × 5 columns</p>\n",
       "</div>"
      ],
      "text/plain": [
       "        CHR          SNP        BP  Backgrd_Selection_Stat  CM\n",
       "0        21  rs558824633   9413985                   0.000   0\n",
       "1        21  rs575710892   9418492                   0.000   0\n",
       "2        21  rs574994120   9419845                   0.000   0\n",
       "3        21  rs537592226   9419872                   0.000   0\n",
       "4        21  rs527627191   9491495                   0.000   0\n",
       "...     ...          ...       ...                     ...  ..\n",
       "200639   21  rs546224335  48109531                   0.170   0\n",
       "200640   21  rs199628654  48109630                   0.170   0\n",
       "200641   21  rs558149838  48115770                   0.149   0\n",
       "200642   21  rs141010241  48116032                   0.149   0\n",
       "200643   21  rs574377187  48119259                   0.144   0\n",
       "\n",
       "[200644 rows x 5 columns]"
      ]
     },
     "execution_count": 46,
     "metadata": {},
     "output_type": "execute_result"
    }
   ],
   "source": [
    "df_annot"
   ]
  },
  {
   "cell_type": "code",
   "execution_count": 49,
   "metadata": {},
   "outputs": [],
   "source": [
    "temp_df = pd.read_csv(\n",
    "    \"/n/groups/price/martin/data_GDREG/UKBimp_337K_MAF001/baseline_annot/ukb_imp_chr21_v3.bed.annot.gz\",\n",
    "    sep='\\t'\n",
    ")"
   ]
  },
  {
   "cell_type": "code",
   "execution_count": 51,
   "metadata": {},
   "outputs": [
    {
     "data": {
      "text/plain": [
       "CHR                                                                             4213524\n",
       "SNP                                   rs558824633rs575710892rs574994120rs537592226rs...\n",
       "BP                                                                        6352586437292\n",
       "CM                                                                                    0\n",
       "AN:Backgrd_Selection_Stat                                                       21130.8\n",
       "                                                            ...                        \n",
       "AN:Vahedi_Tcell_TE                                                                 6581\n",
       "AN:Vahedi_Tcell_TE_500bp                                                           7732\n",
       "AN:WeakEnhancer_Hoffman                                                            4048\n",
       "AN:WeakEnhancer_Hoffman.extend.500                                                16726\n",
       "AN:alleleage                                                                4.40336e+07\n",
       "Length: 66, dtype: object"
      ]
     },
     "execution_count": 51,
     "metadata": {},
     "output_type": "execute_result"
    }
   ],
   "source": [
    "temp_df.sum(axis=0)"
   ]
  },
  {
   "cell_type": "code",
   "execution_count": null,
   "metadata": {},
   "outputs": [],
   "source": []
  }
 ],
 "metadata": {
  "kernelspec": {
   "display_name": "Python 3",
   "language": "python",
   "name": "python3"
  },
  "language_info": {
   "codemirror_mode": {
    "name": "ipython",
    "version": 3
   },
   "file_extension": ".py",
   "mimetype": "text/x-python",
   "name": "python",
   "nbconvert_exporter": "python",
   "pygments_lexer": "ipython3",
   "version": "3.7.4"
  }
 },
 "nbformat": 4,
 "nbformat_minor": 2
}
