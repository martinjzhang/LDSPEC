{
 "cells": [
  {
   "cell_type": "code",
   "execution_count": 1,
   "metadata": {},
   "outputs": [],
   "source": [
    "import pandas as pd\n",
    "import numpy as np\n",
    "import io\n",
    "import gdreg\n",
    "\n",
    "%load_ext autoreload\n",
    "%autoreload 2"
   ]
  },
  {
   "cell_type": "code",
   "execution_count": 46,
   "metadata": {
    "scrolled": true
   },
   "outputs": [
    {
     "name": "stdout",
     "output_type": "stream",
     "text": [
      "# CHR 1\n"
     ]
    },
    {
     "name": "stderr",
     "output_type": "stream",
     "text": [
      "/home/jz286/myenv/lib/python3.7/site-packages/IPython/core/interactiveshell.py:3249: DtypeWarning: Columns (15,19) have mixed types.Specify dtype option on import or set low_memory=False.\n",
      "  if (await self.run_code(code, result,  async_=asy)):\n",
      "/home/jz286/myenv/lib/python3.7/site-packages/ipykernel_launcher.py:23: SettingWithCopyWarning: \n",
      "A value is trying to be set on a copy of a slice from a DataFrame.\n",
      "Try using .loc[row_indexer,col_indexer] = value instead\n",
      "\n",
      "See the caveats in the documentation: https://pandas.pydata.org/pandas-docs/stable/user_guide/indexing.html#returning-a-view-versus-a-copy\n"
     ]
    },
    {
     "name": "stdout",
     "output_type": "stream",
     "text": [
      "'CM' missing from df_annot.columns, add 'CM' column with 0\n",
      "# CHR 2\n"
     ]
    },
    {
     "name": "stderr",
     "output_type": "stream",
     "text": [
      "/home/jz286/myenv/lib/python3.7/site-packages/IPython/core/interactiveshell.py:3249: DtypeWarning: Columns (15) have mixed types.Specify dtype option on import or set low_memory=False.\n",
      "  if (await self.run_code(code, result,  async_=asy)):\n"
     ]
    },
    {
     "name": "stdout",
     "output_type": "stream",
     "text": [
      "'CM' missing from df_annot.columns, add 'CM' column with 0\n",
      "# CHR 3\n",
      "'CM' missing from df_annot.columns, add 'CM' column with 0\n",
      "# CHR 4\n",
      "'CM' missing from df_annot.columns, add 'CM' column with 0\n",
      "# CHR 5\n",
      "'CM' missing from df_annot.columns, add 'CM' column with 0\n",
      "# CHR 6\n",
      "'CM' missing from df_annot.columns, add 'CM' column with 0\n",
      "# CHR 7\n",
      "'CM' missing from df_annot.columns, add 'CM' column with 0\n",
      "# CHR 8\n",
      "'CM' missing from df_annot.columns, add 'CM' column with 0\n",
      "# CHR 9\n",
      "'CM' missing from df_annot.columns, add 'CM' column with 0\n",
      "# CHR 10\n",
      "'CM' missing from df_annot.columns, add 'CM' column with 0\n",
      "# CHR 11\n",
      "'CM' missing from df_annot.columns, add 'CM' column with 0\n",
      "# CHR 12\n",
      "'CM' missing from df_annot.columns, add 'CM' column with 0\n",
      "# CHR 13\n",
      "'CM' missing from df_annot.columns, add 'CM' column with 0\n",
      "# CHR 14\n",
      "'CM' missing from df_annot.columns, add 'CM' column with 0\n",
      "# CHR 15\n",
      "'CM' missing from df_annot.columns, add 'CM' column with 0\n",
      "# CHR 16\n",
      "'CM' missing from df_annot.columns, add 'CM' column with 0\n",
      "# CHR 17\n",
      "'CM' missing from df_annot.columns, add 'CM' column with 0\n",
      "# CHR 18\n",
      "'CM' missing from df_annot.columns, add 'CM' column with 0\n",
      "# CHR 19\n",
      "'CM' missing from df_annot.columns, add 'CM' column with 0\n",
      "# CHR 20\n",
      "'CM' missing from df_annot.columns, add 'CM' column with 0\n",
      "# CHR 21\n",
      "'CM' missing from df_annot.columns, add 'CM' column with 0\n",
      "# CHR 22\n",
      "'CM' missing from df_annot.columns, add 'CM' column with 0\n"
     ]
    }
   ],
   "source": [
    "def read_vep(path):\n",
    "    with open(path, 'r') as f:\n",
    "        lines = [l for l in f if not l.startswith('##')]\n",
    "    return pd.read_csv(\n",
    "        io.StringIO(''.join(lines)),\n",
    "        sep='\\t'\n",
    "    ).rename(columns={'#Uploaded_variation': 'SNP'})\n",
    "\n",
    "# Read annotation\n",
    "PGEN_FILE = '/n/scratch3/users/j/jz286/imp_geno/ukb_imp_chr@_v3'\n",
    "VEP_FILE = \"/n/groups/price/martin/data_GDREG/UKBimp_337K_MAF001/baseline_annot/vep/ukb_imp_chr@_v3.vep_annot\"\n",
    "OUT_FILE = \"/n/groups/price/martin/data_GDREG/UKBimp_337K_MAF001/baseline_annot/vep/ukb_imp_chr@_v3.vep.annot.gz\"\n",
    "\n",
    "for CHR in range(1,23):\n",
    "# for CHR in [22]:\n",
    "    print(\"# CHR %d\" % CHR)\n",
    "    df_snp_chr = gdreg.util.read_pgen(PGEN_FILE.replace('@', '%d' % CHR))['pvar']\n",
    "    df_vep = read_vep(VEP_FILE.replace(\"@\", \"%d\"%CHR))\n",
    "    \n",
    "    df_annot = df_snp_chr[['CHR', 'SNP', 'BP']]\n",
    "    for col in ['Gene', 'DOMAINS']:\n",
    "        temp_dic = {x:y for x,y in zip(df_vep['SNP'], df_vep[col]) if y!='-'}\n",
    "        df_annot[col] = [temp_dic[x] if x in temp_dic else '' for x in df_annot['SNP']]\n",
    "    df_annot = df_annot.loc[df_annot['DOMAINS']!='']\n",
    "    df_annot.columns = ['CHR', 'SNP', 'BP', 'AN:GENE', 'AN:DOMAINS']\n",
    "    gdreg.util.write_annot(df_annot, OUT_FILE.replace(\"@\", \"%d\"%CHR))"
   ]
  },
  {
   "cell_type": "code",
   "execution_count": null,
   "metadata": {},
   "outputs": [],
   "source": []
  }
 ],
 "metadata": {
  "kernelspec": {
   "display_name": "Python 3",
   "language": "python",
   "name": "python3"
  },
  "language_info": {
   "codemirror_mode": {
    "name": "ipython",
    "version": 3
   },
   "file_extension": ".py",
   "mimetype": "text/x-python",
   "name": "python",
   "nbconvert_exporter": "python",
   "pygments_lexer": "ipython3",
   "version": "3.7.4"
  }
 },
 "nbformat": 4,
 "nbformat_minor": 2
}
