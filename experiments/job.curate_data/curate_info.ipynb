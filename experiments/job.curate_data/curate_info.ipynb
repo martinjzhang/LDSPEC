{
 "cells": [
  {
   "cell_type": "code",
   "execution_count": 2,
   "metadata": {},
   "outputs": [
    {
     "name": "stdout",
     "output_type": "stream",
     "text": [
      "The autoreload extension is already loaded. To reload it, use:\n",
      "  %reload_ext autoreload\n"
     ]
    }
   ],
   "source": [
    "import pandas as pd\n",
    "import numpy as np\n",
    "import scipy as sp\n",
    "import time\n",
    "import os\n",
    "import gdreg\n",
    "import matplotlib.pyplot as plt\n",
    "import seaborn as sns\n",
    "import pickle\n",
    "from statsmodels.stats.multitest import multipletests\n",
    "\n",
    "\n",
    "# autoreload\n",
    "%load_ext autoreload\n",
    "%autoreload 2"
   ]
  },
  {
   "cell_type": "markdown",
   "metadata": {},
   "source": [
    "### Trait info"
   ]
  },
  {
   "cell_type": "code",
   "execution_count": 117,
   "metadata": {},
   "outputs": [],
   "source": [
    "DIC_NAME = {\n",
    "    'blood_PLATELET_COUNT': 'Platelet Count', \n",
    "    'blood_RBC_DISTRIB_WIDTH': 'Red Blood Cell Distribution Width',\n",
    "    'blood_RED_COUNT': 'Red Blood Cell Count',\n",
    "    'blood_WHITE_COUNT': 'White Blood Cell Count', \n",
    "    'bmd_HEEL_TSCOREz': 'Heel T Score', \n",
    "    'body_BALDING1': 'Balding Type I', \n",
    "    'body_BMIz': 'BMI',\n",
    "    'body_HEIGHTz': 'Height',\n",
    "    'body_WHRadjBMIz': 'Waist-hip Ratio',\n",
    "    'bp_DIASTOLICadjMEDz': 'Diastolic Blood Pressure',\n",
    "    'cov_EDU_YEARS': 'Years of Education',\n",
    "    'disease_ALLERGY_ECZEMA_DIAGNOSED': 'Eczema',\n",
    "    'lung_FEV1FVCzSMOKE': 'FEV1-FVC Ratio',\n",
    "    'lung_FVCzSMOKE': 'Forced Vital Capacity (FVC)',\n",
    "    'mental_NEUROTICISM': 'Neuroticism',\n",
    "    'other_MORNINGPERSON': 'Morning Person',\n",
    "    'pigment_SUNBURN': 'Sunburn Occasion',\n",
    "    'repro_MENARCHE_AGE': 'Age at Menarche',\n",
    "    'repro_MENOPAUSE_AGE': 'Age at Menopause',\n",
    "    'repro_NumberChildrenEverBorn_Pooled': 'Number Children (Pooled)',\n",
    "    'cancer_BREAST' : 'Breast Cancer',\n",
    "    'cancer_PROSTATE' : 'Prostate Cancer',\n",
    "    'disease_HYPOTHYROIDISM_SELF_REP' : 'Hypothyroidism',\n",
    "    'biochemistry_AlkalinePhosphatase' : 'Alkaline Phosphatase',\n",
    "    'biochemistry_AspartateAminotransferase' : 'Aspartate Aminotransferase',\n",
    "    'biochemistry_Cholesterol' : 'Cholesterol', \n",
    "    'biochemistry_Creatinine' : 'Creatinine',\n",
    "    'biochemistry_IGF1' : 'IGF1',\n",
    "    'biochemistry_Phosphate' : 'Phosphate',\n",
    "    'biochemistry_TotalBilirubin' : 'Total Bilirubin',\n",
    "    'biochemistry_TotalProtein' : 'Total Protein',\n",
    "    'biochemistry_VitaminD' : 'Vitamin D',\n",
    "}"
   ]
  },
  {
   "cell_type": "code",
   "execution_count": 118,
   "metadata": {},
   "outputs": [],
   "source": [
    "df_info = pd.DataFrame(index=list(DIC_NAME))\n",
    "df_info['Trait Name'] = [DIC_NAME[x] for x in df_info.index]\n",
    "df_info['Trait_Identifier'] = df_info.index\n",
    "\n",
    "sumstats_file = '/n/groups/price/martin/data_GDREG/UKBimp_337K_MAF001/UKBB_trait/@.sumstats.gz'\n",
    "df_info['N.ukbimp'] = [pd.read_csv(sumstats_file.replace('@', x), nrows=10, sep='\\t')['N'].median()\n",
    "                for x in df_info.index]\n",
    "df_info['N.ukbimp'] = df_info['N.ukbimp'].astype(int)\n",
    "\n",
    "df_info.to_csv('/n/groups/price/martin/data_GDREG/results/tables/trait_info.tsv', sep='\\t', index=False)"
   ]
  },
  {
   "cell_type": "markdown",
   "metadata": {},
   "source": [
    "### Single-SNP annotation info"
   ]
  },
  {
   "cell_type": "code",
   "execution_count": 2,
   "metadata": {},
   "outputs": [],
   "source": [
    "# [Name, type, reference]\n",
    "DIC_NAME_AN = {\n",
    "    'BivFlnk' : ['Conserved (phastCons - Primate)', 'b', 'Roadmap Consortium 2015'],\n",
    "    'Conserved_LindbladToh' : ['Conserved (Lindblad-Toh)', 'b', 'Ward and Kellis 2012'],\n",
    "    'Conserved_Vertebrate_phastCons46way' : ['Conserved (phastCons - Vertebrate)', 'b', 'Siepel et al. 2005'],\n",
    "    'Conserved_Mammal_phastCons46way' : ['Conserved (phastCons - Mammal)', 'b', 'Siepel et al. 2005'],\n",
    "    'Conserved_Primate_phastCons46way' : ['Conserved (phastCons - Primate)', 'b', 'Siepel et al. 2005'],\n",
    "    'Coding_UCSC' : ['Coding', 'b', 'UCSC'],\n",
    "    'UTR_3_UCSC' : ['3UTR', 'b', 'UCSC'],\n",
    "    'UTR_5_UCSC' : ['5UTR', 'b', 'UCSC'],\n",
    "    'Intron_UCSC' : ['Intron', 'b', 'UCSC'],\n",
    "    'Enhancer_Andersson' : ['FANTOM5 Enhancer', 'b', 'Andersson et al. 2014'],\n",
    "    'SuperEnhancer_Hnisz' : ['Super Enhancer (Hnisz)', 'b', 'Hnisz et al. 2013'],\n",
    "    'Enhancer_Hoffman' : ['Enhancer', 'b', 'Hoffman et al. 2013'],\n",
    "    'WeakEnhancer_Hoffman' : ['Weak Enhancer', 'b', 'Hoffman et al. 2013'],\n",
    "    'Promoter_UCSC' : ['Promoter', 'b', 'UCSC'],\n",
    "    'PromoterFlanking_Hoffman' : ['Promoter Flanking', 'b', 'Hoffman et al. 2013'],\n",
    "    'DHS_Trynka' : ['DHS', 'b', 'Trynka et al. 2013'],\n",
    "    'FetalDHS_Trynka' : ['Fetal DHS', 'b', 'Trynka et al. 2013'],\n",
    "    'H3K27ac_Hnisz' : ['H3K27ac (Hnisz)', 'b', 'Hnisz et al. 2013'],\n",
    "    'H3K27ac_PGC2' : ['H3K27ac (PGC2)', 'b', 'PGC 2014'],\n",
    "    'H3K4me1_Trynka' : ['H3K4me1', 'b', 'Trynka et al. 2013'],\n",
    "    'H3K4me3_Trynka' : ['H3K4me3', 'b', 'Trynka et al. 2013'],\n",
    "    'H3K9ac_Trynka' : ['H3K9ac', 'b', 'Trynka et al. 2013'],\n",
    "    'TFBS_ENCODE' : ['TFBS', 'b', 'ENCODE'],\n",
    "    'Transcribed_Hoffman' : ['Transcribed', 'b', 'Hoffman et al. 2013'],\n",
    "    'TSS_Hoffman' : ['TSS', 'b', 'Hoffman et al. 2013'],\n",
    "    'CTCF_Hoffman' : ['CTCF', 'b', 'Hoffman et al. 2013'],\n",
    "    'DGF_ENCODE' : ['DGF', 'b', 'ENCODE'],\n",
    "    'Repressed_Hoffman' : ['Repressed', 'b', 'Hoffman et al. 2013'],\n",
    "    'Vahedi_Tcell_SE' : ['Super Enhancer (Vahedi)', 'b', 'Vahedi et al. 2015'],\n",
    "    'Vahedi_Tcell_TE' : ['Typical Enhancer', 'b', 'Vahedi et al. 2015'],\n",
    "    'GerpRS_g4' : ['Conserved (GERP RS >= 4)', 'b', 'Davydov et al. 2010'], # from CADD\n",
    "    'GerpN' : ['Conserved (GERP NS)', 'c', 'Davydov et al. 2010'], # from CADD\n",
    "    'alleleage' : ['MAF-adjusted predicted allele age', 'c', 'Rasmussen et al. 2014'],\n",
    "    # MAF-adjusted LLD-AFR removed\n",
    "    'nucleotide_div' : ['Nucleotide diversity', 'c', ''],\n",
    "    'recomb_rate' : ['Recombination Rate', 'c', 'HapMap2 map'],\n",
    "    'Backgrd_Selection_Stat' : ['McVicker B statistics', 'c', 'McVicker et al. 2009'],\n",
    "    'CpG' : ['CpG-Content', 'c', ''], # from CADD\n",
    "    # Non-synonymous removed\n",
    "    # Synonymous removed\n",
    "    'CADD_g20' : ['Deleterious (CADD >= 20)', 'b', 'Kircher et al. 2014'],\n",
    "    'snpeff_downstream_gene_variant' : ['Downstream Gene', 'b', 'Cingolani et al. 2012'],\n",
    "    'snpeff_non_coding_transcript_exon_variant' : ['Non-coding Exon', 'b', 'Cingolani et al. 2012'],\n",
    "    'snpeff_nonsynonymous_variant' : ['Non-synonymous', 'b', 'Cingolani et al. 2012'],\n",
    "    'snpeff_splice_region_variant' : ['Splice Region', 'b', 'Cingolani et al. 2012'],\n",
    "    'snpeff_synonymous_variant' : ['Synonymous', 'b', 'Cingolani et al. 2012'],\n",
    "    'snpeff_upstream_gene_variant' : ['Upstream Gene', 'b', 'Cingolani et al. 2012'],\n",
    "}"
   ]
  },
  {
   "cell_type": "code",
   "execution_count": 4,
   "metadata": {},
   "outputs": [],
   "source": [
    "def get_type(line):\n",
    "    if line == 'b':\n",
    "        return 'Binary'\n",
    "    if line == 'c':\n",
    "        return 'Continuous'\n",
    "\n",
    "df_info = pd.DataFrame(index=DIC_NAME_AN)\n",
    "df_info['Name'] = [DIC_NAME_AN[x][0] for x in df_info.index]\n",
    "df_info['Identifier'] = df_info.index\n",
    "df_info['Type'] = [get_type(DIC_NAME_AN[x][1]) for x in df_info.index]\n",
    "df_info['Reference/dataset'] = [DIC_NAME_AN[x][2] for x in df_info.index]\n",
    "\n",
    "# Version of the baseline model\n",
    "df_ldsc = pd.read_excel('/n/groups/price/martin/data_GDREG/results/Gazal_NG_2018_table.xlsx',\n",
    "                        sheet_name='S1', skiprows=1)\n",
    "df_ldsc.index = df_ldsc['Main annotation']\n",
    "df_ldsc.loc[df_ldsc['Version of the baseline model']=='New annotation', 'Version of the baseline model'] = \\\n",
    "    'Gazal et al. 2018' \n",
    "df_info['Version of the baseline model'] = [\n",
    "    df_ldsc.loc[x, 'Version of the baseline model'] \n",
    "    if (x in df_ldsc.index) & (x not in ['Non-synonymous', 'Synonymous']) \n",
    "    else 'New annotation' \n",
    "    for x in df_info['Name']\n",
    "]\n",
    "\n",
    "df_info.to_csv('/n/groups/price/martin/data_GDREG/results/tables/annot_info.tsv', sep='\\t', index=False)"
   ]
  },
  {
   "cell_type": "markdown",
   "metadata": {},
   "source": [
    "### SNP-pair annotation info"
   ]
  },
  {
   "cell_type": "code",
   "execution_count": 3,
   "metadata": {},
   "outputs": [],
   "source": [
    "DIC_NAME_pAN = {\n",
    "    'proxy_0_100' : ['Proximal (0-0.1 kb)', 'All pairs of SNPs within 100 bp'],\n",
    "    'proxy_100_1000' : ['Proximal (0.1-1 kb)', 'All pairs of SNPs between 100 bp and 1 kb'],\n",
    "    'proxy_1000_10000' : ['Proximal (1-10 kb)', 'All pairs of SNPs between 1 kb and 10 kb'],\n",
    "    'ldp5_proxy_10000' : ['High-LD', 'All pairs of SNPs with LD >= 0.5 and dist < 10 kb'],\n",
    "    'exon' : ['Exon', 'All pairs of SNPs in the same exon'],\n",
    "    'gene' : ['Gene', 'All pairs of SNPs in the same gene'],\n",
    "    'exonic_gene' : ['Exonic-gene', 'All pair of exonic SNPs in the same gene body'],\n",
    "    'protein_domain' : ['Protein-domain', 'All pair of SNPs in the same protein domain and same gene'],\n",
    "    'cS2G_all' : ['cS2G-all', 'All pairs of SNPs linked to the same gene by cS2G'],\n",
    "    'cS2G_promoter' : ['cS2G-promoter', 'All pairs of promoter SNPs linked to the same gene by cS2G'],\n",
    "    'cS2G_other' : [\n",
    "        'cS2G-other', \n",
    "        'All pairs of other SNPs linked to the same gene by cS2G,  excluding exonic or promoter SNPs'],\n",
    "}"
   ]
  },
  {
   "cell_type": "code",
   "execution_count": 4,
   "metadata": {},
   "outputs": [],
   "source": [
    "df_info = pd.DataFrame(index=DIC_NAME_pAN)\n",
    "df_info['Name'] = [DIC_NAME_pAN[x][0] for x in df_info.index]\n",
    "df_info['Identifier'] = df_info.index\n",
    "df_info['Description'] = [DIC_NAME_pAN[x][1] for x in df_info.index]\n",
    "\n",
    "df_info.to_csv('/n/groups/price/martin/data_GDREG/results/tables/pannot_info.tsv', sep='\\t', index=False)"
   ]
  },
  {
   "cell_type": "code",
   "execution_count": null,
   "metadata": {},
   "outputs": [],
   "source": []
  }
 ],
 "metadata": {
  "kernelspec": {
   "display_name": "Python 3",
   "language": "python",
   "name": "python3"
  },
  "language_info": {
   "codemirror_mode": {
    "name": "ipython",
    "version": 3
   },
   "file_extension": ".py",
   "mimetype": "text/x-python",
   "name": "python",
   "nbconvert_exporter": "python",
   "pygments_lexer": "ipython3",
   "version": "3.7.4"
  }
 },
 "nbformat": 4,
 "nbformat_minor": 2
}
