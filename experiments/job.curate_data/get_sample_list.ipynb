{
 "cells": [
  {
   "cell_type": "code",
   "execution_count": 3,
   "metadata": {},
   "outputs": [],
   "source": [
    "import numpy as np\n",
    "import pandas as pd\n",
    "import gdreg\n",
    "import time\n",
    "import matplotlib.pyplot as plt\n",
    "\n",
    "# autoreload\n",
    "%load_ext autoreload\n",
    "%autoreload 2"
   ]
  },
  {
   "cell_type": "code",
   "execution_count": 4,
   "metadata": {},
   "outputs": [],
   "source": [
    "DATA_PATH='/n/groups/price/martin/data_GDREG/'\n",
    "OUT_PATH = '/n/groups/price/martin/data_GDREG/imp_geno'"
   ]
  },
  {
   "cell_type": "code",
   "execution_count": null,
   "metadata": {},
   "outputs": [],
   "source": [
    "# # Check MHC \n",
    "# temp_df = pd.read_csv('/n/groups/price/martin/WES_analysis/toy_1K/weights_hm3_no_hla/weights.6.l2.ldscore.gz',\n",
    "#                       sep='\\t')\n",
    "# plt.figure(figsize=[8,5])\n",
    "# plt.scatter(temp_df['BP'], [1]*temp_df.shape[0])\n",
    "# plt.xlim([2.4e7,3.5e7])\n",
    "# plt.show()\n",
    "\n",
    "# print(temp_df['BP'][temp_df['BP']<3e7].max())\n",
    "# print(temp_df['BP'][temp_df['BP']>3e7].min())"
   ]
  },
  {
   "cell_type": "markdown",
   "metadata": {},
   "source": [
    "### 337K sample list "
   ]
  },
  {
   "cell_type": "code",
   "execution_count": 7,
   "metadata": {},
   "outputs": [
    {
     "name": "stdout",
     "output_type": "stream",
     "text": [
      "df_unrelated: 337545\n",
      "df_remove: 242\n",
      "legit_id_list: 337426\n",
      "df_sample: 337426\n"
     ]
    }
   ],
   "source": [
    "df_unrelated = pd.read_csv('/n/groups/price/UKBiobank/sampleQC/samples_337K.txt', sep=' ', header=None)\n",
    "df_unrelated.columns = ['FID', 'IID']\n",
    "df_unrelated.index = ['%s_%s'%(x,y) for x,y in zip(df_unrelated['FID'], df_unrelated['IID'])]\n",
    "print('df_unrelated: %d'%len(df_unrelated.index))\n",
    "\n",
    "df_remove = pd.read_csv(\n",
    "    '/n/groups/price/UKBiobank/download_500K/w14048_CURRENT.FID_IID.txt', sep=' ', header=None\n",
    ")\n",
    "df_remove.columns = ['FID', 'IID']\n",
    "df_remove.index = ['%s_%s'%(x,y) for x,y in zip(df_remove['FID'], df_remove['IID'])]\n",
    "print('df_remove: %d'%len(df_remove.index))\n",
    "\n",
    "# Subsample ID_list\n",
    "legit_id_list = sorted(set(df_unrelated.index) - set(df_remove.index))\n",
    "print('legit_id_list: %d'%len(legit_id_list))\n",
    "\n",
    "temp_set = set(legit_id_list)\n",
    "df_sample = df_unrelated.loc[[x in temp_set for x in df_unrelated.index]]\n",
    "df_sample.to_csv(OUT_PATH+'/unrelated_337K.txt', sep=' ', header=False, index=False)\n",
    "df_sample.iloc[:2].to_csv(OUT_PATH+'/unrelated_337K.small.txt', sep=' ', header=False, index=False)\n",
    "print('df_sample: %d'%len(df_sample.index))"
   ]
  },
  {
   "cell_type": "markdown",
   "metadata": {},
   "source": [
    "### MAF>0.1% and INFO>0.6 SNP list"
   ]
  },
  {
   "cell_type": "code",
   "execution_count": 19,
   "metadata": {},
   "outputs": [
    {
     "name": "stdout",
     "output_type": "stream",
     "text": [
      "CHR1, n_snp=1444017/7402791 (1542314 with MAF>0.001)\n",
      "CHR2, n_snp=1560656/8129063 (1649892 with MAF>0.001)\n",
      "CHR3, n_snp=1315193/6696680 (1382954 with MAF>0.001)\n",
      "CHR4, n_snp=1327041/6555871 (1400212 with MAF>0.001)\n",
      "CHR5, n_snp=1189519/6070641 (1248942 with MAF>0.001)\n",
      "CHR6, n_snp=1196493/5751712 (1257590 with MAF>0.001)\n",
      "CHR7, n_snp=1078277/5405524 (1141349 with MAF>0.001)\n",
      "CHR8, n_snp=1029189/5282223 (1085553 with MAF>0.001)\n",
      "CHR9, n_snp=794311/4066774 (849684 with MAF>0.001)\n",
      "CHR10, n_snp=924158/4562904 (974698 with MAF>0.001)\n",
      "CHR11, n_snp=907848/4628348 (960498 with MAF>0.001)\n",
      "CHR12, n_snp=879579/4431052 (932167 with MAF>0.001)\n",
      "CHR13, n_snp=661335/3270217 (696124 with MAF>0.001)\n",
      "CHR14, n_snp=597763/3037521 (635841 with MAF>0.001)\n",
      "CHR15, n_snp=533036/2767971 (573469 with MAF>0.001)\n",
      "CHR16, n_snp=582568/3089612 (622814 with MAF>0.001)\n",
      "CHR17, n_snp=512905/2660711 (546124 with MAF>0.001)\n",
      "CHR18, n_snp=521824/2599579 (548212 with MAF>0.001)\n",
      "CHR19, n_snp=427378/2087017 (454439 with MAF>0.001)\n",
      "CHR20, n_snp=408190/2082571 (429662 with MAF>0.001)\n",
      "CHR21, n_snp=250508/1261158 (272383 with MAF>0.001)\n",
      "CHR22, n_snp=250963/1255683 (271699 with MAF>0.001)\n",
      "Total 18392751 SNPs\n"
     ]
    }
   ],
   "source": [
    "n_snp = 0\n",
    "for CHR in range(1,23):\n",
    "# for CHR in [21]:\n",
    "    temp_df = pd.read_csv(\n",
    "        \"/n/groups/price/UKBiobank/download_500K/ukb_mfi_chr%d_v3.txt.gz\"%CHR, sep='\\t', header=None\n",
    "    )\n",
    "    \n",
    "    ind_select = (temp_df[5]>=0.001) & (temp_df[7]>=0.6)\n",
    "    snp_list = list(temp_df[1].values[ind_select])\n",
    "    print(\"CHR%d, n_snp=%d/%d (%d with MAF>0.001)\"%(\n",
    "        CHR, len(snp_list), temp_df.shape[0], (temp_df[5]>=0.001).sum() \n",
    "    ))\n",
    "    n_snp += len(snp_list)\n",
    "\n",
    "    with open(\"/n/groups/price/martin/data_GDREG/imp_geno/snp_list_chr%d.MAF_001_INFO_06.txt\"%CHR, \"w\") as f:\n",
    "        for snp in snp_list:\n",
    "            f.write(\"%s\\n\"%snp)\n",
    "            \n",
    "print(\"Total %d SNPs\" % n_snp)"
   ]
  },
  {
   "cell_type": "code",
   "execution_count": 14,
   "metadata": {},
   "outputs": [
    {
     "name": "stdout",
     "output_type": "stream",
     "text": [
      "CHR21, n_snp=250508/1261158\n"
     ]
    }
   ],
   "source": []
  },
  {
   "cell_type": "code",
   "execution_count": 9,
   "metadata": {},
   "outputs": [],
   "source": [
    "dic_data = gdreg.util.read_pgen(\"/n/groups/price/martin/data_GDREG/imp_geno/ukb_imp_chr21_v3\")"
   ]
  },
  {
   "cell_type": "code",
   "execution_count": 10,
   "metadata": {},
   "outputs": [],
   "source": [
    "temp_mat = gdreg.util.read_geno(dic_data['pgen'], 0, 50, n_sample=None, n_snp=None)"
   ]
  },
  {
   "cell_type": "code",
   "execution_count": 11,
   "metadata": {},
   "outputs": [
    {
     "data": {
      "text/plain": [
       "array([-1.39289800e-02, -2.85040275e-02, -1.39556525e-02, -1.39556525e-02,\n",
       "       -1.14928903e-02, -3.94812492e-02, -3.52373557e-03,  2.34125408e-04,\n",
       "       -2.32169424e-02, -1.39141619e-02, -6.80741852e-03, -9.53423862e-02,\n",
       "       -7.33494159e-03, -1.08764588e-02, -1.23760469e-02, -2.33503050e-02,\n",
       "       -2.69955487e-02, -2.69955487e-02, -3.23715422e-02, -6.80741852e-03,\n",
       "       -1.11135479e-02, -2.33503050e-02, -1.67029215e-02, -1.21069509e-01,\n",
       "       -2.85040275e-02, -2.85040275e-02,  2.60797923e-04,  2.60797923e-04,\n",
       "       -4.77141655e-03, -3.11090432e-02, -7.28159656e-03, -2.89544967e-02,\n",
       "       -1.21359943e-02, -7.25818402e-02,  2.60797923e-04, -2.64294986e-02,\n",
       "       -6.48912650e-02, -4.45709578e-01, -5.21228358e-01, -3.79105345e-02,\n",
       "       -4.84989301e-01, -4.93560069e-02, -4.88924979e-01, -3.01405345e-01,\n",
       "       -5.39170070e-01, -5.01446243e-01, -5.06505130e-01, -2.81812901e-01,\n",
       "       -4.27604867e-01, -5.00915756e-01])"
      ]
     },
     "execution_count": 11,
     "metadata": {},
     "output_type": "execute_result"
    }
   ],
   "source": [
    "temp_mat.mean(axis=1)"
   ]
  },
  {
   "cell_type": "code",
   "execution_count": null,
   "metadata": {},
   "outputs": [],
   "source": []
  }
 ],
 "metadata": {
  "kernelspec": {
   "display_name": "Python 3",
   "language": "python",
   "name": "python3"
  },
  "language_info": {
   "codemirror_mode": {
    "name": "ipython",
    "version": 3
   },
   "file_extension": ".py",
   "mimetype": "text/x-python",
   "name": "python",
   "nbconvert_exporter": "python",
   "pygments_lexer": "ipython3",
   "version": "3.7.4"
  }
 },
 "nbformat": 4,
 "nbformat_minor": 2
}
