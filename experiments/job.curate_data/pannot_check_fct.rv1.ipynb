{
 "cells": [
  {
   "cell_type": "code",
   "execution_count": 1,
   "metadata": {},
   "outputs": [],
   "source": [
    "import pandas as pd\n",
    "import numpy as np\n",
    "import os\n",
    "import gzip\n",
    "import time\n",
    "import seaborn as sns\n",
    "import matplotlib.pyplot as plt\n",
    "import ldspec\n",
    "\n",
    "%load_ext autoreload\n",
    "%autoreload 2"
   ]
  },
  {
   "cell_type": "code",
   "execution_count": 2,
   "metadata": {
    "scrolled": true
   },
   "outputs": [
    {
     "name": "stdout",
     "output_type": "stream",
     "text": [
      "/n/groups/price/martin/LDSPEC_data/UKBimp_337K_MAF001_chimp/pannot_fct/baseline_0_100_ld_high_pos/@a.proxy_0_100.ld_p50_p100.maf_common_block.c@.pannot_mat.npz\n",
      "/n/groups/price/martin/LDSPEC_data/UKBimp_337K_MAF001_chimp/pannot_fct/baseline_0_100_ld_high_pos/@a.proxy_0_100.ld_p50_p100.maf_lf_block.c@.pannot_mat.npz\n",
      "/n/groups/price/martin/LDSPEC_data/UKBimp_337K_MAF001_chimp/pannot_fct/baseline_0_1000_ld_high_pos/@a.proxy_0_1000.ld_p50_p100.maf_common_block.c@.pannot_mat.npz\n",
      "/n/groups/price/martin/LDSPEC_data/UKBimp_337K_MAF001_chimp/pannot_fct/baseline_0_1000_ld_high_pos/@a.proxy_0_1000.ld_p50_p100.maf_lf_block.c@.pannot_mat.npz\n"
     ]
    }
   ],
   "source": [
    "DATA_PATH = '/n/groups/price/martin/LDSPEC_data/UKBimp_337K_MAF001_chimp/pannot_fct'\n",
    "temp_dic = {\n",
    "#     # Unstrat\n",
    "#     'baseline_0_100' : DATA_PATH + '/baseline_0_100/@a.proxy_0_100.ld_full.maf_@m_block.c@.pannot_mat.npz',\n",
    "#     'baseline_0_1000' : DATA_PATH + '/baseline_0_1000/@a.proxy_0_1000.ld_full.maf_@m_block.c@.pannot_mat.npz',\n",
    "#     # pos-ld\n",
    "#     'baseline_0_100_ld_pos' : DATA_PATH + '/baseline_0_100_ld_pos/@a.proxy_0_100.ld_p0_p100.maf_@m_block.c@.pannot_mat.npz',\n",
    "#     'baseline_0_1000_ld_pos' : DATA_PATH + '/baseline_0_1000_ld_pos/@a.proxy_0_1000.ld_p0_p100.maf_@m_block.c@.pannot_mat.npz',\n",
    "#     # neg-ld\n",
    "#     'baseline_0_100_ld_neg' : DATA_PATH + '/baseline_0_100_ld_neg/@a.proxy_0_100.ld_n100_p0.maf_@m_block.c@.pannot_mat.npz',\n",
    "#     'baseline_0_1000_ld_neg' : DATA_PATH + '/baseline_0_1000_ld_neg/@a.proxy_0_1000.ld_n100_p0.maf_@m_block.c@.pannot_mat.npz',\n",
    "    # pos-high-ld\n",
    "    'baseline_0_100_ld_high_pos' : DATA_PATH + '/baseline_0_100_ld_high_pos/@a.proxy_0_100.ld_p50_p100.maf_@m_block.c@.pannot_mat.npz',\n",
    "    'baseline_0_1000_ld_high_pos' : DATA_PATH + '/baseline_0_1000_ld_high_pos/@a.proxy_0_1000.ld_p50_p100.maf_@m_block.c@.pannot_mat.npz',\n",
    "}\n",
    "\n",
    "DIC_PANNOT = {}\n",
    "for key in temp_dic:\n",
    "    for mbin in ['common', 'lf']:\n",
    "        DIC_PANNOT['%s_%s'%(key,mbin)] = temp_dic[key].replace('@m',mbin)\n",
    "        \n",
    "for val in DIC_PANNOT.values():\n",
    "    print(val)"
   ]
  },
  {
   "cell_type": "code",
   "execution_count": 3,
   "metadata": {},
   "outputs": [
    {
     "name": "stdout",
     "output_type": "stream",
     "text": [
      "AN_list 38\n",
      "Skip CADD_g20 baseline_0_100_ld_high_pos_common\n",
      "Skip CADD_g20 baseline_0_100_ld_high_pos_lf\n",
      "Skip CADD_g20 baseline_0_1000_ld_high_pos_common\n",
      "Skip CADD_g20 baseline_0_1000_ld_high_pos_lf\n",
      "Skip UTR_5_UCSC baseline_0_100_ld_high_pos_lf\n",
      "Skip snpeff_nonsynonymous_variant baseline_0_100_ld_high_pos_common\n",
      "Skip snpeff_nonsynonymous_variant baseline_0_100_ld_high_pos_lf\n",
      "Skip snpeff_nonsynonymous_variant baseline_0_1000_ld_high_pos_lf\n",
      "Skip snpeff_synonymous_variant baseline_0_100_ld_high_pos_common\n",
      "Skip snpeff_synonymous_variant baseline_0_100_ld_high_pos_lf\n",
      "Skip snpeff_synonymous_variant baseline_0_1000_ld_high_pos_common\n",
      "Skip snpeff_synonymous_variant baseline_0_1000_ld_high_pos_lf\n",
      "Remove incomplete, AN_pAN_list 140\n"
     ]
    }
   ],
   "source": [
    "# List of AN,pAN pairs where all 22 chrs are complete\n",
    "# AN_list\n",
    "temp_df = ldspec.util.read_annot(\n",
    "    '/n/groups/price/martin/LDSPEC_data/UKBimp_337K_MAF001/baseline_annot/baseline_165annots_chr22.annot.gz'\n",
    ")\n",
    "AN_list = []\n",
    "for col in temp_df:\n",
    "    if col.startswith('AN:') is False:\n",
    "        continue\n",
    "    if 'flanking' in col:\n",
    "        continue\n",
    "    if 'mbin' in col:\n",
    "        continue\n",
    "    if 'all' in col:\n",
    "        continue\n",
    "    if set(temp_df[col]) != set([0,1]):\n",
    "        continue\n",
    "    if col.endswith('_common') is False:\n",
    "        continue\n",
    "\n",
    "    AN = col.replace('_common', '').replace('AN:', '')\n",
    "    AN_list.append(AN)\n",
    "print('AN_list %d' % len(AN_list))\n",
    "\n",
    "# (AN,pAN) pairs with all CHRs\n",
    "AN_pAN_list = []\n",
    "for AN,pAN in [(x,y) for x in AN_list for y in DIC_PANNOT]:\n",
    "    flag_keep = True\n",
    "    for CHR in range(1,23):\n",
    "#     for CHR in [22]:\n",
    "        fpath = DIC_PANNOT[pAN].replace('@a', AN).replace('@', '%d' % CHR)\n",
    "        if os.path.exists(fpath) is False:\n",
    "            print('Skip %s %s' % (AN, pAN))\n",
    "            flag_keep = False\n",
    "            break\n",
    "    if flag_keep:\n",
    "        AN_pAN_list.append((AN, pAN))\n",
    "print('Remove incomplete, AN_pAN_list %d' % len(AN_pAN_list))"
   ]
  },
  {
   "cell_type": "code",
   "execution_count": 4,
   "metadata": {},
   "outputs": [],
   "source": [
    "# # Computed n pair: C-C and L-L, for unstratified version \n",
    "# df_info = pd.DataFrame(index=AN_list, columns=[x for x in DIC_PANNOT if 'ld' not in x], data=0)\n",
    "# for AN,pAN in AN_pAN_list:\n",
    "#     if pAN not in df_info:\n",
    "#         continue\n",
    "#     for CHR in range(1,23):\n",
    "#         fpath = DIC_PANNOT[pAN].replace('@a', AN).replace('@', '%s' % CHR)\n",
    "#         if os.path.exists(fpath):\n",
    "#             mat_G = ldspec.util.read_pannot_mat(fpath)\n",
    "#             df_info.loc[AN, pAN] += mat_G.sum()"
   ]
  },
  {
   "cell_type": "code",
   "execution_count": 5,
   "metadata": {
    "scrolled": true
   },
   "outputs": [],
   "source": [
    "# # Write pannot list\n",
    "# for pAN_pf in ['baseline_0_100', 'baseline_0_1000']:\n",
    "#     AN_list_include = []\n",
    "#     for AN in sorted(AN_list):\n",
    "#         if df_info.loc[AN, ['%s_common'%pAN_pf, '%s_lf'%pAN_pf]].sum() > 1e6:  # \n",
    "#             AN_list_include.append(AN)\n",
    "#     print(pAN_pf, len(AN_list_include))\n",
    "#     print(','.join(AN_list_include))\n",
    "    \n",
    "#     # unstrat\n",
    "#     with open('./pannot_list/pannot_list_%s.txt' % pAN_pf, 'w') as f: # write file\n",
    "#         for AN in AN_list_include:\n",
    "#             for mbin in ['common', 'lf']:\n",
    "#                 fpath = '%s' % DIC_PANNOT['%s_%s' % (pAN_pf, mbin)].replace('@a', AN)\n",
    "#                 f.write('%s\\n' % fpath)\n",
    "#     # ld_pos & ld_neg\n",
    "#     with open('./pannot_list/pannot_list_%s_ld.txt' % pAN_pf, 'w') as f: # write file\n",
    "#         for AN in AN_list_include:\n",
    "#             for mbin in ['common', 'lf']:\n",
    "#                 fpath = '%s' % DIC_PANNOT['%s_ld_pos_%s' % (pAN_pf, mbin)].replace('@a', AN)\n",
    "#                 f.write('%s\\n' % fpath)\n",
    "#         for AN in AN_list_include:\n",
    "#             for mbin in ['common', 'lf']:\n",
    "#                 fpath = '%s' % DIC_PANNOT['%s_ld_neg_%s' % (pAN_pf, mbin)].replace('@a', AN)\n",
    "#                 f.write('%s\\n' % fpath)                \n",
    "#     print('')"
   ]
  },
  {
   "cell_type": "markdown",
   "metadata": {},
   "source": [
    "### Check correctness "
   ]
  },
  {
   "cell_type": "code",
   "execution_count": 10,
   "metadata": {},
   "outputs": [
    {
     "name": "stdout",
     "output_type": "stream",
     "text": [
      "baseline_0_1000\n",
      "mat_G=1228, mat_G_pos=528, mat_G_neg=700, mat_G_ref=1228\n",
      "mat_G - mat_G_ref n=0\n",
      "mat_G_ref - mat_G n=0\n",
      "mat_G - mat_G_pos+mat_G_neg n=0\n",
      "mat_G_pos+mat_G_neg - mat_G n=0\n",
      "\n"
     ]
    }
   ],
   "source": [
    "# # Compare with previous results \n",
    "# CHR = 22\n",
    "# # for pannot in ['exon', 'exonic_gene', 'cS2G_promoter', 'protein_domain', 'gene']:\n",
    "# for AN,pAN in [['Conserved_LindbladToh', 'baseline_0_1000']]:\n",
    "#     print(pAN)\n",
    "#     mat_G = ldspec.util.read_pannot_mat(DIC_PANNOT['%s_common'%pAN].replace(\"@a\", AN).replace(\"@\", \"%d\"%CHR))\n",
    "#     mat_G_pos = ldspec.util.read_pannot_mat(DIC_PANNOT['%s_ld_pos_common'%pAN].replace(\"@a\", AN).replace(\"@\", \"%d\"%CHR))\n",
    "#     mat_G_neg = ldspec.util.read_pannot_mat(DIC_PANNOT['%s_ld_neg_common'%pAN].replace(\"@a\", AN).replace(\"@\", \"%d\"%CHR))\n",
    "#     mat_G_ref = ldspec.util.read_pannot_mat(\n",
    "#         '/n/groups/price/martin/LDSPEC_data/UKBimp_337K_MAF001_chimp/pannot/baseline_0_1000'\n",
    "#         '/%s_0_1000_common_common.chr%d.pannot_mat.npz'%(AN,CHR)\n",
    "#     )\n",
    "#     temp_maf_G = mat_G_pos + mat_G_neg\n",
    "#     print('mat_G=%d, mat_G_pos=%d, mat_G_neg=%d, mat_G_ref=%d' % (\n",
    "#         mat_G.sum(), mat_G_pos.sum(), mat_G_neg.sum(), mat_G_ref.sum()\n",
    "#     ))\n",
    "#     print('mat_G - mat_G_ref n=%d' %(mat_G - mat_G.multiply(mat_G_ref)).sum())\n",
    "#     print('mat_G_ref - mat_G n=%d' %(mat_G_ref - mat_G.multiply(mat_G_ref)).sum())\n",
    "#     print('mat_G - mat_G_pos+mat_G_neg n=%d' %(mat_G - mat_G.multiply(temp_maf_G)).sum())\n",
    "#     print('mat_G_pos+mat_G_neg - mat_G n=%d' %(temp_maf_G - mat_G.multiply(temp_maf_G)).sum())\n",
    "#     print('')\n",
    "#     break"
   ]
  },
  {
   "cell_type": "code",
   "execution_count": 6,
   "metadata": {},
   "outputs": [],
   "source": [
    "# Check correctness\n",
    "CHR = 22\n",
    "\n",
    "# PGEN\n",
    "PGEN_FILE = '/n/scratch/users/j/jz286/imp_geno_chimp/ukb_imp_chr@_v3_chimp'\n",
    "df_snp_chr = ldspec.util.read_pgen(PGEN_FILE.replace(\"@\", \"%d\" % CHR))[\"pvar\"]\n",
    "df_snp_chr[\"MAF\"] = ldspec.util.read_pgen(PGEN_FILE.replace(\"@\", \"%d\" % CHR))[\"afreq\"][\"MAF\"]\n",
    "df_snp_chr[\"mbin\"] = [ldspec.util.get_mbin(x) for x in df_snp_chr[\"MAF\"]]\n",
    "df_snp_chr.index = df_snp_chr['SNP']\n",
    "\n",
    "df_annot = ldspec.util.read_annot(\n",
    "    '/n/groups/price/martin/LDSPEC_data/UKBimp_337K_MAF001/baseline_annot/baseline_165annots_chr%d.annot.gz' % CHR\n",
    ")\n",
    "\n",
    "# LD\n",
    "mat_ld, dic_range = ldspec.util.read_ld(\n",
    "    '/n/groups/price/UKBiobank/insample_ld/ld_files/ukb_imp_v3_chimp.c%d_s0_e10000_ld.npz' % CHR\n",
    ")"
   ]
  },
  {
   "cell_type": "code",
   "execution_count": 10,
   "metadata": {},
   "outputs": [
    {
     "data": {
      "text/plain": [
       "'/n/groups/price/martin/LDSPEC_data/UKBimp_337K_MAF001_chimp/pannot_fct/baseline_0_1000_ld_high_pos/@a.proxy_0_1000.ld_p50_p100.maf_lf_block.c@.pannot_mat.npz'"
      ]
     },
     "execution_count": 10,
     "metadata": {},
     "output_type": "execute_result"
    }
   ],
   "source": [
    "DIC_PANNOT[pAN]"
   ]
  },
  {
   "cell_type": "code",
   "execution_count": null,
   "metadata": {},
   "outputs": [],
   "source": []
  },
  {
   "cell_type": "code",
   "execution_count": 8,
   "metadata": {
    "scrolled": true
   },
   "outputs": [
    {
     "name": "stdout",
     "output_type": "stream",
     "text": [
      "SuperEnhancer_Hnisz baseline_0_100_ld_high_pos_common\n",
      "/n/groups/price/martin/LDSPEC_data/UKBimp_337K_MAF001_chimp/pannot_fct/baseline_0_100_ld_high_pos/@a.proxy_0_100.ld_p50_p100.maf_common_block.c@.pannot_mat.npz\n",
      "    mat_G (199680, 199680) csr\n",
      "    ------------------------------------------------------------------------------\n",
      "    MAF = 0.3761, 0.3761,    dist = -49,    LD=0.9668\n",
      "    SuperEnhancer_Hnisz:  1 1\n",
      "    ------------------------------------------------------------------------------\n",
      "    MAF = 0.2256, 0.3711,    dist = -70,    LD=0.6602\n",
      "    SuperEnhancer_Hnisz:  1 1\n",
      "    ------------------------------------------------------------------------------\n",
      "    MAF = 0.1961, 0.1961,    dist = -42,    LD=0.9977\n",
      "    SuperEnhancer_Hnisz:  1 1\n",
      "SuperEnhancer_Hnisz baseline_0_100_ld_high_pos_lf\n",
      "/n/groups/price/martin/LDSPEC_data/UKBimp_337K_MAF001_chimp/pannot_fct/baseline_0_100_ld_high_pos/@a.proxy_0_100.ld_p50_p100.maf_lf_block.c@.pannot_mat.npz\n",
      "    mat_G (199680, 199680) csr\n",
      "    ------------------------------------------------------------------------------\n",
      "    MAF = 0.0076, 0.0075,    dist = -88,    LD=0.9915\n",
      "    SuperEnhancer_Hnisz:  1 1\n",
      "    ------------------------------------------------------------------------------\n",
      "    MAF = 0.0301, 0.0302,    dist = -23,    LD=0.9558\n",
      "    SuperEnhancer_Hnisz:  1 1\n",
      "    ------------------------------------------------------------------------------\n",
      "    MAF = 0.0167, 0.0166,    dist = -61,    LD=0.9802\n",
      "    SuperEnhancer_Hnisz:  1 1\n",
      "SuperEnhancer_Hnisz baseline_0_1000_ld_high_pos_common\n",
      "/n/groups/price/martin/LDSPEC_data/UKBimp_337K_MAF001_chimp/pannot_fct/baseline_0_1000_ld_high_pos/@a.proxy_0_1000.ld_p50_p100.maf_common_block.c@.pannot_mat.npz\n",
      "    mat_G (199680, 199680) csr\n",
      "    ------------------------------------------------------------------------------\n",
      "    MAF = 0.2246, 0.1923,    dist = -715,    LD=0.8548\n",
      "    SuperEnhancer_Hnisz:  1 1\n",
      "    ------------------------------------------------------------------------------\n",
      "    MAF = 0.6244, 0.6244,    dist = -108,    LD=0.9731\n",
      "    SuperEnhancer_Hnisz:  1 1\n",
      "    ------------------------------------------------------------------------------\n",
      "    MAF = 0.3761, 0.3761,    dist = 373,    LD=0.9667\n",
      "    SuperEnhancer_Hnisz:  1 1\n",
      "SuperEnhancer_Hnisz baseline_0_1000_ld_high_pos_lf\n",
      "/n/groups/price/martin/LDSPEC_data/UKBimp_337K_MAF001_chimp/pannot_fct/baseline_0_1000_ld_high_pos/@a.proxy_0_1000.ld_p50_p100.maf_lf_block.c@.pannot_mat.npz\n",
      "    mat_G (199680, 199680) csr\n",
      "    ------------------------------------------------------------------------------\n",
      "    MAF = 0.0201, 0.0199,    dist = -115,    LD=0.9575\n",
      "    SuperEnhancer_Hnisz:  1 1\n",
      "    ------------------------------------------------------------------------------\n",
      "    MAF = 0.0073, 0.0050,    dist = -872,    LD=0.7198\n",
      "    SuperEnhancer_Hnisz:  1 1\n",
      "    ------------------------------------------------------------------------------\n",
      "    MAF = 0.0076, 0.0075,    dist = -88,    LD=0.9915\n",
      "    SuperEnhancer_Hnisz:  1 1\n"
     ]
    }
   ],
   "source": [
    "# for AN in AN_list[:1]:\n",
    "# for AN in ['SuperEnhancer_Hnisz_common', 'H3K27ac_Hnisz']:\n",
    "for AN in ['SuperEnhancer_Hnisz']:\n",
    "    temp_v = df_annot[[x for x in df_annot if AN in x]].sum(axis=1)\n",
    "    for pAN in DIC_PANNOT:\n",
    "        print(AN, pAN)\n",
    "        print(DIC_PANNOT[pAN])\n",
    "        fpath = DIC_PANNOT[pAN].replace('@a', AN).replace('@', '%d' % CHR)\n",
    "        mat_G = ldspec.util.read_pannot_mat(fpath)\n",
    "        print('    mat_G', mat_G.shape, mat_G.getformat())\n",
    "\n",
    "        n_print = 0\n",
    "        i=0\n",
    "        while i < 20000:      \n",
    "            if mat_G.indptr[i]==mat_G.indptr[i+1]:\n",
    "                i += 1\n",
    "                continue    \n",
    "\n",
    "            j = mat_G.indices[mat_G.indptr[i]:mat_G.indptr[i+1]][0] \n",
    "            \n",
    "            print('    ------------------------------------------------------------------------------')\n",
    "            print('    MAF = %0.4f, %0.4f,    dist = %d,    LD=%0.4f' % (\n",
    "                df_snp_chr['MAF'][i], df_snp_chr['MAF'][j], df_snp_chr['BP'][i] - df_snp_chr['BP'][j], \n",
    "                mat_ld[i,j] if i<10000 else np.nan\n",
    "            ))\n",
    "\n",
    "#             print('    MAF = %0.4f, %0.4f,    dist = %d' % (\n",
    "#                 df_snp_chr['MAF'][i], df_snp_chr['MAF'][j], df_snp_chr['BP'][i] - df_snp_chr['BP'][j], \n",
    "#             ))\n",
    "            print('    %s: ' % AN, temp_v[i], temp_v[j])\n",
    "            \n",
    "            i+=10\n",
    "            n_print+=1\n",
    "            \n",
    "            if n_print>2:\n",
    "                break"
   ]
  },
  {
   "cell_type": "code",
   "execution_count": null,
   "metadata": {},
   "outputs": [],
   "source": []
  }
 ],
 "metadata": {
  "kernelspec": {
   "display_name": "Python 3 (ipykernel)",
   "language": "python",
   "name": "python3"
  },
  "language_info": {
   "codemirror_mode": {
    "name": "ipython",
    "version": 3
   },
   "file_extension": ".py",
   "mimetype": "text/x-python",
   "name": "python",
   "nbconvert_exporter": "python",
   "pygments_lexer": "ipython3",
   "version": "3.12.8"
  }
 },
 "nbformat": 4,
 "nbformat_minor": 4
}
