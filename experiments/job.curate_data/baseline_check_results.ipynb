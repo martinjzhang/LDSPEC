{
 "cells": [
  {
   "cell_type": "code",
   "execution_count": 2,
   "metadata": {},
   "outputs": [],
   "source": [
    "import numpy as np\n",
    "import pandas as pd\n",
    "import gdreg"
   ]
  },
  {
   "cell_type": "markdown",
   "metadata": {},
   "source": [
    "### Check .bed.annot.gz"
   ]
  },
  {
   "cell_type": "code",
   "execution_count": 21,
   "metadata": {},
   "outputs": [],
   "source": [
    "FILE1 = \"/n/groups/price/martin/data_GDREG/UKBimp_337K_MAF001/baseline_annot/ukb_imp_chr21_v3.bed.annot.gz\"\n",
    "FILE2 = \"/n/groups/price/martin/data_GDREG/baseline_wes/bed_from_baselineLD_v2.2/bed_combined_WES_50K_imp_maf1en4/imp.chr21.minimac4.annot.gz\""
   ]
  },
  {
   "cell_type": "code",
   "execution_count": 24,
   "metadata": {
    "scrolled": true
   },
   "outputs": [
    {
     "name": "stdout",
     "output_type": "stream",
     "text": [
      "temp_df1 (200644, 66)\n",
      "temp_df2 (18696, 18)\n",
      "n_snp1=200542, n_snp2=18499, n_overlap=12397\n",
      "n_col1=66, n_col2=18, n_overlap=12\n",
      "AN:Backgrd_Selection_Stat\n",
      "    abs_dif=2.309e-14, annot_size=1579\n",
      "AN:BivFlnk\n",
      "    abs_dif=0, annot_size=375\n",
      "AN:BivFlnk.extend.500\n",
      "    abs_dif=0, annot_size=810\n",
      "AN:Conserved_LindbladToh\n",
      "    abs_dif=0, annot_size=1296\n",
      "AN:Conserved_LindbladToh.extend.500\n",
      "    abs_dif=0, annot_size=7174\n",
      "AN:Conserved_Mammal_phastCons46way\n",
      "    abs_dif=0, annot_size=786\n",
      "AN:Conserved_Mammal_phastCons46way.extend.500\n",
      "    abs_dif=0, annot_size=6053\n",
      "AN:Conserved_Primate_phastCons46way\n",
      "    abs_dif=0, annot_size=728\n",
      "AN:Conserved_Primate_phastCons46way.extend.500\n",
      "    abs_dif=0, annot_size=3628\n",
      "AN:Conserved_Vertebrate_phastCons46way\n",
      "    abs_dif=0, annot_size=870\n",
      "AN:Conserved_Vertebrate_phastCons46way.extend.500\n",
      "    abs_dif=0, annot_size=6613\n",
      "AN:alleleage\n",
      "    abs_dif=2.999e-11, annot_size=1.501e+08\n"
     ]
    }
   ],
   "source": [
    "temp_df1 = pd.read_csv(FILE1, sep='\\t')\n",
    "print('temp_df1', temp_df1.shape)\n",
    "temp_df1.drop_duplicates(subset=['BP'], inplace=True)\n",
    "temp_df1.index = temp_df1['BP']\n",
    "\n",
    "temp_df2 = pd.read_csv(FILE2, sep='\\t')\n",
    "print('temp_df2', temp_df2.shape)\n",
    "temp_df2.drop_duplicates(subset=['BP'], inplace=True)\n",
    "temp_df2.index = temp_df2['BP']\n",
    "temp_df2.columns = [\"AN:%s\"%x for x in temp_df2]\n",
    "\n",
    "overlap_set = sorted(set(temp_df1.index) & set(temp_df2.index)) \n",
    "col_list = sorted(set(temp_df1.columns) & set(temp_df2.columns)) \n",
    "print('n_snp1=%d, n_snp2=%d, n_overlap=%d' % (temp_df1.shape[0], temp_df2.shape[0], len(overlap_set)))\n",
    "print('n_col1=%d, n_col2=%d, n_overlap=%d' % (temp_df1.shape[1], temp_df2.shape[1], len(col_list)))\n",
    "\n",
    "temp_df1 = temp_df1.loc[overlap_set, col_list]\n",
    "temp_df2 = temp_df2.loc[overlap_set, col_list]\n",
    "\n",
    "for col in col_list:\n",
    "    if col.startswith(\"AN:\"):\n",
    "        print(col)\n",
    "        print(\"    abs_dif=%0.4g, annot_size=%0.4g\" % (\n",
    "            np.absolute(temp_df1[col] - temp_df2[col]).sum(), \n",
    "            np.absolute(temp_df2[col]).sum()\n",
    "        ))"
   ]
  },
  {
   "cell_type": "markdown",
   "metadata": {},
   "source": [
    "### Create .bim from .pvar files"
   ]
  },
  {
   "cell_type": "code",
   "execution_count": 7,
   "metadata": {},
   "outputs": [],
   "source": [
    "PGEN_FILE = \"/n/scratch3/users/j/jz286/imp_geno/ukb_imp_chr@_v3\"\n",
    "for CHR in range(1,23):\n",
    "    temp_df = gdreg.util.read_pgen(PGEN_FILE.replace(\"@\", \"%d\"%CHR))[\"pvar\"]\n",
    "    df_bim = pd.DataFrame(data={\n",
    "        \"CHR\" : temp_df[\"CHR\"],\n",
    "        \"SNP\" : temp_df[\"SNP\"],\n",
    "        \"CM\" : 0,\n",
    "        \"BP\" : temp_df[\"BP\"],\n",
    "        \"A1\" : temp_df[\"REF\"],\n",
    "        \"A2\" : temp_df[\"ALT\"],\n",
    "    })\n",
    "    df_bim.to_csv(\n",
    "        \"/n/groups/price/martin/data_GDREG/UKBimp_337K_MAF001/baseline_annot/bim/ukb_imp_chr%d_v3.bim\" % CHR,\n",
    "        sep=\" \", header=False, index=False\n",
    "    )"
   ]
  }
 ],
 "metadata": {
  "kernelspec": {
   "display_name": "Python 3",
   "language": "python",
   "name": "python3"
  },
  "language_info": {
   "codemirror_mode": {
    "name": "ipython",
    "version": 3
   },
   "file_extension": ".py",
   "mimetype": "text/x-python",
   "name": "python",
   "nbconvert_exporter": "python",
   "pygments_lexer": "ipython3",
   "version": "3.7.4"
  }
 },
 "nbformat": 4,
 "nbformat_minor": 2
}
