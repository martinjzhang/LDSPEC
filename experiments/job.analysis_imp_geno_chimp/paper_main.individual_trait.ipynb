{
 "cells": [
  {
   "cell_type": "code",
   "execution_count": 1,
   "metadata": {},
   "outputs": [],
   "source": [
    "import pandas as pd\n",
    "import numpy as np\n",
    "import scipy as sp\n",
    "import time\n",
    "import os\n",
    "import ldspec\n",
    "import matplotlib.pyplot as plt\n",
    "import seaborn as sns\n",
    "import pickle\n",
    "from statsmodels.stats.multitest import multipletests\n",
    "from matplotlib import gridspec\n",
    "import seaborn as sns\n",
    "import statsmodels.formula.api as smf\n",
    "\n",
    "# autoreload\n",
    "%load_ext autoreload\n",
    "%autoreload 2"
   ]
  },
  {
   "cell_type": "code",
   "execution_count": 2,
   "metadata": {},
   "outputs": [
    {
     "name": "stdout",
     "output_type": "stream",
     "text": [
      "n_trait=70\n",
      "n_trait_indpt=29\n",
      "n_annot=45\n",
      "n_pannot=34\n"
     ]
    }
   ],
   "source": [
    "DATA_PATH = '/n/groups/price/martin/LDSPEC_data/UKBimp_337K_MAF001_chimp'\n",
    "FIG_PATH = '/n/groups/price/martin/LDSPEC_data/results/fig_res'\n",
    "TAB_PATH = '/n/groups/price/martin/LDSPEC_data/results/tables'\n",
    "\n",
    "# DF_TRAIT, DF_ANNOT, DF_PANNOT\n",
    "DF_TRAIT = pd.read_csv('/n/groups/price/martin/LDSPEC_data/results/tables/trait_info.tsv', sep='\\t')\n",
    "DF_TRAIT.index = DF_TRAIT['Trait_Identifier']\n",
    "TRAIT_LIST = list(DF_TRAIT.index)\n",
    "TRAIT_LIST_INDPT = list(DF_TRAIT.index[DF_TRAIT['Indpt']])\n",
    "print(\"n_trait=%d\" % len(TRAIT_LIST))\n",
    "print(\"n_trait_indpt=%d\" % len(TRAIT_LIST_INDPT))\n",
    "\n",
    "DF_ANNOT = pd.read_csv('/n/groups/price/martin/LDSPEC_data/results/tables/annot_info.tsv', sep='\\t')\n",
    "DF_ANNOT.index = DF_ANNOT['Identifier']\n",
    "print(\"n_annot=%d\" % DF_ANNOT.shape[0])\n",
    "\n",
    "DF_PANNOT = pd.read_csv('/n/groups/price/martin/LDSPEC_data/results/tables/pannot_info.tsv', sep='\\t')\n",
    "DF_PANNOT.index = DF_PANNOT['Identifier']\n",
    "print(\"n_pannot=%d\" % DF_PANNOT.shape[0])\n",
    "\n",
    "# Others\n",
    "temp_df = pd.read_csv('../names.tsv', sep='\\t', header=None)\n",
    "DIC_NAME = {x:y for x,y in zip(temp_df[0], temp_df[1])}\n",
    "DIC_COLOR = {'common_common' : '#78ADD2', 'common' : '#78ADD2', 'common_lf' : '#80C680',\n",
    "             'lf_lf' : '#FFB26E', 'lf' : '#FFB26E'}\n",
    "MARKER_LIST=['o', 'v', '^', '8', 's', 'p', '*', 'h', 'H', 'D', 'd', '<', '>']"
   ]
  },
  {
   "cell_type": "markdown",
   "metadata": {},
   "source": [
    "### Load results and meta-analysis"
   ]
  },
  {
   "cell_type": "code",
   "execution_count": 3,
   "metadata": {},
   "outputs": [],
   "source": [
    "# Load results \n",
    "DIC_RES_PATH = {\n",
    "    'md_prox_gene_fct_all_ld' : DATA_PATH + '/ldspec_res_092223.prox_gene_fct_all_ld/@t',\n",
    "}\n",
    "\n",
    "# Load .pickle files: dic_res[md][trait] = .pickle\n",
    "dic_res = {}\n",
    "missing_list = []\n",
    "for md in DIC_RES_PATH:\n",
    "    dic_res[md] = {}   \n",
    "    temp_list = TRAIT_LIST if md=='md_prox_gene_fct_all_ld' else TRAIT_LIST_INDPT\n",
    "    for i,trait in enumerate(temp_list):\n",
    "        if os.path.exists(DIC_RES_PATH[md].replace(\"@t\", trait) + \".pickle\"):\n",
    "            with open(DIC_RES_PATH[md].replace(\"@t\", trait) + \".pickle\", \"br\") as f:\n",
    "                dic_res[md][trait] = pickle.load(f)\n",
    "            # Check avgr\n",
    "            with open(DIC_RES_PATH[md].replace(\"@t\", trait) + \".sbatch.log\", \"r\") as f:\n",
    "                for line in f:\n",
    "                    if 'Detected AVGR for' in line:\n",
    "                        line = line.strip()\n",
    "                        n1,n2 = line.split(' ')[3].split('/')\n",
    "                        if n1!=n2: \n",
    "                            print(\"Missing AVGR: %-20s %-35s %s %s\" % (md, trait, i+1, line))\n",
    "        else:\n",
    "            print(\"Missing %-10s %-30s %s\" % (md, trait, i+1))\n",
    "            if trait not in missing_list: \n",
    "                missing_list.append(trait)"
   ]
  },
  {
   "cell_type": "code",
   "execution_count": 4,
   "metadata": {
    "scrolled": true
   },
   "outputs": [],
   "source": [
    "# Load LD-SPEC meta-analysis results \n",
    "df_tau = pd.read_csv(TAB_PATH + '/ldspec.md_prox_gene_fct_all_ld.tau.tsv', sep='\\t')\n",
    "df_tau.index = ['%s.%s' % (x,y) for x,y in zip(df_tau['trait'], df_tau['annot'])]\n",
    "df_omega = pd.read_csv(TAB_PATH + '/ldspec.md_prox_gene_fct_all_ld.omega.tsv', sep='\\t')\n",
    "df_omega.index = ['%s.%s' % (x,y) for x,y in zip(df_omega['trait'], df_omega['pannot'])]\n",
    "df_tau_meta = pd.read_csv(TAB_PATH + '/ldspec_meta.md_prox_gene_fct_all_ld.tau.tsv', sep='\\t', index_col=0)\n",
    "df_omega_meta = pd.read_csv(TAB_PATH + '/ldspec_meta.md_prox_gene_fct_all_ld.omega.tsv', sep='\\t', index_col=0)"
   ]
  },
  {
   "cell_type": "markdown",
   "metadata": {},
   "source": [
    "### Individual trait results "
   ]
  },
  {
   "cell_type": "code",
   "execution_count": 5,
   "metadata": {},
   "outputs": [
    {
     "name": "stdout",
     "output_type": "stream",
     "text": [
      "n_trait=70, n_pAN=136\n",
      "n_sig_fwer=12\n",
      "n_sig_trait_fwer=10\n",
      "n_sig_annot_fwer=9\n",
      "Gamma Glutamyl Transferase     Transcribed-1k (low-freq pos-LD)\n",
      "        cor=-1.162 se=0.254 p=3.609e-04 fwer=4.908e-02\n",
      "SHBG                           Transcribed-1k (low-freq pos-LD)\n",
      "        cor=-0.835 se=0.245 p=1.962e-04 fwer=2.669e-02\n",
      "Monocyte Count                 H3K4me3-1k (common pos-LD)\n",
      "        cor=-0.186 se=0.051 p=1.324e-04 fwer=1.800e-02\n",
      "Height                         Transcribed-1k (low-freq pos-LD)\n",
      "        cor=-0.524 se=0.116 p=3.049e-04 fwer=4.146e-02\n",
      "Hypertension                   Proximal 1-10kb (common pos-LD)\n",
      "        cor=0.079 se=0.022 p=1.242e-04 fwer=1.689e-02\n",
      "Type 2 Diabetes                DHS-1k (low-freq pos-LD)\n",
      "        cor=-2.335 se=0.572 p=1.508e-04 fwer=2.051e-02\n",
      "\n",
      "Gamma Glutamyl Transferase     Transcribed-1k (low-freq neg-LD)\n",
      "        cor=-0.905 se=0.313 p=1.044e-04 fwer=1.420e-02\n",
      "Mean Sphered Cell Volume       H3K9ac-1k (common neg-LD)\n",
      "        cor=0.226 se=0.058 p=1.041e-04 fwer=1.416e-02\n",
      "Cardiovascular Diseases        Proximal 1-10kb (common neg-LD)\n",
      "        cor=0.088 se=0.022 p=2.319e-04 fwer=3.154e-02\n",
      "Hypertension                   Proximal 1-10kb (common neg-LD)\n",
      "        cor=0.090 se=0.022 p=4.211e-05 fwer=5.727e-03\n",
      "Forced Vital Capacity (FVC)    H3K4me1-1k (common neg-LD)\n",
      "        cor=0.214 se=0.054 p=7.095e-05 fwer=9.650e-03\n",
      "Neuroticism                    Proximal 1-10kb (low-freq neg-LD)\n",
      "        cor=-0.241 se=0.048 p=1.585e-04 fwer=2.156e-02\n"
     ]
    }
   ],
   "source": [
    "df_stats = pd.DataFrame(index=TRAIT_LIST, dtype=float)\n",
    "pAN_list = list(set(df_omega['pannot']))\n",
    "print('n_trait=%d, n_pAN=%d' % (df_stats.shape[0], len(pAN_list)))\n",
    "\n",
    "for pAN in pAN_list:\n",
    "    df_stats[pAN] = [df_omega.loc['%s.%s'%(x,pAN), 'cor'] for x in df_stats.index]\n",
    "    df_stats['%s_se'%pAN] = [df_omega.loc['%s.%s'%(x,pAN), 'cor_se'] for x in df_stats.index]\n",
    "    df_stats['%s_p'%pAN] = [df_omega.loc['%s.%s'%(x,pAN), 'cor_p'] for x in df_stats.index]\n",
    "    df_stats['%s_fwer'%pAN] = df_stats['%s_p'%pAN] * len(pAN_list)\n",
    "    df_stats['%s_sig_str'%pAN] = ['*' if x<0.05 else '' for x in df_stats['%s_fwer'%pAN]]\n",
    "    \n",
    "print('n_sig_fwer=%d' % (df_stats[['%s_sig_str'%x for x in pAN_list]]=='*').sum().sum())\n",
    "print('n_sig_trait_fwer=%d' % ((df_stats[['%s_sig_str'%x for x in pAN_list]]=='*').sum(axis=1)>0).sum())\n",
    "print('n_sig_annot_fwer=%d' % ((df_stats[['%s_sig_str'%x for x in pAN_list]]=='*').sum(axis=0)>0).sum())\n",
    "\n",
    "for trait in TRAIT_LIST:\n",
    "    for pAN in [x for x in pAN_list if 'ld_p0_p100' in x]:\n",
    "        if df_stats.loc[trait, '%s_fwer'%pAN] < 0.05:\n",
    "            print('%-30s %-20s\\n        cor=%.3f se=%.3f p=%.3e fwer=%.3e' % (\n",
    "                DF_TRAIT.loc[trait, 'Trait Name'], DIC_NAME[pAN],\n",
    "                df_stats.loc[trait, pAN], \n",
    "                df_stats.loc[trait, '%s_se'%pAN],\n",
    "                df_stats.loc[trait, '%s_p'%pAN],\n",
    "                df_stats.loc[trait, '%s_fwer'%pAN],\n",
    "            ))\n",
    "print('')\n",
    "for trait in TRAIT_LIST:\n",
    "    for pAN in [x for x in pAN_list if 'ld_n100_p0' in x]:\n",
    "        if df_stats.loc[trait, '%s_fwer'%pAN] < 0.05:\n",
    "            print('%-30s %-20s\\n        cor=%.3f se=%.3f p=%.3e fwer=%.3e' % (\n",
    "                DF_TRAIT.loc[trait, 'Trait Name'], DIC_NAME[pAN],\n",
    "                df_stats.loc[trait, pAN], \n",
    "                df_stats.loc[trait, '%s_se'%pAN],\n",
    "                df_stats.loc[trait, '%s_p'%pAN],\n",
    "                df_stats.loc[trait, '%s_fwer'%pAN],\n",
    "            ))"
   ]
  },
  {
   "cell_type": "markdown",
   "metadata": {},
   "source": [
    "### Heterogeneity across traits"
   ]
  },
  {
   "cell_type": "code",
   "execution_count": 6,
   "metadata": {},
   "outputs": [
    {
     "name": "stdout",
     "output_type": "stream",
     "text": [
      "var_between -0.008680666675744578\n"
     ]
    },
    {
     "data": {
      "image/png": "[encoded data removed]",
      "text/plain": [
       "<Figure size 432x288 with 1 Axes>"
      ]
     },
     "metadata": {
      "needs_background": "light"
     },
     "output_type": "display_data"
    }
   ],
   "source": [
    "### chi-square heterogeneity test\n",
    "def hetero_test(effects, se):\n",
    "    effects = np.array(effects, dtype=np.float32)\n",
    "    se = np.array(se, dtype=np.float32)\n",
    "    wt = 1.0 / (se**2)\n",
    "    effects_mean = wt.dot(effects) / wt.sum()\n",
    "    chi_square = ((effects - effects_mean)**2 / (se**2)).sum()\n",
    "    df = len(effects) - 1\n",
    "    p_val = 1 - sp.stats.chi2.cdf(chi_square, df)\n",
    "    # other stats \n",
    "    var_within = (se**2).mean()\n",
    "    n_group = len(effects)\n",
    "    var_between = ((effects - np.mean(effects))**2).sum() / n_group\n",
    "    var_between = var_between - (se**2).sum() * (n_group-1) / n_group**2\n",
    "    var_ratio = var_between / var_within\n",
    "    return chi_square,p_val,var_within,var_between,var_ratio\n",
    "    \n",
    "v_mean = np.array([1, 1, 1, 1])\n",
    "v_se = np.array([1, 2, 1, 1])\n",
    "n_sample = v_mean.shape[0]\n",
    "\n",
    "p_list = []\n",
    "var_within_list = []\n",
    "var_between_list = []\n",
    "for i in range(10000):\n",
    "    np.random.seed(i)\n",
    "    v_x = np.random.randn(n_sample) * v_se + v_mean\n",
    "    chi_square,p_val,var_within,var_between,var_ratio = hetero_test(v_x, v_se)\n",
    "    p_list.append(p_val)\n",
    "    var_within_list.append(var_within)\n",
    "    var_between_list.append(var_between)\n",
    "\n",
    "print('var_between', np.mean(var_between_list))\n",
    "plt.figure()\n",
    "plt.hist(p_list, density=True, bins=20)\n",
    "plt.show()"
   ]
  },
  {
   "cell_type": "code",
   "execution_count": 7,
   "metadata": {},
   "outputs": [
    {
     "data": {
      "text/html": [
       "<div>\n",
       "<style scoped>\n",
       "    .dataframe tbody tr th:only-of-type {\n",
       "        vertical-align: middle;\n",
       "    }\n",
       "\n",
       "    .dataframe tbody tr th {\n",
       "        vertical-align: top;\n",
       "    }\n",
       "\n",
       "    .dataframe thead th {\n",
       "        text-align: right;\n",
       "    }\n",
       "</style>\n",
       "<table border=\"1\" class=\"dataframe\">\n",
       "  <thead>\n",
       "    <tr style=\"text-align: right;\">\n",
       "      <th></th>\n",
       "      <th>chi_square</th>\n",
       "      <th>p</th>\n",
       "      <th>var_within</th>\n",
       "      <th>var_between</th>\n",
       "      <th>var_ratio</th>\n",
       "      <th>fwer</th>\n",
       "      <th>fdr</th>\n",
       "    </tr>\n",
       "  </thead>\n",
       "  <tbody>\n",
       "    <tr>\n",
       "      <th>pAN:Repressed_Hoffman_proxy_0_1000_ld_p0_p100_maf_lf_block</th>\n",
       "      <td>60.54578</td>\n",
       "      <td>0.000347</td>\n",
       "      <td>0.399824</td>\n",
       "      <td>0.333966</td>\n",
       "      <td>0.835283</td>\n",
       "      <td>0.047154</td>\n",
       "      <td>0.047154</td>\n",
       "    </tr>\n",
       "  </tbody>\n",
       "</table>\n",
       "</div>"
      ],
      "text/plain": [
       "                                                    chi_square         p  \\\n",
       "pAN:Repressed_Hoffman_proxy_0_1000_ld_p0_p100_m...    60.54578  0.000347   \n",
       "\n",
       "                                                    var_within  var_between  \\\n",
       "pAN:Repressed_Hoffman_proxy_0_1000_ld_p0_p100_m...    0.399824     0.333966   \n",
       "\n",
       "                                                    var_ratio      fwer  \\\n",
       "pAN:Repressed_Hoffman_proxy_0_1000_ld_p0_p100_m...   0.835283  0.047154   \n",
       "\n",
       "                                                         fdr  \n",
       "pAN:Repressed_Hoffman_proxy_0_1000_ld_p0_p100_m...  0.047154  "
      ]
     },
     "metadata": {},
     "output_type": "display_data"
    },
    {
     "data": {
      "text/html": [
       "<div>\n",
       "<style scoped>\n",
       "    .dataframe tbody tr th:only-of-type {\n",
       "        vertical-align: middle;\n",
       "    }\n",
       "\n",
       "    .dataframe tbody tr th {\n",
       "        vertical-align: top;\n",
       "    }\n",
       "\n",
       "    .dataframe thead th {\n",
       "        text-align: right;\n",
       "    }\n",
       "</style>\n",
       "<table border=\"1\" class=\"dataframe\">\n",
       "  <thead>\n",
       "    <tr style=\"text-align: right;\">\n",
       "      <th></th>\n",
       "      <th>chi_square</th>\n",
       "      <th>p</th>\n",
       "      <th>var_within</th>\n",
       "      <th>var_between</th>\n",
       "      <th>var_ratio</th>\n",
       "      <th>fwer</th>\n",
       "      <th>fdr</th>\n",
       "    </tr>\n",
       "  </thead>\n",
       "  <tbody>\n",
       "    <tr>\n",
       "      <th>pAN:proxy_1000_10000_ld_n100_p0_maf_lf_block</th>\n",
       "      <td>50.651119</td>\n",
       "      <td>0.005466</td>\n",
       "      <td>0.003362</td>\n",
       "      <td>0.002964</td>\n",
       "      <td>0.881420</td>\n",
       "      <td>0.743401</td>\n",
       "      <td>0.247800</td>\n",
       "    </tr>\n",
       "    <tr>\n",
       "      <th>pAN:Repressed_Hoffman_proxy_0_100_ld_p0_p100_maf_common_block</th>\n",
       "      <td>49.441418</td>\n",
       "      <td>0.007460</td>\n",
       "      <td>0.514866</td>\n",
       "      <td>0.248842</td>\n",
       "      <td>0.483315</td>\n",
       "      <td>1.014626</td>\n",
       "      <td>0.253656</td>\n",
       "    </tr>\n",
       "    <tr>\n",
       "      <th>pAN:Repressed_Hoffman_proxy_0_1000_ld_p0_p100_maf_lf_block</th>\n",
       "      <td>60.545780</td>\n",
       "      <td>0.000347</td>\n",
       "      <td>0.399824</td>\n",
       "      <td>0.333966</td>\n",
       "      <td>0.835283</td>\n",
       "      <td>0.047154</td>\n",
       "      <td>0.047154</td>\n",
       "    </tr>\n",
       "    <tr>\n",
       "      <th>pAN:Repressed_Hoffman_proxy_0_1000_ld_n100_p0_maf_lf_block</th>\n",
       "      <td>52.560020</td>\n",
       "      <td>0.003304</td>\n",
       "      <td>0.424006</td>\n",
       "      <td>0.599191</td>\n",
       "      <td>1.413165</td>\n",
       "      <td>0.449368</td>\n",
       "      <td>0.224684</td>\n",
       "    </tr>\n",
       "  </tbody>\n",
       "</table>\n",
       "</div>"
      ],
      "text/plain": [
       "                                                    chi_square         p  \\\n",
       "pAN:proxy_1000_10000_ld_n100_p0_maf_lf_block         50.651119  0.005466   \n",
       "pAN:Repressed_Hoffman_proxy_0_100_ld_p0_p100_ma...   49.441418  0.007460   \n",
       "pAN:Repressed_Hoffman_proxy_0_1000_ld_p0_p100_m...   60.545780  0.000347   \n",
       "pAN:Repressed_Hoffman_proxy_0_1000_ld_n100_p0_m...   52.560020  0.003304   \n",
       "\n",
       "                                                    var_within  var_between  \\\n",
       "pAN:proxy_1000_10000_ld_n100_p0_maf_lf_block          0.003362     0.002964   \n",
       "pAN:Repressed_Hoffman_proxy_0_100_ld_p0_p100_ma...    0.514866     0.248842   \n",
       "pAN:Repressed_Hoffman_proxy_0_1000_ld_p0_p100_m...    0.399824     0.333966   \n",
       "pAN:Repressed_Hoffman_proxy_0_1000_ld_n100_p0_m...    0.424006     0.599191   \n",
       "\n",
       "                                                    var_ratio      fwer  \\\n",
       "pAN:proxy_1000_10000_ld_n100_p0_maf_lf_block         0.881420  0.743401   \n",
       "pAN:Repressed_Hoffman_proxy_0_100_ld_p0_p100_ma...   0.483315  1.014626   \n",
       "pAN:Repressed_Hoffman_proxy_0_1000_ld_p0_p100_m...   0.835283  0.047154   \n",
       "pAN:Repressed_Hoffman_proxy_0_1000_ld_n100_p0_m...   1.413165  0.449368   \n",
       "\n",
       "                                                         fdr  \n",
       "pAN:proxy_1000_10000_ld_n100_p0_maf_lf_block        0.247800  \n",
       "pAN:Repressed_Hoffman_proxy_0_100_ld_p0_p100_ma...  0.253656  \n",
       "pAN:Repressed_Hoffman_proxy_0_1000_ld_p0_p100_m...  0.047154  \n",
       "pAN:Repressed_Hoffman_proxy_0_1000_ld_n100_p0_m...  0.224684  "
      ]
     },
     "metadata": {},
     "output_type": "display_data"
    },
    {
     "name": "stdout",
     "output_type": "stream",
     "text": [
      "median variance ratio = 0.041\n",
      "Prox: median variance ratio = 0.173\n"
     ]
    }
   ],
   "source": [
    "# heterogeneity test across traits\n",
    "res,term = 'omega','cor'\n",
    "md = 'md_prox_gene_fct_all_ld'\n",
    "df_plot = pd.DataFrame(\n",
    "    index = dic_res[md][TRAIT_LIST_INDPT[0]]['summary'][res].index, \n",
    "    columns = ['chi_square', 'p', 'var_within', 'var_between', 'var_ratio', 'fwer', 'fdr'], dtype=float,\n",
    ")\n",
    "\n",
    "for row in df_plot.index:\n",
    "    v_mean = [dic_res[md][x]['summary']['omega'].loc[row, term] for x in TRAIT_LIST_INDPT]\n",
    "    v_se = [dic_res[md][x]['summary']['omega'].loc[row, '%s_se' % term] for x in TRAIT_LIST_INDPT]\n",
    "    chi_square,p_val,var_within,var_between,var_ratio = hetero_test(v_mean, v_se)\n",
    "    df_plot.loc[row, ['chi_square', 'p', 'var_within', 'var_between', 'var_ratio']] = \\\n",
    "        chi_square,p_val,var_within,var_between,var_ratio\n",
    "df_plot['fwer'] = df_plot['p'] * df_plot.shape[0]\n",
    "df_plot['fdr'] = multipletests(df_plot['p'], method='fdr_bh')[1]\n",
    "df_plot.to_csv(TAB_PATH+'/hetero.tsv', sep='\\t')\n",
    "display(df_plot.loc[df_plot['fwer']<0.05])\n",
    "display(df_plot.loc[df_plot['fdr']<0.3])\n",
    "print('median variance ratio = %0.3f' % df_plot['var_ratio'].median())\n",
    "temp_list = [x for x in df_plot.index if x.startswith('pAN:proxy_')]\n",
    "print('Prox: median variance ratio = %0.3f' % df_plot.loc[temp_list, 'var_ratio'].median())"
   ]
  },
  {
   "cell_type": "code",
   "execution_count": null,
   "metadata": {},
   "outputs": [],
   "source": []
  },
  {
   "cell_type": "code",
   "execution_count": null,
   "metadata": {},
   "outputs": [],
   "source": []
  },
  {
   "cell_type": "code",
   "execution_count": null,
   "metadata": {},
   "outputs": [],
   "source": []
  }
 ],
 "metadata": {
  "kernelspec": {
   "display_name": "Python 3",
   "language": "python",
   "name": "python3"
  },
  "language_info": {
   "codemirror_mode": {
    "name": "ipython",
    "version": 3
   },
   "file_extension": ".py",
   "mimetype": "text/x-python",
   "name": "python",
   "nbconvert_exporter": "python",
   "pygments_lexer": "ipython3",
   "version": "3.7.4"
  }
 },
 "nbformat": 4,
 "nbformat_minor": 2
}
