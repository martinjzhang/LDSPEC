{
 "cells": [
  {
   "cell_type": "code",
   "execution_count": 3,
   "metadata": {},
   "outputs": [
    {
     "name": "stdout",
     "output_type": "stream",
     "text": [
      "The autoreload extension is already loaded. To reload it, use:\n",
      "  %reload_ext autoreload\n"
     ]
    }
   ],
   "source": [
    "import pandas as pd\n",
    "import numpy as np\n",
    "import scipy as sp\n",
    "import time\n",
    "import os\n",
    "import ldspec\n",
    "import matplotlib.pyplot as plt\n",
    "import seaborn as sns\n",
    "import pickle\n",
    "from statsmodels.stats.multitest import multipletests\n",
    "from matplotlib import gridspec\n",
    "import seaborn as sns\n",
    "import statsmodels.formula.api as smf\n",
    "from adjustText import adjust_text\n",
    "\n",
    "# autoreload\n",
    "%load_ext autoreload\n",
    "%autoreload 2"
   ]
  },
  {
   "cell_type": "code",
   "execution_count": 8,
   "metadata": {},
   "outputs": [
    {
     "name": "stdout",
     "output_type": "stream",
     "text": [
      "n_trait=70\n",
      "n_trait_indpt=29\n",
      "n_trait_indpt_am=4\n",
      "n_trait_indpt_nam=25\n",
      "n_annot=45\n",
      "n_pannot=34\n"
     ]
    }
   ],
   "source": [
    "DATA_PATH = '/n/groups/price/martin/LDSPEC_data/UKBimp_337K_MAF001_chimp'\n",
    "FIG_PATH = '/n/groups/price/martin/LDSPEC_data/results/fig_res.rv1'\n",
    "TAB_PATH = '/n/groups/price/martin/LDSPEC_data/results/tables.rv1'\n",
    "\n",
    "# DF_TRAIT, DF_ANNOT, DF_PANNOT\n",
    "DF_TRAIT = pd.read_csv('/n/groups/price/martin/LDSPEC_data/results/tables/trait_info.rv1.tsv', sep='\\t')\n",
    "DF_TRAIT.index = DF_TRAIT['Trait_Identifier']\n",
    "TRAIT_LIST = list(DF_TRAIT.index)\n",
    "TRAIT_LIST_INDPT = list(DF_TRAIT.index[DF_TRAIT['Indpt']])\n",
    "TRAIT_LIST_INDPT_AM = list(DF_TRAIT.index[DF_TRAIT['AM']])\n",
    "TRAIT_LIST_INDPT_NAM = [x for x in TRAIT_LIST_INDPT if x not in TRAIT_LIST_INDPT_AM]\n",
    "print(\"n_trait=%d\" % DF_TRAIT.shape[0])\n",
    "print(\"n_trait_indpt=%d\" % len(TRAIT_LIST_INDPT))\n",
    "print(\"n_trait_indpt_am=%d\" % len(TRAIT_LIST_INDPT_AM))\n",
    "print(\"n_trait_indpt_nam=%d\" % len(TRAIT_LIST_INDPT_NAM))\n",
    "\n",
    "DF_ANNOT = pd.read_csv('/n/groups/price/martin/LDSPEC_data/results/tables/annot_info.tsv', sep='\\t')\n",
    "DF_ANNOT.index = DF_ANNOT['Identifier']\n",
    "print(\"n_annot=%d\" % DF_ANNOT.shape[0])\n",
    "\n",
    "DF_PANNOT = pd.read_csv('/n/groups/price/martin/LDSPEC_data/results/tables/pannot_info.tsv', sep='\\t')\n",
    "DF_PANNOT.index = DF_PANNOT['Identifier']\n",
    "print(\"n_pannot=%d\" % DF_PANNOT.shape[0])\n",
    "\n",
    "# Others\n",
    "temp_df = pd.read_csv('../names.txt', sep='\\t', header=None)\n",
    "DIC_NAME = {x:y for x,y in zip(temp_df[0], temp_df[1])}\n",
    "DIC_COLOR = {\n",
    "    'common' : '#78ADD2', \n",
    "    'lf' : '#FFB26E',\n",
    "    ('p0_p100', 'common') : 'C0',\n",
    "    ('p0_p100', 'lf') : 'C1',\n",
    "    ('n100_p0', 'common') : 'C2',\n",
    "    ('n100_p0', 'lf') : 'C3',\n",
    "}\n",
    "\n",
    "MARKER_LIST=['o', 'v', '^', '8', 's', 'p', '*', 'h', 'H', 'D', 'd', '<', '>']"
   ]
  },
  {
   "cell_type": "markdown",
   "metadata": {},
   "source": [
    "### Load results and meta-analysis"
   ]
  },
  {
   "cell_type": "code",
   "execution_count": 6,
   "metadata": {
    "scrolled": true
   },
   "outputs": [
    {
     "name": "stdout",
     "output_type": "stream",
     "text": [
      "Check matching of AN_list and pAN_list\n",
      "    md_bsl\n",
      "    md_prox_gene_fct_all_ld\n",
      "n_missing_trait=0\n",
      "AN_list=165\n",
      "pAN_list=136\n",
      "29/29 traits with h2z>5\n"
     ]
    }
   ],
   "source": [
    "# Load results \n",
    "DIC_RES_PATH = {\n",
    "    'md_bsl' : DATA_PATH + '/ldspec_res_092223.bsl/@t',\n",
    "    'md_prox_gene_fct_all_ld' : DATA_PATH + '/ldspec_res_092223.prox_gene_fct_all_ld/@t',\n",
    "}\n",
    "md0 = 'md_bsl'\n",
    "\n",
    "# Load .pickle files: dic_res[md][trait] = .pickle\n",
    "dic_res = {}\n",
    "missing_list = []\n",
    "for md in DIC_RES_PATH:\n",
    "    dic_res[md] = {}   \n",
    "    temp_list = TRAIT_LIST if md=='md_prox_gene_fct_all_ld' else TRAIT_LIST_INDPT\n",
    "    for i,trait in enumerate(temp_list):\n",
    "        if os.path.exists(DIC_RES_PATH[md].replace(\"@t\", trait) + \".pickle\"):\n",
    "            with open(DIC_RES_PATH[md].replace(\"@t\", trait) + \".pickle\", \"br\") as f:\n",
    "                dic_res[md][trait] = pickle.load(f)\n",
    "            # Check avgr\n",
    "            with open(DIC_RES_PATH[md].replace(\"@t\", trait) + \".sbatch.log\", \"r\") as f:\n",
    "                for line in f:\n",
    "                    if 'Detected AVGR for' in line:\n",
    "                        line = line.strip()\n",
    "                        n1,n2 = line.split(' ')[3].split('/')\n",
    "                        if n1!=n2: \n",
    "                            print(\"Missing AVGR: %-20s %-35s %s %s\" % (md, trait, i+1, line))\n",
    "        else:\n",
    "            print(\"Missing %-10s %-30s %s\" % (md, trait, i+1))\n",
    "            if trait not in missing_list: \n",
    "                missing_list.append(trait)\n",
    "                \n",
    "# Check AN_list and pAN_list are same across traits for a given method\n",
    "print('Check matching of AN_list and pAN_list')\n",
    "for md in DIC_RES_PATH:\n",
    "    print('    %s' % md)\n",
    "    AN_list_md = list(dic_res[md][TRAIT_LIST_INDPT[0]]['summary']['tau'].index)\n",
    "    pAN_list_md = list(dic_res[md][TRAIT_LIST_INDPT[0]]['summary']['omega'].index)\n",
    "    for trait in dic_res[md]:\n",
    "        if set(dic_res[md][trait]['summary']['tau'].index) != set(AN_list_md):\n",
    "            print('    AN_list not match: %s' % trait)\n",
    "        if set(dic_res[md][trait]['summary']['omega'].index) != set(pAN_list_md):\n",
    "            print('    pAN_list not match: %s' % trait)\n",
    "\n",
    "# Collect info\n",
    "print('n_missing_trait=%d' % len(missing_list))\n",
    "AN_list = list(dic_res[md0][TRAIT_LIST_INDPT[0]]['summary']['tau'].index)\n",
    "print('AN_list=%d' % len(AN_list))\n",
    "pAN_list = []\n",
    "for md in DIC_RES_PATH:\n",
    "    pAN_list += [x for x in dic_res[md][TRAIT_LIST_INDPT[0]]['summary']['omega'].index if x not in pAN_list]\n",
    "print('pAN_list=%d' % len(pAN_list))\n",
    "\n",
    "# Trait with h2_z>5\n",
    "TRAIT_LIST_META = []\n",
    "for trait in TRAIT_LIST_INDPT:\n",
    "    h2 = dic_res[md0][trait]['summary']['tau'].loc['AN:all', 'h2']\n",
    "    h2_se = dic_res[md0][trait]['summary']['tau'].loc['AN:all', 'h2_se']\n",
    "    h2_z = h2 / h2_se\n",
    "    if h2_z > 5:\n",
    "        TRAIT_LIST_META.append(trait)\n",
    "    else:\n",
    "        print('    %-20s    h2=%0.3f    h2_z=%0.2f' % (trait, h2, h2_z))\n",
    "print('%d/%d traits with h2z>5' % (len(TRAIT_LIST_META), len(TRAIT_LIST_INDPT)))"
   ]
  },
  {
   "cell_type": "code",
   "execution_count": 7,
   "metadata": {},
   "outputs": [
    {
     "name": "stderr",
     "output_type": "stream",
     "text": [
      "/home/jz286/WES_analysis/LDSPEC/ldspec/util.py:385: RuntimeWarning: overflow encountered in multiply\n",
      "  varsum = np.sum(wt * wt * (variances + tau2)) / (np.sum(wt) ** 2)\n",
      "/home/jz286/WES_analysis/LDSPEC/ldspec/util.py:365: RuntimeWarning: divide by zero encountered in true_divide\n",
      "  vwts = 1.0 / variances\n",
      "/home/jz286/WES_analysis/LDSPEC/ldspec/util.py:369: RuntimeWarning: invalid value encountered in float_scalars\n",
      "  tau2 = np.maximum(0, (Q - df) / (vwts.sum() - vwts.dot(vwts) / vwts.sum()))\n"
     ]
    }
   ],
   "source": [
    "# Meta-analysis\n",
    "dic_term_list = {\n",
    "    'tau': ['tau', 'h2', 'scv', 'h2_enrich', 'scv_enrich', 'h2_shrink'], \n",
    "    'omega': ['omega', 'cov', 'cor', 'ecov', 'ecor'],\n",
    "}\n",
    "\n",
    "dic_res_meta = {}\n",
    "for md in DIC_RES_PATH:\n",
    "    dic_res_meta[md] = {}\n",
    "    res_tau_list = [dic_res[md][x]['summary']['tau'] for x in TRAIT_LIST_META]\n",
    "    res_omega_list = [dic_res[md][x]['summary']['omega'] for x in TRAIT_LIST_META]\n",
    "    for res in ['tau', 'omega']:\n",
    "        dic_res_meta[md][res] = pd.DataFrame(\n",
    "            index = dic_res[md][TRAIT_LIST_INDPT[0]]['summary'][res].index, \n",
    "            columns = ['%s%s'%(x,y) for x in dic_term_list[res] for y in ['', '_se', '_p']],\n",
    "            dtype=float,\n",
    "        )\n",
    "        # Meta-analysis \n",
    "        for term in dic_term_list[res]:\n",
    "            for row in dic_res_meta[md][res].index:\n",
    "                mean_,se_,p_ = ldspec.util.ldspec_meta(res_tau_list, res_omega_list, term, row)\n",
    "                dic_res_meta[md][res].loc[row, [term, '%s_se'%term, '%s_p'%term]] = mean_,se_,p_\n",
    "                \n",
    "    # meta-analysis across 4 am traits    \n",
    "    dic_res_meta['%s.am'%md] = {}\n",
    "    res_tau_list = [dic_res[md][x]['summary']['tau'] for x in TRAIT_LIST_INDPT_AM]\n",
    "    res_omega_list = [dic_res[md][x]['summary']['omega'] for x in TRAIT_LIST_INDPT_AM]\n",
    "    for res in ['tau', 'omega']:\n",
    "        dic_res_meta['%s.am'%md][res] = pd.DataFrame(\n",
    "            index = dic_res[md][TRAIT_LIST_INDPT[0]]['summary'][res].index, \n",
    "            columns = ['%s%s'%(x,y) for x in dic_term_list[res] for y in ['', '_se', '_p']],\n",
    "            dtype=float,\n",
    "        )\n",
    "        # Meta-analysis \n",
    "        for term in dic_term_list[res]:\n",
    "            for row in dic_res_meta['%s.am'%md][res].index:\n",
    "                mean_,se_,p_ = ldspec.util.ldspec_meta(res_tau_list, res_omega_list, term, row)\n",
    "                dic_res_meta['%s.am'%md][res].loc[row, [term, '%s_se'%term, '%s_p'%term]] = mean_,se_,p_\n",
    "\n",
    "    # meta-analysis across 25 non-am traits    \n",
    "    dic_res_meta['%s.nam'%md] = {}\n",
    "    res_tau_list = [dic_res[md][x]['summary']['tau'] for x in TRAIT_LIST_INDPT_NAM]\n",
    "    res_omega_list = [dic_res[md][x]['summary']['omega'] for x in TRAIT_LIST_INDPT_NAM]\n",
    "    for res in ['tau', 'omega']:\n",
    "        dic_res_meta['%s.nam'%md][res] = pd.DataFrame(\n",
    "            index = dic_res[md][TRAIT_LIST_INDPT[0]]['summary'][res].index, \n",
    "            columns = ['%s%s'%(x,y) for x in dic_term_list[res] for y in ['', '_se', '_p']],\n",
    "            dtype=float,\n",
    "        )\n",
    "        # Meta-analysis \n",
    "        for term in dic_term_list[res]:\n",
    "            for row in dic_res_meta['%s.nam'%md][res].index:\n",
    "                mean_,se_,p_ = ldspec.util.ldspec_meta(res_tau_list, res_omega_list, term, row)\n",
    "                dic_res_meta['%s.nam'%md][res].loc[row, [term, '%s_se'%term, '%s_p'%term]] = mean_,se_,p_"
   ]
  },
  {
   "cell_type": "markdown",
   "metadata": {},
   "source": [
    "### Comparison of results "
   ]
  },
  {
   "cell_type": "code",
   "execution_count": 12,
   "metadata": {},
   "outputs": [
    {
     "name": "stdout",
     "output_type": "stream",
     "text": [
      "# hypothesis: 136\n"
     ]
    },
    {
     "data": {
      "text/html": [
       "<div>\n",
       "<style scoped>\n",
       "    .dataframe tbody tr th:only-of-type {\n",
       "        vertical-align: middle;\n",
       "    }\n",
       "\n",
       "    .dataframe tbody tr th {\n",
       "        vertical-align: top;\n",
       "    }\n",
       "\n",
       "    .dataframe thead th {\n",
       "        text-align: right;\n",
       "    }\n",
       "</style>\n",
       "<table border=\"1\" class=\"dataframe\">\n",
       "  <thead>\n",
       "    <tr style=\"text-align: right;\">\n",
       "      <th></th>\n",
       "      <th>mean1</th>\n",
       "      <th>se1</th>\n",
       "      <th>mean2</th>\n",
       "      <th>se2</th>\n",
       "      <th>dif</th>\n",
       "      <th>dif_se</th>\n",
       "      <th>dif_z</th>\n",
       "      <th>dif_p</th>\n",
       "      <th>dif_fwer</th>\n",
       "    </tr>\n",
       "  </thead>\n",
       "  <tbody>\n",
       "  </tbody>\n",
       "</table>\n",
       "</div>"
      ],
      "text/plain": [
       "Empty DataFrame\n",
       "Columns: [mean1, se1, mean2, se2, dif, dif_se, dif_z, dif_p, dif_fwer]\n",
       "Index: []"
      ]
     },
     "metadata": {},
     "output_type": "display_data"
    },
    {
     "data": {
      "image/png": "[encoded data removed]",
      "text/plain": [
       "<Figure size 400x420 with 1 Axes>"
      ]
     },
     "metadata": {},
     "output_type": "display_data"
    },
    {
     "name": "stdout",
     "output_type": "stream",
     "text": [
      "cor=0.510\n",
      "# hypothesis: 136\n"
     ]
    },
    {
     "data": {
      "text/html": [
       "<div>\n",
       "<style scoped>\n",
       "    .dataframe tbody tr th:only-of-type {\n",
       "        vertical-align: middle;\n",
       "    }\n",
       "\n",
       "    .dataframe tbody tr th {\n",
       "        vertical-align: top;\n",
       "    }\n",
       "\n",
       "    .dataframe thead th {\n",
       "        text-align: right;\n",
       "    }\n",
       "</style>\n",
       "<table border=\"1\" class=\"dataframe\">\n",
       "  <thead>\n",
       "    <tr style=\"text-align: right;\">\n",
       "      <th></th>\n",
       "      <th>mean1</th>\n",
       "      <th>se1</th>\n",
       "      <th>mean2</th>\n",
       "      <th>se2</th>\n",
       "      <th>dif</th>\n",
       "      <th>dif_se</th>\n",
       "      <th>dif_z</th>\n",
       "      <th>dif_p</th>\n",
       "      <th>dif_fwer</th>\n",
       "    </tr>\n",
       "  </thead>\n",
       "  <tbody>\n",
       "  </tbody>\n",
       "</table>\n",
       "</div>"
      ],
      "text/plain": [
       "Empty DataFrame\n",
       "Columns: [mean1, se1, mean2, se2, dif, dif_se, dif_z, dif_p, dif_fwer]\n",
       "Index: []"
      ]
     },
     "metadata": {},
     "output_type": "display_data"
    },
    {
     "data": {
      "image/png": "[encoded data removed]",
      "text/plain": [
       "<Figure size 400x420 with 1 Axes>"
      ]
     },
     "metadata": {},
     "output_type": "display_data"
    },
    {
     "name": "stdout",
     "output_type": "stream",
     "text": [
      "cor=0.589\n"
     ]
    }
   ],
   "source": [
    "# Correlation between different heritability models\n",
    "df_list = []\n",
    "for md1,md2 in [\n",
    "    ['md_prox_gene_fct_all_ld.nam', 'md_prox_gene_fct_all_ld.am'],\n",
    "    ['md_prox_gene_fct_all_ld', 'md_prox_gene_fct_all_ld.am'],\n",
    "]:\n",
    "    row_list = [x for x in dic_res_meta[md1]['omega'].index if x in dic_res_meta[md2]['omega'].index]\n",
    "    df_plot = pd.DataFrame(index=row_list, columns=['mean1', 'se1', 'mean2', 'se2'], dtype=float)\n",
    "    for row in row_list:\n",
    "        df_plot.loc[row, ['mean1', 'se1']] = dic_res_meta[md1]['omega'].loc[row, ['cor', 'cor_se']].values\n",
    "        df_plot.loc[row, ['mean2', 'se2']] = dic_res_meta[md2]['omega'].loc[row, ['cor', 'cor_se']].values\n",
    "    df_plot['dif'] = df_plot['mean1'] - df_plot['mean2']\n",
    "    df_plot['dif_se'] = np.sqrt(df_plot['se1']**2 + df_plot['se2']**2)\n",
    "    df_plot['dif_z'] = df_plot['dif'] / df_plot['dif_se']\n",
    "    df_plot['dif_p'] = ldspec.util.zsc2pval(df_plot['dif_z']) \n",
    "    df_plot['dif_fwer'] = df_plot['dif_p'] * 136\n",
    "    print('# hypothesis: %d' % 136)\n",
    "    df_list.append(df_plot)\n",
    "\n",
    "    ind_select = df_plot['dif_fwer']<0.05\n",
    "    display(df_plot.loc[ind_select])   \n",
    "    \n",
    "    plt.figure(figsize=[4,4.2])   \n",
    "    plt.errorbar(df_plot.loc[~ind_select, 'mean1'], df_plot.loc[~ind_select, 'mean2'], \n",
    "                 xerr=df_plot.loc[~ind_select, 'se1']*1.96, yerr=df_plot.loc[~ind_select, 'se2']*1.96, \n",
    "                 fmt= '.', color='k', alpha=0.2, zorder=0)\n",
    "    plt.errorbar(df_plot.loc[ind_select, 'mean1'], df_plot.loc[ind_select, 'mean2'], \n",
    "                 xerr=df_plot.loc[ind_select, 'se1']*1.96, yerr=df_plot.loc[ind_select, 'se2']*1.96, \n",
    "                 fmt= '.', color='C0', zorder=10)\n",
    "    \n",
    "    texts = []\n",
    "    for row in df_plot.index[ind_select]:\n",
    "        texts.append(plt.text(\n",
    "            df_plot.loc[row, 'mean1'], df_plot.loc[row, 'mean2'], DIC_NAME[row], fontsize=10, zorder=10,\n",
    "        ))\n",
    "    adjust_text(texts, arrowprops=dict(arrowstyle=\"-\", color='k', lw=1))\n",
    "    \n",
    "    # reference lines\n",
    "    min_ = min(plt.xlim()[0], plt.ylim()[0])\n",
    "    max_ = max(plt.xlim()[1], plt.ylim()[1])\n",
    "    plt.plot([min_, max_], [0, 0], '--', linewidth=1, color='darkgrey', zorder=0)\n",
    "    plt.plot([0, 0], [min_, max_], '--', linewidth=1, color='darkgrey', zorder=0)\n",
    "    plt.plot([min_, max_], [min_, max_], '--', linewidth=1, color='darkgrey', zorder=0)\n",
    "    plt.xlim([min_, max_])\n",
    "    plt.ylim([min_, max_])\n",
    "    \n",
    "    plt.title('%s' % DIC_NAME['cor'])\n",
    "    plt.xlabel(DIC_NAME[md1])\n",
    "    plt.ylabel(DIC_NAME[md2])\n",
    "    plt.tight_layout()\n",
    "    plt.savefig(FIG_PATH + '/compare.cor.%s.%s.pdf' % (md1,md2))\n",
    "    plt.show()\n",
    "#     break\n",
    "\n",
    "    temp_df = pd.concat(df_list, axis=0)\n",
    "    print('cor=%0.3f' % (np.corrcoef(temp_df['mean1'], temp_df['mean2'])[0,1]))\n"
   ]
  },
  {
   "cell_type": "code",
   "execution_count": 12,
   "metadata": {},
   "outputs": [
    {
     "data": {
      "text/plain": [
       "'/n/groups/price/martin/LDSPEC_data/results/fig_res.rv1'"
      ]
     },
     "execution_count": 12,
     "metadata": {},
     "output_type": "execute_result"
    }
   ],
   "source": [
    "FIG_PATH"
   ]
  },
  {
   "cell_type": "code",
   "execution_count": null,
   "metadata": {},
   "outputs": [],
   "source": []
  },
  {
   "cell_type": "markdown",
   "metadata": {
    "scrolled": true
   },
   "source": [
    "### Old code"
   ]
  }
 ],
 "metadata": {
  "kernelspec": {
   "display_name": "python_37",
   "language": "python",
   "name": "python_37"
  },
  "language_info": {
   "codemirror_mode": {
    "name": "ipython",
    "version": 3
   },
   "file_extension": ".py",
   "mimetype": "text/x-python",
   "name": "python",
   "nbconvert_exporter": "python",
   "pygments_lexer": "ipython3",
   "version": "3.7.12"
  }
 },
 "nbformat": 4,
 "nbformat_minor": 4
}
