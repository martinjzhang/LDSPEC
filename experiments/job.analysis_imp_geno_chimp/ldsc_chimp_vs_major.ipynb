{
 "cells": [
  {
   "cell_type": "code",
   "execution_count": 1,
   "metadata": {},
   "outputs": [],
   "source": [
    "import pandas as pd\n",
    "import numpy as np\n",
    "import scipy as sp\n",
    "import time\n",
    "import os\n",
    "import gdreg\n",
    "import matplotlib.pyplot as plt\n",
    "import seaborn as sns\n",
    "import pickle\n",
    "from statsmodels.stats.multitest import multipletests\n",
    "from matplotlib import gridspec\n",
    "import seaborn as sns\n",
    "import statsmodels.formula.api as smf\n",
    "\n",
    "\n",
    "# autoreload\n",
    "%load_ext autoreload\n",
    "%autoreload 2"
   ]
  },
  {
   "cell_type": "code",
   "execution_count": 2,
   "metadata": {},
   "outputs": [
    {
     "name": "stdout",
     "output_type": "stream",
     "text": [
      "n_trait=29\n",
      "n_annot=45\n",
      "n_pannot=39\n"
     ]
    }
   ],
   "source": [
    "DATA_PATH = '/n/groups/price/martin/data_GDREG/UKBimp_337K_MAF001_chimp'\n",
    "# DATA_PATH_CHIMP = '/n/groups/price/martin/data_GDREG/UKBimp_337K_MAF001_chimp'\n",
    "FIG_PATH = '/n/groups/price/martin/data_GDREG/results/fig_res'\n",
    "\n",
    "# DF_TRAIT, DF_ANNOT, DF_PANNOT\n",
    "DF_TRAIT = pd.read_csv('/n/groups/price/martin/data_GDREG/results/tables/trait_info.tsv', sep='\\t')\n",
    "DF_TRAIT.index = DF_TRAIT['Trait_Identifier']\n",
    "TRAIT_LIST = list(DF_TRAIT.index)\n",
    "print(\"n_trait=%d\" % DF_TRAIT.shape[0])\n",
    "\n",
    "DF_ANNOT = pd.read_csv('/n/groups/price/martin/data_GDREG/results/tables/annot_info.tsv', sep='\\t')\n",
    "DF_ANNOT.index = DF_ANNOT['Identifier']\n",
    "print(\"n_annot=%d\" % DF_ANNOT.shape[0])\n",
    "\n",
    "DF_PANNOT = pd.read_csv('/n/groups/price/martin/data_GDREG/results/tables/pannot_info.tsv', sep='\\t')\n",
    "DF_PANNOT.index = DF_PANNOT['Identifier']\n",
    "print(\"n_pannot=%d\" % DF_PANNOT.shape[0])\n",
    "\n",
    "# Others\n",
    "temp_df = pd.read_csv('../names.tsv', sep='\\t', header=None)\n",
    "DIC_NAME = {x:y for x,y in zip(temp_df[0], temp_df[1])}\n",
    "DIC_COLOR = {'common_common' : '#78ADD2', 'common' : '#78ADD2', 'common_lf' : '#80C680',\n",
    "             'lf_lf' : '#FFB26E', 'lf' : '#FFB26E'}\n",
    "MARKER_LIST=['o', 'v', '^', '8', 's', 'p', '*', 'h', 'H', 'D', 'd', '<', '>']"
   ]
  },
  {
   "cell_type": "code",
   "execution_count": 20,
   "metadata": {},
   "outputs": [],
   "source": [
    "# Check ldsc results\n",
    "def parse_log(fpath):\n",
    "    with open(fpath, 'r') as f:\n",
    "        h2,h2_se = 0,0\n",
    "        for line in f:\n",
    "            if 'Total Observed scale h2' in line:\n",
    "                line = line.replace('Total Observed scale h2:','').replace(')','').strip()\n",
    "                h2 = float(line.split('(')[0])\n",
    "                h2_se = float(line.split('(')[1])\n",
    "    return h2,h2_se\n",
    "                \n",
    "DIC_RES_PATH = {\n",
    "    'ldsc_chimp' : '/n/groups/price/martin/data_GDREG/UKBimp_337K_MAF001_chimp/ldsc_res/@t.bslLF165',\n",
    "    'ldsc_major' : '/n/groups/price/martin/data_GDREG/UKBimp_337K_MAF001/ldsc_res/@t.bslLF165',\n",
    "}\n",
    "\n",
    "# Load .pickle files \n",
    "dic_res = {}\n",
    "dic_log = {}\n",
    "missing_list = []\n",
    "for md in DIC_RES_PATH:\n",
    "    dic_res[md] = {}\n",
    "    dic_log[md] = pd.DataFrame(index=TRAIT_LIST, columns=['h2', 'h2_se'])\n",
    "    for i,trait in enumerate(TRAIT_LIST):\n",
    "        res_file = DIC_RES_PATH[md].replace(\"@t\", trait) + '.results'\n",
    "        log_file = DIC_RES_PATH[md].replace(\"@t\", trait) + '.log'\n",
    "        if os.path.exists(res_file):\n",
    "#             dic_res[md][trait] = pd.read_csv(res_file, sep='\\t', index_col=0)\n",
    "#             dic_res[md][trait].index = [x.replace('LD:','').replace('_0','') for x in dic_res[md][trait].index]\n",
    "            h2,h2_se = parse_log(log_file)\n",
    "            dic_log[md].loc[trait, ['h2', 'h2_se']] = h2,h2_se\n",
    "        else:\n",
    "            print(\"Missing %-10s %-30s %s\" % (md, trait, i+1))\n",
    "        \n",
    "#         break\n",
    "#     break"
   ]
  },
  {
   "cell_type": "code",
   "execution_count": 22,
   "metadata": {},
   "outputs": [
    {
     "data": {
      "image/png": "[encoded data removed]",
      "text/plain": [
       "<Figure size 432x288 with 1 Axes>"
      ]
     },
     "metadata": {
      "needs_background": "light"
     },
     "output_type": "display_data"
    }
   ],
   "source": [
    "plt.figure()\n",
    "plt.scatter(dic_log['ldsc_major']['h2'], dic_log['ldsc_chimp']['h2'])\n",
    "plt.plot([0, 0.8], [0, 0.8])\n",
    "plt.show()"
   ]
  },
  {
   "cell_type": "code",
   "execution_count": null,
   "metadata": {},
   "outputs": [],
   "source": []
  },
  {
   "cell_type": "code",
   "execution_count": null,
   "metadata": {},
   "outputs": [],
   "source": []
  },
  {
   "cell_type": "code",
   "execution_count": null,
   "metadata": {},
   "outputs": [],
   "source": [
    "trait = 'blood_PLATELET_COUNT'\n",
    "df_ldsc = pd.read_csv(\n",
    "    '/n/groups/price/martin/data_GDREG/UKBimp_337K_MAF001/ldsc_res/blood_PLATELET_COUNT.bslLF165.results', \n",
    "    sep='\\t', index_col=0\n",
    ")\n",
    "df_ldsc.index = [x.replace('LD:','').replace('_0','') for x in df_ldsc.index]\n",
    "\n",
    "md_ref = 'gdreg_ld'\n",
    "df_plot = dic_res['gdreg_ld'][trait]['summary']['tau'].copy()\n",
    "df_plot = df_plot.join(df_ldsc)\n",
    "\n",
    "# tau estimates \n",
    "plt.figure(figsize=[4, 4])\n",
    "plt.errorbar(\n",
    "    df_plot['tau'], df_plot['Coefficient'], \n",
    "    xerr=df_plot['tau_se'], yerr=df_plot['Coefficient_std_error'],\n",
    "    fmt = '.', zorder=10, alpha=0.4, color='C0', label='SEs',\n",
    ")   \n",
    "plt.legend(loc='upper left', framealpha=0.5)\n",
    "min_ = min(plt.xlim()[0], plt.ylim()[0])\n",
    "max_ = max(plt.xlim()[1], plt.ylim()[1])\n",
    "plt.plot([min_, max_], [min_, max_], '--', linewidth=1, zorder=0, color='darkgray')\n",
    "plt.plot([min_, max_], [0, 0], '--', linewidth=1, zorder=0, color='darkgray')\n",
    "plt.plot([0, 0], [min_, max_], '--', linewidth=1, zorder=0, color='darkgray')\n",
    "plt.xlim([min_, max_])\n",
    "plt.ylim([min_, max_])\n",
    "plt.title('Coefficients (cor=%0.3f)' % (np.corrcoef(df_plot['tau'], df_plot['Coefficient'])[0,1]))\n",
    "plt.xlabel('GDREG')\n",
    "plt.ylabel('LDSC')\n",
    "plt.tight_layout()\n",
    "plt.show()\n",
    "\n",
    "# h2 estimates \n",
    "df_plot['h2_prop'] = df_plot['h2'] / df_plot.loc['AN:all', 'h2']\n",
    "df_plot['h2_prop_se'] = df_plot['h2_se'] / df_plot.loc['AN:all', 'h2']\n",
    "plt.figure(figsize=[4, 4])\n",
    "plt.errorbar(\n",
    "    df_plot['h2_prop'], df_plot['Prop._h2'],  xerr=df_plot['h2_prop_se'], yerr=df_plot['Prop._h2_std_error'],\n",
    "    fmt = '.', zorder=10, alpha=0.4, color='C0', label='SEs',\n",
    ")   \n",
    "plt.legend(loc='upper left', framealpha=0.5)\n",
    "min_ = min(plt.xlim()[0], plt.ylim()[0])\n",
    "max_ = max(plt.xlim()[1], plt.ylim()[1])\n",
    "plt.plot([min_, max_], [min_, max_], '--', linewidth=1, zorder=0, color='darkgray')\n",
    "plt.plot([min_, max_], [0, 0], '--', linewidth=1, zorder=0, color='darkgray')\n",
    "plt.plot([0, 0], [min_, max_], '--', linewidth=1, zorder=0, color='darkgray')\n",
    "plt.xlim([min_, max_])\n",
    "plt.ylim([min_, max_])\n",
    "ind_select = df_plot[['h2_prop', 'Prop._h2']].isna().sum(axis=1)==0\n",
    "cor = np.corrcoef(df_plot.loc[ind_select, 'h2_prop'], df_plot.loc[ind_select, 'Prop._h2'])[0,1]\n",
    "plt.title('Heritability (cor=%0.3f)' % cor)\n",
    "plt.xlabel('GDREG')\n",
    "plt.ylabel('LDSC')\n",
    "plt.tight_layout()\n",
    "plt.show()"
   ]
  }
 ],
 "metadata": {
  "kernelspec": {
   "display_name": "Python 3",
   "language": "python",
   "name": "python3"
  },
  "language_info": {
   "codemirror_mode": {
    "name": "ipython",
    "version": 3
   },
   "file_extension": ".py",
   "mimetype": "text/x-python",
   "name": "python",
   "nbconvert_exporter": "python",
   "pygments_lexer": "ipython3",
   "version": "3.7.4"
  }
 },
 "nbformat": 4,
 "nbformat_minor": 2
}
