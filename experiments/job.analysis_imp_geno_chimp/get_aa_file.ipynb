{
 "cells": [
  {
   "cell_type": "code",
   "execution_count": 1,
   "metadata": {},
   "outputs": [],
   "source": [
    "import pandas as pd\n",
    "import numpy as np\n",
    "import os\n",
    "import seaborn as sns\n",
    "import matplotlib.pyplot as plt\n",
    "import gdreg\n",
    "import time\n",
    "import pgenlib as pg\n",
    "\n",
    "%load_ext autoreload\n",
    "%autoreload 2"
   ]
  },
  {
   "cell_type": "code",
   "execution_count": 32,
   "metadata": {
    "scrolled": true
   },
   "outputs": [
    {
     "name": "stdout",
     "output_type": "stream",
     "text": [
      "CHR1\n",
      "CHR2\n",
      "CHR3\n",
      "CHR4\n",
      "CHR5\n",
      "CHR6\n",
      "CHR7\n",
      "CHR8\n",
      "CHR9\n",
      "CHR10\n",
      "CHR11\n",
      "CHR12\n",
      "CHR13\n",
      "CHR14\n",
      "CHR15\n",
      "CHR16\n",
      "CHR17\n",
      "CHR18\n",
      "CHR19\n",
      "CHR20\n",
      "CHR21\n",
      "CHR22\n"
     ]
    }
   ],
   "source": [
    "PGEN_FILE = \"/n/scratch3/users/j/jz286/imp_geno/ukb_imp_chr@_v3\"\n",
    "AA_FILE = '/n/groups/price/martin/data_GDREG/UKBimp_337K_MAF001/snp_info/ukb_imp_chr@_va-ancestral_annot.pvar'\n",
    "dic_map = {'A':'A', 'a':'A', 'T':'T', 't':'T', 'C':'C', 'c':'C', 'G':'G', 'g':'G'}\n",
    "\n",
    "# for CHR in [22]:\n",
    "for CHR in range(1,23):\n",
    "    print('CHR%d' % CHR)\n",
    "    df_snp_chr = gdreg.util.read_pgen(PGEN_FILE.replace(\"@\", \"%d\" % CHR))[\"pvar\"].copy()\n",
    "    df_snp_chr['MAF'] = gdreg.util.read_pgen(\n",
    "        PGEN_FILE.replace(\"@\", \"%d\"%CHR))[\"afreq\"][\"MAF\"].astype(np.float32)\n",
    "    df_aa = pd.read_csv(AA_FILE.replace('@', '%d'%CHR), sep='\\t')\n",
    "    \n",
    "    dic_aa = {x:dic_map[y] for x,y in zip(df_aa['ID'], df_aa['AA']) if y in dic_map}\n",
    "    dic_chimp = {x:dic_map[y] for x,y in zip(df_aa['ID'], df_aa['Chimp']) if y in dic_map}\n",
    "    df_snp_chr['AA'] = [dic_aa[x] if x in dic_aa else 'NA' for x in df_snp_chr['SNP']]\n",
    "    df_snp_chr['Chimp'] = [dic_chimp[x] if x in dic_chimp else 'NA' for x in df_snp_chr['SNP']]\n",
    "\n",
    "    df_snp_chr['REF_AA'] = [z if z in [x,y] else x\n",
    "        for x,y,z in zip(df_snp_chr['REF'], df_snp_chr['ALT'], df_snp_chr['AA'])\n",
    "    ]\n",
    "    df_snp_chr['REF_Chimp'] = [z if z in [x,y] else x\n",
    "        for x,y,z in zip(df_snp_chr['REF'], df_snp_chr['ALT'], df_snp_chr['Chimp'])\n",
    "    ]\n",
    "    df_snp_chr.to_csv(\n",
    "        '/n/groups/price/martin/data_GDREG/UKBimp_337K_MAF001/snp_info/ukb_imp_chr%d_v3_aa.pvar'%CHR,\n",
    "        sep='\\t', index=False\n",
    "    )"
   ]
  },
  {
   "cell_type": "code",
   "execution_count": 3,
   "metadata": {},
   "outputs": [
    {
     "name": "stdout",
     "output_type": "stream",
     "text": [
      "AA all n_snp=199680\n",
      "    REF=138744, ALT=24772, missing=33446, \n",
      "AA rare n_snp=55426\n",
      "    REF=42417, ALT=1186, missing=11271, \n",
      "AA lf n_snp=55916\n",
      "    REF=44130, ALT=3116, missing=7916, \n",
      "AA common n_snp=88338\n",
      "    REF=52197, ALT=20470, missing=14259, \n",
      "\n",
      "Chimp all n_snp=199680\n",
      "    REF=151436, ALT=38011, missing=7760, \n",
      "Chimp rare n_snp=55426\n",
      "    REF=48601, ALT=4394, missing=1845, \n",
      "Chimp lf n_snp=55916\n",
      "    REF=46121, ALT=6885, missing=2224, \n",
      "Chimp common n_snp=88338\n",
      "    REF=56714, ALT=26732, missing=3691, \n",
      "\n"
     ]
    }
   ],
   "source": [
    "# Check consistency\n",
    "dic_mbin = {'all' : [0, 1], 'rare': [0, 0.005], 'lf': [0.005, 0.05], 'common' : [0.05, 1]}\n",
    "for col in ['AA', 'Chimp']:\n",
    "    for mbin in dic_mbin:\n",
    "        ind_select = (df_snp_chr['MAF']>=dic_mbin[mbin][0]) & (df_snp_chr['MAF']<=dic_mbin[mbin][1])\n",
    "        print('%s %s n_snp=%d' % (col, mbin, ind_select.sum()))\n",
    "        print('    REF=%d, ALT=%d, missing=%d, ' % (\n",
    "            (df_snp_chr.loc[ind_select, col]==df_snp_chr.loc[ind_select, 'REF']).sum(),\n",
    "            (df_snp_chr.loc[ind_select, col]==df_snp_chr.loc[ind_select, 'ALT']).sum(),\n",
    "            (df_snp_chr.loc[ind_select, col]=='NA').sum(),\n",
    "        ))\n",
    "        \n",
    "    print('')"
   ]
  },
  {
   "cell_type": "code",
   "execution_count": 4,
   "metadata": {
    "scrolled": true
   },
   "outputs": [
    {
     "data": {
      "image/png": "[encoded data removed]",
      "text/plain": [
       "<Figure size 432x288 with 1 Axes>"
      ]
     },
     "metadata": {
      "needs_background": "light"
     },
     "output_type": "display_data"
    },
    {
     "data": {
      "image/png": "[encoded data removed]",
      "text/plain": [
       "<Figure size 432x288 with 1 Axes>"
      ]
     },
     "metadata": {
      "needs_background": "light"
     },
     "output_type": "display_data"
    },
    {
     "data": {
      "image/png": "[encoded data removed]",
      "text/plain": [
       "<Figure size 432x288 with 1 Axes>"
      ]
     },
     "metadata": {
      "needs_background": "light"
     },
     "output_type": "display_data"
    }
   ],
   "source": [
    "# Check consistency\n",
    "dic_mbin = {'all' : [0, 1], 'rare': [0, 0.005], 'lf': [0.005, 0.05], 'common' : [0.05, 1]}\n",
    "maf_bin_list = np.linspace(0,0.5,20)\n",
    "for term1,term2 in [['AA', 'Chimp'], ['AA', 'REF'], ['Chimp', 'REF']]:\n",
    "    yval = []\n",
    "    for i in range(len(maf_bin_list)-1):\n",
    "        maf_lb = maf_bin_list[i]\n",
    "        maf_ub = maf_bin_list[i+1]\n",
    "        ind_maf = (df_snp_chr['MAF']>=maf_lb) & (df_snp_chr['MAF']<=maf_ub)\n",
    "        ind_nonmissing = (df_snp_chr[term1].isin(['A','T','C','G'])) & \\\n",
    "            (df_snp_chr[term2].isin(['A','T','C','G']))\n",
    "        ind_select = ind_maf & ind_nonmissing\n",
    "        yval.append( (df_snp_chr.loc[ind_select, term1]==df_snp_chr.loc[ind_select, term2]).sum()\n",
    "                    / ind_select.sum())\n",
    "        \n",
    "    plt.figure()\n",
    "    plt.scatter(maf_bin_list[:-1], yval)\n",
    "    plt.title(term1 + '+' + term2)\n",
    "    plt.show()"
   ]
  },
  {
   "cell_type": "markdown",
   "metadata": {},
   "source": [
    "### Check plink file"
   ]
  },
  {
   "cell_type": "code",
   "execution_count": 3,
   "metadata": {},
   "outputs": [],
   "source": [
    "# Directly using --ref-allele is not compatible with pgenlib\n",
    "pgen_file = '/n/scratch3/users/j/jz286/imp_geno_chimp/ukb_imp_chr22_v3_chimp.pgen'\n",
    "with pg.PgenReader(bytes(pgen_file, encoding=\"utf8\")) as reader:\n",
    "    mat_X = np.empty([10, 337426], np.int8)\n",
    "    reader.read_range(0, 10, mat_X)"
   ]
  },
  {
   "cell_type": "code",
   "execution_count": 5,
   "metadata": {},
   "outputs": [],
   "source": [
    "# Check \n",
    "CHR = 22\n",
    "PGEN_FILE = \"/n/scratch3/users/j/jz286/imp_geno/ukb_imp_chr@_v3\"\n",
    "PGEN_FILE_CHIMP = \"/n/scratch3/users/j/jz286/imp_geno_chimp/ukb_imp_chr@_v3_chimp\"\n",
    "REF_FILE = '/n/groups/price/martin/data_GDREG/UKBimp_337K_MAF001/snp_info/ukb_imp_chr@_v3_aa.pvar'\n",
    "\n",
    "dic_data = gdreg.util.read_pgen(PGEN_FILE.replace(\"@\", \"%d\" % CHR))\n",
    "dic_data_chimp = gdreg.util.read_pgen(PGEN_FILE_CHIMP.replace(\"@\", \"%d\" % CHR))\n",
    "df_ref = pd.read_csv(REF_FILE.replace('@', '%d'%CHR), sep='\\t')"
   ]
  },
  {
   "cell_type": "code",
   "execution_count": 8,
   "metadata": {},
   "outputs": [
    {
     "name": "stdout",
     "output_type": "stream",
     "text": [
      "CHIMP vs. REF_Chimp : n_dif=0\n",
      "CHIMP vs. REF_AA : n_dif=16763\n",
      "CHIMP vs. REF : n_dif=38011\n",
      "Original vs. REF : n_dif=0\n"
     ]
    }
   ],
   "source": [
    "# Consistency of ref allele\n",
    "print('CHIMP vs. REF_Chimp : n_dif=%d' % (dic_data_chimp['pvar']['REF']!=df_ref['REF_Chimp']).sum())\n",
    "print('CHIMP vs. REF_AA : n_dif=%d' % (dic_data_chimp['pvar']['REF']!=df_ref['REF_AA']).sum())\n",
    "print('CHIMP vs. REF : n_dif=%d' % (dic_data_chimp['pvar']['REF']!=df_ref['REF']).sum() )\n",
    "print('Original vs. REF : n_dif=%d' % (dic_data['pvar']['REF']!=df_ref['REF']).sum() )"
   ]
  },
  {
   "cell_type": "code",
   "execution_count": 10,
   "metadata": {
    "scrolled": true
   },
   "outputs": [
    {
     "name": "stdout",
     "output_type": "stream",
     "text": [
      "n_flip=8\n",
      "n_consistent=200/200\n"
     ]
    }
   ],
   "source": [
    "# Consistency of genotype\n",
    "n_snp = 200\n",
    "mat_X = gdreg.util.read_geno(dic_data['pgen'], 0, n_snp).T.astype(int)\n",
    "mat_X_chimp = gdreg.util.read_geno(dic_data_chimp['pgen'], 0, n_snp).T.astype(int)\n",
    "\n",
    "ind_dif = (mat_X != mat_X_chimp).sum(axis=0) > 0\n",
    "ind_dif_ref = (dic_data_chimp['pvar']['REF'] != dic_data['pvar']['REF']).values\n",
    "\n",
    "print('n_flip=%d' % ind_dif_ref[:n_snp].sum())\n",
    "print('n_consistent=%d/%d' % ((ind_dif_ref[:n_snp]==ind_dif).sum(), n_snp))"
   ]
  },
  {
   "cell_type": "markdown",
   "metadata": {},
   "source": [
    "### Old code"
   ]
  },
  {
   "cell_type": "code",
   "execution_count": 2,
   "metadata": {},
   "outputs": [],
   "source": [
    "CHR = 22\n",
    "PGEN_FILE = \"/n/scratch3/users/j/jz286/imp_geno/ukb_imp_chr@_v3\"\n",
    "AA_FILE = '/n/groups/price/martin/data_GDREG/UKBimp_337K_MAF001/snp_info/ukb_imp_chr@_va-ancestral_annot.pvar'\n",
    "df_snp_chr = gdreg.util.read_pgen(PGEN_FILE.replace(\"@\", \"%d\" % CHR))[\"pvar\"].copy()\n",
    "df_snp_chr['MAF'] = gdreg.util.read_pgen(\n",
    "    PGEN_FILE.replace(\"@\", \"%d\" % CHR))[\"afreq\"][\"MAF\"].astype(np.float32)\n",
    "df_aa = pd.read_csv(AA_FILE.replace('@', '%d'%CHR), sep='\\t')"
   ]
  },
  {
   "cell_type": "code",
   "execution_count": 6,
   "metadata": {},
   "outputs": [],
   "source": [
    "dic_map = {'A':'A', 'a':'A', 'T':'T', 't':'T', 'C':'C', 'c':'C', 'G':'G', 'g':'G'}\n",
    "dic_aa = {x:dic_map[y] for x,y in zip(df_aa['ID'], df_aa['AA']) if y in dic_map}\n",
    "dic_chimp = {x:dic_map[y] for x,y in zip(df_aa['ID'], df_aa['Chimp']) if y in dic_map}\n",
    "\n",
    "df_snp_chr['AA'] = [dic_aa[x] if x in dic_aa else '' for x in df_snp_chr['SNP']]\n",
    "df_snp_chr['Chimp'] = [dic_chimp[x] if x in dic_chimp else '' for x in df_snp_chr['SNP']]\n",
    "\n",
    "\n",
    "df_snp_chr['REF_AA'] = [z if z in [x,y] else x\n",
    "    for x,y,z in zip(df_snp_chr['REF'], df_snp_chr['ALT'], df_snp_chr['AA'])\n",
    "]\n",
    "df_snp_chr['REF_Chimp'] = [z if z in [x,y] else x\n",
    "    for x,y,z in zip(df_snp_chr['REF'], df_snp_chr['ALT'], df_snp_chr['Chimp'])\n",
    "]\n",
    "df_snp_chr.to_csv('/n/groups/price/martin/data_GDREG/UKBimp_337K_MAF001/snp_info/ukb_imp_chr%d_v3_aa.pvar' % CHR)"
   ]
  },
  {
   "cell_type": "code",
   "execution_count": 16,
   "metadata": {},
   "outputs": [
    {
     "data": {
      "text/plain": [
       "1600"
      ]
     },
     "execution_count": 16,
     "metadata": {},
     "output_type": "execute_result"
    }
   ],
   "source": [
    "(df_snp_chr['MAF']>0.49dd).sum()"
   ]
  },
  {
   "cell_type": "code",
   "execution_count": 20,
   "metadata": {},
   "outputs": [
    {
     "data": {
      "text/html": [
       "<div>\n",
       "<style scoped>\n",
       "    .dataframe tbody tr th:only-of-type {\n",
       "        vertical-align: middle;\n",
       "    }\n",
       "\n",
       "    .dataframe tbody tr th {\n",
       "        vertical-align: top;\n",
       "    }\n",
       "\n",
       "    .dataframe thead th {\n",
       "        text-align: right;\n",
       "    }\n",
       "</style>\n",
       "<table border=\"1\" class=\"dataframe\">\n",
       "  <thead>\n",
       "    <tr style=\"text-align: right;\">\n",
       "      <th></th>\n",
       "      <th>CHR</th>\n",
       "      <th>BP</th>\n",
       "      <th>SNP</th>\n",
       "      <th>REF</th>\n",
       "      <th>ALT</th>\n",
       "      <th>MAF</th>\n",
       "      <th>AA</th>\n",
       "      <th>Chimp</th>\n",
       "      <th>REF_AA</th>\n",
       "      <th>REF_Chimp</th>\n",
       "    </tr>\n",
       "  </thead>\n",
       "  <tbody>\n",
       "    <tr>\n",
       "      <th>0</th>\n",
       "      <td>22</td>\n",
       "      <td>16050527</td>\n",
       "      <td>rs587769434</td>\n",
       "      <td>C</td>\n",
       "      <td>A</td>\n",
       "      <td>0.001391</td>\n",
       "      <td></td>\n",
       "      <td>C</td>\n",
       "      <td>C</td>\n",
       "      <td>C</td>\n",
       "    </tr>\n",
       "    <tr>\n",
       "      <th>1</th>\n",
       "      <td>22</td>\n",
       "      <td>16051249</td>\n",
       "      <td>rs62224609</td>\n",
       "      <td>T</td>\n",
       "      <td>C</td>\n",
       "      <td>0.100340</td>\n",
       "      <td></td>\n",
       "      <td>T</td>\n",
       "      <td>T</td>\n",
       "      <td>T</td>\n",
       "    </tr>\n",
       "    <tr>\n",
       "      <th>2</th>\n",
       "      <td>22</td>\n",
       "      <td>16053862</td>\n",
       "      <td>rs62224614</td>\n",
       "      <td>C</td>\n",
       "      <td>T</td>\n",
       "      <td>0.101977</td>\n",
       "      <td></td>\n",
       "      <td>C</td>\n",
       "      <td>C</td>\n",
       "      <td>C</td>\n",
       "    </tr>\n",
       "    <tr>\n",
       "      <th>3</th>\n",
       "      <td>22</td>\n",
       "      <td>16054454</td>\n",
       "      <td>rs7286962</td>\n",
       "      <td>C</td>\n",
       "      <td>T</td>\n",
       "      <td>0.105103</td>\n",
       "      <td></td>\n",
       "      <td>C</td>\n",
       "      <td>C</td>\n",
       "      <td>C</td>\n",
       "    </tr>\n",
       "    <tr>\n",
       "      <th>4</th>\n",
       "      <td>22</td>\n",
       "      <td>16056406</td>\n",
       "      <td>22:16056406_C_T</td>\n",
       "      <td>C</td>\n",
       "      <td>T</td>\n",
       "      <td>0.001328</td>\n",
       "      <td></td>\n",
       "      <td>A</td>\n",
       "      <td>C</td>\n",
       "      <td>C</td>\n",
       "    </tr>\n",
       "    <tr>\n",
       "      <th>...</th>\n",
       "      <td>...</td>\n",
       "      <td>...</td>\n",
       "      <td>...</td>\n",
       "      <td>...</td>\n",
       "      <td>...</td>\n",
       "      <td>...</td>\n",
       "      <td>...</td>\n",
       "      <td>...</td>\n",
       "      <td>...</td>\n",
       "      <td>...</td>\n",
       "    </tr>\n",
       "    <tr>\n",
       "      <th>199675</th>\n",
       "      <td>22</td>\n",
       "      <td>51237712</td>\n",
       "      <td>rs370652263</td>\n",
       "      <td>G</td>\n",
       "      <td>A</td>\n",
       "      <td>0.055025</td>\n",
       "      <td></td>\n",
       "      <td>G</td>\n",
       "      <td>G</td>\n",
       "      <td>G</td>\n",
       "    </tr>\n",
       "    <tr>\n",
       "      <th>199676</th>\n",
       "      <td>22</td>\n",
       "      <td>51238318</td>\n",
       "      <td>rs541098394</td>\n",
       "      <td>A</td>\n",
       "      <td>T</td>\n",
       "      <td>0.003576</td>\n",
       "      <td></td>\n",
       "      <td></td>\n",
       "      <td>A</td>\n",
       "      <td>A</td>\n",
       "    </tr>\n",
       "    <tr>\n",
       "      <th>199677</th>\n",
       "      <td>22</td>\n",
       "      <td>51238328</td>\n",
       "      <td>rs553081191</td>\n",
       "      <td>A</td>\n",
       "      <td>C</td>\n",
       "      <td>0.001977</td>\n",
       "      <td></td>\n",
       "      <td></td>\n",
       "      <td>A</td>\n",
       "      <td>A</td>\n",
       "    </tr>\n",
       "    <tr>\n",
       "      <th>199678</th>\n",
       "      <td>22</td>\n",
       "      <td>51238394</td>\n",
       "      <td>rs149712012</td>\n",
       "      <td>C</td>\n",
       "      <td>T</td>\n",
       "      <td>0.003899</td>\n",
       "      <td></td>\n",
       "      <td></td>\n",
       "      <td>C</td>\n",
       "      <td>C</td>\n",
       "    </tr>\n",
       "    <tr>\n",
       "      <th>199679</th>\n",
       "      <td>22</td>\n",
       "      <td>51239586</td>\n",
       "      <td>rs535432390</td>\n",
       "      <td>T</td>\n",
       "      <td>G</td>\n",
       "      <td>0.003052</td>\n",
       "      <td></td>\n",
       "      <td>T</td>\n",
       "      <td>T</td>\n",
       "      <td>T</td>\n",
       "    </tr>\n",
       "  </tbody>\n",
       "</table>\n",
       "<p>199680 rows × 10 columns</p>\n",
       "</div>"
      ],
      "text/plain": [
       "        CHR        BP              SNP REF ALT       MAF AA Chimp REF_AA  \\\n",
       "0        22  16050527      rs587769434   C   A  0.001391        C      C   \n",
       "1        22  16051249       rs62224609   T   C  0.100340        T      T   \n",
       "2        22  16053862       rs62224614   C   T  0.101977        C      C   \n",
       "3        22  16054454        rs7286962   C   T  0.105103        C      C   \n",
       "4        22  16056406  22:16056406_C_T   C   T  0.001328        A      C   \n",
       "...     ...       ...              ...  ..  ..       ... ..   ...    ...   \n",
       "199675   22  51237712      rs370652263   G   A  0.055025        G      G   \n",
       "199676   22  51238318      rs541098394   A   T  0.003576               A   \n",
       "199677   22  51238328      rs553081191   A   C  0.001977               A   \n",
       "199678   22  51238394      rs149712012   C   T  0.003899               C   \n",
       "199679   22  51239586      rs535432390   T   G  0.003052        T      T   \n",
       "\n",
       "       REF_Chimp  \n",
       "0              C  \n",
       "1              T  \n",
       "2              C  \n",
       "3              C  \n",
       "4              C  \n",
       "...          ...  \n",
       "199675         G  \n",
       "199676         A  \n",
       "199677         A  \n",
       "199678         C  \n",
       "199679         T  \n",
       "\n",
       "[199680 rows x 10 columns]"
      ]
     },
     "execution_count": 20,
     "metadata": {},
     "output_type": "execute_result"
    }
   ],
   "source": [
    "df_snp_chr"
   ]
  },
  {
   "cell_type": "code",
   "execution_count": null,
   "metadata": {},
   "outputs": [],
   "source": []
  },
  {
   "cell_type": "code",
   "execution_count": 13,
   "metadata": {},
   "outputs": [
    {
     "name": "stdout",
     "output_type": "stream",
     "text": [
      "AA all n_snp=199680\n",
      "    REF=138744, ALT=24772, missing=33446, \n",
      "AA rare n_snp=55426\n",
      "    REF=42417, ALT=1186, missing=11271, \n",
      "AA lf n_snp=55916\n",
      "    REF=44130, ALT=3116, missing=7916, \n",
      "AA common n_snp=88338\n",
      "    REF=52197, ALT=20470, missing=14259, \n",
      "\n",
      "Chimp all n_snp=199680\n",
      "    REF=151436, ALT=38011, missing=7760, \n",
      "Chimp rare n_snp=55426\n",
      "    REF=48601, ALT=4394, missing=1845, \n",
      "Chimp lf n_snp=55916\n",
      "    REF=46121, ALT=6885, missing=2224, \n",
      "Chimp common n_snp=88338\n",
      "    REF=56714, ALT=26732, missing=3691, \n",
      "\n"
     ]
    }
   ],
   "source": [
    "# Check consistency\n",
    "dic_mbin = {'all' : [0, 1], 'rare': [0, 0.005], 'lf': [0.005, 0.05], 'common' : [0.05, 1]}\n",
    "for col in ['AA', 'Chimp']:\n",
    "    for mbin in dic_mbin:\n",
    "        ind_select = (df_snp_chr['MAF']>=dic_mbin[mbin][0]) & (df_snp_chr['MAF']<=dic_mbin[mbin][1])\n",
    "        print('%s %s n_snp=%d' % (col, mbin, ind_select.sum()))\n",
    "        print('    REF=%d, ALT=%d, missing=%d, ' % (\n",
    "            (df_snp_chr.loc[ind_select, col]==df_snp_chr.loc[ind_select, 'REF']).sum(),\n",
    "            (df_snp_chr.loc[ind_select, col]==df_snp_chr.loc[ind_select, 'ALT']).sum(),\n",
    "            (df_snp_chr.loc[ind_select, col]=='').sum(),\n",
    "        ))\n",
    "        \n",
    "    print('')"
   ]
  },
  {
   "cell_type": "code",
   "execution_count": 37,
   "metadata": {},
   "outputs": [
    {
     "name": "stdout",
     "output_type": "stream",
     "text": [
      "AA=Chimp : 159961/162634\n",
      "AA=REF : 138744\n",
      "AA=ALT : 24772\n",
      "AA missing : 33446\n",
      "AA=other : 2718\n",
      "Chimp=REF : 151436\n",
      "Chimp=ALT : 38011\n",
      "Chimp missing : 7760\n",
      "Chimp=other : 2473\n"
     ]
    }
   ],
   "source": [
    "print('AA=Chimp : %d/%d' % (\n",
    "    (df_pvar['AA'] == df_pvar['Chimp']).sum(), ((df_pvar['Chimp']!='') & (df_pvar['AA']!='')).sum()\n",
    "))\n",
    "\n",
    "print('AA=REF : %d'%(df_pvar['AA']==df_pvar['REF']).sum())\n",
    "print('AA=ALT : %d'%(df_pvar['AA']==df_pvar['ALT']).sum())\n",
    "print('AA missing : %d'%(df_pvar['AA']=='').sum())\n",
    "print('AA=other : %d'%\n",
    "      ((df_pvar['AA']!=df_pvar['REF']) & (df_pvar['AA']!=df_pvar['ALT']) & (df_pvar['AA']!='')).sum())\n",
    "\n",
    "print('Chimp=REF : %d'%(df_pvar['Chimp']==df_pvar['REF']).sum())\n",
    "print('Chimp=ALT : %d'%(df_pvar['Chimp']==df_pvar['ALT']).sum())\n",
    "print('Chimp missing : %d'%(df_pvar['Chimp']=='').sum())\n",
    "print('Chimp=other : %d'%\n",
    "      ((df_pvar['Chimp']!=df_pvar['REF']) & (df_pvar['Chimp']!=df_pvar['ALT']) & (df_pvar['Chimp']!='')).sum())"
   ]
  },
  {
   "cell_type": "code",
   "execution_count": null,
   "metadata": {},
   "outputs": [],
   "source": []
  },
  {
   "cell_type": "code",
   "execution_count": 26,
   "metadata": {},
   "outputs": [
    {
     "data": {
      "text/html": [
       "<div>\n",
       "<style scoped>\n",
       "    .dataframe tbody tr th:only-of-type {\n",
       "        vertical-align: middle;\n",
       "    }\n",
       "\n",
       "    .dataframe tbody tr th {\n",
       "        vertical-align: top;\n",
       "    }\n",
       "\n",
       "    .dataframe thead th {\n",
       "        text-align: right;\n",
       "    }\n",
       "</style>\n",
       "<table border=\"1\" class=\"dataframe\">\n",
       "  <thead>\n",
       "    <tr style=\"text-align: right;\">\n",
       "      <th></th>\n",
       "      <th>#CHROM</th>\n",
       "      <th>POS</th>\n",
       "      <th>ID</th>\n",
       "      <th>REF</th>\n",
       "      <th>ALT</th>\n",
       "      <th>AA</th>\n",
       "      <th>Chimp</th>\n",
       "    </tr>\n",
       "  </thead>\n",
       "  <tbody>\n",
       "    <tr>\n",
       "      <th>0</th>\n",
       "      <td>22</td>\n",
       "      <td>16050527</td>\n",
       "      <td>rs587769434</td>\n",
       "      <td>C</td>\n",
       "      <td>A</td>\n",
       "      <td></td>\n",
       "      <td>C</td>\n",
       "    </tr>\n",
       "    <tr>\n",
       "      <th>1</th>\n",
       "      <td>22</td>\n",
       "      <td>16051249</td>\n",
       "      <td>rs62224609</td>\n",
       "      <td>T</td>\n",
       "      <td>C</td>\n",
       "      <td></td>\n",
       "      <td>T</td>\n",
       "    </tr>\n",
       "    <tr>\n",
       "      <th>2</th>\n",
       "      <td>22</td>\n",
       "      <td>16053862</td>\n",
       "      <td>rs62224614</td>\n",
       "      <td>C</td>\n",
       "      <td>T</td>\n",
       "      <td></td>\n",
       "      <td>C</td>\n",
       "    </tr>\n",
       "    <tr>\n",
       "      <th>3</th>\n",
       "      <td>22</td>\n",
       "      <td>16054454</td>\n",
       "      <td>rs7286962</td>\n",
       "      <td>C</td>\n",
       "      <td>T</td>\n",
       "      <td></td>\n",
       "      <td>C</td>\n",
       "    </tr>\n",
       "    <tr>\n",
       "      <th>4</th>\n",
       "      <td>22</td>\n",
       "      <td>16056406</td>\n",
       "      <td>22:16056406_C_T</td>\n",
       "      <td>C</td>\n",
       "      <td>T</td>\n",
       "      <td></td>\n",
       "      <td>A</td>\n",
       "    </tr>\n",
       "    <tr>\n",
       "      <th>...</th>\n",
       "      <td>...</td>\n",
       "      <td>...</td>\n",
       "      <td>...</td>\n",
       "      <td>...</td>\n",
       "      <td>...</td>\n",
       "      <td>...</td>\n",
       "      <td>...</td>\n",
       "    </tr>\n",
       "    <tr>\n",
       "      <th>199675</th>\n",
       "      <td>22</td>\n",
       "      <td>51237712</td>\n",
       "      <td>rs370652263</td>\n",
       "      <td>G</td>\n",
       "      <td>A</td>\n",
       "      <td></td>\n",
       "      <td>G</td>\n",
       "    </tr>\n",
       "    <tr>\n",
       "      <th>199676</th>\n",
       "      <td>22</td>\n",
       "      <td>51238318</td>\n",
       "      <td>rs541098394</td>\n",
       "      <td>A</td>\n",
       "      <td>T</td>\n",
       "      <td></td>\n",
       "      <td></td>\n",
       "    </tr>\n",
       "    <tr>\n",
       "      <th>199677</th>\n",
       "      <td>22</td>\n",
       "      <td>51238328</td>\n",
       "      <td>rs553081191</td>\n",
       "      <td>A</td>\n",
       "      <td>C</td>\n",
       "      <td></td>\n",
       "      <td></td>\n",
       "    </tr>\n",
       "    <tr>\n",
       "      <th>199678</th>\n",
       "      <td>22</td>\n",
       "      <td>51238394</td>\n",
       "      <td>rs149712012</td>\n",
       "      <td>C</td>\n",
       "      <td>T</td>\n",
       "      <td></td>\n",
       "      <td></td>\n",
       "    </tr>\n",
       "    <tr>\n",
       "      <th>199679</th>\n",
       "      <td>22</td>\n",
       "      <td>51239586</td>\n",
       "      <td>rs535432390</td>\n",
       "      <td>T</td>\n",
       "      <td>G</td>\n",
       "      <td></td>\n",
       "      <td>T</td>\n",
       "    </tr>\n",
       "  </tbody>\n",
       "</table>\n",
       "<p>199680 rows × 7 columns</p>\n",
       "</div>"
      ],
      "text/plain": [
       "        #CHROM       POS               ID REF ALT AA Chimp\n",
       "0           22  16050527      rs587769434   C   A        C\n",
       "1           22  16051249       rs62224609   T   C        T\n",
       "2           22  16053862       rs62224614   C   T        C\n",
       "3           22  16054454        rs7286962   C   T        C\n",
       "4           22  16056406  22:16056406_C_T   C   T        A\n",
       "...        ...       ...              ...  ..  .. ..   ...\n",
       "199675      22  51237712      rs370652263   G   A        G\n",
       "199676      22  51238318      rs541098394   A   T         \n",
       "199677      22  51238328      rs553081191   A   C         \n",
       "199678      22  51238394      rs149712012   C   T         \n",
       "199679      22  51239586      rs535432390   T   G        T\n",
       "\n",
       "[199680 rows x 7 columns]"
      ]
     },
     "execution_count": 26,
     "metadata": {},
     "output_type": "execute_result"
    }
   ],
   "source": [
    "df_pvar"
   ]
  },
  {
   "cell_type": "code",
   "execution_count": 6,
   "metadata": {},
   "outputs": [
    {
     "data": {
      "text/html": [
       "<div>\n",
       "<style scoped>\n",
       "    .dataframe tbody tr th:only-of-type {\n",
       "        vertical-align: middle;\n",
       "    }\n",
       "\n",
       "    .dataframe tbody tr th {\n",
       "        vertical-align: top;\n",
       "    }\n",
       "\n",
       "    .dataframe thead th {\n",
       "        text-align: right;\n",
       "    }\n",
       "</style>\n",
       "<table border=\"1\" class=\"dataframe\">\n",
       "  <thead>\n",
       "    <tr style=\"text-align: right;\">\n",
       "      <th></th>\n",
       "      <th>#CHROM</th>\n",
       "      <th>POS</th>\n",
       "      <th>ID</th>\n",
       "      <th>REF</th>\n",
       "      <th>ALT</th>\n",
       "      <th>AA</th>\n",
       "      <th>Chimp</th>\n",
       "    </tr>\n",
       "  </thead>\n",
       "  <tbody>\n",
       "    <tr>\n",
       "      <th>0</th>\n",
       "      <td>22</td>\n",
       "      <td>16050527</td>\n",
       "      <td>rs587769434</td>\n",
       "      <td>C</td>\n",
       "      <td>A</td>\n",
       "      <td>.</td>\n",
       "      <td>C</td>\n",
       "    </tr>\n",
       "    <tr>\n",
       "      <th>1</th>\n",
       "      <td>22</td>\n",
       "      <td>16051249</td>\n",
       "      <td>rs62224609</td>\n",
       "      <td>T</td>\n",
       "      <td>C</td>\n",
       "      <td>.</td>\n",
       "      <td>T</td>\n",
       "    </tr>\n",
       "    <tr>\n",
       "      <th>2</th>\n",
       "      <td>22</td>\n",
       "      <td>16053862</td>\n",
       "      <td>rs62224614</td>\n",
       "      <td>C</td>\n",
       "      <td>T</td>\n",
       "      <td>.</td>\n",
       "      <td>C</td>\n",
       "    </tr>\n",
       "    <tr>\n",
       "      <th>3</th>\n",
       "      <td>22</td>\n",
       "      <td>16054454</td>\n",
       "      <td>rs7286962</td>\n",
       "      <td>C</td>\n",
       "      <td>T</td>\n",
       "      <td>.</td>\n",
       "      <td>C</td>\n",
       "    </tr>\n",
       "    <tr>\n",
       "      <th>4</th>\n",
       "      <td>22</td>\n",
       "      <td>16056406</td>\n",
       "      <td>22:16056406_C_T</td>\n",
       "      <td>C</td>\n",
       "      <td>T</td>\n",
       "      <td>NaN</td>\n",
       "      <td>A</td>\n",
       "    </tr>\n",
       "    <tr>\n",
       "      <th>...</th>\n",
       "      <td>...</td>\n",
       "      <td>...</td>\n",
       "      <td>...</td>\n",
       "      <td>...</td>\n",
       "      <td>...</td>\n",
       "      <td>...</td>\n",
       "      <td>...</td>\n",
       "    </tr>\n",
       "    <tr>\n",
       "      <th>199724</th>\n",
       "      <td>22</td>\n",
       "      <td>51237712</td>\n",
       "      <td>rs370652263</td>\n",
       "      <td>G</td>\n",
       "      <td>A</td>\n",
       "      <td>.</td>\n",
       "      <td>G</td>\n",
       "    </tr>\n",
       "    <tr>\n",
       "      <th>199725</th>\n",
       "      <td>22</td>\n",
       "      <td>51238318</td>\n",
       "      <td>rs541098394</td>\n",
       "      <td>A</td>\n",
       "      <td>T</td>\n",
       "      <td>.</td>\n",
       "      <td>NaN</td>\n",
       "    </tr>\n",
       "    <tr>\n",
       "      <th>199726</th>\n",
       "      <td>22</td>\n",
       "      <td>51238328</td>\n",
       "      <td>rs553081191</td>\n",
       "      <td>A</td>\n",
       "      <td>C</td>\n",
       "      <td>.</td>\n",
       "      <td>NaN</td>\n",
       "    </tr>\n",
       "    <tr>\n",
       "      <th>199727</th>\n",
       "      <td>22</td>\n",
       "      <td>51238394</td>\n",
       "      <td>rs149712012</td>\n",
       "      <td>C</td>\n",
       "      <td>T</td>\n",
       "      <td>.</td>\n",
       "      <td>NaN</td>\n",
       "    </tr>\n",
       "    <tr>\n",
       "      <th>199728</th>\n",
       "      <td>22</td>\n",
       "      <td>51239586</td>\n",
       "      <td>rs535432390</td>\n",
       "      <td>T</td>\n",
       "      <td>G</td>\n",
       "      <td>.</td>\n",
       "      <td>T</td>\n",
       "    </tr>\n",
       "  </tbody>\n",
       "</table>\n",
       "<p>199729 rows × 7 columns</p>\n",
       "</div>"
      ],
      "text/plain": [
       "        #CHROM       POS               ID REF ALT   AA Chimp\n",
       "0           22  16050527      rs587769434   C   A    .     C\n",
       "1           22  16051249       rs62224609   T   C    .     T\n",
       "2           22  16053862       rs62224614   C   T    .     C\n",
       "3           22  16054454        rs7286962   C   T    .     C\n",
       "4           22  16056406  22:16056406_C_T   C   T  NaN     A\n",
       "...        ...       ...              ...  ..  ..  ...   ...\n",
       "199724      22  51237712      rs370652263   G   A    .     G\n",
       "199725      22  51238318      rs541098394   A   T    .   NaN\n",
       "199726      22  51238328      rs553081191   A   C    .   NaN\n",
       "199727      22  51238394      rs149712012   C   T    .   NaN\n",
       "199728      22  51239586      rs535432390   T   G    .     T\n",
       "\n",
       "[199729 rows x 7 columns]"
      ]
     },
     "execution_count": 6,
     "metadata": {},
     "output_type": "execute_result"
    }
   ],
   "source": [
    "df_aa"
   ]
  },
  {
   "cell_type": "code",
   "execution_count": 14,
   "metadata": {},
   "outputs": [
    {
     "data": {
      "text/plain": [
       "{'-', '.', '?', 'A', 'C', 'G', 'N', 'T', 'a', 'c', 'g', nan, 't', '|'}"
      ]
     },
     "execution_count": 14,
     "metadata": {},
     "output_type": "execute_result"
    }
   ],
   "source": [
    "set(df_aa['AA'])"
   ]
  },
  {
   "cell_type": "code",
   "execution_count": 15,
   "metadata": {},
   "outputs": [
    {
     "data": {
      "text/plain": [
       "{'.', 'A', 'C', 'G', 'T', nan}"
      ]
     },
     "execution_count": 15,
     "metadata": {},
     "output_type": "execute_result"
    }
   ],
   "source": [
    "set(df_aa['Chimp'])"
   ]
  },
  {
   "cell_type": "code",
   "execution_count": 7,
   "metadata": {},
   "outputs": [
    {
     "data": {
      "text/plain": [
       "199680"
      ]
     },
     "execution_count": 7,
     "metadata": {},
     "output_type": "execute_result"
    }
   ],
   "source": [
    "len(set(df_aa['ID']))"
   ]
  },
  {
   "cell_type": "code",
   "execution_count": null,
   "metadata": {},
   "outputs": [],
   "source": []
  }
 ],
 "metadata": {
  "kernelspec": {
   "display_name": "Python 3",
   "language": "python",
   "name": "python3"
  },
  "language_info": {
   "codemirror_mode": {
    "name": "ipython",
    "version": 3
   },
   "file_extension": ".py",
   "mimetype": "text/x-python",
   "name": "python",
   "nbconvert_exporter": "python",
   "pygments_lexer": "ipython3",
   "version": "3.7.4"
  }
 },
 "nbformat": 4,
 "nbformat_minor": 2
}
