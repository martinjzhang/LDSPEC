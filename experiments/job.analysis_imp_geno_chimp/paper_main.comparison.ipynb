{
 "cells": [
  {
   "cell_type": "code",
   "execution_count": 1,
   "metadata": {},
   "outputs": [],
   "source": [
    "import pandas as pd\n",
    "import numpy as np\n",
    "import scipy as sp\n",
    "import time\n",
    "import os\n",
    "import ldspec\n",
    "import matplotlib.pyplot as plt\n",
    "import seaborn as sns\n",
    "import pickle\n",
    "from statsmodels.stats.multitest import multipletests\n",
    "from matplotlib import gridspec\n",
    "import seaborn as sns\n",
    "import statsmodels.formula.api as smf\n",
    "from adjustText import adjust_text\n",
    "\n",
    "# autoreload\n",
    "%load_ext autoreload\n",
    "%autoreload 2"
   ]
  },
  {
   "cell_type": "code",
   "execution_count": 2,
   "metadata": {},
   "outputs": [
    {
     "name": "stdout",
     "output_type": "stream",
     "text": [
      "n_trait=70\n",
      "n_trait_indpt=29\n",
      "n_annot=45\n",
      "n_pannot=34\n"
     ]
    }
   ],
   "source": [
    "DATA_PATH = '/n/groups/price/martin/LDSPEC_data/UKBimp_337K_MAF001_chimp'\n",
    "FIG_PATH = '/n/groups/price/martin/LDSPEC_data/results/fig_res'\n",
    "TAB_PATH = '/n/groups/price/martin/LDSPEC_data/results/tables'\n",
    "\n",
    "# DF_TRAIT, DF_ANNOT, DF_PANNOT\n",
    "DF_TRAIT = pd.read_csv('/n/groups/price/martin/LDSPEC_data/results/tables/trait_info.tsv', sep='\\t')\n",
    "DF_TRAIT.index = DF_TRAIT['Trait_Identifier']\n",
    "TRAIT_LIST = list(DF_TRAIT.index)\n",
    "TRAIT_LIST_INDPT = list(DF_TRAIT.index[DF_TRAIT['Indpt']])\n",
    "print(\"n_trait=%d\" % DF_TRAIT.shape[0])\n",
    "print(\"n_trait_indpt=%d\" % len(TRAIT_LIST_INDPT))\n",
    "\n",
    "DF_ANNOT = pd.read_csv('/n/groups/price/martin/LDSPEC_data/results/tables/annot_info.tsv', sep='\\t')\n",
    "DF_ANNOT.index = DF_ANNOT['Identifier']\n",
    "print(\"n_annot=%d\" % DF_ANNOT.shape[0])\n",
    "\n",
    "DF_PANNOT = pd.read_csv('/n/groups/price/martin/LDSPEC_data/results/tables/pannot_info.tsv', sep='\\t')\n",
    "DF_PANNOT.index = DF_PANNOT['Identifier']\n",
    "print(\"n_pannot=%d\" % DF_PANNOT.shape[0])\n",
    "\n",
    "# Others\n",
    "temp_df = pd.read_csv('../names.tsv', sep='\\t', header=None)\n",
    "DIC_NAME = {x:y for x,y in zip(temp_df[0], temp_df[1])}\n",
    "DIC_COLOR = {\n",
    "    'common' : '#78ADD2', \n",
    "    'lf' : '#FFB26E',\n",
    "    ('p0_p100', 'common') : 'C0',\n",
    "    ('p0_p100', 'lf') : 'C1',\n",
    "    ('n100_p0', 'common') : 'C2',\n",
    "    ('n100_p0', 'lf') : 'C3',\n",
    "}\n",
    "\n",
    "MARKER_LIST=['o', 'v', '^', '8', 's', 'p', '*', 'h', 'H', 'D', 'd', '<', '>']"
   ]
  },
  {
   "cell_type": "markdown",
   "metadata": {},
   "source": [
    "### Load results and meta-analysis"
   ]
  },
  {
   "cell_type": "code",
   "execution_count": 3,
   "metadata": {
    "scrolled": true
   },
   "outputs": [
    {
     "name": "stdout",
     "output_type": "stream",
     "text": [
      "Check matching of AN_list and pAN_list\n",
      "    md_prox_gene_fct_all_ld\n",
      "    md_bsl\n",
      "    md_prox_all_ld\n",
      "    md_gene_all_ld\n",
      "    md_fct_all_ld\n",
      "n_missing_trait=0\n",
      "AN_list=165\n",
      "pAN_list=136\n",
      "29/29 traits with h2z>5\n"
     ]
    }
   ],
   "source": [
    "# Load results \n",
    "DIC_RES_PATH = {\n",
    "    'md_prox_gene_fct_all_ld' : DATA_PATH + '/ldspec_res_092223.prox_gene_fct_all_ld/@t',\n",
    "    'md_bsl' : DATA_PATH + '/ldspec_res_092223.bsl/@t',\n",
    "    'md_prox_all_ld' : DATA_PATH + '/ldspec_res_092223.prox_all_ld/@t',\n",
    "    'md_gene_all_ld' : DATA_PATH + '/ldspec_res_092223.gene_all_ld/@t',\n",
    "    'md_fct_all_ld' : DATA_PATH + '/ldspec_res_092223.fct_all_ld/@t',\n",
    "}\n",
    "md0 = 'md_bsl'\n",
    "\n",
    "# Load .pickle files: dic_res[md][trait] = .pickle\n",
    "dic_res = {}\n",
    "missing_list = []\n",
    "for md in DIC_RES_PATH:\n",
    "    dic_res[md] = {}   \n",
    "    for i,trait in enumerate(TRAIT_LIST_INDPT):\n",
    "        if os.path.exists(DIC_RES_PATH[md].replace(\"@t\", trait) + \".pickle\"):\n",
    "            with open(DIC_RES_PATH[md].replace(\"@t\", trait) + \".pickle\", \"br\") as f:\n",
    "                dic_res[md][trait] = pickle.load(f)\n",
    "            # Check avgr\n",
    "            with open(DIC_RES_PATH[md].replace(\"@t\", trait) + \".sbatch.log\", \"r\") as f:\n",
    "                for line in f:\n",
    "                    if 'Detected AVGR for' in line:\n",
    "                        line = line.strip()\n",
    "                        n1,n2 = line.split(' ')[3].split('/')\n",
    "                        if n1!=n2: \n",
    "                            print(\"Missing AVGR: %-20s %-35s %s %s\" % (md, trait, i+1, line))\n",
    "        else:\n",
    "            print(\"Missing %-10s %-30s %s\" % (md, trait, i+1))\n",
    "            if trait not in missing_list: missing_list.append(trait)\n",
    "                \n",
    "# Check AN_list and pAN_list are same across traits for a given method\n",
    "print('Check matching of AN_list and pAN_list')\n",
    "for md in DIC_RES_PATH:\n",
    "    print('    %s' % md)\n",
    "    AN_list_md = list(dic_res[md][TRAIT_LIST_INDPT[0]]['summary']['tau'].index)\n",
    "    pAN_list_md = list(dic_res[md][TRAIT_LIST_INDPT[0]]['summary']['omega'].index)\n",
    "    for trait in dic_res[md]:\n",
    "        if set(dic_res[md][trait]['summary']['tau'].index) != set(AN_list_md):\n",
    "            print('    AN_list not match: %s' % trait)\n",
    "        if set(dic_res[md][trait]['summary']['omega'].index) != set(pAN_list_md):\n",
    "            print('    pAN_list not match: %s' % trait)\n",
    "\n",
    "# Collect info\n",
    "print('n_missing_trait=%d' % len(missing_list))\n",
    "AN_list = list(dic_res[md0][TRAIT_LIST_INDPT[0]]['summary']['tau'].index)\n",
    "print('AN_list=%d' % len(AN_list))\n",
    "pAN_list = []\n",
    "for md in DIC_RES_PATH:\n",
    "    pAN_list += [x for x in dic_res[md][TRAIT_LIST_INDPT[0]]['summary']['omega'].index if x not in pAN_list]\n",
    "print('pAN_list=%d' % len(pAN_list))\n",
    "\n",
    "# Trait with h2_z>5\n",
    "TRAIT_LIST_META = []\n",
    "for trait in TRAIT_LIST_INDPT:\n",
    "    h2 = dic_res[md0][trait]['summary']['tau'].loc['AN:all', 'h2']\n",
    "    h2_se = dic_res[md0][trait]['summary']['tau'].loc['AN:all', 'h2_se']\n",
    "    h2_z = h2 / h2_se\n",
    "    if h2_z > 5:\n",
    "        TRAIT_LIST_META.append(trait)\n",
    "    else:\n",
    "        print('    %-20s    h2=%0.3f    h2_z=%0.2f' % (trait, h2, h2_z))\n",
    "print('%d/%d traits with h2z>5' % (len(TRAIT_LIST_META), len(TRAIT_LIST_INDPT)))"
   ]
  },
  {
   "cell_type": "code",
   "execution_count": 4,
   "metadata": {},
   "outputs": [
    {
     "name": "stderr",
     "output_type": "stream",
     "text": [
      "/home/jz286/WES_analysis/LDSPEC/ldspec/util.py:122: RuntimeWarning: overflow encountered in multiply\n",
      "  varsum = np.sum(wt * wt * (variances + tau2)) / (np.sum(wt) ** 2)\n",
      "/home/jz286/WES_analysis/LDSPEC/ldspec/util.py:102: RuntimeWarning: divide by zero encountered in true_divide\n",
      "  vwts = 1.0 / variances\n",
      "/home/jz286/WES_analysis/LDSPEC/ldspec/util.py:106: RuntimeWarning: invalid value encountered in float_scalars\n",
      "  tau2 = np.maximum(0, (Q - df) / (vwts.sum() - vwts.dot(vwts) / vwts.sum()))\n"
     ]
    }
   ],
   "source": [
    "# Meta-analysis\n",
    "dic_term_list = {\n",
    "    'tau': ['tau', 'h2', 'scv', 'h2_enrich', 'scv_enrich', 'h2_shrink'], \n",
    "    'omega': ['omega', 'cov', 'cor', 'ecov', 'ecor'],\n",
    "}\n",
    "\n",
    "dic_res_meta = {}\n",
    "for md in DIC_RES_PATH:\n",
    "    dic_res_meta[md] = {}\n",
    "    res_tau_list = [dic_res[md][x]['summary']['tau'] for x in TRAIT_LIST_META]\n",
    "    res_omega_list = [dic_res[md][x]['summary']['omega'] for x in TRAIT_LIST_META]\n",
    "    for res in ['tau', 'omega']:\n",
    "        dic_res_meta[md][res] = pd.DataFrame(\n",
    "            index = dic_res[md][TRAIT_LIST_INDPT[0]]['summary'][res].index, \n",
    "            columns = ['%s%s'%(x,y) for x in dic_term_list[res] for y in ['', '_se', '_p']],\n",
    "            dtype=float,\n",
    "        )\n",
    "        # Meta-analysis \n",
    "        for term in dic_term_list[res]:\n",
    "            for row in dic_res_meta[md][res].index:\n",
    "                mean_,se_,p_ = ldspec.util.ldspec_meta(res_tau_list, res_omega_list, term, row)\n",
    "                dic_res_meta[md][res].loc[row, [term, '%s_se'%term, '%s_p'%term]] = mean_,se_,p_"
   ]
  },
  {
   "cell_type": "markdown",
   "metadata": {},
   "source": [
    "### Between different heritability models using LD-SPEC\n",
    "1. heritability\n",
    "2. heritability enrichment\n",
    "3. correlation"
   ]
  },
  {
   "cell_type": "code",
   "execution_count": 5,
   "metadata": {},
   "outputs": [
    {
     "name": "stdout",
     "output_type": "stream",
     "text": [
      "# hypothesis: 29\n"
     ]
    },
    {
     "data": {
      "text/html": [
       "<div>\n",
       "<style scoped>\n",
       "    .dataframe tbody tr th:only-of-type {\n",
       "        vertical-align: middle;\n",
       "    }\n",
       "\n",
       "    .dataframe tbody tr th {\n",
       "        vertical-align: top;\n",
       "    }\n",
       "\n",
       "    .dataframe thead th {\n",
       "        text-align: right;\n",
       "    }\n",
       "</style>\n",
       "<table border=\"1\" class=\"dataframe\">\n",
       "  <thead>\n",
       "    <tr style=\"text-align: right;\">\n",
       "      <th></th>\n",
       "      <th>mean1</th>\n",
       "      <th>se1</th>\n",
       "      <th>mean2</th>\n",
       "      <th>se2</th>\n",
       "      <th>dif</th>\n",
       "      <th>dif_se</th>\n",
       "      <th>dif_z</th>\n",
       "      <th>dif_p</th>\n",
       "      <th>dif_fwer</th>\n",
       "    </tr>\n",
       "  </thead>\n",
       "  <tbody>\n",
       "  </tbody>\n",
       "</table>\n",
       "</div>"
      ],
      "text/plain": [
       "Empty DataFrame\n",
       "Columns: [mean1, se1, mean2, se2, dif, dif_se, dif_z, dif_p, dif_fwer]\n",
       "Index: []"
      ]
     },
     "metadata": {},
     "output_type": "display_data"
    },
    {
     "data": {
      "image/png": "[encoded data removed]",
      "text/plain": [
       "<Figure size 288x302.4 with 1 Axes>"
      ]
     },
     "metadata": {
      "needs_background": "light"
     },
     "output_type": "display_data"
    }
   ],
   "source": [
    "# Comparison between baseline and baseline-SP : h2 across traits\n",
    "md1,md2 = 'md_bsl','md_prox_gene_fct_all_ld'\n",
    "df_plot = pd.DataFrame(index=TRAIT_LIST_INDPT, columns=['mean1', 'se1', 'mean2', 'se2'], dtype=float)\n",
    "df_plot['mean1'] = [dic_res[md1][x]['summary']['tau'].loc['AN:all', 'h2'] for x in TRAIT_LIST_INDPT]\n",
    "df_plot['se1'] = [dic_res[md1][x]['summary']['tau'].loc['AN:all', 'h2_se'] for x in TRAIT_LIST_INDPT]\n",
    "df_plot['mean2'] = [dic_res[md2][x]['summary']['tau'].loc['AN:all', 'h2'] for x in TRAIT_LIST_INDPT]\n",
    "df_plot['se2'] = [dic_res[md2][x]['summary']['tau'].loc['AN:all', 'h2_se'] for x in TRAIT_LIST_INDPT]\n",
    "df_plot['dif'] = df_plot['mean1'] - df_plot['mean2']\n",
    "df_plot['dif_se'] = np.sqrt(df_plot['se1']**2 + df_plot['se2']**2)\n",
    "df_plot['dif_z'] = df_plot['dif'] / df_plot['dif_se']\n",
    "df_plot['dif_p'] = ldspec.util.zsc2pval(df_plot['dif_z']) \n",
    "df_plot['dif_fwer'] = df_plot['dif_p'] * df_plot.shape[0]\n",
    "print('# hypothesis: %d' % df_plot.shape[0])\n",
    "\n",
    "ind_select = df_plot['dif_fwer']<0.05\n",
    "display(df_plot.loc[ind_select])\n",
    "plt.figure(figsize=[4,4.2])\n",
    "plt.errorbar(df_plot.loc[~ind_select, 'mean1'], df_plot.loc[~ind_select, 'mean2'], \n",
    "             xerr=df_plot.loc[~ind_select, 'se1']*1.96, yerr=df_plot.loc[~ind_select, 'se2']*1.96, \n",
    "             fmt= '.', color='k', alpha=0.2, label='95% CIs')\n",
    "plt.errorbar(df_plot.loc[ind_select, 'mean1'], df_plot.loc[ind_select, 'mean2'], \n",
    "             xerr=df_plot.loc[ind_select, 'se1']*1.96, yerr=df_plot.loc[ind_select, 'se2']*1.96, \n",
    "             fmt= '.', color='C0')\n",
    "texts = []\n",
    "for row in df_plot.index[ind_select]:\n",
    "    texts.append(plt.text(df_plot.loc[row, 'mean1'], df_plot.loc[row, 'mean2'], DIC_NAME[row],\n",
    "                          fontsize=10, zorder=10))\n",
    "adjust_text(texts, arrowprops=dict(arrowstyle=\"-\", color='k', lw=1))\n",
    "plt.legend(loc='upper left', framealpha=0.5)\n",
    "\n",
    "# reference lines\n",
    "max_ = max(plt.xlim()[1], plt.ylim()[1])\n",
    "plt.plot([0, max_], [0, max_], '--', linewidth=1, color='darkgrey', zorder=0)\n",
    "plt.xlim([0, max_])\n",
    "plt.ylim([0, max_])\n",
    "plt.title(DIC_NAME['h2'].capitalize())\n",
    "plt.xlabel(DIC_NAME[md1])\n",
    "plt.ylabel(DIC_NAME[md2])\n",
    "plt.tight_layout()\n",
    "plt.savefig(FIG_PATH + '/compare.h2.%s.%s.pdf' % (md1, md2))\n",
    "plt.show()"
   ]
  },
  {
   "cell_type": "code",
   "execution_count": 6,
   "metadata": {},
   "outputs": [
    {
     "name": "stdout",
     "output_type": "stream",
     "text": [
      "# hypothesis: 165\n"
     ]
    },
    {
     "data": {
      "text/html": [
       "<div>\n",
       "<style scoped>\n",
       "    .dataframe tbody tr th:only-of-type {\n",
       "        vertical-align: middle;\n",
       "    }\n",
       "\n",
       "    .dataframe tbody tr th {\n",
       "        vertical-align: top;\n",
       "    }\n",
       "\n",
       "    .dataframe thead th {\n",
       "        text-align: right;\n",
       "    }\n",
       "</style>\n",
       "<table border=\"1\" class=\"dataframe\">\n",
       "  <thead>\n",
       "    <tr style=\"text-align: right;\">\n",
       "      <th></th>\n",
       "      <th>mean1</th>\n",
       "      <th>se1</th>\n",
       "      <th>mean2</th>\n",
       "      <th>se2</th>\n",
       "      <th>dif</th>\n",
       "      <th>dif_se</th>\n",
       "      <th>dif_z</th>\n",
       "      <th>dif_p</th>\n",
       "      <th>dif_fwer</th>\n",
       "    </tr>\n",
       "  </thead>\n",
       "  <tbody>\n",
       "  </tbody>\n",
       "</table>\n",
       "</div>"
      ],
      "text/plain": [
       "Empty DataFrame\n",
       "Columns: [mean1, se1, mean2, se2, dif, dif_se, dif_z, dif_p, dif_fwer]\n",
       "Index: []"
      ]
     },
     "metadata": {},
     "output_type": "display_data"
    },
    {
     "data": {
      "image/png": "[encoded data removed]",
      "text/plain": [
       "<Figure size 288x302.4 with 1 Axes>"
      ]
     },
     "metadata": {
      "needs_background": "light"
     },
     "output_type": "display_data"
    }
   ],
   "source": [
    "# Comparison between baseline and baseline-SP : h2_enrich across annotations\n",
    "md1,md2 = 'md_bsl','md_prox_gene_fct_all_ld'\n",
    "term,res = 'h2_enrich', 'tau'\n",
    "\n",
    "row_list = list(set(dic_res_meta[md1][res].index) & set(dic_res_meta[md2][res].index))\n",
    "df_plot = pd.DataFrame(index=AN_list, columns=['mean1', 'se1', 'mean2', 'se2'], dtype=float)\n",
    "for row in row_list:\n",
    "    df_plot.loc[row, ['mean1', 'se1']] = dic_res_meta[md1][res].loc[row, [term, '%s_se'%term]].values\n",
    "    df_plot.loc[row, ['mean2', 'se2']] = dic_res_meta[md2][res].loc[row, [term, '%s_se'%term]].values\n",
    "df_plot['dif'] = df_plot['mean1'] - df_plot['mean2']\n",
    "df_plot['dif_se'] = np.sqrt(df_plot['se1']**2 + df_plot['se2']**2)\n",
    "df_plot['dif_z'] = df_plot['dif'] / df_plot['dif_se']\n",
    "df_plot['dif_p'] = ldspec.util.zsc2pval(df_plot['dif_z']) \n",
    "df_plot['dif_fwer'] = df_plot['dif_p'] * df_plot.shape[0]\n",
    "print('# hypothesis: %d' % df_plot.shape[0])\n",
    "\n",
    "ind_select = df_plot['dif_fwer']<0.05\n",
    "display(df_plot.loc[ind_select])\n",
    "plt.figure(figsize=[4,4.2])\n",
    "plt.errorbar(df_plot.loc[~ind_select, 'mean1'], df_plot.loc[~ind_select, 'mean2'], \n",
    "             xerr=df_plot.loc[~ind_select, 'se1']*1.96, yerr=df_plot.loc[~ind_select, 'se2']*1.96, \n",
    "             fmt= '.', color='k', alpha=0.2, label='95% CIs')\n",
    "plt.errorbar(df_plot.loc[ind_select, 'mean1'], df_plot.loc[ind_select, 'mean2'], \n",
    "             xerr=df_plot.loc[ind_select, 'se1']*1.96, yerr=df_plot.loc[ind_select, 'se2']*1.96, \n",
    "             fmt= '.', color='C0')\n",
    "texts = []\n",
    "for row in df_plot.index[ind_select]:\n",
    "    texts.append(plt.text(df_plot.loc[row, 'mean1'], df_plot.loc[row, 'mean2'], DIC_NAME[row],\n",
    "                          fontsize=10, zorder=10))\n",
    "adjust_text(texts, arrowprops=dict(arrowstyle=\"-\", color='k', lw=1))\n",
    "plt.legend(loc='upper left', framealpha=0.5)\n",
    "\n",
    "# reference lines\n",
    "min_ = min(plt.xlim()[0], plt.ylim()[0])\n",
    "max_ = max(plt.xlim()[1], plt.ylim()[1])\n",
    "plt.plot([min_, max_], [0, 0], '--', linewidth=1, color='darkgrey', zorder=0)\n",
    "plt.plot([0, 0], [min_, max_], '--', linewidth=1, color='darkgrey', zorder=0)\n",
    "plt.plot([min_, max_], [min_, max_], '--', linewidth=1, color='darkgrey', zorder=0)\n",
    "plt.xlim([min_, max_])\n",
    "plt.ylim([min_, max_])\n",
    "plt.title('%s' % DIC_NAME[term].capitalize())\n",
    "plt.xlabel(DIC_NAME[md1])\n",
    "plt.ylabel(DIC_NAME[md2])\n",
    "plt.tight_layout()\n",
    "plt.savefig(FIG_PATH + '/compare.%s.%s.%s.pdf' % (term, md1, md2))\n",
    "plt.show()"
   ]
  },
  {
   "cell_type": "code",
   "execution_count": 7,
   "metadata": {},
   "outputs": [
    {
     "name": "stdout",
     "output_type": "stream",
     "text": [
      "# hypothesis: 136\n"
     ]
    },
    {
     "data": {
      "text/html": [
       "<div>\n",
       "<style scoped>\n",
       "    .dataframe tbody tr th:only-of-type {\n",
       "        vertical-align: middle;\n",
       "    }\n",
       "\n",
       "    .dataframe tbody tr th {\n",
       "        vertical-align: top;\n",
       "    }\n",
       "\n",
       "    .dataframe thead th {\n",
       "        text-align: right;\n",
       "    }\n",
       "</style>\n",
       "<table border=\"1\" class=\"dataframe\">\n",
       "  <thead>\n",
       "    <tr style=\"text-align: right;\">\n",
       "      <th></th>\n",
       "      <th>mean1</th>\n",
       "      <th>se1</th>\n",
       "      <th>mean2</th>\n",
       "      <th>se2</th>\n",
       "      <th>dif</th>\n",
       "      <th>dif_se</th>\n",
       "      <th>dif_z</th>\n",
       "      <th>dif_p</th>\n",
       "      <th>dif_fwer</th>\n",
       "    </tr>\n",
       "  </thead>\n",
       "  <tbody>\n",
       "  </tbody>\n",
       "</table>\n",
       "</div>"
      ],
      "text/plain": [
       "Empty DataFrame\n",
       "Columns: [mean1, se1, mean2, se2, dif, dif_se, dif_z, dif_p, dif_fwer]\n",
       "Index: []"
      ]
     },
     "metadata": {},
     "output_type": "display_data"
    },
    {
     "data": {
      "image/png": "[encoded data removed]",
      "text/plain": [
       "<Figure size 288x302.4 with 1 Axes>"
      ]
     },
     "metadata": {
      "needs_background": "light"
     },
     "output_type": "display_data"
    },
    {
     "name": "stdout",
     "output_type": "stream",
     "text": [
      "# hypothesis: 136\n"
     ]
    },
    {
     "data": {
      "text/html": [
       "<div>\n",
       "<style scoped>\n",
       "    .dataframe tbody tr th:only-of-type {\n",
       "        vertical-align: middle;\n",
       "    }\n",
       "\n",
       "    .dataframe tbody tr th {\n",
       "        vertical-align: top;\n",
       "    }\n",
       "\n",
       "    .dataframe thead th {\n",
       "        text-align: right;\n",
       "    }\n",
       "</style>\n",
       "<table border=\"1\" class=\"dataframe\">\n",
       "  <thead>\n",
       "    <tr style=\"text-align: right;\">\n",
       "      <th></th>\n",
       "      <th>mean1</th>\n",
       "      <th>se1</th>\n",
       "      <th>mean2</th>\n",
       "      <th>se2</th>\n",
       "      <th>dif</th>\n",
       "      <th>dif_se</th>\n",
       "      <th>dif_z</th>\n",
       "      <th>dif_p</th>\n",
       "      <th>dif_fwer</th>\n",
       "    </tr>\n",
       "  </thead>\n",
       "  <tbody>\n",
       "  </tbody>\n",
       "</table>\n",
       "</div>"
      ],
      "text/plain": [
       "Empty DataFrame\n",
       "Columns: [mean1, se1, mean2, se2, dif, dif_se, dif_z, dif_p, dif_fwer]\n",
       "Index: []"
      ]
     },
     "metadata": {},
     "output_type": "display_data"
    },
    {
     "data": {
      "image/png": "[encoded data removed]",
      "text/plain": [
       "<Figure size 288x302.4 with 1 Axes>"
      ]
     },
     "metadata": {
      "needs_background": "light"
     },
     "output_type": "display_data"
    },
    {
     "name": "stdout",
     "output_type": "stream",
     "text": [
      "# hypothesis: 136\n"
     ]
    },
    {
     "data": {
      "text/html": [
       "<div>\n",
       "<style scoped>\n",
       "    .dataframe tbody tr th:only-of-type {\n",
       "        vertical-align: middle;\n",
       "    }\n",
       "\n",
       "    .dataframe tbody tr th {\n",
       "        vertical-align: top;\n",
       "    }\n",
       "\n",
       "    .dataframe thead th {\n",
       "        text-align: right;\n",
       "    }\n",
       "</style>\n",
       "<table border=\"1\" class=\"dataframe\">\n",
       "  <thead>\n",
       "    <tr style=\"text-align: right;\">\n",
       "      <th></th>\n",
       "      <th>mean1</th>\n",
       "      <th>se1</th>\n",
       "      <th>mean2</th>\n",
       "      <th>se2</th>\n",
       "      <th>dif</th>\n",
       "      <th>dif_se</th>\n",
       "      <th>dif_z</th>\n",
       "      <th>dif_p</th>\n",
       "      <th>dif_fwer</th>\n",
       "    </tr>\n",
       "  </thead>\n",
       "  <tbody>\n",
       "  </tbody>\n",
       "</table>\n",
       "</div>"
      ],
      "text/plain": [
       "Empty DataFrame\n",
       "Columns: [mean1, se1, mean2, se2, dif, dif_se, dif_z, dif_p, dif_fwer]\n",
       "Index: []"
      ]
     },
     "metadata": {},
     "output_type": "display_data"
    },
    {
     "data": {
      "image/png": "[encoded data removed]",
      "text/plain": [
       "<Figure size 288x302.4 with 1 Axes>"
      ]
     },
     "metadata": {
      "needs_background": "light"
     },
     "output_type": "display_data"
    },
    {
     "name": "stdout",
     "output_type": "stream",
     "text": [
      "cor=0.957\n"
     ]
    }
   ],
   "source": [
    "# Correlation between different heritability models\n",
    "df_list = []\n",
    "for md1,md2 in [\n",
    "    ['md_prox_gene_fct_all_ld', 'md_prox_all_ld'],\n",
    "    ['md_prox_gene_fct_all_ld', 'md_gene_all_ld'],\n",
    "    ['md_prox_gene_fct_all_ld', 'md_fct_all_ld'],\n",
    "]:\n",
    "    row_list = [x for x in dic_res_meta[md1]['omega'].index if x in dic_res_meta[md2]['omega'].index]\n",
    "    df_plot = pd.DataFrame(index=row_list, columns=['mean1', 'se1', 'mean2', 'se2'], dtype=float)\n",
    "    for row in row_list:\n",
    "        df_plot.loc[row, ['mean1', 'se1']] = dic_res_meta[md1]['omega'].loc[row, ['cor', 'cor_se']].values\n",
    "        df_plot.loc[row, ['mean2', 'se2']] = dic_res_meta[md2]['omega'].loc[row, ['cor', 'cor_se']].values\n",
    "    df_plot['dif'] = df_plot['mean1'] - df_plot['mean2']\n",
    "    df_plot['dif_se'] = np.sqrt(df_plot['se1']**2 + df_plot['se2']**2)\n",
    "    df_plot['dif_z'] = df_plot['dif'] / df_plot['dif_se']\n",
    "    df_plot['dif_p'] = ldspec.util.zsc2pval(df_plot['dif_z']) \n",
    "    df_plot['dif_fwer'] = df_plot['dif_p'] * 136\n",
    "    print('# hypothesis: %d' % 136)\n",
    "    df_list.append(df_plot)\n",
    "\n",
    "    ind_select = df_plot['dif_fwer']<0.05\n",
    "    display(df_plot.loc[ind_select])   \n",
    "    \n",
    "    plt.figure(figsize=[4,4.2])   \n",
    "    plt.errorbar(df_plot.loc[~ind_select, 'mean1'], df_plot.loc[~ind_select, 'mean2'], \n",
    "                 xerr=df_plot.loc[~ind_select, 'se1']*1.96, yerr=df_plot.loc[~ind_select, 'se2']*1.96, \n",
    "                 fmt= '.', color='k', alpha=0.2, zorder=0)\n",
    "    plt.errorbar(df_plot.loc[ind_select, 'mean1'], df_plot.loc[ind_select, 'mean2'], \n",
    "                 xerr=df_plot.loc[ind_select, 'se1']*1.96, yerr=df_plot.loc[ind_select, 'se2']*1.96, \n",
    "                 fmt= '.', color='C0', zorder=10)\n",
    "    \n",
    "    texts = []\n",
    "    for row in df_plot.index[ind_select]:\n",
    "        texts.append(plt.text(\n",
    "            df_plot.loc[row, 'mean1'], df_plot.loc[row, 'mean2'], DIC_NAME[row], fontsize=10, zorder=10,\n",
    "        ))\n",
    "    adjust_text(texts, arrowprops=dict(arrowstyle=\"-\", color='k', lw=1))\n",
    "    \n",
    "    # reference lines\n",
    "    min_ = min(plt.xlim()[0], plt.ylim()[0])\n",
    "    max_ = max(plt.xlim()[1], plt.ylim()[1])\n",
    "    plt.plot([min_, max_], [0, 0], '--', linewidth=1, color='darkgrey', zorder=0)\n",
    "    plt.plot([0, 0], [min_, max_], '--', linewidth=1, color='darkgrey', zorder=0)\n",
    "    plt.plot([min_, max_], [min_, max_], '--', linewidth=1, color='darkgrey', zorder=0)\n",
    "    plt.xlim([min_, max_])\n",
    "    plt.ylim([min_, max_])\n",
    "    \n",
    "    plt.title('%s' % DIC_NAME['cor'])\n",
    "    plt.xlabel(DIC_NAME[md1])\n",
    "    plt.ylabel(DIC_NAME[md2])\n",
    "    plt.tight_layout()\n",
    "    plt.savefig(FIG_PATH + '/compare.cor.%s.%s.pdf' % (md1,md2))\n",
    "    plt.show()\n",
    "#     break\n",
    "\n",
    "temp_df = pd.concat(df_list, axis=0)\n",
    "print('cor=%0.3f' % (np.corrcoef(temp_df['mean1'], temp_df['mean2'])[0,1]))\n"
   ]
  },
  {
   "cell_type": "markdown",
   "metadata": {},
   "source": [
    "### Comparison with LDSC: h2 and tau"
   ]
  },
  {
   "cell_type": "code",
   "execution_count": 1,
   "metadata": {},
   "outputs": [
    {
     "ename": "NameError",
     "evalue": "name 'pd' is not defined",
     "output_type": "error",
     "traceback": [
      "\u001b[0;31m---------------------------------------------------------------------------\u001b[0m",
      "\u001b[0;31mNameError\u001b[0m                                 Traceback (most recent call last)",
      "\u001b[0;32m<ipython-input-1-d37577521d53>\u001b[0m in \u001b[0;36m<module>\u001b[0;34m\u001b[0m\n\u001b[1;32m     13\u001b[0m \u001b[0;34m\u001b[0m\u001b[0m\n\u001b[1;32m     14\u001b[0m \u001b[0mdic_ldsc\u001b[0m \u001b[0;34m=\u001b[0m \u001b[0;34m{\u001b[0m\u001b[0;34m}\u001b[0m\u001b[0;34m\u001b[0m\u001b[0;34m\u001b[0m\u001b[0m\n\u001b[0;32m---> 15\u001b[0;31m \u001b[0mdf_ldsc\u001b[0m \u001b[0;34m=\u001b[0m \u001b[0mpd\u001b[0m\u001b[0;34m.\u001b[0m\u001b[0mDataFrame\u001b[0m\u001b[0;34m(\u001b[0m\u001b[0mindex\u001b[0m\u001b[0;34m=\u001b[0m\u001b[0mTRAIT_LIST_INDPT\u001b[0m\u001b[0;34m,\u001b[0m \u001b[0mcolumns\u001b[0m\u001b[0;34m=\u001b[0m\u001b[0;34m[\u001b[0m\u001b[0;34m'h2'\u001b[0m\u001b[0;34m,\u001b[0m \u001b[0;34m'h2_se'\u001b[0m\u001b[0;34m]\u001b[0m\u001b[0;34m)\u001b[0m\u001b[0;34m\u001b[0m\u001b[0;34m\u001b[0m\u001b[0m\n\u001b[0m\u001b[1;32m     16\u001b[0m \u001b[0mh2_ratio\u001b[0m \u001b[0;34m=\u001b[0m \u001b[0;36m1161341\u001b[0m \u001b[0;34m/\u001b[0m \u001b[0;36m14820648\u001b[0m\u001b[0;34m\u001b[0m\u001b[0;34m\u001b[0m\u001b[0m\n\u001b[1;32m     17\u001b[0m \u001b[0;32mfor\u001b[0m \u001b[0mi\u001b[0m\u001b[0;34m,\u001b[0m\u001b[0mtrait\u001b[0m \u001b[0;32min\u001b[0m \u001b[0menumerate\u001b[0m\u001b[0;34m(\u001b[0m\u001b[0mTRAIT_LIST_INDPT\u001b[0m\u001b[0;34m)\u001b[0m\u001b[0;34m:\u001b[0m\u001b[0;34m\u001b[0m\u001b[0;34m\u001b[0m\u001b[0m\n",
      "\u001b[0;31mNameError\u001b[0m: name 'pd' is not defined"
     ]
    }
   ],
   "source": [
    "# Check ldsc results\n",
    "def parse_log(fpath):\n",
    "    with open(fpath, 'r') as f:\n",
    "        h2,h2_se = 0,0\n",
    "        for line in f:\n",
    "            if 'Total Observed scale h2' in line:\n",
    "                line = line.replace('Total Observed scale h2:','').replace(')','').strip()\n",
    "                h2 = float(line.split('(')[0])\n",
    "                h2_se = float(line.split('(')[1])\n",
    "    return h2,h2_se\n",
    "\n",
    "LDSC_PATH = '/n/groups/price/martin/LDSPEC_data/UKBimp_337K_MAF001_chimp/ldsc_res/@t.bslLF165'\n",
    "\n",
    "dic_ldsc = {}\n",
    "df_ldsc = pd.DataFrame(index=TRAIT_LIST_INDPT, columns=['h2', 'h2_se'])\n",
    "for i,trait in enumerate(TRAIT_LIST_INDPT):\n",
    "    res_file = LDSC_PATH.replace(\"@t\", trait) + '.results'\n",
    "    log_file = LDSC_PATH.replace(\"@t\", trait) + '.log'\n",
    "    if os.path.exists(res_file):\n",
    "        dic_ldsc[trait] = pd.read_csv(res_file, sep='\\t', index_col=0)\n",
    "        dic_ldsc[trait].index = [x.replace('LD:','').replace('_0','') for x in dic_ldsc[trait].index]\n",
    "        h2,h2_se = parse_log(log_file)\n",
    "        df_ldsc.loc[trait, ['h2', 'h2_se']] = h2,h2_se\n",
    "    else:\n",
    "        print(\"Missing %-10s %-30s %s\" % (md, trait, i+1))"
   ]
  },
  {
   "cell_type": "code",
   "execution_count": 9,
   "metadata": {},
   "outputs": [
    {
     "name": "stdout",
     "output_type": "stream",
     "text": [
      "# hypothesis: 29\n"
     ]
    },
    {
     "data": {
      "text/html": [
       "<div>\n",
       "<style scoped>\n",
       "    .dataframe tbody tr th:only-of-type {\n",
       "        vertical-align: middle;\n",
       "    }\n",
       "\n",
       "    .dataframe tbody tr th {\n",
       "        vertical-align: top;\n",
       "    }\n",
       "\n",
       "    .dataframe thead th {\n",
       "        text-align: right;\n",
       "    }\n",
       "</style>\n",
       "<table border=\"1\" class=\"dataframe\">\n",
       "  <thead>\n",
       "    <tr style=\"text-align: right;\">\n",
       "      <th></th>\n",
       "      <th>mean1</th>\n",
       "      <th>se1</th>\n",
       "      <th>mean2</th>\n",
       "      <th>se2</th>\n",
       "      <th>dif</th>\n",
       "      <th>dif_se</th>\n",
       "      <th>dif_z</th>\n",
       "      <th>dif_p</th>\n",
       "      <th>dif_fwer</th>\n",
       "    </tr>\n",
       "  </thead>\n",
       "  <tbody>\n",
       "  </tbody>\n",
       "</table>\n",
       "</div>"
      ],
      "text/plain": [
       "Empty DataFrame\n",
       "Columns: [mean1, se1, mean2, se2, dif, dif_se, dif_z, dif_p, dif_fwer]\n",
       "Index: []"
      ]
     },
     "metadata": {},
     "output_type": "display_data"
    },
    {
     "data": {
      "image/png": "[encoded data removed]",
      "text/plain": [
       "<Figure size 288x302.4 with 1 Axes>"
      ]
     },
     "metadata": {
      "needs_background": "light"
     },
     "output_type": "display_data"
    }
   ],
   "source": [
    "# Comparison between ldsc and ldspec baseline: h2 across traits\n",
    "md1,md2 = 'ldsc','md_bsl'\n",
    "\n",
    "df_plot = pd.DataFrame(index=TRAIT_LIST_INDPT, columns=['mean1', 'se1', 'mean2', 'se2'], dtype=float)\n",
    "for trait in TRAIT_LIST_INDPT:\n",
    "    df_plot.loc[trait, ['mean1', 'se1']] = df_ldsc.loc[trait, ['h2', 'h2_se']].values\n",
    "    df_plot.loc[trait, ['mean2', 'se2']] = \\\n",
    "            dic_res[md2][trait]['summary']['tau'].loc['AN:all', ['h2', 'h2_se']].values\n",
    "df_plot['dif'] = df_plot['mean1'] - df_plot['mean2']\n",
    "df_plot['dif_se'] = np.sqrt(df_plot['se1']**2 + df_plot['se2']**2)\n",
    "df_plot['dif_z'] = df_plot['dif'] / df_plot['dif_se']\n",
    "df_plot['dif_p'] = ldspec.util.zsc2pval(df_plot['dif_z']) \n",
    "df_plot['dif_fwer'] = df_plot['dif_p'] * df_plot.shape[0]\n",
    "print('# hypothesis: %d' % df_plot.shape[0])\n",
    "\n",
    "ind_select = df_plot['dif_fwer']<0.05\n",
    "display(df_plot.loc[ind_select])\n",
    "plt.figure(figsize=[4,4.2])\n",
    "plt.errorbar(df_plot.loc[~ind_select, 'mean1'], df_plot.loc[~ind_select, 'mean2'], \n",
    "             xerr=df_plot.loc[~ind_select, 'se1']*1.96, yerr=df_plot.loc[~ind_select, 'se2']*1.96, \n",
    "             fmt= '.', color='k', alpha=0.2, label='95% CIs')\n",
    "plt.errorbar(df_plot.loc[ind_select, 'mean1'], df_plot.loc[ind_select, 'mean2'], \n",
    "             xerr=df_plot.loc[ind_select, 'se1']*1.96, yerr=df_plot.loc[ind_select, 'se2']*1.96, \n",
    "             fmt= '.', color='C0')\n",
    "texts = []\n",
    "for row in df_plot.index[ind_select]:\n",
    "    texts.append(plt.text(df_plot.loc[row, 'mean1'], df_plot.loc[row, 'mean2'], DIC_NAME[row],\n",
    "                          fontsize=10, zorder=10))\n",
    "adjust_text(texts, arrowprops=dict(arrowstyle=\"-\", color='k', lw=1))\n",
    "plt.legend(loc='upper left', framealpha=0.5)\n",
    "\n",
    "# reference lines\n",
    "min_ = min(plt.xlim()[0], plt.ylim()[0])\n",
    "max_ = max(plt.xlim()[1], plt.ylim()[1])\n",
    "plt.plot([min_, max_], [min_, max_], '--', linewidth=1, zorder=0, color='darkgray')\n",
    "plt.xlim([min_, max_])\n",
    "plt.ylim([min_, max_])\n",
    "plt.title(DIC_NAME['h2'].capitalize())\n",
    "plt.xlabel(DIC_NAME[md1])\n",
    "plt.ylabel('LD-SPEC: %s'%DIC_NAME[md2])\n",
    "plt.tight_layout()\n",
    "plt.savefig(FIG_PATH + '/compare.h2.%s.%s.pdf' % (md1, md2))\n",
    "plt.show()"
   ]
  },
  {
   "cell_type": "code",
   "execution_count": 10,
   "metadata": {},
   "outputs": [
    {
     "name": "stdout",
     "output_type": "stream",
     "text": [
      "# hypothesis: 165\n"
     ]
    },
    {
     "data": {
      "text/html": [
       "<div>\n",
       "<style scoped>\n",
       "    .dataframe tbody tr th:only-of-type {\n",
       "        vertical-align: middle;\n",
       "    }\n",
       "\n",
       "    .dataframe tbody tr th {\n",
       "        vertical-align: top;\n",
       "    }\n",
       "\n",
       "    .dataframe thead th {\n",
       "        text-align: right;\n",
       "    }\n",
       "</style>\n",
       "<table border=\"1\" class=\"dataframe\">\n",
       "  <thead>\n",
       "    <tr style=\"text-align: right;\">\n",
       "      <th></th>\n",
       "      <th>mean1</th>\n",
       "      <th>se1</th>\n",
       "      <th>mean2</th>\n",
       "      <th>se2</th>\n",
       "      <th>dif</th>\n",
       "      <th>dif_se</th>\n",
       "      <th>dif_z</th>\n",
       "      <th>dif_p</th>\n",
       "      <th>dif_fwer</th>\n",
       "    </tr>\n",
       "  </thead>\n",
       "  <tbody>\n",
       "  </tbody>\n",
       "</table>\n",
       "</div>"
      ],
      "text/plain": [
       "Empty DataFrame\n",
       "Columns: [mean1, se1, mean2, se2, dif, dif_se, dif_z, dif_p, dif_fwer]\n",
       "Index: []"
      ]
     },
     "metadata": {},
     "output_type": "display_data"
    },
    {
     "data": {
      "image/png": "[encoded data removed]",
      "text/plain": [
       "<Figure size 288x302.4 with 1 Axes>"
      ]
     },
     "metadata": {
      "needs_background": "light"
     },
     "output_type": "display_data"
    }
   ],
   "source": [
    "# Comparison between ldsc and ldspec baseline: meta-analyzed tau across annotations\n",
    "md1,md2 = 'ldsc', 'md_bsl'\n",
    "\n",
    "df_plot = pd.DataFrame(index=AN_list, columns=['mean1', 'se1', 'mean2', 'se2'], dtype=float)\n",
    "for AN in AN_list:\n",
    "    mean_list = [dic_ldsc[x].loc[AN, 'Coefficient'] for x in TRAIT_LIST_INDPT]\n",
    "    se_list = [dic_ldsc[x].loc[AN, 'Coefficient_std_error'] for x in TRAIT_LIST_INDPT]\n",
    "    v_h2 = np.array([df_ldsc.loc[x, 'h2'] for x in TRAIT_LIST_INDPT])\n",
    "    mean_,se_ = ldspec.util.meta_analysis(np.array(mean_list)/v_h2, np.array(se_list)/v_h2)\n",
    "    df_plot.loc[AN, ['mean1', 'se1']] = mean_,se_\n",
    "    df_plot.loc[AN, ['mean2', 'se2']] = dic_res_meta[md2]['tau'].loc[AN, ['tau', 'tau_se']].values\n",
    "df_plot['dif'] = df_plot['mean1'] - df_plot['mean2']\n",
    "df_plot['dif_se'] = np.sqrt(df_plot['se1']**2 + df_plot['se2']**2)\n",
    "df_plot['dif_z'] = df_plot['dif'] / df_plot['dif_se']\n",
    "df_plot['dif_p'] = ldspec.util.zsc2pval(df_plot['dif_z']) \n",
    "df_plot['dif_fwer'] = df_plot['dif_p'] * df_plot.shape[0]\n",
    "print('# hypothesis: %d' % df_plot.shape[0])\n",
    "\n",
    "ind_select = df_plot['dif_fwer']<0.05\n",
    "display(df_plot.loc[ind_select])\n",
    "plt.figure(figsize=[4,4.2])\n",
    "plt.errorbar(df_plot.loc[~ind_select, 'mean1'], df_plot.loc[~ind_select, 'mean2'], \n",
    "             xerr=df_plot.loc[~ind_select, 'se1']*1.96, yerr=df_plot.loc[~ind_select, 'se2']*1.96, \n",
    "             fmt= '.', color='k', alpha=0.2, label='95% CIs')\n",
    "plt.errorbar(df_plot.loc[ind_select, 'mean1'], df_plot.loc[ind_select, 'mean2'], \n",
    "             xerr=df_plot.loc[ind_select, 'se1']*1.96, yerr=df_plot.loc[ind_select, 'se2']*1.96, \n",
    "             fmt= '.', color='C0')\n",
    "texts = []\n",
    "for row in df_plot.index[ind_select]:\n",
    "    texts.append(plt.text(\n",
    "        df_plot.loc[row, 'mean1'], df_plot.loc[row, 'mean2'], DIC_NAME[row], fontsize=10, zorder=10))\n",
    "adjust_text(texts, arrowprops=dict(arrowstyle=\"-\", color='k', lw=1))\n",
    "plt.legend(loc='upper left', framealpha=0.5)\n",
    "\n",
    "# reference lines\n",
    "min_ = min(plt.xlim()[0], plt.ylim()[0])\n",
    "max_ = max(plt.xlim()[1], plt.ylim()[1])\n",
    "plt.plot([min_, max_], [0, 0], '--', linewidth=1, color='darkgrey', zorder=0)\n",
    "plt.plot([0, 0], [min_, max_], '--', linewidth=1, color='darkgrey', zorder=0)\n",
    "plt.plot([min_, max_], [min_, max_], '--', linewidth=1, color='darkgrey', zorder=0)\n",
    "plt.xlim([min_, max_])\n",
    "plt.ylim([min_, max_])\n",
    "plt.title(DIC_NAME['tau'])\n",
    "plt.xlabel(DIC_NAME[md1])\n",
    "plt.ylabel('LD-SPEC: %s'%DIC_NAME[md2])\n",
    "plt.tight_layout()\n",
    "plt.savefig(FIG_PATH + '/compare.tau.%s.%s.pdf' % (md1, md2))\n",
    "plt.show()\n"
   ]
  },
  {
   "cell_type": "markdown",
   "metadata": {},
   "source": [
    "### Old code "
   ]
  }
 ],
 "metadata": {
  "kernelspec": {
   "display_name": "Python 3 (ipykernel)",
   "language": "python",
   "name": "python3"
  },
  "language_info": {
   "codemirror_mode": {
    "name": "ipython",
    "version": 3
   },
   "file_extension": ".py",
   "mimetype": "text/x-python",
   "name": "python",
   "nbconvert_exporter": "python",
   "pygments_lexer": "ipython3",
   "version": "3.12.8"
  }
 },
 "nbformat": 4,
 "nbformat_minor": 4
}
