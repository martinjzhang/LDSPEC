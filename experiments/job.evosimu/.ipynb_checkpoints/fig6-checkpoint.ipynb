{
 "cells": [
  {
   "cell_type": "code",
   "execution_count": 1,
   "metadata": {},
   "outputs": [],
   "source": [
    "import pandas as pd\n",
    "import numpy as np\n",
    "import scipy as sp\n",
    "import time\n",
    "import os\n",
    "import ldspec\n",
    "import matplotlib.pyplot as plt\n",
    "import seaborn as sns\n",
    "import pickle\n",
    "from statsmodels.stats.multitest import multipletests\n",
    "from matplotlib import gridspec\n",
    "import seaborn as sns\n",
    "import statsmodels.formula.api as smf\n",
    "from adjustText import adjust_text\n",
    "\n",
    "# autoreload\n",
    "%load_ext autoreload\n",
    "%autoreload 2"
   ]
  },
  {
   "cell_type": "code",
   "execution_count": 2,
   "metadata": {},
   "outputs": [
    {
     "name": "stdout",
     "output_type": "stream",
     "text": [
      "n_trait=70\n",
      "n_trait_indpt=29\n",
      "n_annot=45\n",
      "n_pannot=34\n"
     ]
    }
   ],
   "source": [
    "DATA_PATH = '/n/groups/price/martin/LDSPEC_data/UKBimp_337K_MAF001_chimp'\n",
    "FIG_PATH = '/n/groups/price/martin/LDSPEC_data/results/fig_res'\n",
    "TAB_PATH = '/n/groups/price/martin/LDSPEC_data/results/tables'\n",
    "\n",
    "# DF_TRAIT, DF_ANNOT, DF_PANNOT\n",
    "DF_TRAIT = pd.read_csv('/n/groups/price/martin/LDSPEC_data/results/tables/trait_info.tsv', sep='\\t')\n",
    "DF_TRAIT.index = DF_TRAIT['Trait_Identifier']\n",
    "TRAIT_LIST = list(DF_TRAIT.index)\n",
    "TRAIT_LIST_INDPT = list(DF_TRAIT.index[DF_TRAIT['Indpt']])\n",
    "print(\"n_trait=%d\" % DF_TRAIT.shape[0])\n",
    "print(\"n_trait_indpt=%d\" % len(TRAIT_LIST_INDPT))\n",
    "\n",
    "DF_ANNOT = pd.read_csv('/n/groups/price/martin/LDSPEC_data/results/tables/annot_info.tsv', sep='\\t')\n",
    "DF_ANNOT.index = DF_ANNOT['Identifier']\n",
    "print(\"n_annot=%d\" % DF_ANNOT.shape[0])\n",
    "\n",
    "DF_PANNOT = pd.read_csv('/n/groups/price/martin/LDSPEC_data/results/tables/pannot_info.tsv', sep='\\t')\n",
    "DF_PANNOT.index = DF_PANNOT['Identifier']\n",
    "print(\"n_pannot=%d\" % DF_PANNOT.shape[0])\n",
    "\n",
    "# Others\n",
    "temp_df = pd.read_csv('../names.tsv', sep='\\t', header=None)\n",
    "DIC_NAME = {x:y for x,y in zip(temp_df[0], temp_df[1])}\n",
    "DIC_COLOR = {\n",
    "    'common' : '#78ADD2', \n",
    "    'lf' : '#FFB26E',\n",
    "    ('p0_p100', 'common') : 'C0',\n",
    "    ('p0_p100', 'lf') : 'C1',\n",
    "    ('n100_p0', 'common') : 'C2',\n",
    "    ('n100_p0', 'lf') : 'C3',\n",
    "}\n",
    "\n",
    "MARKER_LIST=['o', 'v', '^', '8', 's', 'p', '*', 'h', 'H', 'D', 'd', '<', '>']"
   ]
  },
  {
   "cell_type": "code",
   "execution_count": 3,
   "metadata": {},
   "outputs": [],
   "source": [
    "df_data = pd.read_csv(\n",
    "    '/n/groups/price/martin/LDSPEC_data/results/fig6_simu_colby/fig6_data.csv', sep=',', index_col=0,\n",
    ")\n",
    "\n",
    "df_plot = df_data.copy()\n",
    "df_plot['dist_bin'] = df_plot['bin']\n",
    "df_plot['maf_bin'] = [x.split('-')[0] for x in df_plot['class']]\n",
    "df_plot['ld_bin'] = df_plot['corr_class']\n",
    "df_plot['cor'] = df_plot['mean']\n",
    "df_plot['cor_se'] = df_plot['stderr']\n",
    "df_plot[['dist_bin', 'maf_bin', 'ld_bin', 'cor', 'cor_se']].to_csv(TAB_PATH+'/fig6.tsv', sep='\\t')\n"
   ]
  },
  {
   "cell_type": "code",
   "execution_count": 4,
   "metadata": {},
   "outputs": [
    {
     "name": "stdout",
     "output_type": "stream",
     "text": [
      "pos common [-0.08195458 -0.07733327 -0.06562275]\n",
      "pos lf [-0.07038368 -0.11463675 -0.11864215]\n"
     ]
    },
    {
     "data": {
      "image/png": "[encoded data removed]",
      "text/plain": [
       "<Figure size 288x360 with 1 Axes>"
      ]
     },
     "metadata": {
      "needs_background": "light"
     },
     "output_type": "display_data"
    },
    {
     "name": "stdout",
     "output_type": "stream",
     "text": [
      "neg common [0.0231102  0.02908736 0.02063876]\n",
      "neg lf [ 0.001549    0.00597569 -0.00037784]\n"
     ]
    },
    {
     "data": {
      "image/png": "[encoded data removed]",
      "text/plain": [
       "<Figure size 288x360 with 1 Axes>"
      ]
     },
     "metadata": {
      "needs_background": "light"
     },
     "output_type": "display_data"
    }
   ],
   "source": [
    "dic_name = {\n",
    "    'common' : 'common-common',\n",
    "    'lf' : 'low-low',\n",
    "    'neg' : 'negitive-LD SNP pairs',\n",
    "    'pos' : 'positive-LD SNP pairs',\n",
    "}\n",
    "\n",
    "dbin_list = ['0-100bp', '100bp-1kb', '1-10kb']\n",
    "for lbin in ['pos', 'neg']:\n",
    "    plt.figure(figsize=[4, 5])\n",
    "    for i_mbin,mbin in enumerate(['common', 'lf']):\n",
    "        mbin_colby = dic_name[mbin]\n",
    "        ind_select = (df_data['corr_class']==lbin) & (df_data['class']==mbin_colby)\n",
    "        mean_list = [df_data.loc[ind_select & (df_data['bin']==dbin), 'mean'].values[0] for dbin in dbin_list]\n",
    "        mean_list = np.array(mean_list)\n",
    "        se_list = [df_data.loc[ind_select & (df_data['bin']==dbin), 'stderr'].values[0] for dbin in dbin_list]\n",
    "        se_list = np.array(se_list)\n",
    "        print(lbin, mbin, mean_list)\n",
    "        \n",
    "        plt.errorbar(\n",
    "            np.arange(mean_list.shape[0])-0.15+0.3*i_mbin, mean_list, \n",
    "            yerr=se_list*1.96, fmt= '.', color='k',\n",
    "        )   \n",
    "        plt.bar(\n",
    "            np.arange(mean_list.shape[0])-0.15+0.3*i_mbin, mean_list, \n",
    "            width=0.3, alpha=1, linewidth=1, edgecolor='k', label=DIC_NAME[mbin], color=DIC_COLOR[mbin]\n",
    "        )\n",
    "        \n",
    "    plt.plot([-0.5, mean_list.shape[0]-0.5], [0, 0], \"--\", linewidth=1, zorder=0, color=\"darkgrey\")\n",
    "    plt.xlim([-0.5, mean_list.shape[0]-0.5])\n",
    "    plt.ylim(-0.2, 0.2)\n",
    "    plt.legend(loc='upper right')\n",
    "    plt.ylabel(DIC_NAME['cor'])\n",
    "        \n",
    "    plt.xticks(np.arange(mean_list.shape[0]), dbin_list, rotation=45, ha='right')\n",
    "    plt.title(dic_name[lbin])\n",
    "    plt.tight_layout()\n",
    "    plt.savefig(FIG_PATH + '/fig3.%s.pdf'%lbin)\n",
    "    plt.show()\n",
    "    \n",
    "#     break"
   ]
  },
  {
   "cell_type": "code",
   "execution_count": null,
   "metadata": {},
   "outputs": [],
   "source": []
  },
  {
   "cell_type": "code",
   "execution_count": null,
   "metadata": {},
   "outputs": [],
   "source": []
  }
 ],
 "metadata": {
  "kernelspec": {
   "display_name": "Python 3",
   "language": "python",
   "name": "python3"
  },
  "language_info": {
   "codemirror_mode": {
    "name": "ipython",
    "version": 3
   },
   "file_extension": ".py",
   "mimetype": "text/x-python",
   "name": "python",
   "nbconvert_exporter": "python",
   "pygments_lexer": "ipython3",
   "version": "3.7.4"
  }
 },
 "nbformat": 4,
 "nbformat_minor": 2
}
